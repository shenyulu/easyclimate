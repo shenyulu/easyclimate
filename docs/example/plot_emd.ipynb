{
  "cells": [
    {
      "cell_type": "markdown",
      "metadata": {},
      "source": [
        "\n# Empirical Mode Decomposition (EMD) and Ensemble Empirical Mode Decomposition (EEMD)\n\nEMD (Empirical Mode Decomposition) is an adaptive time-space analysis method suitable for processing series that are non-stationary and non-linear. \nEMD performs operations that partition a series into 'modes' (IMFs; Intrinsic Mode Functions) without leaving the time domain. \nIt can be compared to other time-space analysis methods like Fourier Transforms and wavelet decomposition. \nLike these methods, EMD is not based on physics. However, the modes may provide insight into various signals contained within the data. \nIn particular, the method is useful for analyzing natural signals, which are most often non-linear and non-stationary. \nSome common examples would include the Southern Oscillation Index (SOI), Ni\u00f1o 3.4 Index, etc.\n\nEEMD (Ensemble EMD) is a noise assisted data analysis method. EEMD consists of \"sifting\" an ensemble of white noise-added signal. \nEEMD can separate scales naturally without any a priori subjective criterion selection as in the intermittence test for the original EMD algorithm.\n\nWu and Huang (2009) state: \"White noise is necessary to force the ensemble to exhaust all possible solutions in the sifting process, \nthus making the different scale signals to collate in the proper intrinsic mode functions (IMF) dictated by the dyadic filter banks. \nAs the EMD is a time space analysis method, the white noise is averaged out with sufficient number of trials; \nthe only persistent part that survives the averaging process is the signal, which is then treated as the true and more physical meaningful answer.\" \nFurther, they state: \"**EEMD** represents a substantial improvement over the original EMD and is a truly noise assisted data analysis (NADA) method.\"\n\n.. seealso::\n\n    - https://pyemd.readthedocs.io/\n    - https://www.ncl.ucar.edu/Applications/eemd.shtml\n    - https://www.clear.rice.edu/elec301/Projects02/empiricalMode/\n    - Wu, Z., & Huang, N. E. (2009). Ensemble empirical mode decomposition: a noise-assisted data analysis method. Advances in Adaptive Data Analysis, 01(01), 1-41. https://doi.org/10.1142/S1793536909000047\n\nBefore proceeding with all the steps, first import some necessary libraries and packages\n"
      ]
    },
    {
      "cell_type": "code",
      "execution_count": null,
      "metadata": {
        "collapsed": false
      },
      "outputs": [],
      "source": [
        "import xarray as xr\nimport matplotlib.pyplot as plt\nimport easyclimate as ecl"
      ]
    },
    {
      "cell_type": "markdown",
      "metadata": {},
      "source": [
        "Load and inspect Ni\u00f1o 3 SST anomaly data\nThe dataset contains monthly sea surface temperature anomalies in the Ni\u00f1o 3 region, \na key indicator for ENSO monitoring and analysis\n\n"
      ]
    },
    {
      "cell_type": "code",
      "execution_count": null,
      "metadata": {
        "collapsed": false
      },
      "outputs": [],
      "source": [
        "data = xr.open_dataset(\"test_input_nino3_wavelet.nc\")[\"nino3\"]\ndata"
      ]
    },
    {
      "cell_type": "markdown",
      "metadata": {},
      "source": [
        "Perform Empirical Mode Decomposition (EMD) on the time series\nEMD decomposes the nonlinear, non-stationary signal into intrinsic mode functions (IMFs)\nrepresenting oscillatory modes embedded in the data at different timescales\nThe time_step=\"M\" parameter indicates monthly resolution of the input data\n\n"
      ]
    },
    {
      "cell_type": "code",
      "execution_count": null,
      "metadata": {
        "collapsed": false
      },
      "outputs": [],
      "source": [
        "imf_result = ecl.filter.filter_emd(data, time_step=\"M\")\nimf_result"
      ]
    },
    {
      "cell_type": "markdown",
      "metadata": {},
      "source": [
        "Perform Ensemble Empirical Mode Decomposition (EEMD) on the time series\nEEMD improves upon EMD by adding white noise ensembles to overcome mode mixing\nThe method performs multiple EMD trials (default=100) with different noise realizations\nand averages the results to obtain more stable IMF components\n\n"
      ]
    },
    {
      "cell_type": "code",
      "execution_count": null,
      "metadata": {
        "collapsed": false
      },
      "outputs": [],
      "source": [
        "eimf_result = ecl.filter.filter_eemd(data, time_step=\"M\")\neimf_result"
      ]
    },
    {
      "cell_type": "markdown",
      "metadata": {},
      "source": [
        "Visualize the first three IMF components from standard EMD\nIMFs are ordered from highest frequency (IMF0) to lowest frequency (IMF2)\nEach IMF must satisfy two conditions: \n1) Number of extrema and zero crossings differs by at most one\n2) Mean of upper and lower envelopes is zero at any point\n\n"
      ]
    },
    {
      "cell_type": "code",
      "execution_count": null,
      "metadata": {
        "collapsed": false
      },
      "outputs": [],
      "source": [
        "fig, ax = plt.subplots(4, 1, figsize = (8, 8), sharex=True)\nfig.subplots_adjust(hspace=0.2)\n\naxi = ax[0]\nimf_result[\"input\"].plot(ax = axi, color = \"r\")\naxi.set_xlabel(\"\")\naxi.set_ylabel(\"Input\")\naxi.set_title(\"Input Signal: Ni\u00f1o 3\")\n\naxi = ax[1]\nimf_result[\"imf0\"].plot(ax = axi)\naxi.set_xlabel(\"\")\naxi.set_ylabel(\"IMF 0\")\n\naxi = ax[2]\nimf_result[\"imf1\"].plot(ax = axi)\naxi.set_xlabel(\"\")\naxi.set_ylabel(\"IMF 1\")\n\naxi = ax[3]\nimf_result[\"imf2\"].plot(ax = axi)\naxi.set_xlabel(\"Time\")\naxi.set_ylabel(\"IMF 2\")"
      ]
    },
    {
      "cell_type": "markdown",
      "metadata": {},
      "source": [
        "Visualize the first three eIMF components from EEMD\nEnsemble IMFs show improved mode separation compared to standard EMD\nThe noise-assisted approach helps distinguish:\n\n- High-frequency noise/oscillations (eIMF0)\n- Seasonal-to-interannual variability (eIMF1)\n- Lower frequency trends (eIMF2)\n\n"
      ]
    },
    {
      "cell_type": "code",
      "execution_count": null,
      "metadata": {
        "collapsed": false
      },
      "outputs": [],
      "source": [
        "fig, ax = plt.subplots(4, 1, figsize = (8, 8), sharex=True)\nfig.subplots_adjust(hspace=0.2)\n\naxi = ax[0]\neimf_result[\"input\"].plot(ax = axi, color = \"r\")\naxi.set_xlabel(\"\")\naxi.set_ylabel(\"Input\")\naxi.set_title(\"Input Signal: Ni\u00f1o 3\")\n\naxi = ax[1]\neimf_result[\"eimf0\"].plot(ax = axi)\naxi.set_xlabel(\"\")\naxi.set_ylabel(\"eIMF 0\")\n\naxi = ax[2]\neimf_result[\"eimf1\"].plot(ax = axi)\naxi.set_xlabel(\"\")\naxi.set_ylabel(\"eIMF 1\")\n\naxi = ax[3]\neimf_result[\"eimf2\"].plot(ax = axi)\naxi.set_xlabel(\"Time\")\naxi.set_ylabel(\"eIMF 2\")"
      ]
    }
  ],
  "metadata": {
    "kernelspec": {
      "display_name": "Python 3",
      "language": "python",
      "name": "python3"
    },
    "language_info": {
      "codemirror_mode": {
        "name": "ipython",
        "version": 3
      },
      "file_extension": ".py",
      "mimetype": "text/x-python",
      "name": "python",
      "nbconvert_exporter": "python",
      "pygments_lexer": "ipython3",
      "version": "3.11.11"
    }
  },
  "nbformat": 4,
  "nbformat_minor": 0
}
