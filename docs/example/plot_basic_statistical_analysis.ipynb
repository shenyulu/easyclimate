{
  "cells": [
    {
      "cell_type": "markdown",
      "metadata": {},
      "source": [
        "\n# Basic Statistical Analysis\n\nBefore proceeding with all the steps, first import some necessary libraries and packages\n"
      ]
    },
    {
      "cell_type": "code",
      "execution_count": null,
      "metadata": {
        "collapsed": false
      },
      "outputs": [],
      "source": [
        "import easyclimate as ecl\nimport matplotlib.pyplot as plt\nimport cartopy.crs as ccrs"
      ]
    },
    {
      "cell_type": "markdown",
      "metadata": {},
      "source": [
        "Obtain the sea ice concentration (SIC) data from the Barents-Kara Seas (30\u00b0\u221290\u00b0E, 65\u00b0\u221285\u00b0N).\n\n.. seealso::\n  Luo, B., Luo, D., Ge, Y. et al. Origins of Barents-Kara sea-ice interannual variability modulated by the Atlantic pathway of El Ni\u00f1o\u2013Southern Oscillation. Nat Commun 14, 585 (2023). https://doi.org/10.1038/s41467-023-36136-5\n\n"
      ]
    },
    {
      "cell_type": "code",
      "execution_count": null,
      "metadata": {
        "collapsed": false
      },
      "outputs": [],
      "source": [
        "sic_data_Barents_Sea = ecl.open_tutorial_dataset(\"mini_HadISST_ice\").sic\nsic_data_Barents_Sea"
      ]
    },
    {
      "cell_type": "markdown",
      "metadata": {},
      "source": [
        "And tropical SST dataset.\n\n.. seealso::\n  Rayner, N. A.; Parker, D. E.; Horton, E. B.; Folland, C. K.; Alexander, L. V.; Rowell, D. P.; Kent, E. C.; Kaplan, A. (2003) Global analyses of sea surface temperature, sea ice, and night marine air temperature since the late nineteenth century J. Geophys. Res.Vol. 108, No. D14, 4407 https://doi.org/10.1029/2002JD002670  (pdf ~9Mb)\n\n"
      ]
    },
    {
      "cell_type": "code",
      "execution_count": null,
      "metadata": {
        "collapsed": false
      },
      "outputs": [],
      "source": [
        "sst_data = ecl.open_tutorial_dataset(\"mini_HadISST_sst\").sst\nsst_data"
      ]
    },
    {
      "cell_type": "markdown",
      "metadata": {},
      "source": [
        "## Mean States for Special Month\n:py:func:`easyclimate.get_specific_months_data <easyclimate.get_specific_months_data>` allows us to easily obtain data on the SIC for December alone.\n\n"
      ]
    },
    {
      "cell_type": "code",
      "execution_count": null,
      "metadata": {
        "collapsed": false
      },
      "outputs": [],
      "source": [
        "sic_data_Barents_Sea_12 = ecl.get_specific_months_data(sic_data_Barents_Sea, 12)\nsic_data_Barents_Sea_12"
      ]
    },
    {
      "cell_type": "markdown",
      "metadata": {},
      "source": [
        "Now we try to draw the mean states of the SIC in the Barents-Kara for the December.\n\n"
      ]
    },
    {
      "cell_type": "code",
      "execution_count": null,
      "metadata": {
        "collapsed": false
      },
      "outputs": [],
      "source": [
        "draw_sic_mean_state = sic_data_Barents_Sea_12.mean(dim=\"time\")\n\nfig, ax = plt.subplots(\n    subplot_kw={\n        \"projection\": ccrs.Orthographic(central_longitude=70, central_latitude=70)\n    }\n)\n\nax.gridlines(draw_labels=[\"bottom\", \"left\"], color=\"grey\", alpha=0.5, linestyle=\"--\")\nax.coastlines(edgecolor=\"black\", linewidths=0.5)\n\ndraw_sic_mean_state.plot.contourf(\n    ax=ax,\n    # projection on data\n    transform=ccrs.PlateCarree(),\n    # Colorbar is placed at the bottom\n    cbar_kwargs={\"location\": \"right\"},\n    cmap=\"Blues\",\n    levels=21,\n)"
      ]
    },
    {
      "cell_type": "markdown",
      "metadata": {},
      "source": [
        "## Linear Trend\nAs we all know, the area of Arctic sea ice has been decreasing more and more in recent years\ndue to the impact of global warming. We can obtain the change of SIC by solving\nthe linear trend of SIC data from 1981-2022.\n:py:func:`easyclimate.calc_linregress_spatial <easyclimate.calc_linregress_spatial>` can provide the calculation\nresults of solving the linear trend for each grid point.\n\n"
      ]
    },
    {
      "cell_type": "code",
      "execution_count": null,
      "metadata": {
        "collapsed": false
      },
      "outputs": [],
      "source": [
        "sic_data_Barents_Sea_12_linear_trend = ecl.calc_linregress_spatial(\n    sic_data_Barents_Sea_12, dim=\"time\"\n).compute()\nsic_data_Barents_Sea_12_linear_trend"
      ]
    },
    {
      "cell_type": "markdown",
      "metadata": {},
      "source": [
        "The `slope` is our desired linear trend, let's try to plot the linear trend of each grid point.\n\n"
      ]
    },
    {
      "cell_type": "code",
      "execution_count": null,
      "metadata": {
        "collapsed": false
      },
      "outputs": [],
      "source": [
        "draw_sic_slope = sic_data_Barents_Sea_12_linear_trend.slope\n\nfig, ax = plt.subplots(\n    subplot_kw={\n        \"projection\": ccrs.Orthographic(central_longitude=70, central_latitude=70)\n    }\n)\n\nax.gridlines(draw_labels=[\"bottom\", \"left\"], color=\"grey\", alpha=0.5, linestyle=\"--\")\nax.coastlines(edgecolor=\"black\", linewidths=0.5)\n\ndraw_sic_slope.plot.contourf(\n    ax=ax,\n    transform=ccrs.PlateCarree(),\n    cbar_kwargs={\"location\": \"right\"},\n    cmap=\"RdBu_r\",\n    levels=21,\n)"
      ]
    },
    {
      "cell_type": "markdown",
      "metadata": {},
      "source": [
        "The `pvalue` is the corresponding p-value, and we can determine a significance level (e.g., significance level is set to 0.05)\nin order to plot the region of significance.\n\n"
      ]
    },
    {
      "cell_type": "code",
      "execution_count": null,
      "metadata": {
        "collapsed": false
      },
      "outputs": [],
      "source": [
        "draw_sic_pvalue = sic_data_Barents_Sea_12_linear_trend.pvalue\n\nfig, ax = plt.subplots(\n    subplot_kw={\n        \"projection\": ccrs.Orthographic(central_longitude=70, central_latitude=70)\n    }\n)\n\nax.gridlines(draw_labels=[\"bottom\", \"left\"], color=\"grey\", alpha=0.5, linestyle=\"--\")\nax.coastlines(edgecolor=\"black\", linewidths=0.5)\n\necl.plot.draw_significant_area_contourf(\n    draw_sic_pvalue, ax=ax, thresh=0.05, transform=ccrs.PlateCarree()\n)"
      ]
    },
    {
      "cell_type": "markdown",
      "metadata": {},
      "source": [
        "Further, we can superimpose the linear trend and the region of significance to study the linear trend of\nthe region of significance (since the linear trend of the region of non-significance is often spurious).\n\n"
      ]
    },
    {
      "cell_type": "code",
      "execution_count": null,
      "metadata": {
        "collapsed": false
      },
      "outputs": [],
      "source": [
        "fig, ax = plt.subplots(\n    subplot_kw={\n        \"projection\": ccrs.Orthographic(central_longitude=70, central_latitude=70)\n    }\n)\n\nax.gridlines(draw_labels=[\"bottom\", \"left\"], color=\"grey\", alpha=0.5, linestyle=\"--\")\nax.coastlines(edgecolor=\"black\", linewidths=0.5)\n\n# SIC slope\ndraw_sic_slope.plot.contourf(\n    ax=ax,\n    transform=ccrs.PlateCarree(),\n    cbar_kwargs={\"location\": \"right\"},\n    cmap=\"RdBu_r\",\n    levels=21,\n)\n\n# SIC 95% significant level\necl.plot.draw_significant_area_contourf(\n    draw_sic_pvalue, ax=ax, thresh=0.05, transform=ccrs.PlateCarree()\n)"
      ]
    },
    {
      "cell_type": "markdown",
      "metadata": {},
      "source": [
        "## Regression\nRegression analysis is a statistical technique used to investigate the connection between a dependent variable and one or more independent variables.\n\nIt is frequently employed in climatology to analyze trends and patterns in climatic data, identify correlations between different climatic parameters, and create models that can predict future changes. By identifying patterns and connections in massive datasets, regression analysis offers several benefits for weather research. For instance, regression analysis can be used to pinpoint the elements that affect global temperatures, such as solar radiation, atmospheric greenhouse gases, and volcanic eruptions. Climate scientists can create models that can accurately predict future changes by including these variables in a regression model.\n\nMoreover, regression analysis can assist climate experts in spotting natural fluctuations in climate data, like El Ni\u00f1o events, and in determining how human activities like deforestation and fossil fuel combustion affect the environment. Regression analysis can also evaluate the effectiveness of various mitigation tactics, such as carbon pricing policies or renewable energy initiatives.\n\nOverall, regression analysis is a potent tool for analyzing complex climate data and producing reliable projections of upcoming alterations.\n\n.. seealso::\n  - Regression Analysis: Definition, Types, Usage & Advantages. Website: https://www.questionpro.com/blog/regression-analysis/\n  - The Advantages of Regression Analysis & Forecasting. Website: https://smallbusiness.chron.com/advantages-regression-analysis-forecasting-61800.html\n\nIn this subsection we try to regress the Ni\u00f1o 3.4 index on the Barents-Kara December SIC data.\nBefore performing the regression analysis, we can see that the longitude range of the SST data is **-180\u00b0~180\u00b0**,\ntry to convert the longitude range to **0\u00b0~360\u00b0** using :py:func:`easyclimate.utility.transfer_xarray_lon_from180TO360 <easyclimate.utility.transfer_xarray_lon_from180TO360>`.\n\n"
      ]
    },
    {
      "cell_type": "code",
      "execution_count": null,
      "metadata": {
        "collapsed": false
      },
      "outputs": [],
      "source": [
        "sst_data_0_360 = ecl.utility.transfer_xarray_lon_from180TO360(sst_data)\nsst_data_0_360"
      ]
    },
    {
      "cell_type": "markdown",
      "metadata": {},
      "source": [
        "Further, :py:func:`easyclimate.remove_seasonal_cycle_mean <easyclimate.remove_seasonal_cycle_mean>` is used to remove the climate state of each\nmonth in order to obtain the individual month anomalies.\nThe figure below illustrates the November SST anomaly in the tropical equatorial Pacific during the 1982-83 super El Ni\u00f1o.\n\n.. seealso::\n  Philander, S. Meteorology: Anomalous El Ni\u00f1o of 1982\u201383. Nature 305, 16 (1983). https://doi.org/10.1038/305016a0\n\n"
      ]
    },
    {
      "cell_type": "code",
      "execution_count": null,
      "metadata": {
        "collapsed": false
      },
      "outputs": [],
      "source": [
        "sst_data_anormaly = ecl.remove_seasonal_cycle_mean(sst_data_0_360)\n\nfig, ax = plt.subplots(\n    figsize=(10, 4), subplot_kw={\"projection\": ccrs.PlateCarree(central_longitude=180)}\n)\n\nsst_data_anormaly.sel(lon=slice(120, 290)).isel(time=22).plot.contourf(\n    ax=ax,\n    transform=ccrs.PlateCarree(),\n    cbar_kwargs={\"location\": \"bottom\", \"pad\": 0.1},\n    cmap=\"RdBu_r\",\n    levels=21,\n)\n\nax.gridlines(draw_labels=[\"bottom\", \"left\"], color=\"grey\", alpha=0.5, linestyle=\"--\")\nax.coastlines(edgecolor=\"black\", linewidths=0.5)"
      ]
    },
    {
      "cell_type": "markdown",
      "metadata": {},
      "source": [
        "The Ni\u00f1o3.4 index is commonly used as an indicator for detecting ENSO,\nand `easyclimate` provides :py:func:`easyclimate.field.air_sea_interaction.calc_index_nino34 <easyclimate.field.air_sea_interaction.calc_index_nino34>` to calculate the index using SST original dataset.\n\n.. seealso::\n  Anthony G. Bamston, Muthuvel Chelliah & Stanley B. Goldenberg (1997) Documentation of a highly ENSO\u2010related sst region in the equatorial pacific: Research note, Atmosphere-Ocean, 35:3, 367-383, DOI: https://doi.org/10.1080/07055900.1997.9649597\n\n"
      ]
    },
    {
      "cell_type": "code",
      "execution_count": null,
      "metadata": {
        "collapsed": false
      },
      "outputs": [],
      "source": [
        "nino34_monthly_index = ecl.field.air_sea_interaction.calc_index_nino34(sst_data_0_360)\n\nnino34_monthly_index.plot(\n    figsize=(8, 3),\n)"
      ]
    },
    {
      "cell_type": "markdown",
      "metadata": {},
      "source": [
        ":py:func:`easyclimate.calc_yearly_climatological_mean <easyclimate.calc_yearly_climatological_mean>` is then used to solve for the annual average of the monthly index data\n\n"
      ]
    },
    {
      "cell_type": "code",
      "execution_count": null,
      "metadata": {
        "collapsed": false
      },
      "outputs": [],
      "source": [
        "nino34_12_index = ecl.get_specific_months_data(nino34_monthly_index, 12)\nnino34_dec_yearly_index = ecl.calc_yearly_climatological_mean(nino34_12_index)\nnino34_dec_yearly_index"
      ]
    },
    {
      "cell_type": "markdown",
      "metadata": {},
      "source": [
        "Unlike solving for linear trend without passing in `x`, regression analysis must use the parameter `x` to pass in the object to be regressed.\nCare must be taken to ensure that the `time` dimensions are identical.\n\n"
      ]
    },
    {
      "cell_type": "code",
      "execution_count": null,
      "metadata": {
        "collapsed": false
      },
      "outputs": [],
      "source": [
        "sic_reg_nino34 = ecl.calc_linregress_spatial(\n    sic_data_Barents_Sea_12, x=nino34_dec_yearly_index.data\n)\nsic_reg_nino34 = sic_reg_nino34.compute()\nsic_reg_nino34"
      ]
    },
    {
      "cell_type": "markdown",
      "metadata": {},
      "source": [
        "Here is an attempt to plot the results of the regression analysis.\n\n"
      ]
    },
    {
      "cell_type": "code",
      "execution_count": null,
      "metadata": {
        "collapsed": false
      },
      "outputs": [],
      "source": [
        "draw_sic_slope = sic_reg_nino34.slope\ndraw_sic_pvalue = sic_reg_nino34.pvalue\n\nfig, ax = plt.subplots(\n    subplot_kw={\n        \"projection\": ccrs.Orthographic(central_longitude=70, central_latitude=70)\n    }\n)\n\nax.gridlines(draw_labels=[\"bottom\", \"left\"], color=\"grey\", alpha=0.5, linestyle=\"--\")\nax.coastlines(edgecolor=\"black\", linewidths=0.5)\n\ndraw_sic_slope.plot.contourf(\n    ax=ax,\n    transform=ccrs.PlateCarree(),\n    cbar_kwargs={\"location\": \"right\"},\n    cmap=\"RdBu_r\",\n    levels=21,\n)\n\necl.plot.draw_significant_area_contourf(\n    draw_sic_pvalue, ax=ax, thresh=0.05, transform=ccrs.PlateCarree()\n)"
      ]
    },
    {
      "cell_type": "markdown",
      "metadata": {},
      "source": [
        "## Detrend\nSea ice area shows an approximately linear trend of decreasing due to global warming.\nWe remove the linear trend from SIC in order to study the variability of SIC itself.\nIn addition, here we explore the differences between the trend followed by regional averaging and regional averaging followed by detrending approaches.\n\n"
      ]
    },
    {
      "cell_type": "code",
      "execution_count": null,
      "metadata": {
        "collapsed": false
      },
      "outputs": [],
      "source": [
        "sic_data_Barents_Sea_12_spatial_mean = sic_data_Barents_Sea_12.mean(dim=(\"lat\", \"lon\"))\nsic_data_Barents_Sea_12_spatial_detrendmean = ecl.calc_detrend_spatial(\n    sic_data_Barents_Sea_12, time_dim=\"time\"\n).mean(dim=(\"lat\", \"lon\"))\nsic_data_Barents_Sea_12_time_detrendmean = ecl.calc_detrend_spatial(\n    sic_data_Barents_Sea_12_spatial_mean, time_dim=\"time\"\n)"
      ]
    },
    {
      "cell_type": "markdown",
      "metadata": {},
      "source": [
        "The results show that there is no significant difference between these two detrending methods to study the variability of SIC in the Barents-Kara Seas.\n\n"
      ]
    },
    {
      "cell_type": "code",
      "execution_count": null,
      "metadata": {
        "collapsed": false
      },
      "outputs": [],
      "source": [
        "fig, ax = plt.subplots(2, 1, sharex=True)\n\nsic_data_Barents_Sea_12_spatial_mean.plot(ax=ax[0])\nax[0].set_xlabel(\"\")\nax[0].set_title(\"Original\")\n\n\nsic_data_Barents_Sea_12_spatial_detrendmean.plot(\n    ax=ax[1], label=\"detrend -> spatial mean\"\n)\nsic_data_Barents_Sea_12_time_detrendmean.plot(\n    ax=ax[1], ls=\"--\", label=\"spatial mean -> detrend\"\n)\nax[1].set_xlabel(\"\")\nax[1].set_title(\"Detrend\")\nax[1].legend()"
      ]
    },
    {
      "cell_type": "markdown",
      "metadata": {},
      "source": [
        "## Weighted Spatial Data\nWhen calculating regional averages in high-latitude areas,\nconsidering weights is necessary because regions at different latitudes cover unequal\nsurface areas on the Earth. Since the Earth is approximately a spheroid, areas\ncloser to the poles have a different distribution of surface area on the spherical surface.\n\nOne common way to incorporate weights is by using the cosine of latitude, i.e., multiplying by $\\cos (\\varphi)$,\nwhere $\\varphi$ represents the latitude of a location. This is because areas at higher latitudes,\nclose to the poles, have higher latitudes and smaller cosine values, allowing for a\nsmaller weight to be applied to these regions when calculating averages.\n\nIn summary, considering weights is done to more accurately account for the distribution\nof surface area on the Earth, ensuring that contributions from different\nregions are weighted according to their actual surface area when calculating\naverages or other regional statistical measures.\n\n:py:func:`easyclimate.utility.get_weighted_spatial_data <easyclimate.utility.get_weighted_spatial_data>` can help us create\nan :py:class:`xarray.core.weighted.DataArrayWeighted <xarray.core.weighted.DataArrayWeighted>` object.\nThis object will automatically consider and calculate weights in subsequent area operations, thereby achieving the operation of the weighted spatial average.\n\n"
      ]
    },
    {
      "cell_type": "code",
      "execution_count": null,
      "metadata": {
        "collapsed": false
      },
      "outputs": [],
      "source": [
        "sic_data_Barents_Sea_12_detrend = ecl.calc_detrend_spatial(\n    sic_data_Barents_Sea_12, time_dim=\"time\"\n)\ngrid_detrend_data_weighted_obj = ecl.utility.get_weighted_spatial_data(\n    sic_data_Barents_Sea_12_detrend, lat_dim=\"lat\", lon_dim=\"lon\"\n)\nprint(type(grid_detrend_data_weighted_obj))"
      ]
    },
    {
      "cell_type": "markdown",
      "metadata": {},
      "source": [
        "Solve for regional averaging for `grid_detrend_data_weighted_obj` objects (the role of weights is considered at this point)\n\n"
      ]
    },
    {
      "cell_type": "code",
      "execution_count": null,
      "metadata": {
        "collapsed": false
      },
      "outputs": [],
      "source": [
        "sic_data_Barents_Sea_12_spatial_detrend_weightedmean = (\n    grid_detrend_data_weighted_obj.mean(dim=(\"lat\", \"lon\"))\n)\nsic_data_Barents_Sea_12_spatial_detrend_weightedmean"
      ]
    },
    {
      "cell_type": "markdown",
      "metadata": {},
      "source": [
        "We can find some differences between the data considering latitude weights and those not considering latitude weights.\n\n"
      ]
    },
    {
      "cell_type": "code",
      "execution_count": null,
      "metadata": {
        "collapsed": false
      },
      "outputs": [],
      "source": [
        "fig, ax = plt.subplots(2, 1, sharex=True)\n\nsic_data_Barents_Sea_12_spatial_mean.plot(ax=ax[0])\nax[0].set_xlabel(\"\")\nax[0].set_title(\"Original\")\n\n\nsic_data_Barents_Sea_12_spatial_detrendmean.plot(ax=ax[1], label=\"Regular mean\")\nsic_data_Barents_Sea_12_spatial_detrend_weightedmean.plot(\n    ax=ax[1], ls=\"--\", label=\"Weighted mean\"\n)\nax[1].set_xlabel(\"\")\nax[1].set_title(\"Detrend\")\nax[1].legend()\nfig.show()"
      ]
    },
    {
      "cell_type": "markdown",
      "metadata": {},
      "source": [
        "## Skewness\n\nSkewness is a measure of the asymmetry of a probability distribution.\n\nIt quantifies the extent to which a distribution deviates from being symmetric around its mean. A distribution with a skewness\nvalue of zero is considered symmetric, meaning that it has equal probabilities of occurring\nabove and below its mean. However, when the skewness value is non-zero, the distribution\nbecomes asymmetric, indicating that there is a higher likelihood of occurrence on one side\nof the mean than the other.\n\nSkewness can be positive or negative, depending on whether the\ndistribution is skewed towards larger or smaller values.\n\nIn climate analysis, skewness can arise due to various factors such as changes in atmospheric circulation patterns, uneven\ntemperature or precipitation distributions, or differences in measurement instruments.\n\n.. seealso::\n  - Distributions of Daily Meteorological Variables: Background. Website: https://psl.noaa.gov/data/atmoswrit/distributions/background/index.html\n  - Bakouch HS, Cadena M, Chesneau C. A new class of skew distributions with climate data analysis. J Appl Stat. 2020 Jul 13;48(16):3002-3024. doi: https://doi.org/10.1080/02664763.2020.1791804. PMID: 35707257; PMCID: PMC9042114.\n\nThe skewness is calculated using :py:func:`easyclimate.calc_skewness_spatial <easyclimate.calc_skewness_spatial>`.\nThe result of the calculation contains the skewness and p-value.\n\n"
      ]
    },
    {
      "cell_type": "code",
      "execution_count": null,
      "metadata": {
        "collapsed": false
      },
      "outputs": [],
      "source": [
        "sic_data_Barents_Sea_12_detrend = ecl.calc_detrend_spatial(\n    sic_data_Barents_Sea_12, time_dim=\"time\"\n)\nsic_data_Barents_Sea_12_skew = ecl.calc_skewness_spatial(\n    sic_data_Barents_Sea_12_detrend, dim=\"time\"\n)\nsic_data_Barents_Sea_12_skew"
      ]
    },
    {
      "cell_type": "code",
      "execution_count": null,
      "metadata": {
        "collapsed": false
      },
      "outputs": [],
      "source": [
        "fig, ax = plt.subplots(\n    subplot_kw={\n        \"projection\": ccrs.Orthographic(central_longitude=70, central_latitude=70)\n    }\n)\n\nax.gridlines(draw_labels=[\"bottom\", \"left\"], color=\"grey\", alpha=0.5, linestyle=\"--\")\nax.coastlines(edgecolor=\"black\", linewidths=0.5)\n\n# SIC slope\nsic_data_Barents_Sea_12_skew.skewness.plot.contourf(\n    ax=ax,\n    transform=ccrs.PlateCarree(),\n    cbar_kwargs={\"location\": \"right\"},\n    cmap=\"RdBu_r\",\n    levels=21,\n)\n\n# SIC 95% significant level\necl.plot.draw_significant_area_contourf(\n    sic_data_Barents_Sea_12_skew.pvalue,\n    ax=ax,\n    thresh=0.05,\n    transform=ccrs.PlateCarree(),\n)"
      ]
    },
    {
      "cell_type": "markdown",
      "metadata": {},
      "source": [
        "## Kurtosis\nKurtosis is a measure of the \"tailedness\" of a probability distribution.\nIt describes how heavy or light the tails of a distribution are relative\nto a standard normal distribution. A distribution with high kurtosis\nhas heavier tails and a greater propensity for extreme events, whereas a\ndistribution with low kurtosis has lighter tails and fewer extreme events.\nKurtosis is particularly useful in climate analysis because it can reveal\ninformation about the frequency and intensity of extreme weather events such as hurricanes, droughts, or heatwaves.\n\n.. seealso::\n  - Distributions of Daily Meteorological Variables: Background. Website: https://psl.noaa.gov/data/atmoswrit/distributions/background/index.html\n  - Bakouch HS, Cadena M, Chesneau C. A new class of skew distributions with climate data analysis. J Appl Stat. 2020 Jul 13;48(16):3002-3024. doi: https://doi.org/10.1080/02664763.2020.1791804. PMID: 35707257; PMCID: PMC9042114.\n\nThe skewness is calculated using :py:func:`easyclimate.calc_kurtosis_spatial <easyclimate.calc_kurtosis_spatial>`.\n\n"
      ]
    },
    {
      "cell_type": "code",
      "execution_count": null,
      "metadata": {
        "collapsed": false
      },
      "outputs": [],
      "source": [
        "sic_data_Barents_Sea_12_kurt = ecl.calc_kurtosis_spatial(\n    sic_data_Barents_Sea_12_detrend, dim=\"time\"\n)\nsic_data_Barents_Sea_12_kurt"
      ]
    },
    {
      "cell_type": "markdown",
      "metadata": {},
      "source": [
        "Consider plotting kurtosis below\n\n"
      ]
    },
    {
      "cell_type": "code",
      "execution_count": null,
      "metadata": {
        "collapsed": false
      },
      "outputs": [],
      "source": [
        "fig, ax = plt.subplots(\n    subplot_kw={\n        \"projection\": ccrs.Orthographic(central_longitude=70, central_latitude=70)\n    }\n)\n\nax.gridlines(draw_labels=[\"bottom\", \"left\"], color=\"grey\", alpha=0.5, linestyle=\"--\")\nax.coastlines(edgecolor=\"black\", linewidths=0.5)\n\n# SIC slope\nsic_data_Barents_Sea_12_kurt.plot.contourf(\n    ax=ax,\n    transform=ccrs.PlateCarree(),\n    cbar_kwargs={\"location\": \"right\"},\n    cmap=\"RdBu_r\",\n    levels=21,\n)"
      ]
    },
    {
      "cell_type": "markdown",
      "metadata": {},
      "source": [
        "## Composite Analysis\nIn the process of climate analysis, **composite analysis** is a statistical and integrative method\nused to study the spatial and temporal distribution of specific climate events or phenomena.\nThe primary purpose of this analysis method is to identify common features and patterns\namong multiple events or time periods by combining their information.\n\nSpecifically, the steps of composite analysis typically include the following aspects:\n\n1. **Event Selection**: Firstly, a set of events related to the research objective is chosen. These events could be specific climate phenomena such as heavy rainfall, drought, or temperature anomalies.\n2. **Data Collection**: Collect meteorological data related to the selected events, including observational data, model outputs, or remote sensing data.\n3. **Event Alignment**: Time-align the chosen events to ensure that they are within the same temporal framework for analysis.\n4. **Data Combination**: Combine data values at corresponding time points into a composite dataset. Averages or weighted averages are often used to reduce the impact of random noise.\n\nThe advantages of this method include:\n\n- **Highlighting Common Features**: By combining data from multiple events or time periods, composite analysis can highlight common features, aiding in the identification of general patterns in climate events.\n- **Noise Reduction**: By averaging data, composite analysis helps to reduce the impact of random noise, resulting in more stable and reliable analysis outcomes.\n- **Spatial Consistency**: Through spatial averaging, this method helps reveal the consistent spatial distribution of climate events, providing a more comprehensive understanding.\n- **Facilitating Comparisons**: Composite analysis makes it convenient to compare different events or time periods as it integrates them into a unified framework.\n\nHere we try to extract the El Ni\u00f1o and La Ni\u00f1a events using the standard deviation of the Ni\u00f1o 3.4 index as a threshold.\n\n"
      ]
    },
    {
      "cell_type": "code",
      "execution_count": null,
      "metadata": {
        "collapsed": false
      },
      "outputs": [],
      "source": [
        "nino34_dec_yearly_index_std = nino34_dec_yearly_index.std(dim=\"time\").data\nnino34_dec_yearly_index_std"
      ]
    },
    {
      "cell_type": "markdown",
      "metadata": {},
      "source": [
        ":py:func:`easyclimate.get_year_exceed_index_upper_bound <easyclimate.get_year_exceed_index_upper_bound>` is able to obtain the years that exceed the upper bound of the Ni\u00f1o 3.4 exponential threshold,\nand similarly :py:func:`easyclimate.get_year_exceed_index_lower_bound <easyclimate.get_year_exceed_index_lower_bound>` can obtain the years that exceed the lower bound of the exponential threshold.\n\n"
      ]
    },
    {
      "cell_type": "code",
      "execution_count": null,
      "metadata": {
        "collapsed": false
      },
      "outputs": [],
      "source": [
        "elnino_year = ecl.get_year_exceed_index_upper_bound(\n    nino34_dec_yearly_index, thresh=nino34_dec_yearly_index_std\n)\nlanina_year = ecl.get_year_exceed_index_lower_bound(\n    nino34_dec_yearly_index, thresh=-nino34_dec_yearly_index_std\n)\nprint(\"El ni\u00f1o years: \", elnino_year)\nprint(\"La ni\u00f1a years: \", lanina_year)"
      ]
    },
    {
      "cell_type": "markdown",
      "metadata": {},
      "source": [
        "Further we use :py:func:`easyclimate.get_specific_years_data <easyclimate.get_specific_years_data>` to extract data\nfor the El Ni\u00f1o years within `sic_data_Barents_Sea_12_detrend`. The results show that six temporal levels were extracted.\n\n"
      ]
    },
    {
      "cell_type": "code",
      "execution_count": null,
      "metadata": {
        "collapsed": false
      },
      "outputs": [],
      "source": [
        "sic_data_Barents_Sea_12_detrend_elnino = ecl.get_specific_years_data(\n    sic_data_Barents_Sea_12_detrend, elnino_year\n)\nsic_data_Barents_Sea_12_detrend_elnino.name = \"El ni\u00f1o years\"\nsic_data_Barents_Sea_12_detrend_lanina = ecl.get_specific_years_data(\n    sic_data_Barents_Sea_12_detrend, lanina_year\n)\nsic_data_Barents_Sea_12_detrend_lanina.name = \"La ni\u00f1a years\"\nsic_data_Barents_Sea_12_detrend_elnino"
      ]
    },
    {
      "cell_type": "markdown",
      "metadata": {},
      "source": [
        "Similarly, 5 temporal levels were extracted for the La Ni\u00f1a years.\n\n"
      ]
    },
    {
      "cell_type": "code",
      "execution_count": null,
      "metadata": {
        "collapsed": false
      },
      "outputs": [],
      "source": [
        "sic_data_Barents_Sea_12_detrend_lanina"
      ]
    },
    {
      "cell_type": "markdown",
      "metadata": {},
      "source": [
        "We now plot the distribution of SIC during El Ni\u00f1o and La Ni\u00f1a years.\n\n"
      ]
    },
    {
      "cell_type": "code",
      "execution_count": null,
      "metadata": {
        "collapsed": false
      },
      "outputs": [],
      "source": [
        "fig, ax = plt.subplots(\n    1,\n    2,\n    subplot_kw={\n        \"projection\": ccrs.Orthographic(central_longitude=70, central_latitude=70)\n    },\n    figsize=(10, 4),\n)\n\nfor axi in ax.flat:\n    axi.gridlines(\n        draw_labels=[\"bottom\", \"left\"], color=\"grey\", alpha=0.5, linestyle=\"--\"\n    )\n    axi.coastlines(edgecolor=\"black\", linewidths=0.5)\n\nsic_data_Barents_Sea_12_detrend_elnino.mean(dim=\"time\").plot.contourf(\n    ax=ax[0],\n    transform=ccrs.PlateCarree(),\n    cbar_kwargs={\"location\": \"bottom\"},\n    cmap=\"RdBu_r\",\n    levels=21,\n)\nax[0].set_title(\"El ni\u00f1o years\")\n\nsic_data_Barents_Sea_12_detrend_lanina.mean(dim=\"time\").plot.contourf(\n    ax=ax[1],\n    transform=ccrs.PlateCarree(),\n    cbar_kwargs={\"location\": \"bottom\"},\n    cmap=\"RdBu_r\",\n    levels=21,\n)\nax[1].set_title(\"La ni\u00f1a years\")"
      ]
    },
    {
      "cell_type": "markdown",
      "metadata": {},
      "source": [
        "So is there a significant difference in the distribution of SIC between these two events?\n:py:func:`easyclimate.calc_ttestSpatialPattern_spatial <easyclimate.calc_ttestSpatialPattern_spatial>` provides a\ntwo-sample t-test operation to investigate whether there is a significant difference between the means of the two samples.\n\n"
      ]
    },
    {
      "cell_type": "code",
      "execution_count": null,
      "metadata": {
        "collapsed": false
      },
      "outputs": [],
      "source": [
        "sig_diff = ecl.calc_ttestSpatialPattern_spatial(\n    sic_data_Barents_Sea_12_detrend_elnino,\n    sic_data_Barents_Sea_12_detrend_lanina,\n    dim=\"time\",\n)\nsig_diff"
      ]
    },
    {
      "cell_type": "markdown",
      "metadata": {},
      "source": [
        "We can find that there is little difference in the effect on SIC under different ENSO events.\n\n"
      ]
    },
    {
      "cell_type": "code",
      "execution_count": null,
      "metadata": {
        "collapsed": false
      },
      "outputs": [],
      "source": [
        "fig, ax = plt.subplots(\n    subplot_kw={\n        \"projection\": ccrs.Orthographic(central_longitude=70, central_latitude=70)\n    }\n)\n\nax.gridlines(draw_labels=[\"bottom\", \"left\"], color=\"grey\", alpha=0.5, linestyle=\"--\")\nax.coastlines(edgecolor=\"black\", linewidths=0.5)\n\n# SIC slope\ndiff = sic_data_Barents_Sea_12_detrend_lanina.mean(\n    dim=\"time\"\n) - sic_data_Barents_Sea_12_detrend_elnino.mean(dim=\"time\")\ndiff.plot.contourf(\n    ax=ax,\n    transform=ccrs.PlateCarree(),\n    cbar_kwargs={\"location\": \"right\"},\n    cmap=\"RdBu_r\",\n    levels=21,\n)\n\nax.set_title(\"La ni\u00f1a minus El ni\u00f1o\", loc=\"left\")\n\necl.plot.draw_significant_area_contourf(\n    sig_diff.pvalue, ax=ax, thresh=0.1, transform=ccrs.PlateCarree()\n)"
      ]
    }
  ],
  "metadata": {
    "kernelspec": {
      "display_name": "Python 3",
      "language": "python",
      "name": "python3"
    },
    "language_info": {
      "codemirror_mode": {
        "name": "ipython",
        "version": 3
      },
      "file_extension": ".py",
      "mimetype": "text/x-python",
      "name": "python",
      "nbconvert_exporter": "python",
      "pygments_lexer": "ipython3",
      "version": "3.10.15"
    }
  },
  "nbformat": 4,
  "nbformat_minor": 0
}
