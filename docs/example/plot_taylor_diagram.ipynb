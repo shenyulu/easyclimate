{
  "cells": [
    {
      "cell_type": "markdown",
      "metadata": {},
      "source": [
        "\n# Taylor Diagram\n\nThe Taylor Diagram is a graphical tool introduced by American meteorologist Karl E. Taylor in 2001 to assess the performance of models.\nIt provides an intuitive way to compare how well model simulations match observed data and to compare the performance of different models.\n\nThe basic structure of the Taylor Diagram includes radial and tangential coordinates. In the chart, the standard deviation of observed data is placed at the center, while the standard deviation of model simulations extends radially outward. Additionally, the correlation coefficient, which measures the strength and direction of the linear relationship between two sets of data, is represented along the tangential axis. This chart allows for a visual comparison of the dispersion, shape, and correlation with observed data.\n\nThe advantages of the Taylor Diagram in research, particularly in comparing climate model simulation performance, are as follows:\n\n- **Intuitiveness**: The Taylor Diagram presents the similarity between model simulations and observed data in an intuitive way, making it easy for researchers, including non-experts, to quickly understand model performance.\n\n- **Comprehensive Comparison**: The Taylor Diagram allows for the simultaneous comparison of model simulations with observed data and the performance of multiple models. This aids in identifying the most accurate models.\n\n- **Comprehensive Assessment**: By combining key statistical measures such as standard deviation and correlation coefficient, the Taylor Diagram offers a comprehensive evaluation of model performance, considering multiple aspects rather than focusing on a single parameter.\n\n- **Wide Applicability**: The Taylor Diagram is not limited to climate model performance; it can be applied to evaluate models in various fields such as meteorology, oceanography, and environmental science.\n\nThe Taylor Diagram, as a graphical tool, provides a clear and comprehensive way for researchers,\nincluding those without a specialized background, to assess model performance. It is particularly\nuseful for comparing multiple models and complex datasets in research.\n\n.. seealso::\n    Taylor, K. E. (2001), Summarizing multiple aspects of model performance in a single diagram, J. Geophys. Res., 106(D7), 7183\u20137192, doi: https://doi.org/10.1029/2000JD900719.\n\nBefore proceeding with all the steps, first import some necessary libraries and packages\n"
      ]
    },
    {
      "cell_type": "code",
      "execution_count": null,
      "metadata": {
        "collapsed": false
      },
      "outputs": [],
      "source": [
        "import easyclimate as ecl\nimport xarray as xr\nimport numpy as np\nimport matplotlib.pyplot as plt\nimport pandas as pd"
      ]
    },
    {
      "cell_type": "markdown",
      "metadata": {},
      "source": [
        "Assuming the simulation results of model 'a' are as follows\n\n"
      ]
    },
    {
      "cell_type": "code",
      "execution_count": null,
      "metadata": {
        "collapsed": false
      },
      "outputs": [],
      "source": [
        "da_a = xr.DataArray(\n    np.array([[1, 2, 3], [0.1, 0.2, 0.3], [3.2, 0.6, 1.8]]),\n    dims=(\"lat\", \"time\"),\n    coords={\n        \"lat\": np.array([-30, 0, 30]),\n        \"time\": pd.date_range(\"2000-01-01\", freq=\"D\", periods=3),\n    },\n)\nda_a"
      ]
    },
    {
      "cell_type": "markdown",
      "metadata": {},
      "source": [
        "At the same time, we also assume that model 'b' has the following simulation results\n\n"
      ]
    },
    {
      "cell_type": "code",
      "execution_count": null,
      "metadata": {
        "collapsed": false
      },
      "outputs": [],
      "source": [
        "da_b = xr.DataArray(\n    np.array([[0.2, 0.4, 0.6], [15, 10, 5], [3.2, 0.6, 1.8]]),\n    dims=(\"lat\", \"time\"),\n    coords={\n        \"lat\": np.array([-30, 0, 30]),\n        \"time\": pd.date_range(\"2000-01-01\", freq=\"D\", periods=3),\n    },\n)\nda_b"
      ]
    },
    {
      "cell_type": "markdown",
      "metadata": {},
      "source": [
        "Observational (real) data should be directly obtained from instruments or reanalyzed in real life.\nHere we simply set it as the linear relationship between model `a` and model `b`.\n\n"
      ]
    },
    {
      "cell_type": "code",
      "execution_count": null,
      "metadata": {
        "collapsed": false
      },
      "outputs": [],
      "source": [
        "da_obs = (da_a + da_b) / 1.85\nda_obs"
      ]
    },
    {
      "cell_type": "markdown",
      "metadata": {},
      "source": [
        "## Build Dataset\n:py:func:`easyclimate.plot.calc_TaylorDiagrams_metadata <easyclimate.plot.calc_TaylorDiagrams_metadata>` provides us\nwith the necessary parameters for calculating the subsequent Taylor diagram.\n\n"
      ]
    },
    {
      "cell_type": "code",
      "execution_count": null,
      "metadata": {
        "collapsed": false
      },
      "outputs": [],
      "source": [
        "taylordiagrams_metadata = ecl.plot.calc_TaylorDiagrams_metadata(\n    f=[da_a, da_b],\n    r=[da_obs, da_obs],\n    models_name=[\"f1\", \"f2\"],\n    weighted=True,\n    normalized=True,\n)\nprint(taylordiagrams_metadata)"
      ]
    },
    {
      "cell_type": "markdown",
      "metadata": {},
      "source": [
        "## Basic Figure Framework\n:py:func:`easyclimate.plot.draw_TaylorDiagrams_base <easyclimate.plot.draw_TaylorDiagrams_base>` can\ndraw the basic framework of the Taylor diagram, which provides a basic drawing board for the data we will place.\n\n"
      ]
    },
    {
      "cell_type": "code",
      "execution_count": null,
      "metadata": {
        "collapsed": false
      },
      "outputs": [],
      "source": [
        "fig, ax = plt.subplots(subplot_kw={\"projection\": \"polar\"})\n\necl.plot.draw_TaylorDiagrams_base(ax=ax, std_max=2.5)"
      ]
    },
    {
      "cell_type": "markdown",
      "metadata": {},
      "source": [
        "## Dataset Points\nTry using :py:func:`easyclimate.plot.draw_TaylorDiagrams_metadata <easyclimate.plot.draw_TaylorDiagrams_metadata>` to place\ndata on the basic framework of the Taylor diagram.\n\n<div class=\"alert alert-info\"><h4>Note</h4><p>:py:func:`ax.legend() <matplotlib.axes.Axes.legend>` or :py:func:`plt.legend() <matplotlib.pyplot.legend>` can add legend for Taylor diagram.</p></div>\n\n\n"
      ]
    },
    {
      "cell_type": "code",
      "execution_count": null,
      "metadata": {
        "collapsed": false
      },
      "outputs": [],
      "source": [
        "fig, ax = plt.subplots(subplot_kw={\"projection\": \"polar\"})\n\necl.plot.draw_TaylorDiagrams_base(ax=ax, std_max=2.5)\n\necl.plot.draw_TaylorDiagrams_metadata(\n    taylordiagrams_metadata,\n    ax=ax,\n    marker_list=[\"o\", \"+\", \"*\"],\n    color_list=[\"black\", \"red\", \"green\"],\n    label_list=[\"\", \"\", \"\"],\n    legend_list=taylordiagrams_metadata[\"item\"].to_list(),\n    cc=\"cc\",\n    std=\"std\",\n)\n\nax.legend(bbox_to_anchor=(1, 0.9))"
      ]
    },
    {
      "cell_type": "markdown",
      "metadata": {},
      "source": [
        "The parameter `half_circle = True` in :py:func:`easyclimate.plot.draw_TaylorDiagrams_base <easyclimate.plot.draw_TaylorDiagrams_base>` can make the entire Taylor drawing board\nappear in a semi circular state, which allows us to discover\ndata points with negative standardized standard deviation (marked with a red cross)\n\n"
      ]
    },
    {
      "cell_type": "code",
      "execution_count": null,
      "metadata": {
        "collapsed": false
      },
      "outputs": [],
      "source": [
        "fig, ax = plt.subplots(subplot_kw={\"projection\": \"polar\"})\n\necl.plot.draw_TaylorDiagrams_base(\n    ax=ax,\n    std_max=2.6,\n    std_interval=0.5,\n    half_circle=True,\n    x_label_pad=0.5,\n    arc_label_pad=0.5,\n)\n\necl.plot.draw_TaylorDiagrams_metadata(\n    taylordiagrams_metadata,\n    ax=ax,\n    marker_list=[\"o\", \"+\", \"*\"],\n    color_list=[\"black\", \"red\", \"green\"],\n    label_list=[\"\", \"\", \"\"],\n    legend_list=taylordiagrams_metadata[\"item\"].to_list(),\n    cc=\"cc\",\n    std=\"std\",\n)"
      ]
    },
    {
      "cell_type": "markdown",
      "metadata": {},
      "source": [
        "## Points' Labels\n`label_list` in :py:func:`easyclimate.plot.draw_TaylorDiagrams_metadata <easyclimate.plot.draw_TaylorDiagrams_metadata>` can\nspecify the labels of these data points\n\n"
      ]
    },
    {
      "cell_type": "code",
      "execution_count": null,
      "metadata": {
        "collapsed": false
      },
      "outputs": [],
      "source": [
        "fig, ax = plt.subplots(subplot_kw={\"projection\": \"polar\"})\n\necl.plot.draw_TaylorDiagrams_base(ax=ax, std_max=2.5)\n\necl.plot.draw_TaylorDiagrams_metadata(\n    taylordiagrams_metadata,\n    ax=ax,\n    marker_list=[\"o\", \"+\", \"*\"],\n    color_list=[\"black\", \"red\", \"green\"],\n    label_list=[\"1\", \"\", \"3\"],\n    legend_list=taylordiagrams_metadata[\"item\"].to_list(),\n    cc=\"cc\",\n    std=\"std\",\n)"
      ]
    },
    {
      "cell_type": "markdown",
      "metadata": {},
      "source": [
        "The position of these labels can be finely adjusted using `point_label_yoffset` and `point_label_xoffset`.\n\n"
      ]
    },
    {
      "cell_type": "code",
      "execution_count": null,
      "metadata": {
        "collapsed": false
      },
      "outputs": [],
      "source": [
        "fig, ax = plt.subplots(subplot_kw={\"projection\": \"polar\"})\n\necl.plot.draw_TaylorDiagrams_base(ax=ax, std_max=2.5)\n\necl.plot.draw_TaylorDiagrams_metadata(\n    taylordiagrams_metadata,\n    ax=ax,\n    marker_list=[\"o\", \"+\", \"*\"],\n    color_list=[\"black\", \"red\", \"green\"],\n    label_list=[\"1\", \"\", \"3\"],\n    legend_list=taylordiagrams_metadata[\"item\"].to_list(),\n    cc=\"cc\",\n    std=\"std\",\n    point_label_yoffset=[0.05, 0, 0.05],\n    point_label_xoffset=[0.1, 0, 0],\n)"
      ]
    }
  ],
  "metadata": {
    "kernelspec": {
      "display_name": "Python 3",
      "language": "python",
      "name": "python3"
    },
    "language_info": {
      "codemirror_mode": {
        "name": "ipython",
        "version": 3
      },
      "file_extension": ".py",
      "mimetype": "text/x-python",
      "name": "python",
      "nbconvert_exporter": "python",
      "pygments_lexer": "ipython3",
      "version": "3.10.15"
    }
  },
  "nbformat": 4,
  "nbformat_minor": 0
}
