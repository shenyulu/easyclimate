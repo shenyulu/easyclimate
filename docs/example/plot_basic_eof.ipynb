{
  "cells": [
    {
      "cell_type": "markdown",
      "metadata": {},
      "source": [
        "\n# Empirical Orthogonal Function (EOF) and Maximum Covariance Analysis (MCA)\n\nBefore proceeding with all the steps, first import some necessary libraries and packages\n"
      ]
    },
    {
      "cell_type": "code",
      "execution_count": null,
      "metadata": {
        "collapsed": false
      },
      "outputs": [],
      "source": [
        "import xarray as xr\nimport easyclimate as ecl\nimport matplotlib.pyplot as plt\nimport cartopy.crs as ccrs"
      ]
    },
    {
      "cell_type": "markdown",
      "metadata": {},
      "source": [
        "## Empirical Orthogonal Function\n\nRead raw precipitation and temperature data\n\n\n```python\nt_data = xr.open_dataset(\"t_ERA5_1982-2022_N80.nc\").t.sel(time = slice(\"1982-01-01\", \"2020-12-31\")).sortby(\"lat\")\nprecip_data = xr.open_dataset(\"precip_ERA5_1982-2020_N80.nc\").precip.sel(time = slice(\"1982-01-01\", \"2020-12-31\")).sortby(\"lat\")\n```\n.. tip::\n\n  You can download following datasets here:\n\n  - :download:`Download precip_ERA5_1982-2020_N80.nc (82.9 MB) <https://huggingface.co/datasets/shenyulu/easyclimate/resolve/main/tutorial_data/precip_ERA5_1982-2020_N80.nc>`\n  - :download:`Download t_ERA5_1982-2022_N80.nc (839 MB) <https://huggingface.co/datasets/shenyulu/easyclimate/resolve/main/tutorial_data/t_ERA5_1982-2022_N80.nc>`\n  - :download:`Download eof_analysis_result.nc (105 kB) <https://huggingface.co/datasets/shenyulu/easyclimate/resolve/main/tutorial_data/eof_analysis_result.nc>`\n  - :download:`Download reof_analysis_result.nc (49.6 kB) <https://huggingface.co/datasets/shenyulu/easyclimate/resolve/main/tutorial_data/reof_analysis_result.nc>`\n  - :download:`Download mca_analysis_result.zarr.zip (218 kB, decompression needed) <https://huggingface.co/datasets/shenyulu/easyclimate/resolve/main/tutorial_data/mca_analysis_result.zarr.zip>`\n\n\nBe limited to the East Asia region and conduct empirical orthogonal function (EOF) analysis on it\n\n```python\nprecip_data_EA = precip_data.sel(lon = slice(105, 130), lat = slice(20, 40))\nmodel = ecl.eof.get_EOF_model(precip_data_EA, lat_dim = 'lat', lon_dim = 'lon', remove_seasonal_cycle_mean = True, use_coslat = True)\neof_analysis_result = ecl.eof.calc_EOF_analysis(model)\neof_analysis_result.to_netcdf(\"eof_analysis_result.nc\")\n```\nLoad the analyzed data\n\n"
      ]
    },
    {
      "cell_type": "code",
      "execution_count": null,
      "metadata": {
        "collapsed": false
      },
      "outputs": [],
      "source": [
        "eof_analysis_result = xr.open_dataset(\"eof_analysis_result.nc\")\neof_analysis_result"
      ]
    },
    {
      "cell_type": "markdown",
      "metadata": {},
      "source": [
        "Draw the leading first and second modes\n\n\n"
      ]
    },
    {
      "cell_type": "code",
      "execution_count": null,
      "metadata": {
        "collapsed": false
      },
      "outputs": [],
      "source": [
        "fig = plt.figure(figsize = (12, 8))\nfig.subplots_adjust(hspace = 0.15, wspace = 0.2)\ngs = fig.add_gridspec(3, 2)\n\nproj = ccrs.PlateCarree(central_longitude = 200)\nproj_trans = ccrs.PlateCarree()\n\naxi = fig.add_subplot(gs[0:2, 0], projection = proj)\ndraw_data = eof_analysis_result[\"EOF\"].sel(mode = 1)\ndraw_data.plot.contourf(\n    ax = axi, levels = 21,\n    transform = proj_trans,\n    cbar_kwargs={\"location\": \"bottom\", \"aspect\": 50, \"pad\" : 0.1}\n)\naxi.coastlines()\naxi.gridlines(draw_labels=[\"left\", \"bottom\"], color=\"grey\", alpha=0.5, linestyle=\"--\")\n\naxi = fig.add_subplot(gs[2, 0])\necl.plot.line_plot_with_threshold(eof_analysis_result[\"PC\"].sel(mode = 1), line_plot=False)\naxi.set_ylim(-0.2, 0.2)\n\naxi = fig.add_subplot(gs[0:2, 1], projection = proj)\ndraw_data = eof_analysis_result[\"EOF\"].sel(mode = 2)\ndraw_data.plot.contourf(\n    ax = axi, levels = 21,\n    transform = proj_trans,\n    cbar_kwargs={\"location\": \"bottom\", \"aspect\": 50, \"pad\" : 0.1}\n)\naxi.coastlines()\naxi.gridlines(draw_labels=[\"left\", \"bottom\"], color=\"grey\", alpha=0.5, linestyle=\"--\")\n\naxi = fig.add_subplot(gs[2, 1])\necl.plot.line_plot_with_threshold(eof_analysis_result[\"PC\"].sel(mode = 2), line_plot=False)\naxi.set_ylim(-0.2, 0.2)"
      ]
    },
    {
      "cell_type": "markdown",
      "metadata": {},
      "source": [
        "## Rotated Empirical Orthogonal Function\n\nHere, we conduct rotated empirical orthogonal function (REOF) analysis on it\n\n```python\nmodel = ecl.eof.get_REOF_model(precip_data_EA, lat_dim = 'lat', lon_dim = 'lon', remove_seasonal_cycle_mean = True, use_coslat = True)\nreof_analysis_result = ecl.eof.calc_REOF_analysis(model)\nreof_analysis_result.to_netcdf(\"reof_analysis_result.nc\")\n```\nNow load the data\n\n"
      ]
    },
    {
      "cell_type": "code",
      "execution_count": null,
      "metadata": {
        "collapsed": false
      },
      "outputs": [],
      "source": [
        "reof_analysis_result = xr.open_dataset(\"reof_analysis_result.nc\")\nreof_analysis_result"
      ]
    },
    {
      "cell_type": "code",
      "execution_count": null,
      "metadata": {
        "collapsed": false
      },
      "outputs": [],
      "source": [
        "fig = plt.figure(figsize = (12, 8))\nfig.subplots_adjust(hspace = 0.15, wspace = 0.2)\ngs = fig.add_gridspec(3, 2)\n\nproj = ccrs.PlateCarree(central_longitude = 200)\nproj_trans = ccrs.PlateCarree()\n\naxi = fig.add_subplot(gs[0:2, 0], projection = proj)\ndraw_data = reof_analysis_result[\"EOF\"].sel(mode = 1)\ndraw_data.plot.contourf(\n    ax = axi, levels = 21,\n    transform = proj_trans,\n    cbar_kwargs={\"location\": \"bottom\", \"aspect\": 50, \"pad\" : 0.1}\n)\naxi.coastlines()\naxi.gridlines(draw_labels=[\"left\", \"bottom\"], color=\"grey\", alpha=0.5, linestyle=\"--\")\n\naxi = fig.add_subplot(gs[2, 0])\necl.plot.line_plot_with_threshold(reof_analysis_result[\"PC\"].sel(mode = 1), line_plot=False)\naxi.set_ylim(-0.2, 0.2)\n\naxi = fig.add_subplot(gs[0:2, 1], projection = proj)\ndraw_data = reof_analysis_result[\"EOF\"].sel(mode = 2)\ndraw_data.plot.contourf(\n    ax = axi, levels = 21,\n    transform = proj_trans,\n    cbar_kwargs={\"location\": \"bottom\", \"aspect\": 50, \"pad\" : 0.1}\n)\naxi.coastlines()\naxi.gridlines(draw_labels=[\"left\", \"bottom\"], color=\"grey\", alpha=0.5, linestyle=\"--\")\n\naxi = fig.add_subplot(gs[2, 1])\necl.plot.line_plot_with_threshold(reof_analysis_result[\"PC\"].sel(mode = 2), line_plot=False)\naxi.set_ylim(-0.2, 0.2)"
      ]
    },
    {
      "cell_type": "markdown",
      "metadata": {},
      "source": [
        "## Maximum Covariance Analysis\n\nBe limited to the East Asia region for precipitation and temperature.\n\n```python\nprecip_data_EA = precip_data.sel(lon = slice(105, 130), lat = slice(20, 40))\nt_data_EA = t_data.sel(lon = slice(105, 130), lat = slice(20, 40)).sel(level = 1000)\n```\n"
      ]
    },
    {
      "cell_type": "markdown",
      "metadata": {},
      "source": [
        "Maximum Covariance Analysis (MCA) between two data sets.\n\n```python\nmca_model = ecl.eof.get_MCA_model(precip_data_EA, t_data_EA, lat_dim=\"lat\", lon_dim=\"lon\", n_modes=2, use_coslat=True,random_state=0)\nmca_analysis_result = ecl.eof.calc_MCA_analysis(mca_model)\nmca_analysis_result.to_zarr(\"mca_analysis_result.zarr\")\n```\nNow load the data\n\n"
      ]
    },
    {
      "cell_type": "code",
      "execution_count": null,
      "metadata": {
        "collapsed": false
      },
      "outputs": [],
      "source": [
        "mca_analysis_result = ecl.open_datanode(\"mca_analysis_result.zarr\")\nmca_analysis_result"
      ]
    },
    {
      "cell_type": "markdown",
      "metadata": {},
      "source": [
        "Draw results for leading modes\n\n\n"
      ]
    },
    {
      "cell_type": "code",
      "execution_count": null,
      "metadata": {
        "collapsed": false
      },
      "outputs": [],
      "source": [
        "fig = plt.figure(figsize = (9, 6))\nfig.subplots_adjust(hspace = 0.15, wspace = 0.1)\ngs = fig.add_gridspec(3, 2)\n\nproj = ccrs.PlateCarree(central_longitude = 200)\nproj_trans = ccrs.PlateCarree()\n\n# ---------------\naxi = fig.add_subplot(gs[0:2, 0], projection = proj)\ndraw_data = mca_analysis_result[\"EOF/left_EOF\"].sel(mode = 2).left_EOF\ndraw_data.plot.contourf(\n    ax = axi, levels = 21,\n    transform = proj_trans,\n    cbar_kwargs={\"location\": \"bottom\", \"aspect\": 50, \"pad\" : 0.1}\n)\naxi.coastlines()\naxi.gridlines(draw_labels=[\"left\", \"bottom\"], color=\"grey\", alpha=0.5, linestyle=\"--\")\naxi.set_title('left EOF2')\n\n# ---------------\naxi = fig.add_subplot(gs[2, 0])\necl.plot.line_plot_with_threshold(mca_analysis_result[\"PC/left_PC\"].sel(mode = 1).left_PC, line_plot=False)\naxi.set_ylim(-0.04, 0.04)\n\n# ---------------\naxi = fig.add_subplot(gs[0:2, 1], projection = proj)\ndraw_data = mca_analysis_result[\"EOF/right_EOF\"].sel(mode = 2).right_EOF\ndraw_data.plot.contourf(\n    ax = axi, levels = 21,\n    transform = proj_trans,\n    cbar_kwargs={\"location\": \"bottom\", \"aspect\": 50, \"pad\" : 0.1}\n)\naxi.coastlines()\naxi.gridlines(draw_labels=[\"left\", \"bottom\"], color=\"grey\", alpha=0.5, linestyle=\"--\")\naxi.set_title('right EOF2')\n\n# ---------------\naxi = fig.add_subplot(gs[2, 1])\necl.plot.line_plot_with_threshold(mca_analysis_result[\"PC/right_PC\"].sel(mode = 1).right_PC, line_plot=False)\naxi.set_ylim(-0.04, 0.04)"
      ]
    },
    {
      "cell_type": "markdown",
      "metadata": {},
      "source": [
        "Draw the figures for both homogeneous and heterogeneous patterns\n\n\n"
      ]
    },
    {
      "cell_type": "code",
      "execution_count": null,
      "metadata": {
        "collapsed": false
      },
      "outputs": [],
      "source": [
        "proj = ccrs.PlateCarree(central_longitude = 200)\nproj_trans = ccrs.PlateCarree()\n\nfig, ax = plt.subplots(2, 2, figsize = (9, 8), subplot_kw={\"projection\": proj})\n\n# ---------------\naxi = ax[0, 0]\n\ndraw_data = mca_analysis_result[\"heterogeneous_patterns/left_heterogeneous_patterns\"].sel(mode = 2).left_heterogeneous_patterns\np_data = mca_analysis_result[\"heterogeneous_patterns/pvalues_of_left_heterogeneous_patterns\"].sel(mode = 2).pvalues_of_left_heterogeneous_patterns\n\ndraw_data.plot.contourf(\n    ax = axi, levels = 21,\n    transform = proj_trans,\n    cbar_kwargs={\"location\": \"bottom\", \"aspect\": 50, \"pad\" : 0.1}\n)\necl.plot.draw_significant_area_contourf(p_data, ax = axi, thresh=0.1, transform=proj_trans)\n\naxi.coastlines()\naxi.gridlines(draw_labels=[\"left\", \"bottom\"], color=\"grey\", alpha=0.5, linestyle=\"--\")\naxi.set_title('Left Heterogeneous Patterns')\n\n# ---------------\naxi = ax[0, 1]\n\ndraw_data = mca_analysis_result[\"heterogeneous_patterns/right_heterogeneous_patterns\"].sel(mode = 2).right_heterogeneous_patterns\np_data = mca_analysis_result[\"heterogeneous_patterns/pvalues_of_right_heterogeneous_patterns\"].sel(mode = 2).pvalues_of_right_heterogeneous_patterns\n\ndraw_data.plot.contourf(\n    ax = axi, levels = 21,\n    transform = proj_trans,\n    cbar_kwargs={\"location\": \"bottom\", \"aspect\": 50, \"pad\" : 0.1}\n)\necl.plot.draw_significant_area_contourf(p_data, ax = axi, thresh=0.1, transform=proj_trans)\n\naxi.coastlines()\naxi.gridlines(draw_labels=[\"left\", \"bottom\"], color=\"grey\", alpha=0.5, linestyle=\"--\")\naxi.set_title('Right Heterogeneous Patterns')\n\n# ---------------\naxi = ax[1, 0]\n\ndraw_data = mca_analysis_result[\"homogeneous_patterns/left_homogeneous_patterns\"].sel(mode = 2).left_homogeneous_patterns\np_data = mca_analysis_result[\"homogeneous_patterns/pvalues_of_left_homogeneous_patterns\"].sel(mode = 2).pvalues_of_left_homogeneous_patterns\n\ndraw_data.plot.contourf(\n    ax = axi, levels = 21,\n    transform = proj_trans,\n    cbar_kwargs={\"location\": \"bottom\", \"aspect\": 50, \"pad\" : 0.1}\n)\necl.plot.draw_significant_area_contourf(p_data, ax = axi, thresh=0.1, transform=proj_trans)\n\naxi.coastlines()\naxi.gridlines(draw_labels=[\"left\", \"bottom\"], color=\"grey\", alpha=0.5, linestyle=\"--\")\naxi.set_title('Left Homogeneous Patterns')\n\n# ---------------\naxi = ax[1, 1]\n\ndraw_data = mca_analysis_result[\"homogeneous_patterns/right_homogeneous_patterns\"].sel(mode = 2).right_homogeneous_patterns\np_data = mca_analysis_result[\"homogeneous_patterns/pvalues_of_right_homogeneous_patterns\"].sel(mode = 2).pvalues_of_right_homogeneous_patterns\n\ndraw_data.plot.contourf(\n    ax = axi, levels = 21,\n    vmax = 0.8, vmin = -0.8,\n    cmap = \"RdBu_r\",\n    transform = proj_trans,\n    cbar_kwargs={\"location\": \"bottom\", \"aspect\": 50, \"pad\" : 0.1}\n)\necl.plot.draw_significant_area_contourf(p_data, ax = axi, thresh=0.1, transform=proj_trans)\n\naxi.coastlines()\naxi.gridlines(draw_labels=[\"left\", \"bottom\"], color=\"grey\", alpha=0.5, linestyle=\"--\")\naxi.set_title('Right Homogeneous Patterns')"
      ]
    }
  ],
  "metadata": {
    "kernelspec": {
      "display_name": "Python 3",
      "language": "python",
      "name": "python3"
    },
    "language_info": {
      "codemirror_mode": {
        "name": "ipython",
        "version": 3
      },
      "file_extension": ".py",
      "mimetype": "text/x-python",
      "name": "python",
      "nbconvert_exporter": "python",
      "pygments_lexer": "ipython3",
      "version": "3.11.11"
    }
  },
  "nbformat": 4,
  "nbformat_minor": 0
}
