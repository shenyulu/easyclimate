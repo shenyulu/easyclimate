{
  "cells": [
    {
      "cell_type": "markdown",
      "metadata": {},
      "source": [
        "\n# Multiple Variable Linear Regression\n\nThis documentation demonstrates a comprehensive analysis of sea surface temperature (SST) variability\nexplained by two climate indices (AO and Ni\u00f1o 3.4) using multiple linear regression. The analysis\ncovers data preparation, index calculation, regression modeling, and visualization of results.\n\n\\begin{align}y = a_1 x_1 + a_2 x_2\\end{align}\n\nBefore proceeding with all the steps, first import some necessary libraries and packages\n"
      ]
    },
    {
      "cell_type": "code",
      "execution_count": null,
      "metadata": {
        "collapsed": false
      },
      "outputs": [],
      "source": [
        "import xarray as xr\nimport cartopy.crs as ccrs\nimport easyclimate as ecl"
      ]
    },
    {
      "cell_type": "markdown",
      "metadata": {},
      "source": [
        "Two time ranges are defined to account for seasonal analysis with different base periods\n\n- ``time_range``: Primary analysis period (1982-2020)\n- ``time_range_plus1``: Offset by one year for seasonal calculations\n\n"
      ]
    },
    {
      "cell_type": "code",
      "execution_count": null,
      "metadata": {
        "collapsed": false
      },
      "outputs": [],
      "source": [
        "time_range = slice(\"1982-01-01\", \"2020-12-31\")\ntime_range_plus1 = slice(\"1983-01-01\", \"2021-12-31\")"
      ]
    },
    {
      "cell_type": "markdown",
      "metadata": {},
      "source": [
        "The Arctic Oscillation index is calculated using:\n\n1. Sea level pressure (SLP) data from the Northern Hemisphere\n2. Seasonal mean calculation for December-January-February (DJF)\n3. EOF analysis following Thompson & Wallace (1998) methodology\n\nThe resulting index is then subset to our analysis period.\n\n"
      ]
    },
    {
      "cell_type": "code",
      "execution_count": null,
      "metadata": {
        "collapsed": false
      },
      "outputs": [],
      "source": [
        "slp_data = xr.open_dataset(\"slp_monmean_NH.nc\").slp\nslp_data_DJF_mean = ecl.calc_seasonal_mean(slp_data, extract_season = 'DJF')\nindex_ao = ecl.field.teleconnection.calc_index_AO_EOF_Thompson_Wallace_1998(slp_data_DJF_mean)\nindex_ao = index_ao.sel(time = time_range)\nindex_ao"
      ]
    },
    {
      "cell_type": "markdown",
      "metadata": {},
      "source": [
        "The Nino3.4 index is derived from:\n\n1. Hadley Centre SST dataset\n2. Seasonal mean for DJF period\n3. Area averaging over the Ni\u00f1o 3.4 region (5\u00b0N-5\u00b0S, 170\u00b0W-120\u00b0W)\n\n"
      ]
    },
    {
      "cell_type": "code",
      "execution_count": null,
      "metadata": {
        "collapsed": false
      },
      "outputs": [],
      "source": [
        "sst_data = ecl.open_tutorial_dataset(\"mini_HadISST_sst\").sst\nsst_data_DJF_mean = ecl.calc_seasonal_mean(sst_data, extract_season = 'DJF')\nindex_nino34 = ecl.field.air_sea_interaction.calc_index_nino34(sst_data_DJF_mean).sel(time = time_range)\nindex_nino34"
      ]
    },
    {
      "cell_type": "markdown",
      "metadata": {},
      "source": [
        "The dependent variable for our regression is prepared as:\n\n- Seasonal mean SST for September-October-November (SON)\n- Using the offset time range to examine potential lagged relationships\n\n"
      ]
    },
    {
      "cell_type": "code",
      "execution_count": null,
      "metadata": {
        "collapsed": false
      },
      "outputs": [],
      "source": [
        "sst_data_SON_mean = ecl.calc_seasonal_mean(sst_data, extract_season = 'SON').sel(time = time_range_plus1)\nsst_data_SON_mean"
      ]
    },
    {
      "cell_type": "markdown",
      "metadata": {},
      "source": [
        "The core analysis applies multiple linear regression to quantify how:\n\n- AO index (first predictor)\n- Ni\u00f1o 3.4 index (second predictor)\n\njointly explain spatial patterns of SON SST variability.\n\nThe function returns a dataset containing:\n\n- Regression coefficients (slopes) for each predictor\n- Intercept values\n- R-squared values (goodness of fit)\n- Statistical significance (p-values) for each parameter\n\n"
      ]
    },
    {
      "cell_type": "code",
      "execution_count": null,
      "metadata": {
        "collapsed": false
      },
      "outputs": [],
      "source": [
        "result = ecl.calc_multiple_linear_regression_spatial(sst_data_SON_mean, [index_ao, index_nino34])\nresult"
      ]
    },
    {
      "cell_type": "markdown",
      "metadata": {},
      "source": [
        "The final visualization shows:\n\n- Top panel: Spatial pattern of AO influence on SON SST: Colors show regression coefficients, and Contours indicate statistically significant areas (p < 0.05)\n- Bottom panel: Spatial pattern of Ni\u00f1o 3.4 influence: Similar interpretation as top panel, and the central longitude is set to 200\u00b0 for Pacific-centric viewing.\n\nKey interpretation points:\n\n- Positive coefficients indicate SST increases with positive phase of the index\n- Negative coefficients indicate inverse relationships\n- Non-significant areas suggest no robust statistical relationship\n\n"
      ]
    },
    {
      "cell_type": "code",
      "execution_count": null,
      "metadata": {
        "collapsed": false
      },
      "outputs": [],
      "source": [
        "fig, ax = ecl.plot.quick_draw_spatial_basemap(nrows=2 ,figsize = (10, 5), central_longitude=200)\n\nresult.slopes.sel(coef = 0).plot(\n    ax=ax[0],\n    transform=ccrs.PlateCarree(),\n    cbar_kwargs={\"location\": \"bottom\", \"pad\": 0.2, \"aspect\": 100, \"shrink\": 0.8},\n)\necl.plot.draw_significant_area_contourf(\n    result.slopes_p.sel(coef = 0),\n    ax = ax[0],\n    transform=ccrs.PlateCarree()\n)\n\nresult.slopes.sel(coef = 1).plot(\n    ax=ax[1],\n    transform=ccrs.PlateCarree(),\n    cbar_kwargs={\"location\": \"bottom\", \"pad\": 0.2, \"aspect\": 100, \"shrink\": 0.8},\n)\necl.plot.draw_significant_area_contourf(\n    result.slopes_p.sel(coef = 1),\n    ax = ax[1],\n    transform=ccrs.PlateCarree()\n)"
      ]
    }
  ],
  "metadata": {
    "kernelspec": {
      "display_name": "Python 3",
      "language": "python",
      "name": "python3"
    },
    "language_info": {
      "codemirror_mode": {
        "name": "ipython",
        "version": 3
      },
      "file_extension": ".py",
      "mimetype": "text/x-python",
      "name": "python",
      "nbconvert_exporter": "python",
      "pygments_lexer": "ipython3",
      "version": "3.12.11"
    }
  },
  "nbformat": 4,
  "nbformat_minor": 0
}
