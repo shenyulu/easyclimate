{
  "cells": [
    {
      "cell_type": "markdown",
      "metadata": {},
      "source": [
        "\n# Arctic Oscillation (AO) Index\n\nThe Arctic Oscillation (AO) Index (or Monthly Northern Hemisphere Annular Mode (NAM) Index) is a key metric used to describe\nlarge-scale atmospheric variability in the Northern Hemisphere, \nparticularly influencing mid-to-high latitude weather patterns. It is defined by the leading mode of Empirical Orthogonal Function (EOF) \nanalysis of sea-level pressure (SLP) anomalies north of 20\u00b0N. The AO Index quantifies fluctuations \nin atmospheric pressure between the Arctic and mid-latitudes, with positive and negative phases reflecting \ndistinct circulation patterns. In the positive phase, lower Arctic pressure and higher mid-latitude \npressure strengthen westerly winds, confining cold air to polar regions, often leading to milder \nwinters in North America and Europe. The negative phase, with higher Arctic pressure and weaker winds, \nallows cold air to move southward, causing colder, stormier weather in these regions.\n\nThe AO's role in climate variability is significant, as it modulates temperature and precipitation, especially in winter. \nThe AO Index, typically derived from monthly or seasonal SLP data, reflects the strength of the polar vortex, \nwith positive values indicating a stronger vortex and negative values a weaker one. \nIt is closely linked to the North Atlantic Oscillation (NAO) due to shared variability patterns.\n\nThe AO's fluctuations are driven by internal atmospheric dynamics, stratospheric processes, \nand external forcings like sea surface temperatures. Its teleconnections make it a critical factor in seasonal weather predictions and long-term climate modeling. \nIn a warming climate, Arctic amplification may alter AO dynamics, making its study essential for understanding future climate trends.\n\n.. seealso::\n\n    - Thompson, D. W. J., & Wallace, J. M. (1998). The Arctic oscillation signature in the wintertime geopotential height and temperature fields. Geophysical Research Letters, 25(9), 1297\u20131300. https://doi.org/10.1029/98gl00950\n    - Fang, Z., Sun, X., Yang, X.-Q., & Zhu, Z. (2024). Interdecadal variations in the spatial pattern of the Arctic Oscillation Arctic center in wintertime. Geophysical Research Letters, 51, e2024GL111380. https://doi.org/10.1029/2024GL111380\n    - Li, J., and J. X. L. Wang (2003), A modified zonal index and its physical sense, Geophys. Res. Lett., 30, 1632, doi: https://doi.org/10.1029/2003GL017441, 12.\n    - Thompson, D. W. J. , & Wallace, J. M. . (1944). The Arctic oscillation signature in the wintertime geopotential height and temperature fields. Geophys. Res. Lett., doi: https://10.1029/98GL00950\n\nBefore proceeding with all the steps, first import some necessary libraries and packages\n"
      ]
    },
    {
      "cell_type": "code",
      "execution_count": null,
      "metadata": {
        "collapsed": false
      },
      "outputs": [],
      "source": [
        "import easyclimate as ecl\nimport xarray as xr\nimport numpy as np\nimport matplotlib.pyplot as plt\nimport cartopy.crs as ccrs"
      ]
    },
    {
      "cell_type": "markdown",
      "metadata": {},
      "source": [
        "Load monthly mean sea level pressure (SLP) data for the Northern Hemisphere\nThe data is read from a NetCDF file containing SLP monthly means\n\n"
      ]
    },
    {
      "cell_type": "code",
      "execution_count": null,
      "metadata": {
        "collapsed": false
      },
      "outputs": [],
      "source": [
        "slp_data = xr.open_dataset(\"slp_monmean_NH.nc\").slp"
      ]
    },
    {
      "cell_type": "markdown",
      "metadata": {},
      "source": [
        "Calculate seasonal mean for December-January-February (DJF)\nThis aggregates the monthly data into winter seasonal means\n\n"
      ]
    },
    {
      "cell_type": "code",
      "execution_count": null,
      "metadata": {
        "collapsed": false
      },
      "outputs": [],
      "source": [
        "slp_data_DJF_mean = ecl.calc_seasonal_mean(slp_data, extract_season = 'DJF')\nslp_data_DJF_mean"
      ]
    },
    {
      "cell_type": "markdown",
      "metadata": {},
      "source": [
        "Remove the seasonal cycle mean to obtain anomalies\nThis creates anomalies by subtracting the long-term seasonal mean\n\n"
      ]
    },
    {
      "cell_type": "code",
      "execution_count": null,
      "metadata": {
        "collapsed": false
      },
      "outputs": [],
      "source": [
        "slp_data_DJF_anormaly = ecl.remove_seasonal_cycle_mean(slp_data_DJF_mean)\nslp_data_DJF_anormaly"
      ]
    },
    {
      "cell_type": "markdown",
      "metadata": {},
      "source": [
        "Calculate Arctic Oscillation (AO) index using EOF method (Thompson & Wallace 1998)\nThis performs EOF analysis on SLP anomalies north of 20\u00b0N to derive the AO index\n\n"
      ]
    },
    {
      "cell_type": "code",
      "execution_count": null,
      "metadata": {
        "collapsed": false
      },
      "outputs": [],
      "source": [
        "index_ao = ecl.field.teleconnection.calc_index_AO_EOF_Thompson_Wallace_1998(slp_data_DJF_mean)\nindex_ao"
      ]
    },
    {
      "cell_type": "markdown",
      "metadata": {},
      "source": [
        "Calculate AO index using zonal mean SLP difference method (Li & Wang 2003)\nThis computes the index as the normalized difference between 35\u00b0N and 65\u00b0N SLP\n\n"
      ]
    },
    {
      "cell_type": "code",
      "execution_count": null,
      "metadata": {
        "collapsed": false
      },
      "outputs": [],
      "source": [
        "index_ao_point = ecl.field.teleconnection.calc_index_NAH_zonal_lat_Li_Wang_2003(slp_data_DJF_mean)\nindex_ao_point"
      ]
    },
    {
      "cell_type": "markdown",
      "metadata": {},
      "source": [
        "Calculate correlation between the two AO index calculation methods\nShows how well the two different methods agree in capturing AO variability\n\n"
      ]
    },
    {
      "cell_type": "code",
      "execution_count": null,
      "metadata": {
        "collapsed": false
      },
      "outputs": [],
      "source": [
        "np.corrcoef(index_ao_point, index_ao)"
      ]
    },
    {
      "cell_type": "markdown",
      "metadata": {},
      "source": [
        "Apply Gaussian filter to smooth the AO index time series\nUses a 9-month window to highlight lower-frequency variations\n\n"
      ]
    },
    {
      "cell_type": "code",
      "execution_count": null,
      "metadata": {
        "collapsed": false
      },
      "outputs": [],
      "source": [
        "index_ao_filtered = ecl.filter.calc_gaussian_filter(index_ao, window_length=9)\nindex_ao_filtered"
      ]
    },
    {
      "cell_type": "markdown",
      "metadata": {},
      "source": [
        "Perform linear regression between SLP anomalies and AO index\nCalculates the spatial pattern of SLP associated with AO variability\n\n"
      ]
    },
    {
      "cell_type": "code",
      "execution_count": null,
      "metadata": {
        "collapsed": false
      },
      "outputs": [],
      "source": [
        "slp_reg_ao = ecl.calc_linregress_spatial(slp_data_DJF_anormaly, x = index_ao)\nslp_reg_ao_slope = slp_reg_ao.slope\nslp_reg_ao_pvalue = slp_reg_ao.pvalue"
      ]
    },
    {
      "cell_type": "markdown",
      "metadata": {},
      "source": [
        "Add cyclic point for plotting (avoids gap at 0/360\u00b0 longitude)\n\n"
      ]
    },
    {
      "cell_type": "code",
      "execution_count": null,
      "metadata": {
        "collapsed": false
      },
      "outputs": [],
      "source": [
        "slp_reg_ao_slope = ecl.plot.add_lon_cyclic(slp_reg_ao_slope, inter = 2.5)\nslp_reg_ao_pvalue = ecl.plot.add_lon_cyclic(slp_reg_ao_pvalue, inter = 2.5)"
      ]
    },
    {
      "cell_type": "markdown",
      "metadata": {},
      "source": [
        "Prepare AO index data for plotting\nConverts time to year-only format for cleaner visualization\n\n"
      ]
    },
    {
      "cell_type": "code",
      "execution_count": null,
      "metadata": {
        "collapsed": false
      },
      "outputs": [],
      "source": [
        "index_ao_bar = index_ao.copy(deep=True)\nindex_ao_bar['time'] = index_ao_bar['time'].dt.year.data\n\nindex_ao_filtered_bar = index_ao_filtered.copy(deep=True)\nindex_ao_filtered_bar['time'] = index_ao_filtered_bar['time'].dt.year.data"
      ]
    },
    {
      "cell_type": "markdown",
      "metadata": {},
      "source": [
        "Create time series plot of AO index\n\n"
      ]
    },
    {
      "cell_type": "code",
      "execution_count": null,
      "metadata": {
        "collapsed": false
      },
      "outputs": [],
      "source": [
        "fig, ax = plt.subplots(figsize = (10, 4))\n\n# Plot bar chart of annual AO index values\necl.plot.bar_plot_with_threshold(index_ao_bar, ax = ax)\n# Overlay smoothed time series\nindex_ao_filtered_bar.plot(color = 'k', lw = 2, ax = ax)\n\nax.set_title(\"Arctic Oscillation (AO) Index\")"
      ]
    },
    {
      "cell_type": "markdown",
      "metadata": {},
      "source": [
        "Create spatial map of SLP regression pattern associated with AO\n\n"
      ]
    },
    {
      "cell_type": "code",
      "execution_count": null,
      "metadata": {
        "collapsed": false
      },
      "outputs": [],
      "source": [
        "fig, ax = plt.subplots(subplot_kw={\"projection\": ccrs.NorthPolarStereo()})\n\n# Configure map appearance\nax.coastlines(edgecolor=\"black\", linewidths=0.5)\n\n# Add polar map elements (grid lines, labels)\necl.plot.draw_Circlemap_PolarStereo(\n    ax=ax,\n    lon_step=30,\n    lat_step=10,\n    lat_range=[20, 90],\n    draw_labels=True,\n    set_map_boundary_kwargs={\"north_pad\": 0.3, \"south_pad\": 0.4},\n    gridlines_kwargs={\"color\": \"grey\", \"alpha\": 0.5, \"linestyle\": \"--\"},\n)\n\n# Plot regression coefficients (SLP pattern)\nslp_reg_ao_slope.plot.contourf(cmap=\"RdBu_r\", levels=11, transform=ccrs.PlateCarree())\n# Highlight statistically significant areas\necl.plot.draw_significant_area_contourf(slp_reg_ao_pvalue, transform=ccrs.PlateCarree())"
      ]
    }
  ],
  "metadata": {
    "kernelspec": {
      "display_name": "Python 3",
      "language": "python",
      "name": "python3"
    },
    "language_info": {
      "codemirror_mode": {
        "name": "ipython",
        "version": 3
      },
      "file_extension": ".py",
      "mimetype": "text/x-python",
      "name": "python",
      "nbconvert_exporter": "python",
      "pygments_lexer": "ipython3",
      "version": "3.12.11"
    }
  },
  "nbformat": 4,
  "nbformat_minor": 0
}
