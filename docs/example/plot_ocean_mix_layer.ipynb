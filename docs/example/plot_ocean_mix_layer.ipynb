{
  "cells": [
    {
      "cell_type": "markdown",
      "metadata": {},
      "source": [
        "\n# Ocean Surface Mixed Layers Analysis\n\nBefore proceeding with all the steps, first import some necessary libraries and packages\n"
      ]
    },
    {
      "cell_type": "code",
      "execution_count": null,
      "metadata": {
        "collapsed": false
      },
      "outputs": [],
      "source": [
        "import xarray as xr\nimport numpy as np\nimport matplotlib.pyplot as plt\nimport easyclimate as ecl"
      ]
    },
    {
      "cell_type": "markdown",
      "metadata": {},
      "source": [
        "Preprocessed data\n\n\n```python\ntemper_data = xr.open_dataset('temp_soda3.4.2_mn_ocean_reg_2020_EN4.nc', chunks=\"auto\").temp.rename({'st_ocean': 'depth'})\nslt_data = xr.open_dataset('salt_soda3.4.2_mn_ocean_reg_2020_EN4.nc', chunks=\"auto\").salt.rename({'st_ocean': 'depth'})\n\nu_data = xr.open_dataset('u_soda3.4.2_mn_ocean_reg_2020_EN4.nc', chunks=\"auto\").u.rename({'st_ocean': 'depth'})\nv_data = xr.open_dataset('v_soda3.4.2_mn_ocean_reg_2020_EN4.nc', chunks=\"auto\").v.rename({'st_ocean': 'depth'})\nnet_heating_data = xr.open_dataset('net_heating_soda3.4.2_mn_ocean_reg_2020_EN4.nc', chunks=\"auto\").net_heating\n\nwt_data = xr.open_dataset('wt_soda3.4.2_mn_ocean_reg_2020_EN4.nc', chunks=\"auto\").wt.rename({'sw_ocean': 'depth'})\n```\n"
      ]
    },
    {
      "cell_type": "markdown",
      "metadata": {},
      "source": [
        "The following data is the depth data of the mixed layer output by the oceanic models (we will compare it with it later).\n\n"
      ]
    },
    {
      "cell_type": "code",
      "execution_count": null,
      "metadata": {
        "collapsed": false
      },
      "outputs": [],
      "source": [
        "mld_data = xr.open_dataset('mlp_soda3.4.2_mn_ocean_reg_2020_EN4.nc', chunks=\"auto\").mlp"
      ]
    },
    {
      "cell_type": "markdown",
      "metadata": {},
      "source": [
        ".. tip::\n\n  You can download following datasets here:\n\n  - :download:`Download temp_soda3.4.2_mn_ocean_reg_2020_EN4.nc <https://huggingface.co/datasets/shenyulu/easyclimate/resolve/main/tutorial_data/temp_soda3.4.2_mn_ocean_reg_2020_EN4.nc>`\n  - :download:`Download salt_soda3.4.2_mn_ocean_reg_2020_EN4.nc <https://huggingface.co/datasets/shenyulu/easyclimate/resolve/main/tutorial_data/salt_soda3.4.2_mn_ocean_reg_2020_EN4.nc>`\n  - :download:`Download u_soda3.4.2_mn_ocean_reg_2020_EN4.nc <https://huggingface.co/datasets/shenyulu/easyclimate/resolve/main/tutorial_data/u_soda3.4.2_mn_ocean_reg_2020_EN4.nc>`\n  - :download:`Download v_soda3.4.2_mn_ocean_reg_2020_EN4.nc <https://huggingface.co/datasets/shenyulu/easyclimate/resolve/main/tutorial_data/v_soda3.4.2_mn_ocean_reg_2020_EN4.nc>`\n  - :download:`Download net_heating_soda3.4.2_mn_ocean_reg_2020_EN4.nc <https://huggingface.co/datasets/shenyulu/easyclimate/resolve/main/tutorial_data/net_heating_soda3.4.2_mn_ocean_reg_2020_EN4.nc>`\n  - :download:`Download wt_soda3.4.2_mn_ocean_reg_2020_EN4.nc <https://huggingface.co/datasets/shenyulu/easyclimate/resolve/main/tutorial_data/wt_soda3.4.2_mn_ocean_reg_2020_EN4.nc>`\n  - :download:`Download mlp_soda3.4.2_mn_ocean_reg_2020_EN4.nc <https://huggingface.co/datasets/shenyulu/easyclimate/resolve/main/tutorial_data/mlp_soda3.4.2_mn_ocean_reg_2020_EN4.nc>`\n\n<div class=\"alert alert-danger\"><h4>Warning</h4><p>- Here we are using only the [SODA](https://www2.atmos.umd.edu/~ocean/)_ 3.4.2 reanalysis data during 2024; the actual analysis will need to be analyzed using multiple years of data and removing the seasonal cycle by :py:func:`easyclimate.remove_seasonal_cycle_mean <easyclimate.remove_seasonal_cycle_mean>`.\n    - **Citation**: Carton, J. A., Chepurin, G. A., & Chen, L. (2018). SODA3: A New Ocean Climate Reanalysis. Journal of Climate, 31(17), 6967-6983. https://doi.org/10.1175/JCLI-D-18-0149.1</p></div>\n\n\n## Mix-Layer Depth\n\nHere, we use :py:func:`easyclimate.field.ocean.calc_mixed_layer_depth <easyclimate.field.ocean.calc_mixed_layer_depth>` to calculate the depth of mix-layer (MLD).\n\n```python\nmixed_layer_depth = ecl.field.ocean.calc_mixed_layer_depth(\n    seawater_temperature_data = temper_data,\n    seawater_practical_salinity_data = slt_data,\n).to_netcdf(\"sample_mixed_layer_depth.nc\")\n```\n.. seealso::\n\n    - https://github.com/pyoceans/oceans\n    - https://pyoceans.github.io/python-oceans/ocfis.html#oceans.ocfis.mld\n\nNext, we open the dataset containing the results\n\n"
      ]
    },
    {
      "cell_type": "code",
      "execution_count": null,
      "metadata": {
        "collapsed": false
      },
      "outputs": [],
      "source": [
        "mixed_layer_depth = xr.open_dataarray(\"sample_mixed_layer_depth.nc\")\nmixed_layer_depth"
      ]
    },
    {
      "cell_type": "markdown",
      "metadata": {},
      "source": [
        "Draw the figure of mix-layer depth\n\n\n"
      ]
    },
    {
      "cell_type": "code",
      "execution_count": null,
      "metadata": {
        "collapsed": false
      },
      "outputs": [],
      "source": [
        "fig, ax = ecl.plot.quick_draw_spatial_basemap()\n\nmixed_layer_depth.isel(time = 0).plot(\n    vmax = 300,\n    cmap = \"viridis_r\",\n    cbar_kwargs = {'location': 'bottom'},\n)\nax.set_title(\"Mixed Layer Depth (Jan., 2021)\")"
      ]
    },
    {
      "cell_type": "markdown",
      "metadata": {},
      "source": [
        "Compare with the depth data of the mixed layer output by the oceanic models\n\n\n"
      ]
    },
    {
      "cell_type": "code",
      "execution_count": null,
      "metadata": {
        "collapsed": false
      },
      "outputs": [],
      "source": [
        "fig, ax = ecl.plot.quick_draw_spatial_basemap()\ndiff = mld_data.isel(time = 0) - mixed_layer_depth.isel(time = 0)\ndiff.plot(\n    vmax = 200,\n    cbar_kwargs = {'location': 'bottom', 'label': 'units: m'},\n)\nax.set_title(\"SODA minus Easyclimate (pyoceans)\")"
      ]
    },
    {
      "cell_type": "markdown",
      "metadata": {},
      "source": [
        "## MLD Internal Temperature\n\nWe use :py:func:`easyclimate.field.ocean.get_temper_within_MLD <easyclimate.field.ocean.get_temper_within_MLD>` to receive MLD internal temperature.\n\n```python\nmld_t = ecl.field.ocean.get_temper_within_MLD(\n    seawater_temperature_data = temper_data,\n    mixed_layer_depth = mld_data,\n).to_netcdf(\"sample_mld_t.nc\")\n```\nNext, we open the dataset containing the results\n\n"
      ]
    },
    {
      "cell_type": "code",
      "execution_count": null,
      "metadata": {
        "collapsed": false
      },
      "outputs": [],
      "source": [
        "mld_t = xr.open_dataarray(\"sample_mld_t.nc\")\nmld_t"
      ]
    },
    {
      "cell_type": "markdown",
      "metadata": {},
      "source": [
        "Now, Plotting the temperature of a marine model layer within a mixed layer\n\n"
      ]
    },
    {
      "cell_type": "code",
      "execution_count": null,
      "metadata": {
        "collapsed": false
      },
      "outputs": [],
      "source": [
        "ax = plt.figure().add_subplot(projection='3d')\n\nfor depth_value in np.arange(50):\n    mld_t.isel(time = 5).sel(lon = slice(160, 180), lat = slice(-10, 10)).isel(depth = depth_value).plot.surface(\n        alpha=0.3,\n    )"
      ]
    },
    {
      "cell_type": "markdown",
      "metadata": {},
      "source": [
        "## MLD Internal Average Temperature\n\nWe use :py:func:`easyclimate.field.ocean.calc_MLD_depth_weighted <easyclimate.field.ocean.calc_MLD_depth_weighted>` to calculate MLD internal average temperature.\n\n```python\nweight = ecl.field.ocean.calc_MLD_depth_weighted(\n    seawater_temperature_data = temper_data,\n    mixed_layer_depth = mld_data\n)\n\nmld_t_ave = ecl.field.ocean.get_data_average_within_MLD(\n    data_input = temper_data,\n    mixed_layer_depth = mld_data,\n    depth_weight = weight\n).to_netcdf(\"sample_mld_t_ave.nc\")\n```\n<div class=\"alert alert-danger\"><h4>Warning</h4><p>You can **NOT** use above result (i.e., ``mld_t``) to directly calculate MLD internal average temperature by ``mld_t.mean(dim = \"depth\")``, because the vertical layers in ocean models are usually not uniformly distributed.</p></div>\n\nNext, we open the dataset containing the results\n\n"
      ]
    },
    {
      "cell_type": "code",
      "execution_count": null,
      "metadata": {
        "collapsed": false
      },
      "outputs": [],
      "source": [
        "mld_t_ave = xr.open_dataarray(\"sample_mld_t_ave.nc\")\nmld_t_ave"
      ]
    },
    {
      "cell_type": "markdown",
      "metadata": {},
      "source": [
        "Now, Plotting the  MLD internal average temperature\n\n"
      ]
    },
    {
      "cell_type": "code",
      "execution_count": null,
      "metadata": {
        "collapsed": false
      },
      "outputs": [],
      "source": [
        "fig, ax = ecl.plot.quick_draw_spatial_basemap()\n\nmld_t_ave.isel(time = 0).plot.contourf(\n    levels = 21,\n    cbar_kwargs = {'location': 'bottom', 'label': 'degC'},\n)\nax.set_title(\"Mixed Layer Temperature (Jan., 2021)\")"
      ]
    },
    {
      "cell_type": "markdown",
      "metadata": {},
      "source": [
        "## MLD Average Temperature Tendency\n\nWe use :py:func:`easyclimate.field.ocean.calc_MLD_temper_tendency <easyclimate.field.ocean.calc_MLD_temper_tendency>` to calculate MLD internal average temperature tendency.\n\n```python\nweight = ecl.field.ocean.calc_MLD_depth_weighted(\n    seawater_temperature_data = temper_data,\n    mixed_layer_depth = mld_data\n)\n\nmld_t_tendency = ecl.field.ocean.calc_MLD_temper_tendency(\n    seawater_temperature_anomaly_data = temper_data,\n    mixed_layer_depth = mld_data,\n    depth_weight = weight\n).to_netcdf(\"sample_mld_t_tendency.nc\")\n```\n"
      ]
    },
    {
      "cell_type": "code",
      "execution_count": null,
      "metadata": {
        "collapsed": false
      },
      "outputs": [],
      "source": [
        "mld_t_tendency = xr.open_dataarray(\"sample_mld_t_tendency.nc\")\nmld_t_tendency"
      ]
    },
    {
      "cell_type": "markdown",
      "metadata": {},
      "source": [
        "Now, Plotting the result.\n\n"
      ]
    },
    {
      "cell_type": "code",
      "execution_count": null,
      "metadata": {
        "collapsed": false
      },
      "outputs": [],
      "source": [
        "fig, ax = ecl.plot.quick_draw_spatial_basemap()\n\nmld_t_tendency.isel(time = 5).plot.contourf(\n    vmax = 8,\n    levels = 21,\n    cbar_kwargs = {'location': 'bottom'},\n)\nax.set_title(\"Mixed Layer Temperature Tendency (Jun., 2021)\")"
      ]
    },
    {
      "cell_type": "markdown",
      "metadata": {},
      "source": [
        "## MLD Average Horizontal Advection\n\nWe use :py:func:`easyclimate.field.ocean.calc_MLD_average_horizontal_advection <easyclimate.field.ocean.calc_MLD_average_horizontal_advection>` to calculate MLD average horizontal advection.\n\n```python\nweight = ecl.field.ocean.calc_MLD_depth_weighted(\n    seawater_temperature_data = temper_data,\n    mixed_layer_depth = mld_data\n)\n\nmld_horizontal_advection = ecl.field.ocean.calc_MLD_average_horizontal_advection(\n    u_monthly_data = u_data,\n    v_monthly_data = v_data,\n    seawater_temperature_data = temper_data,\n    mixed_layer_depth = mld_data,\n    depth_weight = weight\n).to_netcdf(\"sample_mld_horizontal_advection.nc\")\n```\n"
      ]
    },
    {
      "cell_type": "code",
      "execution_count": null,
      "metadata": {
        "collapsed": false
      },
      "outputs": [],
      "source": [
        "mld_horizontal_advection = xr.open_dataset(\"sample_mld_horizontal_advection.nc\")"
      ]
    },
    {
      "cell_type": "markdown",
      "metadata": {},
      "source": [
        "Now, Plotting the result for zonal advection.\n\n"
      ]
    },
    {
      "cell_type": "code",
      "execution_count": null,
      "metadata": {
        "collapsed": false
      },
      "outputs": [],
      "source": [
        "fig, ax = ecl.plot.quick_draw_spatial_basemap()\n\nmld_horizontal_advection[\"u_advection\"].isel(time = 5).plot(\n    vmax = 2,\n    levels = 21,\n    cbar_kwargs = {'location': 'bottom'},\n)\nax.set_title(\"Mixed Layer U advection (Jun., 2021)\")"
      ]
    },
    {
      "cell_type": "markdown",
      "metadata": {},
      "source": [
        "And meridional advection.\n\n"
      ]
    },
    {
      "cell_type": "code",
      "execution_count": null,
      "metadata": {
        "collapsed": false
      },
      "outputs": [],
      "source": [
        "fig, ax = ecl.plot.quick_draw_spatial_basemap()\n\nmld_horizontal_advection[\"v_advection\"].isel(time = 5).plot(\n    vmax = 2,\n    levels = 21,\n    cbar_kwargs = {'location': 'bottom'},\n)\nax.set_title(\"Mixed Layer V advection (Jun., 2021)\")"
      ]
    },
    {
      "cell_type": "markdown",
      "metadata": {},
      "source": [
        "## MLD Average Vertical Advection\n\nWe use :py:func:`easyclimate.field.ocean.calc_MLD_average_vertical_advection <easyclimate.field.ocean.calc_MLD_average_vertical_advection>` to calculate MLD average vertical advection.\n\n```python\nweight = ecl.field.ocean.calc_MLD_depth_weighted(\n    seawater_temperature_data = temper_data,\n    mixed_layer_depth = mld_data\n)\n\nmld_vertical_advection = ecl.field.ocean.calc_MLD_average_vertical_advection(\n    w_monthly_data = wt_data,\n    seawater_temperature_data = temper_data,\n    mixed_layer_depth = mld_data,\n    depth_weight = weight\n).to_netcdf(\"sample_mld_vertical_advection.nc\")\n```\n"
      ]
    },
    {
      "cell_type": "code",
      "execution_count": null,
      "metadata": {
        "collapsed": false
      },
      "outputs": [],
      "source": [
        "mld_vertical_advection = xr.open_dataarray(\"sample_mld_vertical_advection.nc\")\nmld_vertical_advection"
      ]
    },
    {
      "cell_type": "markdown",
      "metadata": {},
      "source": [
        "Now, Plotting the result.\n\n"
      ]
    },
    {
      "cell_type": "code",
      "execution_count": null,
      "metadata": {
        "collapsed": false
      },
      "outputs": [],
      "source": [
        "fig, ax = ecl.plot.quick_draw_spatial_basemap()\n\nmld_vertical_advection.isel(time = 5).plot(\n    vmax = 2,\n    levels = 21,\n    cbar_kwargs = {'location': 'bottom'},\n)\nax.set_title(\"Mixed Layer vertical advection (Jun., 2021)\")"
      ]
    },
    {
      "cell_type": "markdown",
      "metadata": {},
      "source": [
        "## Surface Heat Flux\n\nWe use :py:func:`easyclimate.field.ocean.calc_ocean_surface_heat_flux <easyclimate.field.ocean.calc_ocean_surface_heat_flux>` to calculate ocean surface heat flux.\n\n```python\nsurface_heat_flux = ecl.field.ocean.calc_ocean_surface_heat_flux(\n    qnet_monthly_anomaly_data = net_heating_data,\n    mixed_layer_depth = mld_data,\n).to_netcdf(\"sample_surface_heat_flux.nc\")\n```\n"
      ]
    },
    {
      "cell_type": "code",
      "execution_count": null,
      "metadata": {
        "collapsed": false
      },
      "outputs": [],
      "source": [
        "surface_heat_flux = xr.open_dataarray(\"sample_surface_heat_flux.nc\")\nsurface_heat_flux"
      ]
    },
    {
      "cell_type": "markdown",
      "metadata": {},
      "source": [
        "Now, Plotting the result.\n\n"
      ]
    },
    {
      "cell_type": "code",
      "execution_count": null,
      "metadata": {
        "collapsed": false
      },
      "outputs": [],
      "source": [
        "fig, ax = ecl.plot.quick_draw_spatial_basemap()\n\nsurface_heat_flux.isel(time = 5).plot(\n    vmax = 10,\n    levels = 21,\n    cbar_kwargs = {'location': 'bottom'},\n)\nax.set_title(\"Surface Heat Flux (Jun., 2021)\")"
      ]
    }
  ],
  "metadata": {
    "kernelspec": {
      "display_name": "Python 3",
      "language": "python",
      "name": "python3"
    },
    "language_info": {
      "codemirror_mode": {
        "name": "ipython",
        "version": 3
      },
      "file_extension": ".py",
      "mimetype": "text/x-python",
      "name": "python",
      "nbconvert_exporter": "python",
      "pygments_lexer": "ipython3",
      "version": "3.11.11"
    }
  },
  "nbformat": 4,
  "nbformat_minor": 0
}
