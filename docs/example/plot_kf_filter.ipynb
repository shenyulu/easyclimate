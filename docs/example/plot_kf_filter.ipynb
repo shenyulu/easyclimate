{
  "cells": [
    {
      "cell_type": "markdown",
      "metadata": {},
      "source": [
        "\n\n# KF Filter and Hovm\u00f6ller Diagram\n\nThe KF filter is a specialized spectral analysis technique designed to isolate and study tropical atmospheric waves by decomposing meteorological fields into their wavenumber-frequency components. Unlike traditional Fourier methods, the W-K filter applies a symmetric/antisymmetric separation to distinguish between different wave types, such as **Kelvin waves, Rossby waves, and mixed Rossby-gravity waves**, based on their theoretical dispersion relations. This approach is particularly effective in identifying **convectively coupled waves**, where tropical rainfall and large-scale circulation interact. In meteorology, the W-K filter is widely used to analyze **Madden-Julian Oscillation (MJO) dynamics**, monsoon variability, and other tropical wave disturbances, providing insights into their propagation characteristics and impacts on weather systems.\n\n.. seealso::\n\n    - Wheeler, M., & Kiladis, G. N. (1999). Convectively Coupled Equatorial Waves: Analysis of Clouds and Temperature in the Wavenumber\u2013Frequency Domain. Journal of the Atmospheric Sciences, 56(3), 374-399. https://journals.ametsoc.org/view/journals/atsc/56/3/1520-0469_1999_056_0374_ccewao_2.0.co_2.xml\n    - Kiladis, G. N., Thorncroft, C. D., & Hall, N. M. J. (2006). Three-Dimensional Structure and Dynamics of African Easterly Waves. Part I: Observations. Journal of the Atmospheric Sciences, 63(9), 2212-2230. https://doi.org/10.1175/JAS3741.1\n    - Hall, N. M. J., Kiladis, G. N., & Thorncroft, C. D. (2006). Three-Dimensional Structure and Dynamics of African Easterly Waves. Part II: Dynamical Modes. Journal of the Atmospheric Sciences, 63(9), 2231-2245. https://doi.org/10.1175/JAS3742.1\n    - Thorncroft, C. D., Hall, N. M. J., & Kiladis, G. N. (2008). Three-Dimensional Structure and Dynamics of African Easterly Waves. Part III: Genesis. Journal of the Atmospheric Sciences, 65(11), 3596-3607. https://doi.org/10.1175/2008JAS2575.1\n    - http://www.bom.gov.au/climate/mjo/\n\nBefore proceeding with all the steps, first import some necessary libraries and packages\n"
      ]
    },
    {
      "cell_type": "code",
      "execution_count": null,
      "metadata": {
        "collapsed": false
      },
      "outputs": [],
      "source": [
        "import numpy as np\nimport xarray as xr\nimport matplotlib.pyplot as plt\nimport cartopy.crs as ccrs\nimport easyclimate as ecl"
      ]
    },
    {
      "cell_type": "markdown",
      "metadata": {},
      "source": [
        "Preprocessed data\n\n\n.. tip::\n\n  You can download following datasets here:\n\n  - :download:`Download olr-daily_v01r02_19800101_20231231.nc (3.34 GB) <https://huggingface.co/datasets/shenyulu/easyclimate/resolve/main/tutorial_data/olr-daily_v01r02_19800101_20231231.nc>`\n  - :download:`Download olr_smooth_data.nc <https://raw.githubusercontent.com/shenyulu/easyclimate/refs/heads/main/docs/source/dynamic_docs/olr_smooth_data.nc>`\n\n\n```python\nlats, latn = -20, 20\n\nolr_data = xr.open_dataset('olr-daily_v01r02_19800101_20231231.nc', chunks='auto').sel(lat=slice(lats,latn)).olr\nolr_daily_smoothed = ecl.variability.remove_smooth_daily_annual_cycle_mean(\n    olr_data, extract_time_range = slice('2017-01-01','2018-12-31')\n)\n\n# target grid\ntarget_grid = xr.Dataset()\ntarget_grid['lat'] = olr_daily_smoothed.lat.data\ntarget_grid['lon'] = olr_daily_smoothed.lon.thin(lon = 5).data\n\nolr_data_interpolated = ecl.interp.interp_mesh2mesh(olr_daily_smoothed, target_grid = target_grid)\nolr_data_interpolated = ecl.utility.get_compress_xarraydata(olr_data_interpolated)\nolr_data_interpolated.to_netcdf(\"olr_smooth_data.nc\")\n```\n"
      ]
    },
    {
      "cell_type": "markdown",
      "metadata": {},
      "source": [
        "The example here is to avoid longer calculations, thus we open the pre-processed result data directly.\n\n"
      ]
    },
    {
      "cell_type": "code",
      "execution_count": null,
      "metadata": {
        "collapsed": false
      },
      "outputs": [],
      "source": [
        "olr_data_interpolated = xr.open_dataset(\"olr_smooth_data.nc\").olr\nolr_data_interpolated"
      ]
    },
    {
      "cell_type": "markdown",
      "metadata": {},
      "source": [
        "Filtering equatorial waves with ``kf_filter``\n\n\n"
      ]
    },
    {
      "cell_type": "code",
      "execution_count": null,
      "metadata": {
        "collapsed": false
      },
      "outputs": [],
      "source": [
        "lf_result = ecl.filter.kf_filter_lf_wave(olr_data_interpolated, steps_per_day = 1)\nmjo_result = ecl.filter.kf_filter_mjo_wave(olr_data_interpolated, steps_per_day = 1)\ner_result = ecl.filter.kf_filter_er_wave(olr_data_interpolated, steps_per_day = 1)\nkelvin_result = ecl.filter.kf_filter_kelvin_wave(olr_data_interpolated, steps_per_day = 1)\nmt_result = ecl.filter.kf_filter_mt_wave(olr_data_interpolated, steps_per_day = 1)\nmrg_result = ecl.filter.kf_filter_mrg_wave(olr_data_interpolated, steps_per_day = 1)\ntd_result = ecl.filter.kf_filter_td_wave(olr_data_interpolated, steps_per_day = 1)\nlf_result"
      ]
    },
    {
      "cell_type": "markdown",
      "metadata": {},
      "source": [
        "Extract data in a specified time range\n\n"
      ]
    },
    {
      "cell_type": "code",
      "execution_count": null,
      "metadata": {
        "collapsed": false
      },
      "outputs": [],
      "source": [
        "time1, time2 = '2017-12-01', '2018-02-28'\nlon1, lon2, lats, latn = 39, 181, 5, 15\n\nmjo_result_ave = mjo_result.sel(time=slice(time1,time2),lat=slice(lats,latn),lon=slice(lon1,lon2)).mean(dim = 'lat')\nmrg_result_ave = mrg_result.sel(time=slice(time1,time2),lat=slice(lats,latn),lon=slice(lon1,lon2)).mean(dim = 'lat')\ntd_result_ave = td_result.sel(time=slice(time1,time2),lat=slice(lats,latn),lon=slice(lon1,lon2)).mean(dim = 'lat')\nlf_result_ave = lf_result.sel(time=slice(time1,time2),lat=slice(lats,latn),lon=slice(lon1,lon2)).mean(dim = 'lat')\nlf_result_ave"
      ]
    },
    {
      "cell_type": "markdown",
      "metadata": {},
      "source": [
        "The **Hovm\u00f6ller Diagram** is a powerful visualization tool that plots atmospheric or oceanic variables along one spatial axis\n(e.g., longitude or latitude) against time, revealing propagating wave patterns and persistent anomalies.\nBy compressing spatiotemporal data into a single image, it allows meteorologists to track the phase speed, direction,\nand life cycle of large-scale waves, such as equatorial Kelvin waves or extratropical Rossby wave trains.\nIn tropical meteorology, Hovm\u00f6ller diagrams are frequently used to study the **eastward progression of the MJO**\nor the **westward movement of tropical cyclones**, while in climate science,\nthey help diagnose teleconnections like the **El Ni\u00f1o-Southern Oscillation (ENSO)** influence\non global weather. This method is essential for validating model simulations and understanding\nthe organization of atmospheric disturbances over time.\n\n.. seealso::\n\n      Persson, Anders. \"The Story of the Hovm\u00f6ller Diagram: An (Almost) Eyewitness Account\". Bulletin of the American Meteorological Society 98.5 (2017): 949-957. https://doi.org/10.1175/BAMS-D-15-00234.1 Web.\n\nThe first is given for equatorial waves with a frequency greater than 120 days of slow variation\n\n"
      ]
    },
    {
      "cell_type": "code",
      "execution_count": null,
      "metadata": {
        "collapsed": false
      },
      "outputs": [],
      "source": [
        "fig, ax = plt.subplots(figsize = (8, 5))\n\nlf_result_ave.plot.contourf(\n    yincrease = False,\n    levels = np.linspace(-15, 15, 21),\n    cbar_kwargs={\"location\": \"right\", \"aspect\": 30},\n)\necl.plot.set_lon_format_axis()"
      ]
    },
    {
      "cell_type": "markdown",
      "metadata": {},
      "source": [
        "The MJO wave is extracted here.\n\nThe Madden\u2013Julian Oscillation (MJO) is the major fluctuation in tropical weather on weekly to monthly timescales.\nIt can be characterised as an eastward moving pulse or wave of cloud and rainfall near\nthe equator that typically recurs every 30 to 60 days.\n\n"
      ]
    },
    {
      "cell_type": "code",
      "execution_count": null,
      "metadata": {
        "collapsed": false
      },
      "outputs": [],
      "source": [
        "fig, ax = plt.subplots(figsize = (8, 5))\n\nmjo_result_ave.plot.contourf(\n    yincrease = False,\n    levels = np.linspace(-15, 15, 21),\n    cbar_kwargs={\"location\": \"right\", \"aspect\": 30},\n)\necl.plot.set_lon_format_axis()"
      ]
    },
    {
      "cell_type": "markdown",
      "metadata": {},
      "source": [
        "The mixed Rossby-Gravity (MRG) waves are extracted here.\n\nThe MRG waves move towards the west, but MRG waves have their pressure centres arranged anti-symmetrically\non either side of the equator. This means a low pressure centre on one side of the equator will be opposite\na high pressure centre in the other hemisphere. Satellite analysis of mixed Rossby-Gravity waves shows\nfavoured zones for deep convection, often with thunderstorm clusters, in an antisymmetric arrangement\nabout the equator. Their speed of movement to the west is faster than that of an ER wave.\n\n"
      ]
    },
    {
      "cell_type": "code",
      "execution_count": null,
      "metadata": {
        "collapsed": false
      },
      "outputs": [],
      "source": [
        "fig, ax = plt.subplots(figsize = (8, 5))\n\nmrg_result_ave.plot.contourf(\n    yincrease = False,\n    levels = np.linspace(-15, 15, 21),\n    cbar_kwargs={\"location\": \"right\", \"aspect\": 30},\n)\necl.plot.set_lon_format_axis()"
      ]
    },
    {
      "cell_type": "markdown",
      "metadata": {},
      "source": [
        "The tropical depression (TD) waves are extracted here\n\n"
      ]
    },
    {
      "cell_type": "code",
      "execution_count": null,
      "metadata": {
        "collapsed": false
      },
      "outputs": [],
      "source": [
        "fig, ax = plt.subplots(figsize = (8, 5))\n\ntd_result_ave.plot.contourf(\n    yincrease = False,\n    levels = np.linspace(-15, 15, 21),\n    cbar_kwargs={\"location\": \"right\", \"aspect\": 30},\n)\necl.plot.set_lon_format_axis()"
      ]
    },
    {
      "cell_type": "markdown",
      "metadata": {},
      "source": [
        "Finally we give the spatial planes of various equatorial waves\n\n"
      ]
    },
    {
      "cell_type": "code",
      "execution_count": null,
      "metadata": {
        "collapsed": false
      },
      "outputs": [],
      "source": [
        "fig, ax = plt.subplots(\n    nrows=5,\n    figsize = (10, 12),\n    subplot_kw={\n        \"projection\": ccrs.PlateCarree(central_longitude=180)\n    },\n)\nfor axi in ax.flat:\n    axi.gridlines(draw_labels=[\"bottom\", \"left\"], color = \"grey\", alpha = 0.5, linestyle = \"--\")\n    axi.coastlines(edgecolor='k', linewidths=0.5)\n\ndef get_date_str(data):\n    return str(data['time'].data)[:10]\n\naxi = ax[0]\ndata = mjo_result.isel(time = 18)\ndata.sel(lat = slice(-20, 20)).plot.contourf(\n    ax = axi,\n    levels = np.linspace(-30, 30, 21),\n    transform = ccrs.PlateCarree(),\n    add_colorbar = False,\n)\naxi.set_title(\"MJO\")\naxi.set_title(get_date_str(data), loc = 'right')\n\naxi = ax[1]\ndata = mrg_result.isel(time = 18)\ndata.sel(lat = slice(-20, 20)).plot.contourf(\n    ax = axi,\n    levels = np.linspace(-30, 30, 21),\n    transform = ccrs.PlateCarree(),\n    add_colorbar = False,\n)\naxi.set_title(\"MRG\")\naxi.set_title(get_date_str(data), loc = 'right')\n\naxi = ax[2]\ndata = td_result.isel(time = 18)\ndata.sel(lat = slice(-20, 20)).plot.contourf(\n    ax = axi,\n    levels = np.linspace(-30, 30, 21),\n    transform = ccrs.PlateCarree(),\n    add_colorbar = False,\n)\naxi.set_title(\"TD\")\naxi.set_title(get_date_str(data), loc = 'right')\n\naxi = ax[3]\ndata = kelvin_result.isel(time = 18)\ndata.sel(lat = slice(-20, 20)).plot.contourf(\n    ax = axi,\n    levels = np.linspace(-30, 30, 21),\n    transform = ccrs.PlateCarree(),\n    add_colorbar = False,\n)\naxi.set_title(\"Kelvin\")\naxi.set_title(get_date_str(data), loc = 'right')\n\naxi = ax[4]\ndata = lf_result.isel(time = 18)\nbar_sample = data.sel(lat = slice(-20, 20)).plot.contourf(\n    ax = axi,\n    levels = np.linspace(-30, 30, 21),\n    transform = ccrs.PlateCarree(),\n    add_colorbar = False,\n)\naxi.set_title(\"Low\")\naxi.set_title(get_date_str(data), loc = 'right')\n\naxi_item = ax.flatten()\ncb1 = fig.colorbar(bar_sample, ax = axi_item, orientation = 'horizontal', pad = 0.08, aspect = 50, shrink = 0.8, extendrect = False)\ncb1.set_label('OLR (W/$\\\\mathrm{m^2}$)')"
      ]
    }
  ],
  "metadata": {
    "kernelspec": {
      "display_name": "Python 3",
      "language": "python",
      "name": "python3"
    },
    "language_info": {
      "codemirror_mode": {
        "name": "ipython",
        "version": 3
      },
      "file_extension": ".py",
      "mimetype": "text/x-python",
      "name": "python",
      "nbconvert_exporter": "python",
      "pygments_lexer": "ipython3",
      "version": "3.12.11"
    }
  },
  "nbformat": 4,
  "nbformat_minor": 0
}
