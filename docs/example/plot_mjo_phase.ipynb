{
  "cells": [
    {
      "cell_type": "markdown",
      "metadata": {},
      "source": [
        "\n\n# MJO Phase Space Trajectory Diagram\n\nBefore proceeding with all the steps, first import some necessary libraries and packages\n"
      ]
    },
    {
      "cell_type": "code",
      "execution_count": null,
      "metadata": {
        "collapsed": false
      },
      "outputs": [],
      "source": [
        "import xarray as xr\nimport pandas as pd\nimport easyclimate as ecl\nimport matplotlib.pyplot as plt"
      ]
    },
    {
      "cell_type": "markdown",
      "metadata": {},
      "source": [
        "Load MJO phase space data\n\n```python\nmjo_ds = xr.open_dataset('http://iridl.ldeo.columbia.edu/SOURCES/.BoM/.MJO/.RMM/dods',\n                         decode_times=False)\nT = mjo_ds.T.values\nmjo_ds['T'] = pd.date_range(\"1974-06-01\", periods=len(T))\nmjo_ds = ecl.utility.get_compress_xarraydata(mjo_ds)\nmjo_ds.to_netcdf(\"mjo_data.nc\")\n```\nModify the name of the time parameter\n\n.. tip::\n\n  You can download following datasets here: :download:`Download mjo_data.nc <https://raw.githubusercontent.com/shenyulu/easyclimate/refs/heads/main/docs/source/dynamic_docs/mjo_data.nc>`\n\n\n"
      ]
    },
    {
      "cell_type": "code",
      "execution_count": null,
      "metadata": {
        "collapsed": false
      },
      "outputs": [],
      "source": [
        "mjo_data = xr.open_dataset(\"mjo_data.nc\").rename({\"T\": \"time\"})\nmjo_data"
      ]
    },
    {
      "cell_type": "markdown",
      "metadata": {},
      "source": [
        "Draw MJO Phase Space Trajectory Diagram\n\n"
      ]
    },
    {
      "cell_type": "code",
      "execution_count": null,
      "metadata": {
        "collapsed": false
      },
      "outputs": [],
      "source": [
        "fig, ax = plt.subplots(figsize = (7.5, 7.5))\n\necl.field.equatorial_wave.draw_mjo_phase_space_basemap()\necl.field.equatorial_wave.draw_mjo_phase_space(\n    mjo_data = mjo_data.sel(time = slice('2024-12-01', '2024-12-31')),\n    rmm1_dim = \"RMM1\",\n    rmm2_dim = \"RMM2\",\n    time_dim = \"time\"\n)"
      ]
    }
  ],
  "metadata": {
    "kernelspec": {
      "display_name": "Python 3",
      "language": "python",
      "name": "python3"
    },
    "language_info": {
      "codemirror_mode": {
        "name": "ipython",
        "version": 3
      },
      "file_extension": ".py",
      "mimetype": "text/x-python",
      "name": "python",
      "nbconvert_exporter": "python",
      "pygments_lexer": "ipython3",
      "version": "3.11.11"
    }
  },
  "nbformat": 4,
  "nbformat_minor": 0
}
