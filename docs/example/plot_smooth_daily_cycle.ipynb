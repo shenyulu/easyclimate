{
  "cells": [
    {
      "cell_type": "markdown",
      "metadata": {},
      "source": [
        "\n\n# Smooth Mean Daily Annual Cycle\n\nCalculates a smooth mean daily annual cycle.\n\n.. seealso::\n\n    https://www.ncl.ucar.edu/Document/Functions/Contributed/smthClmDayTLL.shtml\n\nBefore proceeding with all the steps, first import some necessary libraries and packages\n"
      ]
    },
    {
      "cell_type": "code",
      "execution_count": null,
      "metadata": {
        "collapsed": false
      },
      "outputs": [],
      "source": [
        "import xarray as xr\nimport easyclimate as ecl\nimport matplotlib.pyplot as plt"
      ]
    },
    {
      "cell_type": "markdown",
      "metadata": {},
      "source": [
        "Preprocessed data\n\n\n.. tip::\n\n  You can download following datasets here:\n\n  - :download:`Download olr-daily_v01r02_19800101_20231231.nc (3.34 GB) <https://huggingface.co/datasets/shenyulu/easyclimate/resolve/main/tutorial_data/olr-daily_v01r02_19800101_20231231.nc>`\n  - :download:`Download olr_daily_annual_cycle_mean.nc <https://raw.githubusercontent.com/shenyulu/easyclimate/refs/heads/main/docs/source/dynamic_docs/olr_daily_annual_cycle_mean.nc>`\n\n\n```python\nlats, latn = -20, 20\n\nolr_data = xr.open_dataset('olr-daily_v01r02_19800101_20231231.nc', chunks='auto').sel(lat=slice(lats,latn)).olr\nolr_data_daily_annual_cycle_mean = ecl.calc_daily_annual_cycle_mean(olr_data).thin(lat = 2, lon = 5).compute()\n\nolr_data_daily_annual_cycle_mean = ecl.utility.get_compress_xarraydata(olr_data_daily_annual_cycle_mean)\nolr_data_daily_annual_cycle_mean.to_netcdf(\"olr_daily_annual_cycle_mean.nc\")\n```\nHere, we directly load the data of mean daily annual cycle for outgoing longwave radiation (OLR).\n\n\n"
      ]
    },
    {
      "cell_type": "code",
      "execution_count": null,
      "metadata": {
        "collapsed": false
      },
      "outputs": [],
      "source": [
        "olr_data_daily_annual_cycle_mean = xr.open_dataset(\"olr_daily_annual_cycle_mean.nc\").olr\nolr_data_daily_annual_cycle_mean"
      ]
    },
    {
      "cell_type": "markdown",
      "metadata": {},
      "source": [
        "Simply do a regional average for the tropics\n\n"
      ]
    },
    {
      "cell_type": "code",
      "execution_count": null,
      "metadata": {
        "collapsed": false
      },
      "outputs": [],
      "source": [
        "olr_data_ave = olr_data_daily_annual_cycle_mean.mean(dim = (\"lon\", \"lat\"))\nolr_data_ave.plot()"
      ]
    },
    {
      "cell_type": "markdown",
      "metadata": {},
      "source": [
        "By removing excess noise in the mean daily annual cycle through the way of :py:func:`easyclimate.smooth_daily_annual_cycle <easyclimate.smooth_daily_annual_cycle>`, we can plot the following:\n\n"
      ]
    },
    {
      "cell_type": "code",
      "execution_count": null,
      "metadata": {
        "collapsed": false
      },
      "outputs": [],
      "source": [
        "olr_data_ave_smoothed = ecl.smooth_daily_annual_cycle(olr_data_daily_annual_cycle_mean).mean(dim = (\"lon\", \"lat\"))\n\nolr_data_ave.plot(label = \"Daily annual cycle mean\")\nolr_data_ave_smoothed.plot(label = \"Smoothed daily annual cycle mean\")\nplt.legend()"
      ]
    }
  ],
  "metadata": {
    "kernelspec": {
      "display_name": "Python 3",
      "language": "python",
      "name": "python3"
    },
    "language_info": {
      "codemirror_mode": {
        "name": "ipython",
        "version": 3
      },
      "file_extension": ".py",
      "mimetype": "text/x-python",
      "name": "python",
      "nbconvert_exporter": "python",
      "pygments_lexer": "ipython3",
      "version": "3.11.11"
    }
  },
  "nbformat": 4,
  "nbformat_minor": 0
}
