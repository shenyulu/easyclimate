{
  "cells": [
    {
      "cell_type": "markdown",
      "metadata": {},
      "source": [
        "\n# EOF Analysis of Multiple Variables\n\nBefore proceeding with all the steps, first import some necessary libraries and packages\n"
      ]
    },
    {
      "cell_type": "code",
      "execution_count": null,
      "metadata": {
        "collapsed": false
      },
      "outputs": [],
      "source": [
        "import xarray as xr\nimport matplotlib.pyplot as plt\nimport cartopy.crs as ccrs\nimport easyclimate as ecl"
      ]
    },
    {
      "cell_type": "markdown",
      "metadata": {},
      "source": [
        "Load and preprocess ERA5 reanalysis data (1982-2022 850hPa wind and total precipitation),\ninvolving vertical level selection, unit conversion (``m/day`` to ``mm/day``),\nand Dask lazy loading for memory optimization.\n\n```python\nu500_data = xr.open_dataset(\"u850_ERA5_1982-2022_N80.nc\", chunks=\"auto\").u.sel(level = 850).drop_vars(\"level\")\nv500_data = xr.open_dataset(\"v850_ERA5_1982-2022_N80.nc\", chunks=\"auto\").v.sel(level = 850).drop_vars(\"level\")\ntp_data = xr.open_dataset(\"tp_ERA5_1982-2022_N80.nc\", chunks=\"auto\").tp * 1000\n```\n.. tip::\n\n  You can download following datasets here:\n\n  - :download:`Download u850_ERA5_1982-2022_N80.nc <https://huggingface.co/datasets/shenyulu/easyclimate/resolve/main/tutorial_data/u850_ERA5_1982-2022_N80.nc>`\n  - :download:`Download v850_ERA5_1982-2022_N80.nc <https://huggingface.co/datasets/shenyulu/easyclimate/resolve/main/tutorial_data/v850_ERA5_1982-2022_N80.nc>`\n  - :download:`Download tp_ERA5_1982-2022_N80.nc <https://huggingface.co/datasets/shenyulu/easyclimate/resolve/main/tutorial_data/tp_ERA5_1982-2022_N80.nc>`\n  - :download:`Download meof_analysis_result.zarr.zip <https://huggingface.co/datasets/shenyulu/easyclimate/resolve/main/tutorial_data/meof_analysis_result.zarr.zip>`\n\n\nSpatially subset data to focus on East Asia (100\u00b0E\u2013160\u00b0E, 10\u00b0N\u201360\u00b0N) and sort latitude\nascendingly to ensure consistent indexing and plotting.\n\n\n.. seealso::\n\n   - Wu Bingyi, Zhang Renhe. 2011: Interannual variability of the East Asian summer monsoon and its association with the anomalous atmospheric circulation over the mid-high latitudes and external forcing. Acta Meteorologica Sinica (Chinese), (2): 219-233. http://qxxb.cmsjournal.net/article/doi/10.11676/qxxb2011.019\n   - \u6b66\u70b3\u4e49, \u5f20\u4eba\u79be. 2011: \u4e1c\u4e9a\u590f\u5b63\u98ce\u5e74\u9645\u53d8\u7387\u53ca\u5176\u4e0e\u4e2d\u3001\u9ad8\u7eac\u5ea6\u5927\u6c14\u73af\u6d41\u4ee5\u53ca\u5916\u5f3a\u8feb\u5f02\u5e38\u7684\u8054\u7cfb. \u6c14\u8c61\u5b66\u62a5, (2): 219-233. DOI: https://dx.doi.org/10.11676/qxxb2011.019\n\n```python\nu500_data_EA = u500_data.sortby(\"lat\").sel(lon = slice(100, 160), lat = slice(10, 60))\nv500_data_EA = v500_data.sortby(\"lat\").sel(lon = slice(100, 160), lat = slice(10, 60))\ntp_data_EA = tp_data.sortby(\"lat\").sel(lon = slice(100, 160), lat = slice(10, 60))\n```\nInitialize a multivariate EOF (MEOF) model with cosine-of-latitude weighting\nand seasonal cycle removal to jointly analyze wind-precipitation covariability.\n\n```python\nmodel = ecl.eof.get_EOF_model(\n    [u500_data_EA, v500_data_EA, tp_data_EA],\n    lat_dim = 'lat', lon_dim = 'lon',\n    remove_seasonal_cycle_mean = True, use_coslat = True\n)\n```\nExecute EOF decomposition to compute spatial patterns, principal components,\nand explained variance, saving results in Zarr format for efficient persistence and reuse.\n\n```python\nmeof_analysis_result = ecl.eof.calc_EOF_analysis(model)\nmeof_analysis_result.to_zarr(\"meof_analysis_result.zarr\")\n```\nHere, we load the saved dataset.\n\n"
      ]
    },
    {
      "cell_type": "code",
      "execution_count": null,
      "metadata": {
        "collapsed": false
      },
      "outputs": [],
      "source": [
        "meof_analysis_result = ecl.open_datanode(\"./meof_analysis_result.zarr\")\nmeof_analysis_result"
      ]
    },
    {
      "cell_type": "markdown",
      "metadata": {},
      "source": [
        "Extract and downsample (every 3rd grid point) EOF spatial patterns (precipitation and winds) for the first four modes to prepare visualized data.\n\n"
      ]
    },
    {
      "cell_type": "code",
      "execution_count": null,
      "metadata": {
        "collapsed": false
      },
      "outputs": [],
      "source": [
        "mode_num = 1\ntp_draw_mode1 = meof_analysis_result[\"EOF/var2\"].sel(mode = mode_num)[\"components\"] *(-1)\nu_draw = meof_analysis_result[\"EOF/var0\"].sel(mode = mode_num)[\"components\"]\nv_draw = meof_analysis_result[\"EOF/var1\"].sel(mode = mode_num)[\"components\"]\nuv_draw_mode1 = xr.Dataset(data_vars={\"u\": u_draw, \"v\": v_draw}).thin(lon = 3, lat = 3) *(-1)\n\n#\nmode_num = 2\ntp_draw_mode2 = meof_analysis_result[\"EOF/var2\"].sel(mode = mode_num)[\"components\"]\nu_draw = meof_analysis_result[\"EOF/var0\"].sel(mode = mode_num)[\"components\"]\nv_draw = meof_analysis_result[\"EOF/var1\"].sel(mode = mode_num)[\"components\"]\nuv_draw_mode2 = xr.Dataset(data_vars={\"u\": u_draw, \"v\": v_draw}).thin(lon = 3, lat = 3)\n\n#\nmode_num = 3\n\ntp_draw_mode3 = meof_analysis_result[\"EOF/var2\"].sel(mode = mode_num)[\"components\"]\nu_draw = meof_analysis_result[\"EOF/var0\"].sel(mode = mode_num)[\"components\"]\nv_draw = meof_analysis_result[\"EOF/var1\"].sel(mode = mode_num)[\"components\"]\nuv_draw_mode3 = xr.Dataset(data_vars={\"u\": u_draw, \"v\": v_draw}).thin(lon = 3, lat = 3)\n\n#\nmode_num = 4\ntp_draw_mode4 = meof_analysis_result[\"EOF/var2\"].sel(mode = mode_num)[\"components\"]\nu_draw = meof_analysis_result[\"EOF/var0\"].sel(mode = mode_num)[\"components\"]\nv_draw = meof_analysis_result[\"EOF/var1\"].sel(mode = mode_num)[\"components\"]\nuv_draw_mode4 = xr.Dataset(data_vars={\"u\": u_draw, \"v\": v_draw}).thin(lon = 3, lat = 3)"
      ]
    },
    {
      "cell_type": "markdown",
      "metadata": {},
      "source": [
        "Visualize the first four MEOF modes using contourf (precipitation) and quiver (downsampled winds) on a ``PlateCarree`` projection,\nwith geographic context (coastlines, gridlines) for wind-precipitation covariability analysis.\n\n"
      ]
    },
    {
      "cell_type": "code",
      "execution_count": null,
      "metadata": {
        "collapsed": false
      },
      "outputs": [],
      "source": [
        "proj = ccrs.PlateCarree(central_longitude = 200)\nproj_trans = ccrs.PlateCarree()\n\nfig, ax = plt.subplots(2, 2, figsize = (10, 7), subplot_kw={\"projection\": proj})\n\n#\naxi = ax[0, 0]\nfg1 = tp_draw_mode1.plot.contourf(\n    ax = axi,\n    levels = 21,\n    transform = proj_trans,\n    add_colorbar = False\n)\ncb1 = fig.colorbar(fg1, ax = axi, location = 'bottom', aspect = 50, pad = 0.1, extendrect = True)\ncb1.set_label('')\ncb1.formatter.set_powerlimits((0, 0))\ncb1.formatter.set_useMathText(True)\n\nuv_draw_mode1.plot.quiver(\n    ax = axi,\n    x = \"lon\", y = \"lat\", u = \"u\", v = \"v\",\n    transform = proj_trans,\n)\n\n#\naxi = ax[0, 1]\nfg2 = tp_draw_mode2.plot.contourf(\n    ax = axi,\n    levels = 21,\n    transform = proj_trans,\n    add_colorbar = False\n)\ncb2 = fig.colorbar(fg2, ax = axi, location = 'bottom', aspect = 50, pad = 0.1, extendrect = True)\ncb2.set_label('')\ncb2.formatter.set_powerlimits((0, 0))\ncb2.formatter.set_useMathText(True)\n\nuv_draw_mode2.plot.quiver(\n    ax = axi,\n    x = \"lon\", y = \"lat\", u = \"u\", v = \"v\",\n    transform = proj_trans,\n)\n\n#\naxi = ax[1, 0]\nfg3 = tp_draw_mode3.plot.contourf(\n    ax = axi,\n    levels = 21,\n    transform = proj_trans,\n    add_colorbar = False\n)\ncb3 = fig.colorbar(fg3, ax = axi, location = 'bottom', aspect = 50, pad = 0.1, extendrect = True)\ncb3.set_label('')\ncb3.formatter.set_powerlimits((0, 0))\ncb3.formatter.set_useMathText(True)\n\nuv_draw_mode3.plot.quiver(\n    ax = axi,\n    x = \"lon\", y = \"lat\", u = \"u\", v = \"v\",\n    transform = proj_trans,\n)\n\n#\naxi = ax[1, 1]\nfg4 = tp_draw_mode4.plot.contourf(\n    ax = axi,\n    levels = 21,\n    transform = proj_trans,\n    add_colorbar = False\n)\ncb4 = fig.colorbar(fg4, ax = axi, location = 'bottom', aspect = 50, pad = 0.1, extendrect = True)\ncb4.set_label('')\ncb4.formatter.set_powerlimits((0, 0))\ncb4.formatter.set_useMathText(True)\n\nuv_draw_mode4.plot.quiver(\n    ax = axi,\n    x = \"lon\", y = \"lat\", u = \"u\", v = \"v\",\n    transform = proj_trans,\n)\n\nfor axi in ax.flat:\n    axi.coastlines()\n    axi.gridlines(draw_labels=[\"left\", \"bottom\"], color=\"grey\", alpha=0.5, linestyle=\"--\")"
      ]
    }
  ],
  "metadata": {
    "kernelspec": {
      "display_name": "Python 3",
      "language": "python",
      "name": "python3"
    },
    "language_info": {
      "codemirror_mode": {
        "name": "ipython",
        "version": 3
      },
      "file_extension": ".py",
      "mimetype": "text/x-python",
      "name": "python",
      "nbconvert_exporter": "python",
      "pygments_lexer": "ipython3",
      "version": "3.11.11"
    }
  },
  "nbformat": 4,
  "nbformat_minor": 0
}
