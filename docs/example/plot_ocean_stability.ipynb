{
  "cells": [
    {
      "cell_type": "markdown",
      "metadata": {},
      "source": [
        "\n# Ocean Instability\n\nOcean instability refers to the tendency of the water column to undergo vertical mixing or perturbation growth due to density stratification,\na critical process governing ocean dynamics, heat/salt transport, and biogeochemical cycling.\n\nAt its core, instability arises from vertical gradients in seawater density ($\\rho$), primarily driven by temperature (T) and salinity (S) variations.\nStable stratification (where density increases with depth) suppresses vertical motion, while unstable conditions (density decreasing with depth)\npromote convective overturning. Quantifying this stability is central to understanding ocean circulation, mixed layer dynamics, and climate feedbacks.\n\nKey metrics include:\n\n- Brunt-V\u00e4is\u00e4l\u00e4 Frequency Squared ($N^2$): Defined as $N^2= -\\frac{g}{\\rho_0} \\frac{\\partial \\rho}{\\partial z}$ (where $g$ is gravitational acceleration, $\\rho_0$ is reference density, and $z$ is depth), $N^2$ quantifies stratification strength. Positive $N^2$ indicates stable stratification (larger values = stronger stability), while $N^2 < 0$ signals convective instability.\n- Potential Density ($\\rho_0$): The density of a water parcel if adiabatically brought to a reference pressure (typically surface pressure, $p=0$ dbar). It isolates density variations due to T/S from pressure effects, enabling comparison of water masses across depths.\n\nModern oceanographic analysis leverages TEOS-10 (Thermodynamic Equation of Seawater 2010) for accurate computation of these properties,\nensuring consistency with global standards. This notebook demonstrates workflows to calculate $N^2$ and potential density from observational reanalysis data,\nand visualize their spatial/vertical patterns to diagnose ocean instability regimes.\n\n.. seealso::\n\n    - http://www.teos-10.org/pubs/gsw/html/gsw_Nsquared.html\n    - http://www.teos-10.org/pubs/gsw/html/gsw_contents.html\n    - Pawlowicz, R. (2013) Key Physical Variables in the Ocean: Temperature, Salinity, and Density. Nature Education Knowledge 4(4):13. https://www.nature.com/scitable/knowledge/library/key-physical-variables-in-the-ocean-temperature-102805293\n\nBefore proceeding with all the steps, first import some necessary libraries and packages\n"
      ]
    },
    {
      "cell_type": "code",
      "execution_count": null,
      "metadata": {
        "collapsed": false
      },
      "outputs": [],
      "source": [
        "import numpy as np\nimport xarray as xr\nimport easyclimate as ecl\nimport matplotlib.pyplot as plt"
      ]
    },
    {
      "cell_type": "markdown",
      "metadata": {},
      "source": [
        "Here, we import SODA 3.4.2 reanalysis data (ocean temperature and salinity) for 2020.\nThe depth dimension ``\"st_ocean\"`` is renamed to ``\"depth\"`` for consistency, and a single time slice ``(time=5)`` is selected.\nThese datasets serve as fundamental inputs for calculating ocean stratification metrics.\n\n```python\ntemp_data = xr.open_dataset(\"temp_soda3.4.2_mn_ocean_reg_2020_EN4.nc\").temp.rename({\"st_ocean\":\"depth\"}).isel(time = 5)\nsalt_data = xr.open_dataset(\"salt_soda3.4.2_mn_ocean_reg_2020_EN4.nc\").salt.rename({\"st_ocean\":\"depth\"}).isel(time = 5)\n```\n"
      ]
    },
    {
      "cell_type": "markdown",
      "metadata": {},
      "source": [
        "And we also load the mixed-layer depth data.\n\n"
      ]
    },
    {
      "cell_type": "code",
      "execution_count": null,
      "metadata": {
        "collapsed": false
      },
      "outputs": [],
      "source": [
        "mld_data = xr.open_dataset(\"mlp_soda3.4.2_mn_ocean_reg_2020_EN4.nc\").mlp.isel(time = 5)\nmld_data"
      ]
    },
    {
      "cell_type": "markdown",
      "metadata": {},
      "source": [
        ".. tip::\n\n  You can download following datasets here:\n\n  - :download:`Download temp_soda3.4.2_mn_ocean_reg_2020_EN4.nc <https://huggingface.co/datasets/shenyulu/easyclimate/resolve/main/tutorial_data/temp_soda3.4.2_mn_ocean_reg_2020_EN4.nc>`\n  - :download:`Download salt_soda3.4.2_mn_ocean_reg_2020_EN4.nc <https://huggingface.co/datasets/shenyulu/easyclimate/resolve/main/tutorial_data/salt_soda3.4.2_mn_ocean_reg_2020_EN4.nc>`\n  - :download:`Download mlp_soda3.4.2_mn_ocean_reg_2020_EN4.nc <https://huggingface.co/datasets/shenyulu/easyclimate/resolve/main/tutorial_data/mlp_soda3.4.2_mn_ocean_reg_2020_EN4.nc>`\n\n<div class=\"alert alert-danger\"><h4>Warning</h4><p>- Here we are using only the [SODA](https://www2.atmos.umd.edu/~ocean/)_ 3.4.2 reanalysis data during 2024.\n    - **Citation**: Carton, J. A., Chepurin, G. A., & Chen, L. (2018). SODA3: A New Ocean Climate Reanalysis. Journal of Climate, 31(17), 6967-6983. https://doi.org/10.1175/JCLI-D-18-0149.1</p></div>\n\nThe $N^2$ quantifies stratification stability (positive values indicate stable stratification; higher magnitudes imply stronger stability).\nPotential density (prho) is the density of a water parcel brought adiabatically to a reference pressure (here, surface pressure), critical for identifying water mass characteristics.\nUsing :py:func:`easyclimate.field.ocean.calc_N2_from_temp_salt <easyclimate.field.ocean.calc_N2_from_temp_salt>` and\n:py:func:`easyclimate.field.ocean.calc_potential_density_from_temp_salt <easyclimate.field.ocean.calc_potential_density_from_temp_salt>`,\nthese functions leverage TEOS-10 (Thermodynamic Equation of Seawater 2010) for accurate seawater property calculations.\nResults are saved to NetCDF files for persistent storage and downstream analysis.\n\n\n```python\nN2_data = ecl.field.ocean.calc_N2_from_temp_salt(\n    seawater_temperature_data = temp_data,\n    seawater_practical_salinity_data = salt_data,\n    time_dim = None\n).N2.to_netcdf(\"sample_N2_data.nc\")\n\nprho_data = ecl.field.ocean.calc_potential_density_from_temp_salt(\n    seawater_temperature_data = temp_data,\n    seawater_practical_salinity_data = salt_data,\n    time_dim = None\n).prho.to_netcdf(\"sample_prho_data.nc\")\n```\n"
      ]
    },
    {
      "cell_type": "markdown",
      "metadata": {},
      "source": [
        "This step verifies data integrity post-save and prepares $N^2$ for visualization/analysis.\nThe `xr.open_dataarray` function ensures proper reconstruction of the labeled multi-dimensional array with metadata.\n\n"
      ]
    },
    {
      "cell_type": "code",
      "execution_count": null,
      "metadata": {
        "collapsed": false
      },
      "outputs": [],
      "source": [
        "N2_data = xr.open_dataarray(\"sample_N2_data.nc\")\nN2_data"
      ]
    },
    {
      "cell_type": "markdown",
      "metadata": {},
      "source": [
        "Similar to $N^2$ reloading, this step confirms successful storage and readback of potential density data,\nenabling subsequent spatial and vertical analysis of water mass structure.\n\n"
      ]
    },
    {
      "cell_type": "code",
      "execution_count": null,
      "metadata": {
        "collapsed": false
      },
      "outputs": [],
      "source": [
        "prho_data = xr.open_dataarray(\"sample_prho_data.nc\")\nprho_data"
      ]
    },
    {
      "cell_type": "markdown",
      "metadata": {},
      "source": [
        "Using :py:func:`easyclimate.plot.quick_draw_spatial_basemap <easyclimate.plot.quick_draw_spatial_basemap>` for a pre-configured geographic basemap,\nthe plot employs contourf to show $N^2$ magnitude, with vmax set to $5 \\times 10^{-4}$ to focus on typical upper-ocean values.\nThe colorbar is positioned at the bottom for readability. This figure highlights spatial patterns of upper-ocean stratification,\nwith higher $N^2$ indicating stronger stability (e.g., tropical warm pools vs. mid-latitude mixed layers).\n\n"
      ]
    },
    {
      "cell_type": "code",
      "execution_count": null,
      "metadata": {
        "collapsed": false
      },
      "outputs": [],
      "source": [
        "fig, ax = ecl.plot.quick_draw_spatial_basemap()\n\nN2_data.sel(depth = slice(0, 100)).mean(dim = \"depth\").plot.contourf(\n    vmax = 5 *10**(-4),\n    levels = 21,\n    cbar_kwargs = {'location': 'bottom'},\n)\nax.set_title(\"$N^2$ (Depth Avg. from 0 to 100m)\")"
      ]
    },
    {
      "cell_type": "markdown",
      "metadata": {},
      "source": [
        "The plot focuses on the upper 300m to resolve the pycnocline (primary stratification layer).\n``yincrease=False`` flips the y-axis to show depth increasing downward (oceanographic convention).\n:py:func:`easyclimate.plot.set_lon_format_axis <easyclimate.plot.set_lon_format_axis>`  formats longitude geographic labels for clarity.\nThis visualization reveals vertical and zonal variations in stratification,\nsuch as enhanced stability in the equatorial thermocline or vertical mixing hotspots.\n\n"
      ]
    },
    {
      "cell_type": "code",
      "execution_count": null,
      "metadata": {
        "collapsed": false
      },
      "outputs": [],
      "source": [
        "fig, ax = plt.subplots(figsize = (10, 4))\n\nN2_data.sel(lat = slice(-30, 30), depth = slice(0, 300)).mean(\"lat\").plot.contourf(\n    ax = ax,\n    x = 'lon', y = 'depth',\n    levels = np.linspace(-8e-4, 8e-4, 21),\n    yincrease = False\n)\n\n# Mixed-layer\nmld_data.sel(lat = slice(-30, 30)).mean(\"lat\").plot(color = \"k\")\n\necl.plot.set_lon_format_axis(ax = ax)\nax.set_title(\"$N^2$ (Brunt-Vaisala Frequency squared)\")"
      ]
    },
    {
      "cell_type": "markdown",
      "metadata": {},
      "source": [
        "Similar to the $N^2$ plot, this visualization uses contourf to display density structure, with ``yincrease=False`` for depth convention.\nPotential density increases with depth (due to cooling/salting), and horizontal gradients indicate geostrophic currents.\nComparing with $N^2$ highlights the link between density stratification (prho vertical gradient) and stability ($N^2 \\ \\propto \\  \\frac{\\partial \\mathrm{prho}}{\\partial z}$).\n\n"
      ]
    },
    {
      "cell_type": "code",
      "execution_count": null,
      "metadata": {
        "collapsed": false
      },
      "outputs": [],
      "source": [
        "fig, ax = plt.subplots(figsize = (10, 4))\n\nprho_data.sel(lat = slice(-30, 30), depth = slice(0, 300)).mean(\"lat\").plot.contourf(\n    ax = ax,\n    x = 'lon', y = 'depth',\n    levels = 21,\n    yincrease = False\n)\n\n# Mixed-layer\nmld_data.sel(lat = slice(-30, 30)).mean(\"lat\").plot(color = \"k\")\n\necl.plot.set_lon_format_axis(ax = ax)\nax.set_title(\"$\\\\rho_0$\")"
      ]
    }
  ],
  "metadata": {
    "kernelspec": {
      "display_name": "Python 3",
      "language": "python",
      "name": "python3"
    },
    "language_info": {
      "codemirror_mode": {
        "name": "ipython",
        "version": 3
      },
      "file_extension": ".py",
      "mimetype": "text/x-python",
      "name": "python",
      "nbconvert_exporter": "python",
      "pygments_lexer": "ipython3",
      "version": "3.11.11"
    }
  },
  "nbformat": 4,
  "nbformat_minor": 0
}
