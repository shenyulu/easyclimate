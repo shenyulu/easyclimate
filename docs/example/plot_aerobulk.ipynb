{
  "cells": [
    {
      "cell_type": "markdown",
      "metadata": {},
      "source": [
        "\n# Estimate Turbulent Air-sea Fluxes\n\n**AeroBulk** is a FORTRAN90-based library and suite of tools that feature *state of the art* parameterizations to estimate turbulent air-sea fluxes by means of the traditional **aerodynamic bulk formulae**.\n\nThese turbulent fluxes, namely, wind stress, evaporation (latent heat flux) and sensible heat flux,\nare estimated using the sea surface temperature (bulk or skin), and the near-surface atmospheric surface state: wind speed,\nair temperature and humidity. If the *cool-skin/warm-layer* schemes need to be called to estimate the skin temperature,\nsurface downwelling shortwave and longwave radiative fluxes are required.\n\n.. seealso::\n\n    - https://github.com/brodeau/aerobulk\n    - https://github.com/xgcm/aerobulk-python\n    - https://ams.confex.com/ams/103ANNUAL/meetingapp.cgi/Session/63444\n\n\nBefore proceeding with all the steps, first import some necessary libraries and packages\n"
      ]
    },
    {
      "cell_type": "code",
      "execution_count": null,
      "metadata": {
        "collapsed": false
      },
      "outputs": [],
      "source": [
        "import xarray as xr\nimport cartopy.crs as ccrs\nimport matplotlib.pyplot as plt\nimport easyclimate as ecl"
      ]
    },
    {
      "cell_type": "markdown",
      "metadata": {},
      "source": [
        "Load the NetCDF sample ERA5 dataset containing near-surface atmospheric variables (e.g., 2m temperature, dewpoint temperature,\n10m wind components, mean sea level pressure) and sea surface temperature (SST),\nand display its metadata structure to verify the dimensions and attributes of input variables.\n\n"
      ]
    },
    {
      "cell_type": "code",
      "execution_count": null,
      "metadata": {
        "collapsed": false
      },
      "outputs": [],
      "source": [
        "sample_data = xr.open_dataset(\"sample_data_N20.nc\")\nsample_data"
      ]
    },
    {
      "cell_type": "markdown",
      "metadata": {},
      "source": [
        "Convert 2m dewpoint temperature (d2m) and mean sea level pressure (msl) data to near-surface specific humidity (q)\nusing :py:func:`easyclimate.physics.transfer_dewpoint_2_specific_humidity <easyclimate.physics.transfer_dewpoint_2_specific_humidity>`,\nleveraging thermodynamic relationships;\nthis specific humidity is a critical humidity parameter for calculating turbulent heat fluxes (latent heat flux).\n\n"
      ]
    },
    {
      "cell_type": "code",
      "execution_count": null,
      "metadata": {
        "collapsed": false
      },
      "outputs": [],
      "source": [
        "q_data = ecl.physics.transfer_dewpoint_2_specific_humidity(\n    dewpoint_data = sample_data.d2m,\n    pressure_data = sample_data.msl,\n    dewpoint_data_units = \"K\",\n    pressure_data_units = \"Pa\"\n)\nq_data"
      ]
    },
    {
      "cell_type": "markdown",
      "metadata": {},
      "source": [
        "Compute turbulent air-sea fluxes without sea surface skin temperature correction using :py:func:`easyclimate.field.boundary_layer.calc_turbulent_fluxes_without_skin_correction <easyclimate.field.boundary_layer.calc_turbulent_fluxes_without_skin_correction>`\n(employing the NCAR parameterization scheme). Inputs include SST, 2m air temperature,\nspecific humidity, 10m wind components, and mean sea level pressure, yielding outputs of latent heat flux (ql),\nsensible heat flux (qh), wind stress components (taux, tauy), and evaporation (evap) as an xarray ``Dataset``.\n\n"
      ]
    },
    {
      "cell_type": "code",
      "execution_count": null,
      "metadata": {
        "collapsed": false
      },
      "outputs": [],
      "source": [
        "flux_no_skin = ecl.field.boundary_layer.calc_turbulent_fluxes_without_skin_correction(\n    sst_data = sample_data.sst,\n    sst_data_units = 'K',\n    absolute_temperature_data = sample_data.t2m,\n    absolute_temperature_data_units = 'degK',\n    specific_humidity_data = q_data,\n    specific_humidity_data_units = 'g/g',\n    zonal_wind_speed_data = sample_data.u10,\n    meridional_wind_speed_data = sample_data.v10,\n    mean_sea_level_pressure_data = sample_data.msl,\n    mean_sea_level_pressure_data_units = 'Pa',\n    algorithm = 'ncar',\n)\nflux_no_skin"
      ]
    },
    {
      "cell_type": "markdown",
      "metadata": {},
      "source": [
        "Visualize the turbulent flux results without skin correction using Cartopy and Matplotlib.\nA 2x2 subplot layout displays the initial time-step latent heat flux (filled contour),\nsensible heat flux (filled contour), wind stress vectors (Quiver plot),\nand evaporation (filled contour).\nThe Plate Carr\u00e9e projection is applied with coastlines and gridlines to enhance geographic referencing.\n\n"
      ]
    },
    {
      "cell_type": "code",
      "execution_count": null,
      "metadata": {
        "collapsed": false
      },
      "outputs": [],
      "source": [
        "proj = ccrs.PlateCarree(central_longitude = 200)\nproj_trans = ccrs.PlateCarree()\n\nfig, ax = plt.subplots(2, 2, figsize = (10, 7), subplot_kw={\"projection\": proj})\n\n# -----------------------------------------------\naxi = ax[0, 0]\n\ndraw_data = flux_no_skin[\"ql\"].isel(time = 0)\ndraw_data.plot.contourf(\n    ax = axi, vmax = 600, levels = 21,\n    transform = proj_trans,\n    cbar_kwargs={\"location\": \"bottom\", \"aspect\": 50, \"pad\" : 0.1}\n)\n\naxi.coastlines()\naxi.gridlines(draw_labels=[\"left\", \"bottom\"], color=\"grey\", alpha=0.5, linestyle=\"--\")\naxi.set_title(\"Latent Heat Flux\")\n\n# -----------------------------------------------\naxi = ax[0, 1]\n\ndraw_data = flux_no_skin[\"qh\"].isel(time = 0)\ndraw_data.plot.contourf(\n    ax = axi, vmax = 200, levels = 21,\n    transform = proj_trans,\n    cbar_kwargs={\"location\": \"bottom\", \"aspect\": 50, \"pad\" : 0.1}\n)\n\naxi.coastlines()\naxi.gridlines(draw_labels=[\"left\", \"bottom\"], color=\"grey\", alpha=0.5, linestyle=\"--\")\naxi.set_title(\"Sensible Heat Flux\")\n\n# -----------------------------------------------\naxi = ax[1, 0]\n\ndraw_data = flux_no_skin[[\"taux\", \"tauy\"]].isel(time = 0)\ndraw_data.plot.quiver(\n    x = \"lon\", y = \"lat\", u = \"taux\", v = \"tauy\",\n    transform = proj_trans, ax = axi,\n)\n\naxi.coastlines()\naxi.gridlines(draw_labels=[\"left\", \"bottom\"], color=\"grey\", alpha=0.5, linestyle=\"--\")\naxi.set_title(\"Zonal/Meridional wind stress\")\n\n# -----------------------------------------------\naxi = ax[1, 1]\n\ndraw_data = flux_no_skin[\"evap\"].isel(time = 0)\ndraw_data.plot.contourf(\n    ax = axi, vmax = 0.0002, levels = 21,\n    transform = proj_trans,\n    cbar_kwargs={\"location\": \"bottom\", \"aspect\": 50, \"pad\" : 0.1}\n)\n\naxi.coastlines()\naxi.gridlines(draw_labels=[\"left\", \"bottom\"], color=\"grey\", alpha=0.5, linestyle=\"--\")\naxi.set_title(\"Evaporation\")\n\n# -----------------------------------------------\nfig.suptitle(\"Flux no skin\", size = 20)"
      ]
    },
    {
      "cell_type": "markdown",
      "metadata": {},
      "source": [
        "Compute turbulent air-sea fluxes with sea surface skin temperature correction using :py:func:`easyclimate.field.boundary_layer.calc_turbulent_fluxes_skin_correction <easyclimate.field.boundary_layer.calc_turbulent_fluxes_skin_correction>`\n(utilizing the COARE3.0 parameterization scheme). In addition to base inputs,\ntime-normalized (divided by 3600 seconds) downwelling shortwave and longwave radiation fluxes (converted to $\\mathrm{W/m^2}$)\nare included to account for sea surface skin temperature effects, yielding an xarray Dataset of corrected fluxes.\n\n\n<div class=\"alert alert-danger\"><h4>Warning</h4><p>For the ERA5 reanalysis, the processing period is over the 1 hour ending at the validity date and time.\n    To convert to watts per square metre ( $\\mathrm{W/m^2}$ ),\n    the accumulated values should be divided by the accumulation period expressed in seconds.</p></div>\n\n\n\n"
      ]
    },
    {
      "cell_type": "code",
      "execution_count": null,
      "metadata": {
        "collapsed": false
      },
      "outputs": [],
      "source": [
        "flux_skin = ecl.field.boundary_layer.calc_turbulent_fluxes_skin_correction(\n    sst_data = sample_data.sst,\n    sst_data_units = 'K',\n    absolute_temperature_data = sample_data.t2m,\n    absolute_temperature_data_units = 'degK',\n    specific_humidity_data = q_data,\n    specific_humidity_data_units = 'g/g',\n    zonal_wind_speed_data = sample_data.u10,\n    meridional_wind_speed_data = sample_data.v10,\n    mean_sea_level_pressure_data = sample_data.msl,\n    mean_sea_level_pressure_data_units = 'Pa',\n    downwelling_shortwave_radiation = sample_data.ssrd/(3600),\n    downwelling_shortwave_radiation_units = \"W/m^2\",\n    downwelling_longwave_radiation = sample_data.ssrd/(3600),\n    downwelling_longwave_radiation_units = \"W/m^2\",\n    algorithm = 'coare3p0',\n)\nflux_skin"
      ]
    },
    {
      "cell_type": "markdown",
      "metadata": {},
      "source": [
        "Visualize the turbulent flux results with skin correction, maintaining the same 2x2 subplot\nlayout and visualization parameters (projection, contour ranges, coastlines, etc.)\nas the non-skin-corrected plots to facilitate direct comparison of the impacts of skin\ntemperature correction on latent heat flux, sensible heat flux, wind stress, and evaporation.\n\n\n"
      ]
    },
    {
      "cell_type": "code",
      "execution_count": null,
      "metadata": {
        "collapsed": false
      },
      "outputs": [],
      "source": [
        "proj = ccrs.PlateCarree(central_longitude = 200)\nproj_trans = ccrs.PlateCarree()\n\nfig, ax = plt.subplots(2, 2, figsize = (10, 7), subplot_kw={\"projection\": proj})\n\n# -----------------------------------------------\naxi = ax[0, 0]\n\ndraw_data = flux_skin[\"ql\"].isel(time = 0)\ndraw_data.plot.contourf(\n    ax = axi, vmax = 600, levels = 21,\n    transform = proj_trans,\n    cbar_kwargs={\"location\": \"bottom\", \"aspect\": 50, \"pad\" : 0.1}\n)\n\naxi.coastlines()\naxi.gridlines(draw_labels=[\"left\", \"bottom\"], color=\"grey\", alpha=0.5, linestyle=\"--\")\naxi.set_title(\"Latent Heat Flux\")\n\n# -----------------------------------------------\naxi = ax[0, 1]\n\ndraw_data = flux_skin[\"qh\"].isel(time = 0)\ndraw_data.plot.contourf(\n    ax = axi, vmax = 200, levels = 21,\n    transform = proj_trans,\n    cbar_kwargs={\"location\": \"bottom\", \"aspect\": 50, \"pad\" : 0.1}\n)\n\naxi.coastlines()\naxi.gridlines(draw_labels=[\"left\", \"bottom\"], color=\"grey\", alpha=0.5, linestyle=\"--\")\naxi.set_title(\"Sensible Heat Flux\")\n\n# -----------------------------------------------\naxi = ax[1, 0]\n\ndraw_data = flux_skin[[\"taux\", \"tauy\"]].isel(time = 0)\ndraw_data.plot.quiver(\n    x = \"lon\", y = \"lat\", u = \"taux\", v = \"tauy\",\n    transform = proj_trans, ax = axi,\n)\n\naxi.coastlines()\naxi.gridlines(draw_labels=[\"left\", \"bottom\"], color=\"grey\", alpha=0.5, linestyle=\"--\")\naxi.set_title(\"Zonal/Meridional wind stress\")\n\n# -----------------------------------------------\naxi = ax[1, 1]\n\ndraw_data = flux_skin[\"evap\"].isel(time = 0)\ndraw_data.plot.contourf(\n    ax = axi, vmax = 0.0002, levels = 21,\n    transform = proj_trans,\n    cbar_kwargs={\"location\": \"bottom\", \"aspect\": 50, \"pad\" : 0.1}\n)\n\naxi.coastlines()\naxi.gridlines(draw_labels=[\"left\", \"bottom\"], color=\"grey\", alpha=0.5, linestyle=\"--\")\naxi.set_title(\"Evaporation\")\n\n# -----------------------------------------------\nfig.suptitle(\"Flux skin\", size = 20)"
      ]
    }
  ],
  "metadata": {
    "kernelspec": {
      "display_name": "Python 3",
      "language": "python",
      "name": "python3"
    },
    "language_info": {
      "codemirror_mode": {
        "name": "ipython",
        "version": 3
      },
      "file_extension": ".py",
      "mimetype": "text/x-python",
      "name": "python",
      "nbconvert_exporter": "python",
      "pygments_lexer": "ipython3",
      "version": "3.12.11"
    }
  },
  "nbformat": 4,
  "nbformat_minor": 0
}
