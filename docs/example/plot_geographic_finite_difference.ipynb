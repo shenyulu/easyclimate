{
  "cells": [
    {
      "cell_type": "markdown",
      "metadata": {},
      "source": [
        "\n# Geographic Finite Difference\n\nBefore proceeding with all the steps, first import some necessary libraries and packages\n"
      ]
    },
    {
      "cell_type": "code",
      "execution_count": null,
      "metadata": {
        "collapsed": false
      },
      "outputs": [],
      "source": [
        "import easyclimate as ecl\nimport xarray as xr\nimport matplotlib.pyplot as plt\nimport cartopy.crs as ccrs"
      ]
    },
    {
      "cell_type": "markdown",
      "metadata": {},
      "source": [
        "Then consider obtaining meridional and zonal wind variables in tutorial data\n\n"
      ]
    },
    {
      "cell_type": "code",
      "execution_count": null,
      "metadata": {
        "collapsed": false
      },
      "outputs": [],
      "source": [
        "u_data = ecl.tutorial.open_tutorial_dataset(\"uwnd_202201_mon_mean\").sortby(\"lat\").uwnd\nv_data = ecl.tutorial.open_tutorial_dataset(\"vwnd_202201_mon_mean\").sortby(\"lat\").vwnd\nz_data = ecl.tutorial.open_tutorial_dataset(\"hgt_202201_mon_mean\").sortby(\"lat\").hgt\ntemp_data = ecl.tutorial.open_tutorial_dataset(\"air_202201_mon_mean\").sortby(\"lat\").air\nq_data = ecl.tutorial.open_tutorial_dataset(\"shum_202201_mon_mean\").sortby(\"lat\").shum\nmsl_data = (\n    ecl.tutorial.open_tutorial_dataset(\"pressfc_202201_mon_mean\").sortby(\"lat\").pres\n)\npr_data = (\n    ecl.tutorial.open_tutorial_dataset(\"precip_202201_mon_mean\").sortby(\"lat\").precip\n)\n\nuvdata = xr.Dataset()\nuvdata[\"uwnd\"] = u_data\nuvdata[\"vwnd\"] = v_data"
      ]
    },
    {
      "cell_type": "markdown",
      "metadata": {},
      "source": [
        "Obtain data slices on 500hPa isobars for January 2022\n\n"
      ]
    },
    {
      "cell_type": "code",
      "execution_count": null,
      "metadata": {
        "collapsed": false
      },
      "outputs": [],
      "source": [
        "uvdata_500_202201 = uvdata.sel(level=500, time=\"2022-01-01\")\nz_data_500_202201 = z_data.sel(level=500, time=\"2022-01-01\")\ntemp_data_500_202201 = temp_data.sel(level=500, time=\"2022-01-01\")"
      ]
    },
    {
      "cell_type": "markdown",
      "metadata": {},
      "source": [
        "Plotting a sample `quiver` plot of this data slice\n\n"
      ]
    },
    {
      "cell_type": "code",
      "execution_count": null,
      "metadata": {
        "collapsed": false
      },
      "outputs": [],
      "source": [
        "fig, ax = plt.subplots(\n    subplot_kw={\"projection\": ccrs.PlateCarree(central_longitude=180)}\n)\n\nax.stock_img()\nax.gridlines(draw_labels=[\"bottom\", \"left\"], color=\"grey\", alpha=0.5, linestyle=\"--\")\nax.coastlines(edgecolor=\"black\", linewidths=0.5)\n\nuvdata_500_202201.thin(lon=3, lat=3).plot.quiver(\n    ax=ax,\n    u=\"uwnd\",\n    v=\"vwnd\",\n    x=\"lon\",\n    y=\"lat\",\n    # projection on data\n    transform=ccrs.PlateCarree(),\n)"
      ]
    },
    {
      "cell_type": "markdown",
      "metadata": {},
      "source": [
        "## First-order Partial Derivative\n\nConsider the function :py:func:`easyclimate.calc_gradient <easyclimate.calc_gradient>` to compute the gradient of the zonal wind with respect to longitude.\n\n\\begin{align}\\frac{\\partial u}{\\partial \\lambda}\\end{align}\n\nThe argument `dim` to the function :py:func:`easyclimate.calc_gradient <easyclimate.calc_gradient>` specifies that the direction of the solution is `longitude`.\n\n"
      ]
    },
    {
      "cell_type": "code",
      "execution_count": null,
      "metadata": {
        "collapsed": false
      },
      "outputs": [],
      "source": [
        "uwnd_dx = ecl.calc_gradient(uvdata_500_202201.uwnd, dim=\"lon\")\n\nuwnd_dx"
      ]
    },
    {
      "cell_type": "code",
      "execution_count": null,
      "metadata": {
        "collapsed": false
      },
      "outputs": [],
      "source": [
        "fig, ax = plt.subplots(\n    subplot_kw={\"projection\": ccrs.PlateCarree(central_longitude=180)}\n)\n\nax.stock_img()\nax.gridlines(draw_labels=[\"bottom\", \"left\"], color=\"grey\", alpha=0.5, linestyle=\"--\")\nax.coastlines(edgecolor=\"black\", linewidths=0.5)\n\nuwnd_dx.plot.contourf(\n    ax=ax,\n    # projection on data\n    transform=ccrs.PlateCarree(),\n    # Colorbar is placed at the bottom\n    cbar_kwargs={\"location\": \"bottom\"},\n    levels=21,\n)"
      ]
    },
    {
      "cell_type": "markdown",
      "metadata": {},
      "source": [
        "Of course, it is also possible to pass in :py:class:`xarray.Dataset<xarray.Dataset>` directly into the function :py:func:`easyclimate.calc_gradient <easyclimate.calc_gradient>` to iterate through all the variables, so that you can get the gradient of both the zonal and meridional winds with respect to longitude at the same time.\n\n"
      ]
    },
    {
      "cell_type": "code",
      "execution_count": null,
      "metadata": {
        "collapsed": false
      },
      "outputs": [],
      "source": [
        "uvwnd_dx = ecl.calc_gradient(uvdata_500_202201, dim=\"lon\")\n\nuvwnd_dx"
      ]
    },
    {
      "cell_type": "markdown",
      "metadata": {},
      "source": [
        "However, if one is required to solve for the gradient of the zonal wind with respect to the corresponding distance at each longitude, the function `calc_lon_gradient` should be used to calculate.\n\n\\begin{align}\\frac{\\partial F}{\\partial x} = \\frac{1}{R \\cos\\varphi} \\cdot \\frac{\\partial F}{\\partial \\lambda}\\end{align}\n\n"
      ]
    },
    {
      "cell_type": "code",
      "execution_count": null,
      "metadata": {
        "collapsed": false
      },
      "outputs": [],
      "source": [
        "uwnd_dlon = ecl.calc_lon_gradient(uvdata_500_202201.uwnd, lon_dim=\"lon\", lat_dim=\"lat\")\n\nfig, ax = plt.subplots(\n    subplot_kw={\"projection\": ccrs.PlateCarree(central_longitude=180)}\n)\n\nax.gridlines(draw_labels=[\"bottom\", \"left\"], color=\"grey\", alpha=0.5, linestyle=\"--\")\nax.coastlines(edgecolor=\"black\", linewidths=0.5)\n\nuwnd_dlon.plot.contourf(\n    ax=ax,\n    # projection on data\n    transform=ccrs.PlateCarree(),\n    # Colorbar is placed at the bottom\n    cbar_kwargs={\"location\": \"bottom\"},\n    levels=21,\n)"
      ]
    },
    {
      "cell_type": "markdown",
      "metadata": {},
      "source": [
        "Similarly, use :py:func:`easyclimate.calc_lat_gradient <easyclimate.calc_lat_gradient>` to solve for the gradient of the meridional wind with respect to the corresponding distance at each latitude.\n\n"
      ]
    },
    {
      "cell_type": "markdown",
      "metadata": {},
      "source": [
        "## Second-order Partial Derivative\n\nThe solution of the second-order partial derivative relies on three functional calculations\n\n- :py:func:`easyclimate.calc_lon_laplacian <easyclimate.calc_lon_laplacian>`: calculation of the second-order partial derivative term (Laplace term) along longitude.\n\n\\begin{align}\\frac{\\partial^2 F}{\\partial x^2} = \\frac{1}{(R \\cos\\varphi)^2} \\cdot \\frac{\\partial^2 F}{\\partial \\lambda^2}\\end{align}\n\n"
      ]
    },
    {
      "cell_type": "code",
      "execution_count": null,
      "metadata": {
        "collapsed": false
      },
      "outputs": [],
      "source": [
        "uwnd_dlon2 = ecl.calc_lon_laplacian(\n    uvdata_500_202201.uwnd, lon_dim=\"lon\", lat_dim=\"lat\"\n)"
      ]
    },
    {
      "cell_type": "markdown",
      "metadata": {},
      "source": [
        "- :py:func:`easyclimate.calc_lat_laplacian <easyclimate.calc_lat_laplacian>`: calculation of the second-order partial derivative term (Laplace term) along latitude.\n\n\\begin{align}\\frac{\\partial^2 F}{\\partial y^2} = \\frac{1}{R^2} \\cdot \\frac{\\partial^2 F}{\\partial \\varphi^2}\\end{align}\n\n"
      ]
    },
    {
      "cell_type": "code",
      "execution_count": null,
      "metadata": {
        "collapsed": false
      },
      "outputs": [],
      "source": [
        "uwnd_dlat2 = ecl.calc_lat_laplacian(uvdata_500_202201.uwnd, lat_dim=\"lat\")"
      ]
    },
    {
      "cell_type": "markdown",
      "metadata": {},
      "source": [
        "- :py:func:`easyclimate.calc_lon_lat_mixed_derivatives <easyclimate.calc_lon_lat_mixed_derivatives>`: second-order mixed partial derivative terms along longitude and latitude.\n\n\\begin{align}\\frac{\\partial^2 F}{\\partial x \\partial y} = \\frac{1}{R^2 \\cos\\varphi} \\cdot \\frac{\\partial^2 F}{\\partial \\lambda \\partial \\varphi}\\end{align}\n\n\n"
      ]
    },
    {
      "cell_type": "code",
      "execution_count": null,
      "metadata": {
        "collapsed": false
      },
      "outputs": [],
      "source": [
        "uwnd_dlonlat = ecl.calc_lon_lat_mixed_derivatives(\n    uvdata_500_202201.uwnd, lon_dim=\"lon\", lat_dim=\"lat\"\n)"
      ]
    },
    {
      "cell_type": "markdown",
      "metadata": {},
      "source": [
        "Second-order partial derivative term along longitude.\n\n"
      ]
    },
    {
      "cell_type": "code",
      "execution_count": null,
      "metadata": {
        "collapsed": false
      },
      "outputs": [],
      "source": [
        "fig, ax = plt.subplots(\n    subplot_kw={\"projection\": ccrs.PlateCarree(central_longitude=180)}\n)\n\nax.gridlines(draw_labels=[\"bottom\", \"left\"], color=\"grey\", alpha=0.5, linestyle=\"--\")\nax.coastlines(edgecolor=\"black\", linewidths=0.5)\n\nuwnd_dlon2.plot.contourf(\n    ax=ax, transform=ccrs.PlateCarree(), cbar_kwargs={\"location\": \"bottom\"}, levels=21\n)\nax.set_title(\"$\\\\frac{\\\\partial^2 F}{\\\\partial x^2}$\", fontsize=20)"
      ]
    },
    {
      "cell_type": "markdown",
      "metadata": {},
      "source": [
        "Second-order partial derivative term along latitude.\n\n"
      ]
    },
    {
      "cell_type": "code",
      "execution_count": null,
      "metadata": {
        "collapsed": false
      },
      "outputs": [],
      "source": [
        "fig, ax = plt.subplots(\n    subplot_kw={\"projection\": ccrs.PlateCarree(central_longitude=180)}\n)\n\nax.gridlines(draw_labels=[\"bottom\", \"left\"], color=\"grey\", alpha=0.5, linestyle=\"--\")\nax.coastlines(edgecolor=\"black\", linewidths=0.5)\n\nuwnd_dlat2.plot.contourf(\n    ax=ax, transform=ccrs.PlateCarree(), cbar_kwargs={\"location\": \"bottom\"}, levels=21\n)\nax.set_title(\"$\\\\frac{\\\\partial^2 F}{\\\\partial y^2}$\", fontsize=20)"
      ]
    },
    {
      "cell_type": "markdown",
      "metadata": {},
      "source": [
        "Second-order mixed partial derivative terms along longitude and latitude.\n\n"
      ]
    },
    {
      "cell_type": "code",
      "execution_count": null,
      "metadata": {
        "collapsed": false
      },
      "outputs": [],
      "source": [
        "fig, ax = plt.subplots(\n    subplot_kw={\"projection\": ccrs.PlateCarree(central_longitude=180)}\n)\n\nax.gridlines(draw_labels=[\"bottom\", \"left\"], color=\"grey\", alpha=0.5, linestyle=\"--\")\nax.coastlines(edgecolor=\"black\", linewidths=0.5)\n\nuwnd_dlonlat.plot.contourf(\n    ax=ax, transform=ccrs.PlateCarree(), cbar_kwargs={\"location\": \"bottom\"}, levels=21\n)\nax.set_title(\"$\\\\frac{\\\\partial^2 F}{\\\\partial x \\\\partial y}$\", fontsize=20)"
      ]
    },
    {
      "cell_type": "markdown",
      "metadata": {},
      "source": [
        "## Vorticity and Divergence\n\nVorticity and divergence are measures of the degree of atmospheric rotation and volumetric flux per unit volume respectively. For vorticity and divergence in the quasi-geostrophic case, the potential height is used as input data for the calculations. In general, we first calculate the quasi-geostrophic wind.\n\n- :py:func:`easyclimate.calc_geostrophic_wind <easyclimate.calc_geostrophic_wind>`: calculate the geostrophic wind.\n\n\\begin{align}u_g = - \\frac{g}{f} \\frac{\\partial H}{\\partial y}, \\ v_g = \\frac{g}{f} \\frac{\\partial H}{\\partial x}\\end{align}\n\n\n"
      ]
    },
    {
      "cell_type": "code",
      "execution_count": null,
      "metadata": {
        "collapsed": false
      },
      "outputs": [],
      "source": [
        "geostrophic_wind_data_500_202201 = ecl.calc_geostrophic_wind(\n    z_data_500_202201, lon_dim=\"lon\", lat_dim=\"lat\"\n)"
      ]
    },
    {
      "cell_type": "markdown",
      "metadata": {},
      "source": [
        "The function :py:func:`easyclimate.calc_vorticity <easyclimate.calc_vorticity>` is then used to compute the quasi-geostrophic vorticity.\n\n- :py:func:`easyclimate.calc_vorticity <easyclimate.calc_vorticity>`: calculate the horizontal relative vorticity term.\n\n\\begin{align}\\zeta = \\frac{\\partial v}{\\partial x} - \\frac{\\partial u}{\\partial y} + \\frac{u}{R} \\tan \\varphi\\end{align}\n\n\n"
      ]
    },
    {
      "cell_type": "code",
      "execution_count": null,
      "metadata": {
        "collapsed": false
      },
      "outputs": [],
      "source": [
        "qg_vor_data_500_202201 = ecl.calc_vorticity(\n    u_data=geostrophic_wind_data_500_202201.ug,\n    v_data=geostrophic_wind_data_500_202201.vg,\n    lon_dim=\"lon\",\n    lat_dim=\"lat\",\n)\n\nqg_vor_data_500_202201.sel(lat=slice(20, 80)).plot.contourf(levels=21)"
      ]
    },
    {
      "cell_type": "markdown",
      "metadata": {},
      "source": [
        "Similar vorticity for actual winds, but for actual winds rather than quasi-geostrophic winds.\n\n"
      ]
    },
    {
      "cell_type": "code",
      "execution_count": null,
      "metadata": {
        "collapsed": false
      },
      "outputs": [],
      "source": [
        "vor_data_500_202201 = ecl.calc_vorticity(\n    u_data=uvdata_500_202201[\"uwnd\"],\n    v_data=uvdata_500_202201[\"vwnd\"],\n    lon_dim=\"lon\",\n    lat_dim=\"lat\",\n)\n\nvor_data_500_202201.sel(lat=slice(20, 80)).plot.contourf(levels=21)"
      ]
    },
    {
      "cell_type": "markdown",
      "metadata": {},
      "source": [
        "In addition, the function :py:func:`easyclimate.calc_divergence <easyclimate.calc_divergence>` calculate the quasi-geostrophic divergence.\n\n\\begin{align}\\mathrm{D} = \\frac{\\partial u}{\\partial x} + \\frac{\\partial v}{\\partial y} - \\frac{v}{R} \\tan \\varphi\\end{align}\n\n- :py:func:`easyclimate.calc_divergence <easyclimate.calc_divergence>`: calculate the horizontal divergence term.\n\nQuasi-geostrophic divergence\n\n"
      ]
    },
    {
      "cell_type": "code",
      "execution_count": null,
      "metadata": {
        "collapsed": false
      },
      "outputs": [],
      "source": [
        "qg_div_data_500_202201 = ecl.calc_divergence(\n    u_data=geostrophic_wind_data_500_202201.ug,\n    v_data=geostrophic_wind_data_500_202201.vg,\n    lon_dim=\"lon\",\n    lat_dim=\"lat\",\n)\n\nqg_div_data_500_202201.sel(lat=slice(20, 80)).plot.contourf(levels=21)"
      ]
    },
    {
      "cell_type": "markdown",
      "metadata": {},
      "source": [
        "Actual divergence\n\n"
      ]
    },
    {
      "cell_type": "code",
      "execution_count": null,
      "metadata": {
        "collapsed": false
      },
      "outputs": [],
      "source": [
        "div_data_500_202201 = ecl.calc_divergence(\n    u_data=uvdata_500_202201[\"uwnd\"],\n    v_data=uvdata_500_202201[\"vwnd\"],\n    lon_dim=\"lon\",\n    lat_dim=\"lat\",\n)\n\ndiv_data_500_202201.sel(lat=slice(20, 80)).plot.contourf(levels=21)"
      ]
    },
    {
      "cell_type": "markdown",
      "metadata": {},
      "source": [
        "Of course, in addition to the built-in finite difference method, the spherical harmonic function mothod can be solved, but you must ensure that it is **Global** and **Regular or Gaussian grid** type data.\n\n- :py:func:`easyclimate.windspharm.calc_relative_vorticity <easyclimate.windspharm.top.calc_relative_vorticity>`: calculate the relative vorticity term with the spherical harmonic function mothod.\n- :py:func:`easyclimate.windspharm.calc_divergence <easyclimate.windspharm.top.calc_divergence>`: calculate the horizontal divergence term with the spherical harmonic function mothod.\n\n"
      ]
    },
    {
      "cell_type": "code",
      "execution_count": null,
      "metadata": {
        "collapsed": false
      },
      "outputs": [],
      "source": [
        "vor_data_500_202201_windspharm = ecl.windspharm.calc_relative_vorticity(\n    u_data=uvdata_500_202201[\"uwnd\"],\n    v_data=uvdata_500_202201[\"vwnd\"],\n)\n\nvor_data_500_202201_windspharm.sortby(\"lat\").sel(lat=slice(20, 80)).plot.contourf(\n    levels=21\n)"
      ]
    },
    {
      "cell_type": "code",
      "execution_count": null,
      "metadata": {
        "collapsed": false
      },
      "outputs": [],
      "source": [
        "div_data_500_202201_windspharm = ecl.windspharm.calc_divergence(\n    u_data=uvdata_500_202201[\"uwnd\"],\n    v_data=uvdata_500_202201[\"vwnd\"],\n)\n\ndiv_data_500_202201_windspharm.sortby(\"lat\").sel(lat=slice(20, 80)).plot.contourf(\n    levels=21\n)"
      ]
    },
    {
      "cell_type": "markdown",
      "metadata": {},
      "source": [
        "Generally speaking, the calculation results of the finite difference method and the spherical harmonic function method are similar. The former does not require global regional data, but the calculation results of the latter are more accurate for high latitude regions.\n\n"
      ]
    },
    {
      "cell_type": "markdown",
      "metadata": {},
      "source": [
        "## Advection\n[Advection](https://glossary.ametsoc.org/wiki/Advection)_ is the process of transport of an atmospheric property solely by the mass motion (velocity field) of the atmosphere; also, the rate of change of the value of the advected property at a given point.\n\nFor zonal advection, we can calculate as follows.\n\n\\begin{align}-u \\frac{\\partial T}{\\partial x}\\end{align}\n\n\n"
      ]
    },
    {
      "cell_type": "code",
      "execution_count": null,
      "metadata": {
        "collapsed": false
      },
      "outputs": [],
      "source": [
        "u_advection_500_202201 = ecl.calc_u_advection(\n    u_data=uvdata_500_202201[\"uwnd\"], temper_data=temp_data_500_202201\n)\n\nu_advection_500_202201.sortby(\"lat\").sel(lat=slice(20, 80)).plot.contourf(levels=21)"
      ]
    },
    {
      "cell_type": "markdown",
      "metadata": {},
      "source": [
        "Similarly, the meridional advection can acquire as follows.\n\n\\begin{align}-v \\frac{\\partial T}{\\partial y}\\end{align}\n\n\n"
      ]
    },
    {
      "cell_type": "code",
      "execution_count": null,
      "metadata": {
        "collapsed": false
      },
      "outputs": [],
      "source": [
        "v_advection_500_202201 = ecl.calc_v_advection(\n    v_data=uvdata_500_202201[\"vwnd\"], temper_data=temp_data_500_202201\n)\n\nv_advection_500_202201.sortby(\"lat\").sel(lat=slice(20, 80)).plot.contourf(levels=21)"
      ]
    },
    {
      "cell_type": "markdown",
      "metadata": {},
      "source": [
        "## Water Flux\n\n- :py:func:`easyclimate.calc_horizontal_water_flux <easyclimate.calc_horizontal_water_flux>`: calculate horizontal water vapor flux at each vertical level.\n\n\\begin{align}\\frac{1}{g} q \\mathbf{V} = \\frac{1}{g} (u q\\ \\mathbf{i} + vq\\ \\mathbf{j})\\end{align}\n\n- :py:func:`easyclimate.calc_vertical_water_flux <easyclimate.calc_vertical_water_flux>`: calculate vertical water vapor flux.\n\n\\begin{align}-\\omega \\frac{q}{g}\\end{align}\n\n- :py:func:`easyclimate.calc_water_flux_top2surface_integral <easyclimate.calc_water_flux_top2surface_integral>`: calculate the water vapor flux across the vertical level.\n\n:py:func:`easyclimate.calc_horizontal_water_flux <easyclimate.calc_horizontal_water_flux>` can calculate the horizontal water flux of single layers.\n\n"
      ]
    },
    {
      "cell_type": "code",
      "execution_count": null,
      "metadata": {
        "collapsed": false
      },
      "outputs": [],
      "source": [
        "ecl.calc_horizontal_water_flux(\n    specific_humidity_data=q_data,\n    u_data=uvdata.uwnd,\n    v_data=uvdata.vwnd,\n)"
      ]
    },
    {
      "cell_type": "markdown",
      "metadata": {},
      "source": [
        "The whole layer integral needs to consider the function :py:func:`easyclimate.calc_water_flux_top2surface_integral <easyclimate.calc_water_flux_top2surface_integral>` to calculate.\n\n"
      ]
    },
    {
      "cell_type": "code",
      "execution_count": null,
      "metadata": {
        "collapsed": false
      },
      "outputs": [],
      "source": [
        "water_flux_top2surface_integral = ecl.calc_water_flux_top2surface_integral(\n    specific_humidity_data=q_data,\n    u_data=u_data,\n    v_data=v_data,\n    surface_pressure_data=msl_data,\n    surface_pressure_data_units=\"millibars\",\n    vertical_dim=\"level\",\n    vertical_dim_units=\"hPa\",\n)\n\nwater_flux_top2surface_integral"
      ]
    },
    {
      "cell_type": "markdown",
      "metadata": {},
      "source": [
        "Extracting the entire layer water vapor flux at mid and low latitudes at the 0th time level.\n\n"
      ]
    },
    {
      "cell_type": "code",
      "execution_count": null,
      "metadata": {
        "collapsed": false
      },
      "outputs": [],
      "source": [
        "draw_water_flux = (\n    water_flux_top2surface_integral.isel(time=0)\n    .thin(lon=3, lat=3)\n    .sel(lat=slice(-60, 60))\n)\ndraw_pr = pr_data.isel(time=0).sel(lat=slice(-60, 60))"
      ]
    },
    {
      "cell_type": "code",
      "execution_count": null,
      "metadata": {
        "collapsed": false
      },
      "outputs": [],
      "source": [
        "fig, ax = plt.subplots(\n    subplot_kw={\"projection\": ccrs.PlateCarree(central_longitude=180)}\n)\n\nax.gridlines(draw_labels=[\"bottom\", \"left\"], color=\"grey\", alpha=0.5, linestyle=\"--\")\nax.coastlines(edgecolor=\"black\", linewidths=0.5)\n\ndraw_water_flux.plot.quiver(\n    ax=ax,\n    u=\"qu\",\n    v=\"qv\",\n    x=\"lon\",\n    y=\"lat\",\n    transform=ccrs.PlateCarree(),\n    zorder=2,\n)\n\ndraw_pr.plot.contourf(\n    ax=ax,\n    transform=ccrs.PlateCarree(),\n    levels=21,\n    cmap=\"Greens\",\n    zorder=1,\n    cbar_kwargs={\"location\": \"bottom\"},\n    vmax=20,\n)"
      ]
    },
    {
      "cell_type": "markdown",
      "metadata": {},
      "source": [
        "## Water Vapor Flux Divergence\n\nWater vapor flux divergence represents the convergence and divergence of water vapor. There are also two built-in functions to calculate the results of single-layers and whole-layer integration respectively.\n\n- :py:func:`easyclimate.calc_divergence_watervaporflux <easyclimate.calc_divergence_watervaporflux>`: calculate water vapor flux divergence at each vertical level.\n\n\\begin{align}\\nabla \\left( \\frac{1}{g} q \\mathbf{V} \\right) = \\frac{1}{g} \\nabla \\cdot \\left( q \\mathbf{V} \\right)\\end{align}\n\n- :py:func:`easyclimate.calc_divergence_watervaporflux_top2surface_integral <easyclimate.calc_divergence_watervaporflux_top2surface_integral>`: calculate water vapor flux divergence across the vertical level.\n\n"
      ]
    },
    {
      "cell_type": "code",
      "execution_count": null,
      "metadata": {
        "collapsed": false
      },
      "outputs": [],
      "source": [
        "divergence_watervaporflux_top2surface_integral = (\n    ecl.calc_divergence_watervaporflux_top2surface_integral(\n        specific_humidity_data=q_data,\n        u_data=u_data,\n        v_data=v_data,\n        surface_pressure_data=msl_data,\n        surface_pressure_data_units=\"millibars\",\n        specific_humidity_data_units=\"grams/kg\",\n        vertical_dim=\"level\",\n        vertical_dim_units=\"hPa\",\n    )\n)\n\ndivergence_watervaporflux_top2surface_integral"
      ]
    },
    {
      "cell_type": "markdown",
      "metadata": {},
      "source": [
        "Extracting the entire layer water vapor flux at mid and low latitudes at the 0th time level.\n\n"
      ]
    },
    {
      "cell_type": "code",
      "execution_count": null,
      "metadata": {
        "collapsed": false
      },
      "outputs": [],
      "source": [
        "draw_data = divergence_watervaporflux_top2surface_integral.isel(time=0).sel(\n    lat=slice(-60, 60)\n)"
      ]
    },
    {
      "cell_type": "code",
      "execution_count": null,
      "metadata": {
        "collapsed": false
      },
      "outputs": [],
      "source": [
        "fig, ax = plt.subplots(\n    subplot_kw={\"projection\": ccrs.PlateCarree(central_longitude=180)}\n)\n\nax.gridlines(draw_labels=[\"bottom\", \"left\"], color=\"grey\", alpha=0.5, linestyle=\"--\")\nax.coastlines(edgecolor=\"black\", linewidths=0.5)\n\ndraw_data.plot.contourf(\n    ax=ax, transform=ccrs.PlateCarree(), cbar_kwargs={\"location\": \"bottom\"}, levels=21\n)"
      ]
    }
  ],
  "metadata": {
    "kernelspec": {
      "display_name": "Python 3",
      "language": "python",
      "name": "python3"
    },
    "language_info": {
      "codemirror_mode": {
        "name": "ipython",
        "version": 3
      },
      "file_extension": ".py",
      "mimetype": "text/x-python",
      "name": "python",
      "nbconvert_exporter": "python",
      "pygments_lexer": "ipython3",
      "version": "3.10.15"
    }
  },
  "nbformat": 4,
  "nbformat_minor": 0
}
