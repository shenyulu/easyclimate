{
  "cells": [
    {
      "cell_type": "markdown",
      "metadata": {},
      "source": [
        "\n\n# Wheeler-Kiladis Space-Time Spectra\n\nThe **Wheeler-Kiladis (WK) Space-Time Spectra** is a diagnostic tool used in meteorology to analyze tropical atmospheric waves by decomposing their variability in both **wavenumber (space) and frequency (time)** domains. It extends traditional Fourier analysis by applying a **two-dimensional (2D) spectral decomposition** to isolate and characterize different wave modes (e.g., Kelvin waves, Rossby waves, and mixed Rossby-gravity waves) based on their dispersion relations.\n\n## Key Features\n\n- Uses **symmetrical (eastward/westward) and antisymmetrical (north-south) Fourier transforms** to separate wave types.\n- Compares observed spectra with **theoretical dispersion curves** of shallow-water waves to identify dominant modes.\n- Helps distinguish **convectively coupled waves** (linked to tropical rainfall) from uncoupled waves.\n\n## Applications in Meteorology\n\n1. Tropical Wave Analysis: Identifies and tracks **Kelvin waves, equatorial Rossby waves, and Madden-Julian Oscillation (MJO)** signals.\n2. Convective Coupling Studies: Examines how waves interact with tropical convection (e.g., in monsoon systems).\n3. Model Validation: Evaluates whether climate models correctly simulate tropical wave dynamics.\n4. Extreme Weather Prediction: Helps understand precursors to tropical cyclogenesis and organized convection.\n\n.. seealso::\n    - https://github.com/mmaiergerber/wk_spectra\n    - Wheeler, M., & Kiladis, G. N. (1999). Convectively Coupled Equatorial Waves: Analysis of Clouds and Temperature in the Wavenumber\u2013Frequency Domain. Journal of the Atmospheric Sciences, 56(3), 374-399. https://journals.ametsoc.org/view/journals/atsc/56/3/1520-0469_1999_056_0374_ccewao_2.0.co_2.xml\n    - Kiladis, G. N., M. C. Wheeler, P. T. Haertel, K. H. Straub, and P. E. Roundy (2009), Convectively coupled equatorial waves, Rev. Geophys., 47, RG2003, doi: https://doi.org/10.1029/2008RG000266\n    - Wheeler, M. C., & Nguyen, H. (2015). TROPICAL METEOROLOGY AND CLIMATE | Equatorial Waves. In Encyclopedia of Atmospheric Sciences (pp. 102\u2013112). Elsevier. https://doi.org/10.1016/B978-0-12-382225-3.00414-X\n    - Yoshikazu Hayashi, A Generalized Method of Resolving Disturbances into Progressive and Retrogressive Waves by Space Fourier and Time Cross-Spectral Analyses, Journal of the Meteorological Society of Japan. Ser. II, 1971, Volume 49, Issue 2, Pages 125-128, Released on J-STAGE May 27, 2008, Online ISSN 2186-9057, Print ISSN 0026-1165, https://doi.org/10.2151/jmsj1965.49.2_125, https://www.jstage.jst.go.jp/article/jmsj1965/49/2/49_2_125/_article/-char/en\n\nThe WK method is particularly useful for studying **large-scale tropical variability** and remains a fundamental tool in **tropical meteorology and climate research**.\n\nBefore proceeding with all the steps, first import some necessary libraries and packages\n"
      ]
    },
    {
      "cell_type": "code",
      "execution_count": null,
      "metadata": {
        "collapsed": false
      },
      "outputs": [],
      "source": [
        "import xarray as xr\nimport matplotlib.pyplot as plt\nimport easyclimate as ecl"
      ]
    },
    {
      "cell_type": "markdown",
      "metadata": {},
      "source": [
        "The example here is to avoid longer calculations, thus we open the pre-processed result data directly.\n\n.. tip::\n\n  You can download following datasets here: :download:`Download olr_smooth_data.nc <https://raw.githubusercontent.com/shenyulu/easyclimate/refs/heads/main/docs/source/dynamic_docs/olr_smooth_data.nc>`\n\n\n"
      ]
    },
    {
      "cell_type": "code",
      "execution_count": null,
      "metadata": {
        "collapsed": false
      },
      "outputs": [],
      "source": [
        "data = xr.open_dataset('olr_smooth_data.nc')['olr'].sel(lat = slice(-15, 15))\ndata"
      ]
    },
    {
      "cell_type": "markdown",
      "metadata": {},
      "source": [
        "Setting the basic parameters and removing the dominant signal\n\n"
      ]
    },
    {
      "cell_type": "code",
      "execution_count": null,
      "metadata": {
        "collapsed": false
      },
      "outputs": [],
      "source": [
        "spd=1\nnDayWin=96\nnDaySkip=-71\n\ndata_dt = ecl.field.equatorial_wave.remove_dominant_signals(data, spd,nDayWin,nDaySkip)\ndata_dt.isel(time =0).plot.contourf(levels = 21)"
      ]
    },
    {
      "cell_type": "markdown",
      "metadata": {},
      "source": [
        "Separation of symmetric and asymmetric parts\n\n"
      ]
    },
    {
      "cell_type": "code",
      "execution_count": null,
      "metadata": {
        "collapsed": false
      },
      "outputs": [],
      "source": [
        "data_as = ecl.field.equatorial_wave.decompose_symasym(data_dt)\ndata_as.isel(time = 0).plot.contourf(levels = 21)"
      ]
    },
    {
      "cell_type": "markdown",
      "metadata": {},
      "source": [
        "Calculation of spectral coefficients\n\n"
      ]
    },
    {
      "cell_type": "code",
      "execution_count": null,
      "metadata": {
        "collapsed": false
      },
      "outputs": [],
      "source": [
        "psum = ecl.field.equatorial_wave.calc_spectral_coefficients(data_as,spd,nDayWin,nDaySkip)\npsum"
      ]
    },
    {
      "cell_type": "markdown",
      "metadata": {},
      "source": [
        "Drawing asymmetric parts\n\n"
      ]
    },
    {
      "cell_type": "code",
      "execution_count": null,
      "metadata": {
        "collapsed": false
      },
      "outputs": [],
      "source": [
        "fig, ax = plt.subplots()\n\npsum.psumanti_r.plot.contourf(ax = ax, levels=21, cmap = 'YlGnBu')\necl.field.equatorial_wave.draw_wk_anti_analysis()"
      ]
    },
    {
      "cell_type": "markdown",
      "metadata": {},
      "source": [
        "And drawing symmetric parts\n\n"
      ]
    },
    {
      "cell_type": "code",
      "execution_count": null,
      "metadata": {
        "collapsed": false
      },
      "outputs": [],
      "source": [
        "fig, ax = plt.subplots()\n\npsum.psumsym_r.plot.contourf(ax = ax, levels=21, cmap = 'YlGnBu')\necl.field.equatorial_wave.draw_wk_sym_analysis()"
      ]
    }
  ],
  "metadata": {
    "kernelspec": {
      "display_name": "Python 3",
      "language": "python",
      "name": "python3"
    },
    "language_info": {
      "codemirror_mode": {
        "name": "ipython",
        "version": 3
      },
      "file_extension": ".py",
      "mimetype": "text/x-python",
      "name": "python",
      "nbconvert_exporter": "python",
      "pygments_lexer": "ipython3",
      "version": "3.12.11"
    }
  },
  "nbformat": 4,
  "nbformat_minor": 0
}
