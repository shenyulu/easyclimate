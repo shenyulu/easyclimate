{
  "cells": [
    {
      "cell_type": "markdown",
      "metadata": {},
      "source": [
        "\n\n# Wet-bulb Temperature\nWet-bulb temperature is a critical meteorological parameter that represents the lowest temperature to\nwhich air can be cooled by evaporation at constant pressure. It is widely used in weather forecasting,\nheat stress assessment, and climate studies. The easyclimate library provides multiple methods to\ncompute wet-bulb temperature, including iterative approaches, empirical formulas,\nand approximations based on established research.\n\nThe example is structured into several sections, each performing a specific task, such as data initialization,\nmesh grid creation, wet-bulb temperature calculations using different methods,\nand plotting results for analysis. The following sections describe the intent of each part.\n\nThis part imports necessary Python libraries for data manipulation and visualization:\n"
      ]
    },
    {
      "cell_type": "code",
      "execution_count": null,
      "metadata": {
        "collapsed": false
      },
      "outputs": [],
      "source": [
        "import easyclimate as ecl\nimport xarray as xr\nimport numpy as np\nimport matplotlib.pyplot as plt"
      ]
    },
    {
      "cell_type": "markdown",
      "metadata": {},
      "source": [
        "This section creates synthetic datasets to represent atmospheric conditions:\n\n- ``temp_data``: A 1D array of temperatures ranging from -20\u00b0C to 50\u00b0C.\n- ``relative_humidity_data``: A 1D array of relative humidity values from 0% to 100%.\n- ``deltaT_data``: A 1D array representing the temperature difference ($T - T_d$) from 0\u00b0C to 30\u00b0C.\n\nThese arrays serve as input for subsequent calculations,\ncovering a wide range of conditions to test the wet-bulb temperature methods.\n\n"
      ]
    },
    {
      "cell_type": "code",
      "execution_count": null,
      "metadata": {
        "collapsed": false
      },
      "outputs": [],
      "source": [
        "temp_data = xr.DataArray(\n    np.linspace(-20, 50, 71),\n    dims=\"temp\",\n    coords={'temp': np.linspace(-20, 50, 71)}\n)\nrelative_humidity_data = xr.DataArray(\n    np.linspace(0, 100, 101),\n    dims=\"rh\",\n    coords={'rh': np.linspace(0, 100, 101)}\n)\n\ndeltaT_data = xr.DataArray(\n    np.linspace(0, 30, 31),\n    dims=\"deltaT\",\n    coords={'deltaT': np.linspace(0, 30, 31)}\n)"
      ]
    },
    {
      "cell_type": "markdown",
      "metadata": {},
      "source": [
        "This section defines the generate_mesh function, which creates 2D mesh grids from two 1D :py:class:`xarray.DataArray<xarray.DataArray>` inputs. The function:\n\n- Uses numpy.meshgrid to generate grid arrays.\n- Constructs :py:class:`xarray.DataArray<xarray.DataArray>` objects for each grid, preserving coordinates and dimensions.\n- Returns two DataArray objects representing the meshed variables.\n\nThis function is used to create 2D grids for temperature, relative humidity,\nand dewpoint differences, enabling calculations over a range of conditions.\n\n"
      ]
    },
    {
      "cell_type": "code",
      "execution_count": null,
      "metadata": {
        "collapsed": false
      },
      "outputs": [],
      "source": [
        "def generate_mesh(\n    da1: xr.DataArray,\n    da2: xr.DataArray,\n):\n    da1_grid, da2_grid = np.meshgrid(da1, da2)\n\n    dim_1 = da2.dims[0]\n    dim_2 = da1.dims[0]\n    dim_1_array = da2[dim_1].data\n    dim_2_array = da1[dim_2].data\n\n    da1_dataarray = xr.DataArray(\n        da1_grid,\n        dims=(dim_1, dim_2),\n        coords={dim_1: dim_1_array, dim_2: dim_2_array}\n    )\n    da1_dataarray.name = dim_2\n\n    da2_dataarray = xr.DataArray(\n        da2_grid,\n        dims=(dim_1, dim_2),\n        coords={dim_1: dim_1_array, dim_2: dim_2_array}\n    )\n    da2_dataarray.name = dim_1\n\n    return da1_dataarray, da2_dataarray"
      ]
    },
    {
      "cell_type": "markdown",
      "metadata": {},
      "source": [
        "This section applies the generate_mesh function to create 2D grids:\n\n- temp_mesh1, rh_mesh: Meshes of temperature and relative humidity.\n- temp_mesh2, deltaT_mesh: Meshes of temperature and temperature difference.\n- td_mesh: Dewpoint temperature calculated as temp_mesh2 - deltaT_mesh.\n\nThese grids are used as inputs for wet-bulb temperature calculations.\n\n"
      ]
    },
    {
      "cell_type": "code",
      "execution_count": null,
      "metadata": {
        "collapsed": false
      },
      "outputs": [],
      "source": [
        "temp_mesh1, rh_mesh = generate_mesh(temp_data, relative_humidity_data)\ntemp_mesh2, deltaT_mesh = generate_mesh(temp_data, deltaT_data)\ntd_mesh = temp_mesh2 - deltaT_mesh"
      ]
    },
    {
      "cell_type": "markdown",
      "metadata": {},
      "source": [
        "## Iterative Calculation\nThis section computes wet-bulb potential temperature using the :py:func:`easyclimate.physics.calc_wet_bulb_potential_temperature_iteration <easyclimate.physics.calc_wet_bulb_potential_temperature_iteration>`\nfunction from easyclimate. The function:\n\n- Takes temperature, relative humidity, and pressure (1013.25 hPa) as inputs.\n- Uses an iterative approach based on the psychrometric formula with a psychrometer constant ($A = 0.662 \\cdot 10^{-3}$).\n- Outputs wet-bulb temperature in \u00b0C for a 2D grid of conditions.\n\n.. seealso::\n\n    - Fan, J. (1987). Determination of the Psychrometer Coefficient A of the WMO Reference Psychrometer by Comparison with a Standard Gravimetric Hygrometer. Journal of Atmospheric and Oceanic Technology, 4(1), 239-244. https://journals.ametsoc.org/view/journals/atot/4/1/1520-0426_1987_004_0239_dotpco_2_0_co_2.xml\n    - Wang Haijun. (2011). Two Wet-Bulb Temperature Estimation Methods and Error Analysis. Meteorological Monthly (Chinese), 37(4): 497-502. website: http://qxqk.nmc.cn/html/2011/4/20110415.html\n    - Cheng Zhi, Wu Biwen, Zhu Baolin, et al, (2011). Wet-Bulb Temperature Looping Iterative Scheme and Its Application. Meteorological Monthly (Chinese), 37(1): 112-115. website: http://qxqk.nmc.cn/html/2011/1/20110115.html\n\nThe result, wet_bulb_iteration, is extracted for a single pressure level.\n\n"
      ]
    },
    {
      "cell_type": "code",
      "execution_count": null,
      "metadata": {
        "collapsed": false
      },
      "outputs": [],
      "source": [
        "wet_bulb_iteration = ecl.physics.calc_wet_bulb_potential_temperature_iteration(\n    temp_mesh1,\n    rh_mesh,\n    xr.DataArray([1013.25], dims=\"p\"),\n    \"degC\", \"%\", \"hPa\",\n    A = 0.662* 10 ** (-3),\n).isel(p = 0)\nwet_bulb_iteration"
      ]
    },
    {
      "cell_type": "markdown",
      "metadata": {},
      "source": [
        "## Stull (2011) Calculation\n\n### Single Point\n\nThis section tests the :py:func:`easyclimate.physics.calc_wet_bulb_temperature_stull2011 <easyclimate.physics.calc_wet_bulb_temperature_stull2011>` function for a single data point (T = 20\u00b0C, RH = 50%):\n\n- Computes wet-bulb temperature using Stull's empirical formula.\n- Converts the result from Kelvin to Celsius for consistency.\n\n.. seealso::\n\n    - Stull, R. (2011). Wet-Bulb Temperature from Relative Humidity and Air Temperature. Journal of Applied Meteorology and Climatology, 50(11), 2267-2269. https://doi.org/10.1175/JAMC-D-11-0143.1\n    - Stull, R. (2011): Meteorology for Scientists and Engineers. 3rd ed. Discount Textbooks, 924 pp. [Available online at https://www.eoas.ubc.ca/books/Practical_Meteorology/, https://www.eoas.ubc.ca/courses/atsc201/MSE3.html]\n    - Knox, J. A., Nevius, D. S., & Knox, P. N. (2017). Two Simple and Accurate Approximations for Wet-Bulb Temperature in Moist Conditions, with Forecasting Applications. Bulletin of the American Meteorological Society, 98(9), 1897-1906. https://doi.org/10.1175/BAMS-D-16-0246.1\n\nThis serves as a simple validation of the Stull method before applying it to the full grid.\n\n"
      ]
    },
    {
      "cell_type": "code",
      "execution_count": null,
      "metadata": {
        "collapsed": false
      },
      "outputs": [],
      "source": [
        "wet_bulb_temp_K = ecl.physics.calc_wet_bulb_temperature_stull2011(\n    temperature_data = xr.DataArray([20]),\n    relative_humidity_data = xr.DataArray([50]),\n    temperature_data_units = \"degC\",\n    relative_humidity_data_units = \"%\"\n)\necl.utility.transfer_data_temperature_units(wet_bulb_temp_K, \"K\", \"degC\")"
      ]
    },
    {
      "cell_type": "markdown",
      "metadata": {},
      "source": [
        "### Grid\n\nThis section applies :py:func:`easyclimate.physics.calc_wet_bulb_temperature_stull2011 <easyclimate.physics.calc_wet_bulb_temperature_stull2011>` to the 2D grid ``(temp_mesh1, rh_mesh)``:\n\n- Calculates wet-bulb temperature across the grid using Stull's formula.\n- Converts the output from Kelvin to Celsius.\n- Stores the result in ``wet_bulb_stull2011``.\n\nThis enables comparison with the iterative method.\n\n"
      ]
    },
    {
      "cell_type": "code",
      "execution_count": null,
      "metadata": {
        "collapsed": false
      },
      "outputs": [],
      "source": [
        "wet_bulb_stull2011 = ecl.physics.calc_wet_bulb_temperature_stull2011(\n    temp_mesh1, rh_mesh, \"degC\", \"%\"\n)\nwet_bulb_stull2011 = ecl.utility.transfer_data_temperature_units(wet_bulb_stull2011, \"K\", \"degC\")"
      ]
    },
    {
      "cell_type": "markdown",
      "metadata": {},
      "source": [
        "### Comparison (Iteration vs. Stull)\nThis section visualizes the results of the iterative and Stull methods:\n\nCreates a contour plot of ``wet_bulb_iteration`` with levels from -20\u00b0C to 50\u00b0C.\nOverlays contours of ``wet_bulb_stull2011`` in black for comparison.\nComputes and plots the difference (``wet_bulb_stull2011 - wet_bulb_iteration``) to highlight discrepancies.\n\nThe plots help assess the agreement between the two methods across different conditions.\n\n"
      ]
    },
    {
      "cell_type": "code",
      "execution_count": null,
      "metadata": {
        "collapsed": false
      },
      "outputs": [],
      "source": [
        "fig, ax = plt.subplots(figsize = (6, 6))\n\nwet_bulb_iteration.plot.contourf(\n    levels = np.arange(-20, 50, 5),\n    cbar_kwargs = {'location': 'bottom', 'aspect': 60}\n)\n\ncf = wet_bulb_stull2011.plot.contour(levels = np.arange(-20, 50, 5), colors='k')\nplt.clabel(cf, inline = True, fontsize = 10)"
      ]
    },
    {
      "cell_type": "code",
      "execution_count": null,
      "metadata": {
        "collapsed": false
      },
      "outputs": [],
      "source": [
        "diff = (wet_bulb_stull2011 - wet_bulb_iteration)\ndiff.plot.contourf(\n    levels = np.linspace(-1, 1, 21),\n    cbar_kwargs = {'location': 'bottom', 'aspect': 60, 'label': 'diff'}\n)"
      ]
    },
    {
      "cell_type": "markdown",
      "metadata": {},
      "source": [
        "## Sadeghi (2013) Calculation\n\n### Grid\n\nThis section computes wet-bulb temperature using :py:func:`easyclimate.physics.calc_wet_bulb_temperature_sadeghi2013 <easyclimate.physics.calc_wet_bulb_temperature_sadeghi2013>` at three elevations (0 m, 2000 m, 5000 m):\n\n- Uses temp_mesh1 and rh_mesh as inputs, with height specified as an :py:class:`xarray.DataArray<xarray.DataArray>`.\n- Outputs results in \u00b0C for each elevation.\n\n.. seealso::\n\n    - Sadeghi, S., Peters, T. R., Cobos, D. R., Loescher, H. W., & Campbell, C. S. (2013). Direct Calculation of Thermodynamic Wet-Bulb Temperature as a Function of Pressure and Elevation. Journal of Atmospheric and Oceanic Technology, 30(8), 1757-1765. https://doi.org/10.1175/JTECH-D-12-00191.1\n\n\nThis evaluates the impact of elevation on wet-bulb temperature using Sadeghi's empirical formula.\n\n"
      ]
    },
    {
      "cell_type": "code",
      "execution_count": null,
      "metadata": {
        "collapsed": false
      },
      "outputs": [],
      "source": [
        "wet_bulb_sadeghi2013_0m = ecl.physics.calc_wet_bulb_temperature_sadeghi2013(\n    temp_mesh1, xr.DataArray([0], dims=\"height\"), rh_mesh, \"degC\", \"m\", \"%\"\n).isel(height = 0)\n\nwet_bulb_sadeghi2013_2000m = ecl.physics.calc_wet_bulb_temperature_sadeghi2013(\n    temp_mesh1, xr.DataArray([2000], dims=\"height\"), rh_mesh, \"degC\", \"m\", \"%\"\n).isel(height = 0)\n\nwet_bulb_sadeghi2013_5000m = ecl.physics.calc_wet_bulb_temperature_sadeghi2013(\n    temp_mesh1, xr.DataArray([5000], dims=\"height\"), rh_mesh, \"degC\", \"m\", \"%\"\n).isel(height = 0)"
      ]
    },
    {
      "cell_type": "markdown",
      "metadata": {},
      "source": [
        "### Comparison (0 m vs. 5000 m)\n\nThis section visualizes the Sadeghi results:\n\n- Creates a contour plot of ``wet_bulb_sadeghi2013_0m``.\n- Overlays contours of ``wet_bulb_sadeghi2013_5000m`` in black.\n- Plots the difference (``wet_bulb_sadeghi2013_0m - wet_bulb_sadeghi2013_5000m``) to show elevation effects.\n\nThese plots illustrate how elevation influences wet-bulb temperature.\n\n"
      ]
    },
    {
      "cell_type": "code",
      "execution_count": null,
      "metadata": {
        "collapsed": false
      },
      "outputs": [],
      "source": [
        "wet_bulb_sadeghi2013_0m.plot.contourf(levels = 21)\nwet_bulb_sadeghi2013_5000m.plot.contour(levels = 21, colors='k')"
      ]
    },
    {
      "cell_type": "code",
      "execution_count": null,
      "metadata": {
        "collapsed": false
      },
      "outputs": [],
      "source": [
        "diff = wet_bulb_sadeghi2013_0m - wet_bulb_sadeghi2013_5000m\ndiff.plot.contourf(\n    levels = np.linspace(-6, 6, 21)\n)"
      ]
    },
    {
      "cell_type": "markdown",
      "metadata": {},
      "source": [
        "## Davies-Jones (2008) Calculation\n\n### Grid\n\nThis section computes wet-bulb potential temperature using :py:func:`easyclimate.physics.calc_wet_bulb_potential_temperature_davies_jones2008 <easyclimate.physics.calc_wet_bulb_potential_temperature_davies_jones2008>`:\n\n- Uses ``temp_mesh2``, ``td_mesh``, and a pressure of 1000 hPa as inputs.\n- Converts the output from Kelvin to Celsius.\n- Stores the result in ``wet_bulb_davies_jones2008``.\n\n.. seealso::\n\n    - Davies-Jones, R. (2008). An Efficient and Accurate Method for Computing the Wet-Bulb Temperature along Pseudoadiabats. Monthly Weather Review, 136(7), 2764-2785. https://doi.org/10.1175/2007MWR2224.1\n    - Knox, J. A., Nevius, D. S., & Knox, P. N. (2017). Two Simple and Accurate Approximations for Wet-Bulb Temperature in Moist Conditions, with Forecasting Applications. Bulletin of the American Meteorological Society, 98(9), 1897-1906. https://doi.org/10.1175/BAMS-D-16-0246.1\n\nThis applies Davies-Jones' approximation, which uses dewpoint temperature directly.\n\n"
      ]
    },
    {
      "cell_type": "code",
      "execution_count": null,
      "metadata": {
        "collapsed": false
      },
      "outputs": [],
      "source": [
        "wet_bulb_davies_jones2008 = ecl.physics.calc_wet_bulb_potential_temperature_davies_jones2008(\n    pressure_data = xr.DataArray([1000], dims = \"p\"), temperature_data = temp_mesh2, dewpoint_data = td_mesh,\n    pressure_data_units = \"hPa\", temperature_data_units = \"degC\", dewpoint_data_units = \"degC\",\n).isel(p = 0)\nwet_bulb_davies_jones2008 = ecl.utility.transfer_data_temperature_units(wet_bulb_davies_jones2008, \"K\", \"degC\")\nwet_bulb_davies_jones2008"
      ]
    },
    {
      "cell_type": "markdown",
      "metadata": {},
      "source": [
        "### Plot Davies-Jones Results\n\nThis section visualizes the Davies-Jones results:\n\n- Creates a contour plot of wet_bulb_davies_jones2008 with levels from -20\u00b0C to 50\u00b0C.\n- Labels axes with temperature ($T$) and temperature-dewpoint difference ($T - T_d$).\n\nThis plot provides insight into the behavior of the Davies-Jones method across the grid.\n\n"
      ]
    },
    {
      "cell_type": "code",
      "execution_count": null,
      "metadata": {
        "collapsed": false
      },
      "outputs": [],
      "source": [
        "fig, ax = plt.subplots(figsize = (6, 6))\n\nwet_bulb_davies_jones2008.plot.contourf(\n    levels = np.arange(-20, 50, 2.5),\n    cbar_kwargs = {'location': 'bottom', 'aspect': 60}\n)\nax.set_xlabel(\"$\\\\mathrm{T}$\")\nax.set_ylabel(\"$\\\\mathrm{T - T_d}$\")"
      ]
    },
    {
      "cell_type": "markdown",
      "metadata": {},
      "source": [
        "## Conclusion\nThe example demonstrates the application of multiple wet-bulb temperature calculation\nmethods provided by the easyclimate library. By generating synthetic data, creating 2D grids,\nand applying iterative, empirical, and approximation-based methods, the script enables a\ncomprehensive comparison of results. Visualizations highlight differences between methods\nand the influence of parameters like elevation, aiding in the evaluation of their accuracy\nand applicability in meteorological analysis.\n\n"
      ]
    }
  ],
  "metadata": {
    "kernelspec": {
      "display_name": "Python 3",
      "language": "python",
      "name": "python3"
    },
    "language_info": {
      "codemirror_mode": {
        "name": "ipython",
        "version": 3
      },
      "file_extension": ".py",
      "mimetype": "text/x-python",
      "name": "python",
      "nbconvert_exporter": "python",
      "pygments_lexer": "ipython3",
      "version": "3.12.11"
    }
  },
  "nbformat": 4,
  "nbformat_minor": 0
}
