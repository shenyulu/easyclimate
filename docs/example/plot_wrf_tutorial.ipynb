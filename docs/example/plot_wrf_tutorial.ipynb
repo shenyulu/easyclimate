{
  "cells": [
    {
      "cell_type": "markdown",
      "metadata": {},
      "source": [
        "\n# Build-in WRF-python\n\nThe [WRF-python Package](https://github.com/NCAR/wrf-python)_ is that a collection of diagnostic and interpolation routines\nfor use with output from the Weather Research and Forecasting (WRF-ARW) Model.\n\nThe ``easyclimate`` package offers a streamlined and user-friendly interface designed to simplify\naccess to the functionalities of ``wrf-python``, a powerful tool for working with Weather Research\nand Forecasting (WRF) model data. One of the key advantages of ``easyclimate`` is its straightforward\ninstallation process, which eliminates many of the complexities typically associated with setting\nup scientific computing environments. Additionally, ``easyclimate`` ensures compatibility with\nnewer versions of ``numpy``, a fundamental library for numerical computations in Python.\nThis compatibility not only enhances performance but also allows users to leverage the latest\nfeatures and optimizations available in modern ``numpy`` releases. By combining ease of use,\nseamless installation, and up-to-date dependencies, ``easyclimate`` provides an efficient and\naccessible solution for researchers and developers working with WRF model data.\n\nThis build-in package provides over 30 diagnostic calculations, several interpolation routines, and utilities to help with plotting via cartopy.\nThe functionality is similar to what is provided by the [NCL WRF package](https://www.ncl.ucar.edu/Document/Functions/wrf.shtml)_.\n\n.. hint::\n\n    For more information, please visit [wrf-python official document](https://wrf-python.readthedocs.io/en/latest/)_.\n\n## Introduction\n\nThe API for wrf-python can be summarized as a variable computation/extraction\nroutine, several interpolation routines, and a few plotting helper utilities.\nThe API is kept as simple as possible to help minimize the\nlearning curve for new programmers, students, and scientists. In the future,\nwe plan to extend xarray for programmers desiring a more object oriented API,\nbut this remains a work in progress.\n\nThe five most commonly used routines can be summarized as:\n\n- :meth:`easyclimate.wrf.getvar` - Extracts WRF-ARW NetCDF variables and\n  computes diagnostic variables that WRF does not compute (e.g. storm\n  relative helicity). This is the routine that you will use most often.\n\n- :meth:`easyclimate.wrf.interplevel` - Interpolates a three-dimensional field to a\n  horizontal plane at a specified level using simple (fast) linear\n  interpolation (e.g. 850 hPa temperature).\n\n- :meth:`easyclimate.wrf.vertcross` - Interpolates a three-dimensional field to a vertical\n  plane through a user-specified horizontal line (i.e. a cross section).\n\n- :meth:`easyclimate.wrf.interpline` - Interpolates a two-dimensional field to a\n  user-specified line.\n\n- :meth:`easyclimate.wrf.vinterp` - Interpolates a three-dimensional field to\n  user-specified  'surface' levels (e.g. theta-e levels). This is a smarter,\n  albeit slower, version of :meth:`easyclimate.wrf.interplevel`.\n\n## Basic Usage\n\n\n### Computing Diagnostic Variables\n\nThe primary use for the :meth:`easyclimate.wrf.getvar` function is to return diagnostic\nvariables that require a calculation, since WRF does not produce these\nvariables natively. These diagnostics include CAPE, storm relative helicity,\nomega, sea level pressure, etc. A table of all available diagnostics can be\nfound here: `diagnostic-table`.\n\nIn the example below, sea level pressure is calculated and printed.\n"
      ]
    },
    {
      "cell_type": "code",
      "execution_count": null,
      "metadata": {
        "collapsed": false
      },
      "outputs": [],
      "source": [
        "from __future__ import print_function\n\nimport easyclimate as ecl\nimport xarray as xr\n\ndata = xr.open_dataset(\"wrfout_d01_2022-05-01_00_00_00.nc4\")\nncfile = ecl.wrf.transfer_xarray2nctype(data)\n# Or open it directly\nncfile = ecl.wrf.open_wrf_data(\"wrfout_d01_2022-05-01_00_00_00.nc4\")\n\n# Get the Sea Level Pressure\nslp = ecl.wrf.getvar(ncfile, \"slp\")\nslp"
      ]
    },
    {
      "cell_type": "markdown",
      "metadata": {},
      "source": [
        "\n### Extracting WRF NetCDF Variables\n\nIn addition to computing diagnostic variables (see `diagnostic-usage`),\nthe :meth:`easyclimate.wrf.getvar` function can be used to extract regular WRF-ARW output\nNetCDF variables.\n\n"
      ]
    },
    {
      "cell_type": "code",
      "execution_count": null,
      "metadata": {
        "collapsed": false
      },
      "outputs": [],
      "source": [
        "p = ecl.wrf.getvar(ncfile, \"P\")\np"
      ]
    },
    {
      "cell_type": "markdown",
      "metadata": {},
      "source": [
        "### Disabling xarray and metadata\n\nSometimes you just want a regular numpy array and don't care about metadata.\nThis is often the case when you are working with compiled extensions.  Metadata\ncan be disabled in one of two ways.\n\n#. disable xarray completely\n#. set the *meta* function parameter to False.\n\nThe example below illustrates both.\n\n"
      ]
    },
    {
      "cell_type": "code",
      "execution_count": null,
      "metadata": {
        "collapsed": false
      },
      "outputs": [],
      "source": [
        "# Disable xarray completely\necl.wrf.disable_xarray()\np_no_meta = ecl.wrf.getvar(ncfile, \"P\")\nprint (type(p_no_meta))\necl.wrf.enable_xarray()\n\n# Disable by using the meta parameter\np_no_meta = ecl.wrf.getvar(ncfile, \"P\", meta=False)\nprint (type(p_no_meta))"
      ]
    },
    {
      "cell_type": "markdown",
      "metadata": {},
      "source": [
        "### Extracting a Numpy Array from a DataArray\n\nIf you need to convert an :class:`xarray.DataArray` to a :class:`numpy.ndarray`,\nwrf-python provides the :meth:`easyclimate.wrf.to_np` function for this purpose. Although\nan :class:`xarray.DataArary` object already contains the\n:attr:`xarray.DataArray.values` attribute to extract the Numpy array, there is a\nproblem when working with compiled extensions. The behavior for xarray (and pandas)\nis to convert missing/fill values to NaN, which may cause crashes when working\nwith compiled extensions.  Also, some existing code may be designed to work with\n:class:`numpy.ma.MaskedArray`, and numpy arrays with NaN may not work with it.\n\nThe :meth:`easyclimate.wrf.to_np` function does the following:\n\n#. If no missing/fill values are used, :meth:`easyclimate.wrf.to_np` simply returns the\n   :attr:`xarray.DataArray.values` attribute.\n\n#. If missing/fill values are used, then :meth:`easyclimate.wrf.to_np` replaces the NaN\n   values with the _FillValue found in the :attr:`xarray.DataArray.attrs`\n   attribute (required) and a :class:`numpy.ma.MaskedArray` is returned.\n\n"
      ]
    },
    {
      "cell_type": "code",
      "execution_count": null,
      "metadata": {
        "collapsed": false
      },
      "outputs": [],
      "source": [
        "# Get the 3D CAPE, which contains missing values\ncape_3d = ecl.wrf.getvar(ncfile, \"cape_3d\")\n\n# Since there are missing values, this should return a MaskedArray\ncape_3d_ndarray = ecl.wrf.to_np(cape_3d)\n\nprint(type(cape_3d_ndarray))"
      ]
    },
    {
      "cell_type": "markdown",
      "metadata": {},
      "source": [
        "## Interpolation Routines\n\n### Interpolating to a Horizontal Level\n\nThe :meth:`easyclimate.wrf.interplevel` function is used to interpolate a 3D field to\na specific horizontal level, usually pressure or height.\n\n"
      ]
    },
    {
      "cell_type": "code",
      "execution_count": null,
      "metadata": {
        "collapsed": false
      },
      "outputs": [],
      "source": [
        "# Extract the Geopotential Height and Pressure (hPa) fields\nz = ecl.wrf.getvar(ncfile, \"z\")\np = ecl.wrf.getvar(ncfile, \"pressure\")\n\n# Compute the 500 MB Geopotential Height\nht_500mb = ecl.wrf.interplevel(z, p, 500.)\nht_500mb"
      ]
    },
    {
      "cell_type": "markdown",
      "metadata": {},
      "source": [
        "\n### Vertical Cross Sections\n\nThe :meth:`easyclimate.wrf.vertcross` function is used to create vertical cross sections.\nTo define a cross section, a start point and an end point needs to be specified.\nAlternatively, a pivot point and an angle may be used.  The start point,\nend point, and pivot point are specified using a :class:`easyclimate.wrf.CoordPair` object,\nand coordinates can either be in grid (x,y) coordinates or (latitude,longitude)\ncoordinates. When using (latitude,longitude) coordinates, a NetCDF file object or\na :class:`easyclimate.wrf.WrfProj` object must be provided.\n\nThe vertical levels can also be specified using the *levels* parameter.  If\nnot specified, then approximately 100 levels will be chosen in 1% increments.\n\n#### Example: Using Start Point and End Point\n\n"
      ]
    },
    {
      "cell_type": "code",
      "execution_count": null,
      "metadata": {
        "collapsed": false
      },
      "outputs": [],
      "source": [
        "# Get the geopotential height (m) and pressure (hPa).\nz = ecl.wrf.getvar(ncfile, \"z\")\np = ecl.wrf.getvar(ncfile, \"pressure\")\n\n# Define a start point and end point in grid coordinates\nstart_point = ecl.wrf.CoordPair(x=0, y=(z.shape[-2]-1)//2)\nend_point = ecl.wrf.CoordPair(x=-1, y=(z.shape[-2]-1)//2)\n\n# Calculate the vertical cross section.  By setting latlon to True, this\n# also calculates the latitude and longitude coordinates along the cross\n# section line and adds them to the 'xy_loc' metadata to help with plotting.\np_vert = ecl.wrf.vertcross(p, z, start_point=start_point, end_point=end_point, latlon=True)\np_vert"
      ]
    },
    {
      "cell_type": "markdown",
      "metadata": {},
      "source": [
        "#### Example: Using Pivot Point and Angle\n\n"
      ]
    },
    {
      "cell_type": "code",
      "execution_count": null,
      "metadata": {
        "collapsed": false
      },
      "outputs": [],
      "source": [
        "# Get the geopotential height (m) and pressure (hPa).\nz = ecl.wrf.getvar(ncfile, \"z\")\np = ecl.wrf.getvar(ncfile, \"pressure\")\n\n# Define a pivot point and angle in grid coordinates, with the\n# pivot point being the center of the grid.\npivot_point = ecl.wrf.CoordPair(x=(z.shape[-1]-1)//2, y=(z.shape[-2]-1)//2)\nangle = 90.0\n\n# Calculate the vertical cross section.  By setting latlon to True, this\n# also calculates the latitude and longitude coordinates along the line\n# and adds them to the metadata to help with plotting labels.\np_vert = ecl.wrf.vertcross(p, z, pivot_point=pivot_point, angle=angle, latlon=True)\np_vert"
      ]
    },
    {
      "cell_type": "markdown",
      "metadata": {},
      "source": [
        "#### Example: Using Lat/Lon Coordinates\n\n"
      ]
    },
    {
      "cell_type": "code",
      "execution_count": null,
      "metadata": {
        "collapsed": false
      },
      "outputs": [],
      "source": [
        "# Get the geopotential height (m) and pressure (hPa).\nz = ecl.wrf.getvar(ncfile, \"z\")\np = ecl.wrf.getvar(ncfile, \"pressure\")\nlats = ecl.wrf.getvar(ncfile, \"lat\")\nlons = ecl.wrf.getvar(ncfile, \"lon\")\n\n# Making the same horizontal line, but with lats/lons\nstart_lat = lats[(lats.shape[-2]-1)//2, 0]\nend_lat = lats[(lats.shape[-2]-1)//2, -1]\nstart_lon = lons[(lats.shape[-2]-1)//2, 0]\nend_lon = lons[(lats.shape[-2]-1)//2, -1]\n\n# Cross section line using start_point and end_point.\nstart_point = ecl.wrf.CoordPair(lat=start_lat, lon=start_lon)\nend_point = ecl.wrf.CoordPair(lat=end_lat, lon=end_lon)\n\n# When using lat/lon coordinates, you must supply a WRF netcdf file object,\n# or a projection object with the lower left latitude and lower left\n# longitude points.\np_vert = ecl.wrf.vertcross(p, z, wrfin=ncfile, start_point=start_point, end_point=end_point, latlon=True)\np_vert"
      ]
    },
    {
      "cell_type": "markdown",
      "metadata": {},
      "source": [
        "#### Example: Using Specified Vertical Levels\n\n"
      ]
    },
    {
      "cell_type": "code",
      "execution_count": null,
      "metadata": {
        "collapsed": false
      },
      "outputs": [],
      "source": [
        "# Get the geopotential height (m) and pressure (hPa).\nz = ecl.wrf.getvar(ncfile, \"z\")\np = ecl.wrf.getvar(ncfile, \"pressure\")\nlats = ecl.wrf.getvar(ncfile, \"lat\")\nlons = ecl.wrf.getvar(ncfile, \"lon\")\n\n# Making the same horizontal line, but with lats/lons\nstart_lat = lats[(lats.shape[-2]-1)//2, 0]\nend_lat = lats[(lats.shape[-2]-1)//2, -1]\nstart_lon = lons[(lats.shape[-2]-1)//2, 0]\nend_lon = lons[(lats.shape[-2]-1)//2, -1]\n\n# Pressure using start_point and end_point.  These were obtained using\nstart_point = ecl.wrf.CoordPair(lat=start_lat, lon=start_lon)\nend_point = ecl.wrf.CoordPair(lat=end_lat, lon=end_lon)\n\n# Specify vertical levels\nlevels = [1000., 2000., 3000.]\n\n# Calculate the cross section\np_vert = ecl.wrf.vertcross(p, z, wrfin=ncfile, levels=levels, start_point=start_point, end_point=end_point, latlon=True)\np_vert"
      ]
    },
    {
      "cell_type": "markdown",
      "metadata": {},
      "source": [
        "### Interpolating Two-Dimensional Fields to a Line\n\nTwo-dimensional fields can be interpolated along a line, in a manner similar to\nthe vertical cross section (see `vert_cross_interp`), using the\n:meth:`easyclimate.wrf.interpline` function. To define the line\nto interpolate along, a start point and an end point needs to be specified.\nAlternatively, a pivot point and an angle may be used.  The start point,\nend point, and pivot point are specified using a :class:`easyclimate.wrf.CoordPair` object,\nand coordinates can either be in grid (x,y) coordinates or (latitude,longitude)\ncoordinates.  When using (latitude,longitude) coordinates, a NetCDF file object or\na :class:`easyclimate.wrf.WrfProj` object must also be provided.\n\n#### Example: Using Start Point and End Point\n\n"
      ]
    },
    {
      "cell_type": "code",
      "execution_count": null,
      "metadata": {
        "collapsed": false
      },
      "outputs": [],
      "source": [
        "# Get the 2m temperature\nt2 = ecl.wrf.getvar(ncfile, \"T2\")\n\n# Create a south-north line in the center of the domain using\n# start point and end point\nstart_point = ecl.wrf.CoordPair(x=(t2.shape[-1]-1)//2, y=0)\nend_point = ecl.wrf.CoordPair(x=(t2.shape[-1]-1)//2, y=-1)\n\n# Calculate the vertical cross section.  By setting latlon to True, this\n# also calculates the latitude and longitude coordinates along the line\n# and adds them to the metadata to help with plotting labels.\nt2_line = ecl.wrf.interpline(t2, start_point=start_point, end_point=end_point, latlon=True)\nt2_line"
      ]
    },
    {
      "cell_type": "markdown",
      "metadata": {},
      "source": [
        "#### Example: Using Pivot Point and Angle\n\n"
      ]
    },
    {
      "cell_type": "code",
      "execution_count": null,
      "metadata": {
        "collapsed": false
      },
      "outputs": [],
      "source": [
        "# Get the 2m temperature\nt2 = ecl.wrf.getvar(ncfile, \"T2\")\n\n# Create a south-north line using pivot point and angle\npivot_point = ecl.wrf.CoordPair((t2.shape[-1]-1)//2, (t2.shape[-2]-1)//2)\nangle = 0.0\n\n# Calculate the vertical cross section.  By setting latlon to True, this\n# also calculates the latitude and longitude coordinates along the line\n# and adds them to the metadata to help with plotting labels.\nt2_line = ecl.wrf.interpline(t2, pivot_point=pivot_point, angle=angle, latlon=True)\nt2_line"
      ]
    },
    {
      "cell_type": "markdown",
      "metadata": {},
      "source": [
        "#### Example: Using Lat/Lon Coordinates\n\n"
      ]
    },
    {
      "cell_type": "code",
      "execution_count": null,
      "metadata": {
        "collapsed": false
      },
      "outputs": [],
      "source": [
        "t2 = ecl.wrf.getvar(ncfile, \"T2\")\nlats = ecl.wrf.getvar(ncfile, \"lat\")\nlons = ecl.wrf.getvar(ncfile, \"lon\")\n\n# Select the latitude,longitude points for a vertical line through\n# the center of the domain.\nstart_lat = lats[0, (lats.shape[-1]-1)//2]\nend_lat = lats[-1, (lats.shape[-1]-1)//2]\nstart_lon = lons[0, (lons.shape[-1]-1)//2]\nend_lon = lons[-1, (lons.shape[-1]-1)//2]\n\n# Create the CoordPairs\nstart_point = ecl.wrf.CoordPair(lat=start_lat, lon=start_lon)\nend_point = ecl.wrf.CoordPair(lat=end_lat, lon=end_lon)\n\n# Calculate the interpolated line.  To use latitude and longitude points,\n# you must supply a WRF NetCDF file object, or a projection object along\n# with the lower left latitude and lower left longitude points.\n# Also, by setting latlon to True, this routine will\n# also calculate the latitude and longitude coordinates along the line\n# and adds them to the metadata to help with plotting labels.\nt2_line = ecl.wrf.interpline(t2, wrfin=ncfile, start_point=start_point, end_point=end_point, latlon=True)\nt2_line"
      ]
    },
    {
      "cell_type": "markdown",
      "metadata": {},
      "source": [
        "### Interpolating a 3D Field to a Surface Type\n\nThe :meth:`easyclimate.wrf.vinterp` is used to interpolate a field to a type of surface.\nThe available surfaces are pressure, geopotential height, theta, and theta-e.\nThe surface levels to interpolate also need to be specified.\n\n"
      ]
    },
    {
      "cell_type": "code",
      "execution_count": null,
      "metadata": {
        "collapsed": false
      },
      "outputs": [],
      "source": [
        "tk = ecl.wrf.getvar(ncfile, \"tk\")\n# Interpolate tk to theta-e levels\ninterp_levels = [200, 300, 500, 1000]\n\ninterp_field = ecl.wrf.vinterp(\n    ncfile,\n    field=tk,\n    vert_coord=\"eth\",\n    interp_levels=interp_levels,\n    extrapolate=True,\n    field_type=\"tk\",\n    log_p=True\n)\ninterp_field"
      ]
    },
    {
      "cell_type": "markdown",
      "metadata": {},
      "source": [
        "## Lat/Lon \u2194\ufe0f XY Routines\n\nwrf-python includes a set of routines for converting back and forth between\nlatitude,longitude space and x,y space.  The methods are :meth:`easyclimate.wrf.xy_to_ll`,\n:meth:`easyclimate.wrf.xy_to_ll_proj`, :meth:`easyclimate.wrf.ll_to_xy`, :meth:`easyclimate.wrf.ll_to_xy_proj`.\nThe *latitude*, *longitude*, *x*, and *y* parameters to these methods\ncan contain sequences if multiple points are desired to be converted.\n\n### Example: With Single Coordinates\n\n"
      ]
    },
    {
      "cell_type": "code",
      "execution_count": null,
      "metadata": {
        "collapsed": false
      },
      "outputs": [],
      "source": [
        "lat_lon = ecl.wrf.xy_to_ll(ncfile, 400, 200)\nlat_lon"
      ]
    },
    {
      "cell_type": "code",
      "execution_count": null,
      "metadata": {
        "collapsed": false
      },
      "outputs": [],
      "source": [
        "x_y = ecl.wrf.ll_to_xy(ncfile, lat_lon[0], lat_lon[1])\nx_y"
      ]
    },
    {
      "cell_type": "markdown",
      "metadata": {},
      "source": [
        "### Example: With Multiple Coordinates\n\n"
      ]
    },
    {
      "cell_type": "code",
      "execution_count": null,
      "metadata": {
        "collapsed": false
      },
      "outputs": [],
      "source": [
        "lat_lon = ecl.wrf.xy_to_ll(ncfile, [400,105], [200,205])\nlat_lon"
      ]
    },
    {
      "cell_type": "code",
      "execution_count": null,
      "metadata": {
        "collapsed": false
      },
      "outputs": [],
      "source": [
        "x_y = ecl.wrf.ll_to_xy(ncfile, lat_lon[0,:], lat_lon[1,:])\nx_y"
      ]
    },
    {
      "cell_type": "markdown",
      "metadata": {},
      "source": [
        "## Mapping Helper Routines\n\nwrf-python includes several routines to assist with plotting, primarily for\nobtaining the mapping object used for cartopy, basemap, and PyNGL.  For all\nthree plotting systems, the mapping object can be determined directly from\na variable when using xarray, or can be obtained from the WRF output file(s)\nif xarray is turned off.\n\nAlso included are utilities for extracting the geographic boundaries\ndirectly from xarray variables.  This can be useful in situations where you\nonly want to work with subsets (slices) of a large domain, but don't want to\ndefine the map projection over the subset region.\n\n\n Example: Using a Variable with Cartopy\n^^^^^^^^^^^^^^^^^^^^^^^^^^^^^^^^^^^^^^^^^^^^\n\nIn this example, we're going to extract the cartopy mapping object from a\ndiagnostic variable (slp), the lat,lon coordinates, and the geographic\nboundaries.  Next, we're going to take a subset of the diagnostic variable\nand extract the geographic boundaries.  Some of the variables\nwill be printed for demonstration.\n\n"
      ]
    },
    {
      "cell_type": "code",
      "execution_count": null,
      "metadata": {
        "collapsed": false
      },
      "outputs": [],
      "source": [
        "# Use SLP for the example variable\nslp = ecl.wrf.getvar(ncfile, \"slp\")\n\n# Get the cartopy mapping object\ncart_proj = ecl.wrf.get_cartopy(slp)\nprint (cart_proj)\n\n# Get the latitude and longitude coordinate.  This is usually needed for plotting.\nlats, lons = ecl.wrf.latlon_coords(slp)\n\n# Get the geobounds for the SLP variable\nbounds = ecl.wrf.geo_bounds(slp)\nprint (bounds)\n\n# Get the geographic boundaries for a subset of the domain\nslp_subset = slp[30:50, 40:70]\nslp_subset_bounds = ecl.wrf.geo_bounds(slp_subset)\nprint (slp_subset_bounds)"
      ]
    },
    {
      "cell_type": "markdown",
      "metadata": {},
      "source": [
        "### Example: Using WRF Output Files with Cartopy\n\nIn this example, the cartopy mapping object and geographic boundaries\nwill be extracted directly from the netcdf variable.\n\n"
      ]
    },
    {
      "cell_type": "code",
      "execution_count": null,
      "metadata": {
        "collapsed": false
      },
      "outputs": [],
      "source": [
        "# Get the cartopy mapping object from the netcdf file\ncart_proj = ecl.wrf.get_cartopy(wrfin=ncfile)\nprint (cart_proj)\n\n# Get the geobounds from the netcdf file (by default, uses XLAT, XLONG)\n# You can supply a variable name to get the staggered boundaries\nbounds = ecl.wrf.geo_bounds(wrfin=ncfile)\nprint (bounds)"
      ]
    },
    {
      "cell_type": "markdown",
      "metadata": {},
      "source": [
        "## Using OpenMP\n\nBeginning in version 1.1, the Fortran computational routines in wrf-python make\nuse of OpenMP directives. OpenMP enables the calculations to use multiple CPU\ncores, which can improve performance. In order to use OpenMP features,\nwrf-python has to be compiled with OpenMP enabled (most pre-built binary\ninstallations will have this enabled).\n\nThe Fortran computational routines have all been built using runtime\nscheduling, instead of compile time scheduling, so that the user can choose the\nscheduler type within their Python application. By default, the scheduling\ntype is set to :data:`easyclimate.wrf.OMP_SCHED_STATIC` using only 1 CPU core, so\nwrf-python will behave similarly to the non-OpenMP built versions. For the most\npart, the difference between the scheduling types is minimal, with the exception\nbeing the :data:`easyclimate.wrf.OMP_SCHED_DYNAMIC` scheduler that is much slower due to\nthe additional overhead associated with it. For new users, using the default\nscheduler should be sufficient.\n\n\n### Verifying that OpenMP is Enabled\n\nTo take advantage of the performance improvements offered by OpenMP, wrf-python\nneeds to have been compiled with OpenMP features enabled. The example below\nshows how you can determine if OpenMP is enabled in your build of wrf-python.\n\n"
      ]
    },
    {
      "cell_type": "code",
      "execution_count": null,
      "metadata": {
        "collapsed": false
      },
      "outputs": [],
      "source": [
        "from easyclimate.wrf import omp_enabled\nprint(omp_enabled())"
      ]
    },
    {
      "cell_type": "markdown",
      "metadata": {},
      "source": [
        "### Determining the Number of Available Processors\n\nThe example below shows how you can get the maximum number of processors\nthat are available on your system.\n\n"
      ]
    },
    {
      "cell_type": "code",
      "execution_count": null,
      "metadata": {
        "collapsed": false
      },
      "outputs": [],
      "source": [
        "from easyclimate.wrf import omp_get_num_procs\nprint(omp_get_num_procs())"
      ]
    },
    {
      "cell_type": "markdown",
      "metadata": {},
      "source": [
        "### Specifying the Number of Threads\n\nTo enable multicore support via OpenMP, specifying the maximum number\nof OpenMP threads (i.e. CPU cores) is the only step that you need to take.\n\nIn the example below, :meth:`easyclimate.wrf.omp_set_num_threads` is used to set the\nmaximum number of threads to use, and :meth:`easyclimate.wrf.omp_get_max_threads` is used\nto retrieve (and print) the maximum number of threads used.\n\n<div class=\"alert alert-info\"><h4>Note</h4><p>Although there is an OpenMP routine named :meth:`easyclimate.wrf.omp_get_num_threads`,\n   this routine will always return 1 when called from the sequential part of\n   the program. Use :meth:`easyclimate.wrf.omp_get_max_threads` to return the value set by\n   :meth:`easyclimate.wrf.omp_set_num_threads`.</p></div>\n\n"
      ]
    },
    {
      "cell_type": "code",
      "execution_count": null,
      "metadata": {
        "collapsed": false
      },
      "outputs": [],
      "source": [
        "from easyclimate.wrf import omp_set_num_threads, omp_get_max_threads\nomp_set_num_threads(4)\nprint (omp_get_max_threads())"
      ]
    },
    {
      "cell_type": "markdown",
      "metadata": {},
      "source": [
        "### Setting a Different Scheduler Type\n\nWhen an OpenMP directive is encountered in the Fortran code, a scheduler is\nused to determine how the work is divided among the threads. All of the\nFortran routines are compiled to use a 'runtime' scheduler, which indicates\nthat the scheduler type (from the four listed below) is to be chosen at\nruntime (i.e. inside a Python script)\n\nBy default, the scheduler chosen is the :data:`easyclimate.wrf.OMP_SCHED_STATIC` scheduler,\nwhich should be sufficient for most users. However, OpenMP and wrf-python\ninclude the following options for the scheduler type:\n\n- :data:`easyclimate.wrf.OMP_SCHED_STATIC`\n- :data:`easyclimate.wrf.OMP_SCHED_DYNAMIC`\n- :data:`easyclimate.wrf.OMP_SCHED_GUIDED`\n- :data:`easyclimate.wrf.OMP_SCHED_AUTO`\n\nRefer to the\n[OpenMP Specification](http://www.openmp.org/wp-content/uploads/openmp-4.5.pdf) (PDF file).\nfor more information about these scheduler types. In local testing,\n:data:`easyclimate.wrf.OMP_SCHED_GUIDED` produced the best results, but\ndifferences between :data:`easyclimate.wrf.OMP_SCHED_STATIC`,\n:data:`easyclimate.wrf.OMP_SCHED_GUIDED`, and\n:data:`easyclimate.wrf.OMP_SCHED_AUTO` were minor. However,\n:data:`easyclimate.wrf.OMP_SCHED_DYNAMIC` produced noticeably slower results\ndue to the overhead of using a dynamic scheduler.\n\nWhen setting a scheduler type, the :meth:`easyclimate.wrf.omp_set_schedule` takes two\narguments.  The first is the scheduler type (one from the list above), and the\nsecond optional argument is a modifier, which is usually referred as the chunk\nsize. If the modifier/chunk_size is set to 0, then the OpenMP default\nimplementation is used. For :data:`easyclimate.wrf.OMP_SCHED_AUTO`, the\nmodifier is ignored.\n\nIf you are new to OpenMP and all this sounds confusing, don't worry about\nsetting a scheduler type.  The default static scheduler will be good enough.\n\nIn the example below, the scheduler type is set to\n:data:`easyclimate.wrf.OMP_SCHED_GUIDED` and uses the default chunk size of 0. The\nscheduler type is then read back using :meth:`easyclimate.wrf.omp_get_schedule`\nand printed.\n\n"
      ]
    },
    {
      "cell_type": "code",
      "execution_count": null,
      "metadata": {
        "collapsed": false
      },
      "outputs": [],
      "source": [
        "from easyclimate.wrf import omp_set_schedule, omp_get_schedule, OMP_SCHED_GUIDED\n\nomp_set_schedule(OMP_SCHED_GUIDED, 0)\nsched, modifier = omp_get_schedule()\nprint(sched, modifier)"
      ]
    },
    {
      "cell_type": "markdown",
      "metadata": {},
      "source": [
        "Notice that the printed scheduler type (*sched* variable) is set to a\nvalue of 3, which is the actual integer constant value for the\n:data:`easyclimate.wrf.OMP_SCHED_GUIDED` scheduler type. The *modifier* is returned as a\nvalue of 1, which is different than the 0 that was supplied to the\n:meth:`easyclimate.wrf.omp_set_schedule` routine. This is because the 0 tells OpenMP to use\nits own default value for the scheduler, which is 1 for this type of scheduler.\n\n"
      ]
    },
    {
      "cell_type": "markdown",
      "metadata": {},
      "source": [
        "\n## Table of Available Diagnostics\n\n.. include:: ../static_docs/product_table.rst\n\n\n\n### Table of Subproduct Diagnostics\n\nSome diagnostics (e.g. cape_2d) include multiple products in its\noutput. These products have been broken out in to individual diagnostics\nto help those utilities that are unable to work with multiple outputs.\nThese individual diagnostics can be requested like any other diagnostic\nusing :meth:`easyclimate.wrf.getvar`. These are summarized in the table below.\n\n\n.. include:: ../static_docs/subproducts.rst\n\n"
      ]
    }
  ],
  "metadata": {
    "kernelspec": {
      "display_name": "Python 3",
      "language": "python",
      "name": "python3"
    },
    "language_info": {
      "codemirror_mode": {
        "name": "ipython",
        "version": 3
      },
      "file_extension": ".py",
      "mimetype": "text/x-python",
      "name": "python",
      "nbconvert_exporter": "python",
      "pygments_lexer": "ipython3",
      "version": "3.11.11"
    }
  },
  "nbformat": 4,
  "nbformat_minor": 0
}
