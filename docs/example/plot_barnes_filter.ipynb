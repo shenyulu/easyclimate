{
  "cells": [
    {
      "cell_type": "markdown",
      "metadata": {},
      "source": [
        "\n# Barnes filter\n\nBarnes filter is a commonly used spatial filtering method that mainly uses two constants g and c to calculate Gaussian weights,\nand performs spatial interpolation for each grid point, thus becoming a low-pass filter that filters out high-frequency fluctuations.\nWhen using two different schemes of constant g and c schemes, both retain low-frequency fluctuations of different scales.\nThe difference between the filtering results of the two methods can result in mesoscale fluctuations.\n\n.. seealso::\n    - Maddox, R. A. (1980). An Objective Technique for Separating Macroscale and Mesoscale Features in Meteorological Data. Monthly Weather Review, 108(8), 1108-1121. https://journals.ametsoc.org/view/journals/mwre/108/8/1520-0493_1980_108_1108_aotfsm_2_0_co_2.xml\n    - https://github.com/LinOuyang/pybarnes\n\nBefore proceeding with all the steps, first import some necessary libraries and packages\n"
      ]
    },
    {
      "cell_type": "code",
      "execution_count": null,
      "metadata": {
        "collapsed": false
      },
      "outputs": [],
      "source": [
        "import matplotlib.pyplot as plt\nimport easyclimate as ecl"
      ]
    },
    {
      "cell_type": "markdown",
      "metadata": {},
      "source": [
        "Open tuturial dataset\n\n"
      ]
    },
    {
      "cell_type": "code",
      "execution_count": null,
      "metadata": {
        "collapsed": false
      },
      "outputs": [],
      "source": [
        "hgt_data = ecl.open_tutorial_dataset(\"hgt_2022_day5\").hgt.sel(level = 500)\nhgt_data"
      ]
    },
    {
      "cell_type": "markdown",
      "metadata": {},
      "source": [
        "Filter dataset using :py:func:`easyclimate.filter.calc_barnes_lowpass <easyclimate.filter.calc_barnes_lowpass>`\n\n"
      ]
    },
    {
      "cell_type": "code",
      "execution_count": null,
      "metadata": {
        "collapsed": false
      },
      "outputs": [],
      "source": [
        "hgt_data1 = ecl.filter.calc_barnes_lowpass(hgt_data)\nhgt_data1"
      ]
    },
    {
      "cell_type": "markdown",
      "metadata": {},
      "source": [
        "Draw results and differences.\n\n"
      ]
    },
    {
      "cell_type": "code",
      "execution_count": null,
      "metadata": {
        "collapsed": false
      },
      "outputs": [],
      "source": [
        "fig, ax = plt.subplots(3,1, figsize = (5, 15))\n\naxi = ax[0]\nhgt_data.isel(time = 0).plot.contourf(\n    ax = axi, levels = 21,\n    cbar_kwargs={\"location\": \"right\", \"aspect\": 30},\n)\naxi.set_title(\"Raw data\")\n\naxi = ax[1]\nhgt_data1.isel(time = 0).plot.contourf(\n    ax = axi, levels = 21,\n    cbar_kwargs={\"location\": \"right\", \"aspect\": 30},\n)\naxi.set_title(\"Filtered data\")\n\naxi = ax[2]\ndraw_dta = hgt_data.isel(time = 0) - hgt_data1.isel(time = 0)\ndraw_dta.plot.contourf(\n    ax = axi, levels = 21,\n    cbar_kwargs={\"location\": \"right\", \"aspect\": 30},\n)\naxi.set_title(\"Mesoscale fluctuations\")"
      ]
    }
  ],
  "metadata": {
    "kernelspec": {
      "display_name": "Python 3",
      "language": "python",
      "name": "python3"
    },
    "language_info": {
      "codemirror_mode": {
        "name": "ipython",
        "version": 3
      },
      "file_extension": ".py",
      "mimetype": "text/x-python",
      "name": "python",
      "nbconvert_exporter": "python",
      "pygments_lexer": "ipython3",
      "version": "3.11.11"
    }
  },
  "nbformat": 4,
  "nbformat_minor": 0
}
