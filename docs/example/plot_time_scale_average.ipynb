{
  "cells": [
    {
      "cell_type": "markdown",
      "metadata": {},
      "source": [
        "\n# Time Scale Average\n\nBefore proceeding with all the steps, first import some necessary libraries and packages\n"
      ]
    },
    {
      "cell_type": "code",
      "execution_count": null,
      "metadata": {
        "collapsed": false
      },
      "outputs": [],
      "source": [
        "import easyclimate as ecl\nimport xarray as xr"
      ]
    },
    {
      "cell_type": "markdown",
      "metadata": {},
      "source": [
        "Example data are sea ice concentration (SIC) data for the Barents-Kara Sea (30\u00b0-90\u00b0E, 65\u00b0-85\u00b0N).\n\n"
      ]
    },
    {
      "cell_type": "code",
      "execution_count": null,
      "metadata": {
        "collapsed": false
      },
      "outputs": [],
      "source": [
        "sic_data_Barents_Sea = ecl.tutorial.open_tutorial_dataset(\"mini_HadISST_ice\").sic\nsic_data_Barents_Sea"
      ]
    },
    {
      "cell_type": "markdown",
      "metadata": {},
      "source": [
        "## Mean States\nSolving for the overall climatological mean state was solved using :py:func:`easyclimate.calc_all_climatological_mean <easyclimate.calc_all_climatological_mean>`.\n\n\n"
      ]
    },
    {
      "cell_type": "code",
      "execution_count": null,
      "metadata": {
        "collapsed": false
      },
      "outputs": [],
      "source": [
        "ecl.calc_all_climatological_mean(sic_data_Barents_Sea, dim=\"time\")"
      ]
    },
    {
      "cell_type": "markdown",
      "metadata": {},
      "source": [
        "If the climate state is for each season, the results are solved using :py:func:`easyclimate.calc_seasonal_climatological_mean <easyclimate.calc_seasonal_climatological_mean>`.\n\n"
      ]
    },
    {
      "cell_type": "code",
      "execution_count": null,
      "metadata": {
        "collapsed": false
      },
      "outputs": [],
      "source": [
        "ecl.calc_seasonal_climatological_mean(sic_data_Barents_Sea, dim=\"time\")"
      ]
    },
    {
      "cell_type": "markdown",
      "metadata": {},
      "source": [
        "However, if the climate state is for each month, the results are solved using :py:func:`easyclimate.calc_seasonal_cycle_mean <easyclimate.calc_seasonal_cycle_mean>`.\n\n"
      ]
    },
    {
      "cell_type": "code",
      "execution_count": null,
      "metadata": {
        "collapsed": false
      },
      "outputs": [],
      "source": [
        "ecl.calc_seasonal_cycle_mean(sic_data_Barents_Sea, dim=\"time\")"
      ]
    },
    {
      "cell_type": "markdown",
      "metadata": {},
      "source": [
        "## Remove Seasonal Cycle\n:py:func:`easyclimate.remove_seasonal_cycle_mean <easyclimate.remove_seasonal_cycle_mean>` helps us to remove seasonal cycles (annual cycles) from the data in order to obtain monthly average anomalies.\n\n"
      ]
    },
    {
      "cell_type": "code",
      "execution_count": null,
      "metadata": {
        "collapsed": false
      },
      "outputs": [],
      "source": [
        "sic_data_Barents_Sea_remove_seasonal_cycle = ecl.remove_seasonal_cycle_mean(\n    sic_data_Barents_Sea, dim=\"time\"\n)\nsic_data_Barents_Sea_remove_seasonal_cycle"
      ]
    },
    {
      "cell_type": "markdown",
      "metadata": {},
      "source": [
        "We can visualize the results by plotting.\n\n"
      ]
    },
    {
      "cell_type": "code",
      "execution_count": null,
      "metadata": {
        "collapsed": false
      },
      "outputs": [],
      "source": [
        "sic_data_Barents_Sea_remove_seasonal_cycle.mean(dim=(\"lat\", \"lon\")).sel(\n    time=slice(\"2010-01-01\", \"2015-12-31\")\n).plot(\n    figsize=(10, 3),\n    marker=\".\",\n)"
      ]
    }
  ],
  "metadata": {
    "kernelspec": {
      "display_name": "Python 3",
      "language": "python",
      "name": "python3"
    },
    "language_info": {
      "codemirror_mode": {
        "name": "ipython",
        "version": 3
      },
      "file_extension": ".py",
      "mimetype": "text/x-python",
      "name": "python",
      "nbconvert_exporter": "python",
      "pygments_lexer": "ipython3",
      "version": "3.10.15"
    }
  },
  "nbformat": 4,
  "nbformat_minor": 0
}
