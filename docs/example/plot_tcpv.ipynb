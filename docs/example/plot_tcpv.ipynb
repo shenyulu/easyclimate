{
  "cells": [
    {
      "cell_type": "markdown",
      "metadata": {},
      "source": [
        "\n# Potential Intensity for Typhoon\n\nBefore proceeding with all the steps, first import some necessary libraries and packages\n"
      ]
    },
    {
      "cell_type": "code",
      "execution_count": null,
      "metadata": {
        "collapsed": false
      },
      "outputs": [],
      "source": [
        "import xarray as xr\nimport cartopy.crs as ccrs\nimport easyclimate as ecl"
      ]
    },
    {
      "cell_type": "markdown",
      "metadata": {},
      "source": [
        "Now open the sample dataset\n\n.. tip::\n\n  You can download following datasets here:\n\n  - :download:`Download tcpi_sample_data.nc (243 kB) <https://huggingface.co/datasets/shenyulu/easyclimate/resolve/main/tutorial_data/tcpi_sample_data.nc>`\n\n\n"
      ]
    },
    {
      "cell_type": "code",
      "execution_count": null,
      "metadata": {
        "collapsed": false
      },
      "outputs": [],
      "source": [
        "ds = xr.open_dataset('tcpi_sample_data.nc')\nds"
      ]
    },
    {
      "cell_type": "markdown",
      "metadata": {},
      "source": [
        "And then we use :py:func:`easyclimate.field.typhoon.calc_potential_intensity_Bister_Emanuel_2002 <easyclimate.field.typhoon.calc_potential_intensity_Bister_Emanuel_2002>` to calculate relative variables about potential intensity for typhoon\n\n"
      ]
    },
    {
      "cell_type": "code",
      "execution_count": null,
      "metadata": {
        "collapsed": false
      },
      "outputs": [],
      "source": [
        "pi_result = ecl.field.typhoon.calc_potential_intensity_Bister_Emanuel_2002(\n    sst_data = ds.sst,\n    sst_data_units = 'degC',\n    surface_pressure_data = ds.msl,\n    surface_pressure_data_units = 'hPa',\n    temperature_data = ds.t,\n    temperature_data_units = 'degC',\n    specific_humidity_data = ds.q,\n    specific_humidity_data_units = 'g/kg',\n    vertical_dim = 'level',\n    vertical_dim_units = 'hPa'\n)\npi_result"
      ]
    },
    {
      "cell_type": "markdown",
      "metadata": {},
      "source": [
        "## Potential Intensity (PI, $V_{max}$)\n\n"
      ]
    },
    {
      "cell_type": "code",
      "execution_count": null,
      "metadata": {
        "collapsed": false
      },
      "outputs": [],
      "source": [
        "fig, ax = ecl.plot.quick_draw_spatial_basemap(central_longitude = 200)\npi_result.vmax.plot.contourf(\n    ax = ax,\n    cbar_kwargs = {'location': 'bottom'},\n    transform = ccrs.PlateCarree(),\n    levels = 21\n)\nax.set_title('PI ($V_{max}$)', size = 18)"
      ]
    },
    {
      "cell_type": "markdown",
      "metadata": {},
      "source": [
        "## Outflow Temperature ($T_0$)\n\n"
      ]
    },
    {
      "cell_type": "code",
      "execution_count": null,
      "metadata": {
        "collapsed": false
      },
      "outputs": [],
      "source": [
        "fig, ax = ecl.plot.quick_draw_spatial_basemap(central_longitude = 200)\npi_result.t0.plot.contourf(\n    ax = ax,\n    cbar_kwargs = {'location': 'bottom'},\n    transform = ccrs.PlateCarree(),\n    levels = 21\n)\nax.set_title('Outflow Temperature ($T_0$)', size = 18)"
      ]
    },
    {
      "cell_type": "markdown",
      "metadata": {},
      "source": [
        "## Outflow Temperature Level (OTL)\n\n"
      ]
    },
    {
      "cell_type": "code",
      "execution_count": null,
      "metadata": {
        "collapsed": false
      },
      "outputs": [],
      "source": [
        "fig, ax = ecl.plot.quick_draw_spatial_basemap(central_longitude = 200)\npi_result.otl.plot.contourf(\n    ax = ax,\n    cbar_kwargs = {'location': 'bottom'},\n    transform = ccrs.PlateCarree(),\n    vmax = 1050,\n    levels =21\n)\nax.set_title('Outflow Temperature Level (OTL)', size = 18)"
      ]
    },
    {
      "cell_type": "markdown",
      "metadata": {},
      "source": [
        "## TC Efficiency ($\\frac{T_{s} - T_{0}}{T_{0}}$)\n\n"
      ]
    },
    {
      "cell_type": "code",
      "execution_count": null,
      "metadata": {
        "collapsed": false
      },
      "outputs": [],
      "source": [
        "fig, ax = ecl.plot.quick_draw_spatial_basemap(central_longitude = 200)\npi_result.eff.plot.contourf(\n    ax = ax,\n    cbar_kwargs = {'location': 'bottom'},\n    transform = ccrs.PlateCarree(),\n    levels = 21\n)\nax.set_title('TC Efficiency $\\\\left(\\\\frac{T_{s} - T_{0}}{T_{0}}\\\\right)$', size = 18)"
      ]
    },
    {
      "cell_type": "markdown",
      "metadata": {},
      "source": [
        "## Disequlibrium ($h_0^* - h^*$)\n\n"
      ]
    },
    {
      "cell_type": "code",
      "execution_count": null,
      "metadata": {
        "collapsed": false
      },
      "outputs": [],
      "source": [
        "fig, ax = ecl.plot.quick_draw_spatial_basemap(central_longitude = 200)\npi_result.diseq.plot.contourf(\n    ax = ax,\n    cbar_kwargs = {'location': 'bottom'},\n    transform = ccrs.PlateCarree(),\n    vmin = 0,\n    vmax = 20000,\n    levels = 21\n)\nax.set_title('Disequlibrium ($h_0^* - h^*$)', size = 18)"
      ]
    }
  ],
  "metadata": {
    "kernelspec": {
      "display_name": "Python 3",
      "language": "python",
      "name": "python3"
    },
    "language_info": {
      "codemirror_mode": {
        "name": "ipython",
        "version": 3
      },
      "file_extension": ".py",
      "mimetype": "text/x-python",
      "name": "python",
      "nbconvert_exporter": "python",
      "pygments_lexer": "ipython3",
      "version": "3.11.11"
    }
  },
  "nbformat": 4,
  "nbformat_minor": 0
}
