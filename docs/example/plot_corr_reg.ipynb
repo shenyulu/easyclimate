{
  "cells": [
    {
      "cell_type": "markdown",
      "metadata": {},
      "source": [
        "\n\n# Regression and Correlation Analyses\n\nWant to dive into the mysteries of climate science using Python?\nToday, we\u2019ll walk through a piece of code to explore the impact of **El Ni\u00f1o-Southern Oscillation (ENSO)** on global sea surface temperature (SST)!\nThis code is simple, beginner-friendly, and perfect for anyone curious about climate science! \ud83d\ude04 Whether you\u2019re learning data analysis or eager to uncover the secrets of climate change, this tutorial will leave you inspired and empowered! \ud83c\udf89\n\nWe\u2019ll use Python\u2019s `easyclimate` library, along with `xarray`, `matplotlib`, and `cartopy`, to step through the code, create stunning visualizations, and reveal how ENSO influences global sea temperatures! In particular, we\u2019ll dive deep into **regression analysis**, using the :py:func:`easyclimate.calc_corr_spatial <easyclimate.calc_corr_spatial>` function, and explain the math behind it! \ud83d\udcd0 Ready to get started? Let\u2019s dive in! \ud83d\ude80\n\n\n## Background: What is Regression Analysis?\n\nBefore we jump into the code, let\u2019s talk about **regression analysis**, the core tool of this tutorial! Regression analysis is a statistical method used to study relationships between variables, particularly how a **dependent variable** (e.g., sea temperature anomalies) changes with an **independent variable** (e.g., ENSO index). \ud83c\udf21\ufe0f In climate science, it helps us explore how ENSO \u201cdrives\u201d global sea temperatures!\n\n> Ensure data is preprocessed, e.g., by removing the seasonal cycle to focus on non-seasonal variability.\n\n### Steps of Regression Analysis\n\nIn regression analysis, we assume a **linear relationship** between the dependent variable $y(t)$ (e.g., sea temperature anomaly at a grid point) and the independent variable $x(t)$ (e.g., Ni\u00f1o 3.4 index), expressed as:\n\n\\begin{align}\\hat{y}(t) = a_1 x(t) + a_0\\end{align}\n\n- $\\hat{y}(t)$: Predicted sea temperature anomaly.\n- $a_1$: **Regression coefficient** (slope), indicating how much $y(t)$ changes per unit change in $x(t)$.\n- $a_0$: Intercept, the value of $y(t)$ when $x(t) = 0$.\n\nTo find the optimal $a_1$ and $a_0$, we use the **least squares method** to minimize the sum of squared errors between predicted and actual values:\n\n\\begin{align}Q = \\sum_{i=1}^N \\left( \\hat{y}(i) - y(i) \\right)^2 = \\sum_{i=1}^N \\left( (a_1 x(i) + a_0) - y(i) \\right)^2\\end{align}\n\nBy taking partial derivatives with respect to $a_0$ and $a_1$ and setting them to zero, we get:\n\n\\begin{align}\\frac { \\mathrm{d} Q } { \\mathrm{d} a _ { 0 } } \\, = \\, 0 \\, = \\, 2 \\sum _ { i \\, = \\, 1 } ^ { N } \\bigl ( a _ { 1 } x ( i ) + a _ { 0 } - y ( i ) \\bigr ) \\, = \\, a _ { 1 } \\sum _ { i \\, = \\, 1 } ^ { N } x ( i ) + a _ { 0 } N - \\sum _ { i \\, = \\, 1 } ^ { N } y ( i )\\end{align}\n\n\n\\begin{align}\\frac { \\mathrm{d} Q } { \\mathrm{d} a _ { 1 } } = \\; 0 \\; = \\; 2 \\sum _ { i \\; = \\; 1 } ^ { N } \\left( a _ { 1 } x ( i ) + a _ { 0 } - y ( i ) \\right) \\cdot x ( i ) \\; = \\; a _ { 1 } \\sum _ { i \\; = \\; 1 } ^ { N } x ( i ) ^ { 2 } + a _ { 0 } \\sum _ { i \\; = \\; 1 } ^ { N } x ( i ) - \\sum _ { i \\; = \\; 1 } ^ { N } x ( i ) y ( i )\\end{align}\n\n\nGiven $\\bar{x} = \\frac{1}{N} \\sum_{i=1}^N x(i)$, we have:\n\n\\begin{align}\\bar{y} = a_1 \\bar{x} + a_0\\end{align}\n\n\\begin{align}\\overline{xy} = a_1 \\overline{x^2} + a_0 \\bar{x}\\end{align}\n\nSolving these equations yields the slope $a_1$ and intercept $a_0$:\n\n\\begin{align}a_1 = \\frac{\\overline{xy} - \\bar{x}\\bar{y}}{\\overline{x^2} - \\bar{x}^2},\\end{align}\n\n\\begin{align}a_0 = \\bar{y} - a_1 \\bar{x}\\end{align}\n\nThis gives us the best-fitting line using the least squares method.\nTypically, $a_1$ is expressed in terms of deviations from the mean.\nTo do this, we decompose $x(t)$ and $y(t)$ into their time mean and deviations:\n\n\\begin{align}x(t) = \\bar{x} + x'(t)\\end{align}\n\n\\begin{align}y(t) = \\bar{y} + y'(t)\\end{align}\n\nFrom this, we derive:\n\n\\begin{align}\\overline{xy} = \\overline{(\\bar{x} + x')(\\bar{y} + y')} = \\bar{x}\\bar{y} + \\overline{x'y'}\\end{align}\n\n\\begin{align}\\overline{x^2} = \\bar{x}^2 + \\overline{x'^2}\\end{align}\n\nUsing these and the formula for $a_1$, we get:\n\n\\begin{align}a_1 = \\frac{\\overline{x'y'}}{\\overline{x'^2}} = \\frac{\\text{Cov}(x, y)}{\\text{Var}(x)}\\end{align}\n\n- $\\text{Cov}(x, y)$: Covariance of $x(t)$ and $y(t)$, measuring how they vary together.\n- $\\text{Var}(x)$: Variance of $x(t)$, measuring its own variability.\n- $\\bar{x}$, $\\bar{y}$: Means of $x(t)$ and $y(t)$.\n\nThe slope $a_1$ indicates the expected change in $y(t)$ per unit change in $x(t)$.\n\n### Relationship Between Correlation and Regression Coefficients\n\nIn regression analysis, we also calculate the **correlation coefficient** $r$ to measure the strength of the linear relationship:\n\n\\begin{align}r = \\frac{\\overline{x'y'}}{\\sqrt{\\overline{x'^2}} \\sqrt{\\overline{y'^2}}}\\end{align}\n\n\\begin{align}r = \\frac{\\text{Cov}(x, y)}{\\sqrt{\\text{Var}(x)} \\sqrt{\\text{Var}(y)}}\\end{align}\n\n- $r$ ranges from $[-1, 1]$:\n    - $r = 1$ indicates perfect positive correlation.\n    - $r = -1$ indicates perfect negative correlation.\n    - $r = 0$ indicates no linear relationship.\n- The relationship between $a_1$ and $r$ is:\n\n\\begin{align}a_1 = r \\cdot \\frac{\\sqrt{\\text{Var}(y)}}{\\sqrt{\\text{Var}(x)}}\\end{align}\n\nIf $x(t)$ is standardized (mean = 0, standard deviation = 1), then $\\text{Var}(x) = 1$, and $a_1 = r \\cdot \\sqrt{\\text{Var}(y)}$.\n\n### Significance Testing\n\nTo assess the reliability of the regression results, we use the $t$-statistic to test the significance of the correlation coefficient:\n\n\\begin{align}t = \\frac{r \\sqrt{N-2}}{\\sqrt{1-r^2}}\\end{align}\n\n- $N$: Sample size (length of the time series).\n- The **p-value** is calculated from the $t$-statistic. A $p$-value < 0.05 (or 0.01) indicates significance at the 95% (or 99%) confidence level.\n\n<div class=\"alert alert-info\"><h4>Note</h4><p>- Regression analysis is like finding the \u201cbest-fit line\u201d to show how sea temperatures \u201cfollow\u201d the ENSO index!\n    - The correlation coefficient $r$ tells you how \u201cclose\u201d the relationship is.\n    - The $p$-value tells you if it\u2019s \u201creal\u201d! \ud83d\ude09</p></div>\n\n## Preparation: Importing Required Libraries\n"
      ]
    },
    {
      "cell_type": "code",
      "execution_count": null,
      "metadata": {
        "collapsed": false
      },
      "outputs": [],
      "source": [
        "import easyclimate as ecl\nimport xarray as xr\nimport numpy as np\nimport matplotlib.pyplot as plt\nimport cartopy.crs as ccrs\nimport cartopy.feature as cfeature"
      ]
    },
    {
      "cell_type": "markdown",
      "metadata": {},
      "source": [
        "- **easyclimate**: A powerful climate analysis tool with functions like :py:func:`easyclimate.calc_corr_spatial <easyclimate.calc_corr_spatial>` to streamline data processing! \ud83c\udf0d\n- **xarray**: Ideal for handling multi-dimensional data (time, longitude, latitude).\n- **numpy**: The backbone for numerical computations.\n- **matplotlib.pyplot**: For plotting line graphs and maps.\n- **cartopy**: A professional library for geospatial visualizations, perfect for global maps! \ud83d\uddfa\ufe0f\n\nThese libraries are your \u201cclimate lab\u201d toolkit\u2014let\u2019s start experimenting! \ud83d\udcaa\n\n"
      ]
    },
    {
      "cell_type": "markdown",
      "metadata": {},
      "source": [
        "## Loading Sea Surface Temperature Data\n\n- ``ecl.open_tutorial_dataset(\"sst_mnmean_oisst\")``: Loads a global sea surface temperature (SST) dataset with time, longitude, and latitude dimensions.\n- ``.sst``: Extracts the sea temperature variable (units: \u00b0C).\n- ``sst_data``: An :py:class:`xarray.DataArray<xarray.DataArray>`, like a 3D \u201cdata cube\u201d! \ud83e\uddca\n\n<div class=\"alert alert-info\"><h4>Note</h4><p>SST stands for sea surface temperature. ENSO can make some regions warmer or cooler, affecting global weather! \ud83c\udf26\ufe0f</p></div>\n\n"
      ]
    },
    {
      "cell_type": "code",
      "execution_count": null,
      "metadata": {
        "collapsed": false
      },
      "outputs": [],
      "source": [
        "sst_data = ecl.open_tutorial_dataset(\"sst_mnmean_oisst\").sst\nsst_data"
      ]
    },
    {
      "cell_type": "markdown",
      "metadata": {},
      "source": [
        "## Removing the Seasonal Cycle to Extract Anomalies\n\n- :py:func:`easyclimate.remove_seasonal_cycle_mean <easyclimate.remove_seasonal_cycle_mean>`: Removes seasonal variations (e.g., warmer summers, cooler winters) to get **sea temperature anomalies**, focusing on non-seasonal signals like ENSO.\n- ``sst_data_anomaly``: A new dataset containing only \u201cunusual\u201d temperature changes.\n\n<div class=\"alert alert-info\"><h4>Note</h4><p>- Removing the seasonal cycle is like filtering out \u201cbackground noise\u201d to hear ENSO\u2019s \u201csolo performance\u201d! \ud83c\udfb6\n    - Heads up! \u26a0\ufe0f If you don\u2019t remove the seasonal cycle before correlation or regression analysis, most climate variables will show high correlations with distant regions\u2014simply because they\u2019re all influenced by the annual solar radiation cycle! \ud83c\udf0d\u2600\ufe0f Pretty cool, right?</p></div>\n\n\n"
      ]
    },
    {
      "cell_type": "code",
      "execution_count": null,
      "metadata": {
        "collapsed": false
      },
      "outputs": [],
      "source": [
        "sst_data_anormaly = ecl.remove_seasonal_cycle_mean(sst_data)\nsst_data_anormaly"
      ]
    },
    {
      "cell_type": "markdown",
      "metadata": {},
      "source": [
        "## Calculating the Ni\u00f1o 3.4 Index\n\n1. Calculating the Ni\u00f1o 3.4 Index:\n\n   - :py:func:`easyclimate.field.air_sea_interaction.calc_index_nino34 <easyclimate.field.air_sea_interaction.calc_index_nino34>`: Computes the Ni\u00f1o 3.4 index from sea temperature anomalies in the eastern tropical Pacific (5\u00b0S\u20135\u00b0N, 170\u00b0W\u2013120\u00b0W), measuring ENSO strength.\n   - ``running_mean = 0``: Uses raw data without smoothing.\n\n2. Plotting the Line Graph:\n\n   - ``plt.figure(figsize=(10, 3))``: Creates a canvas 10 units wide and 3 units high.\n   - :py:func:`easyclimate.plot.line_plot_with_threshold <easyclimate.plot.line_plot_with_threshold>`: Plots the Ni\u00f1o 3.4 index time series.\n   - :py:func:`plt.title <matplotlib.pyplot.title>`: Sets the title to \u201cNi\u00f1o 3.4 index\u201d.\n\n<div class=\"alert alert-info\"><h4>Note</h4><p>The Ni\u00f1o 3.4 index is like a \u201cweather gauge\u201d for ENSO\u2014positive values indicate El Ni\u00f1o (warm), and negative values indicate La Ni\u00f1a (cool). \ud83d\udcc8</p></div>\n\n"
      ]
    },
    {
      "cell_type": "code",
      "execution_count": null,
      "metadata": {
        "collapsed": false
      },
      "outputs": [],
      "source": [
        "nino34_index = ecl.field.air_sea_interaction.calc_index_nino34(\n    sst_data,\n    running_mean = 0\n)\n\nplt.figure(figsize=(10, 3))\necl.plot.line_plot_with_threshold(nino34_index)\nplt.title(\"Ni\u00f1o 3.4 index\")"
      ]
    },
    {
      "cell_type": "markdown",
      "metadata": {},
      "source": [
        "## Standardizing the Ni\u00f1o 3.4 Index\n\nFor the next steps, if we perform linear regression between the SST anomaly time series $y(t)$ at each global grid point and the standardized ENSO index $x(t)$, we calculate the regression coefficient $a_1$:\n\n\n"
      ]
    },
    {
      "cell_type": "markdown",
      "metadata": {},
      "source": [
        "\\begin{align}a_1 = \\frac{\\text{Cov} (x,y)}{\\text{Var}(x)}\\end{align}\n\n"
      ]
    },
    {
      "cell_type": "markdown",
      "metadata": {},
      "source": [
        "Since $x(t)$ is standardized, $\\mathrm{Var}(x) = 1$, so $a_1$ directly reflects the covariance, with units of $\\frac{\\text{ K (local SST change) }}{ \\sigma \\text{(ENSO index)} } = \\mathrm{K}$.\n\n- :py:func:`easyclimate.normalized.normalize_zscore <easyclimate.normalized.normalize_zscore>`: Standardizes the Ni\u00f1o 3.4 index (mean = 0, standard deviation = 1) using:\n\n\\begin{align}z = \\frac{x - \\bar{x}}{\\sqrt{\\mathrm{Var}(x)}}\\end{align}\n\n- Plots the standardized time series with the title \u201cNormalized Ni\u00f1o 3.4 index\u201d.\n\n<div class=\"alert alert-info\"><h4>Note</h4><p>Standardization puts the index in \u201cstandard units,\u201d making it easier to compare and use in regression analysis! \ud83d\udccf</p></div>\n\n\n"
      ]
    },
    {
      "cell_type": "code",
      "execution_count": null,
      "metadata": {
        "collapsed": false
      },
      "outputs": [],
      "source": [
        "nino34_index_normalized = ecl.normalized.normalize_zscore(nino34_index)\n\nplt.figure(figsize=(10, 3))\necl.plot.line_plot_with_threshold(nino34_index_normalized)\nplt.title(\"Normalized Ni\u00f1o 3.4 index\")"
      ]
    },
    {
      "cell_type": "markdown",
      "metadata": {},
      "source": [
        "## Calculating Correlation Between SST Anomalies and Ni\u00f1o 3.4 Index\n\n- ``ecl.calc_corr_spatial``: Performs regression analysis between global SST anomalies (`sst_data_anomaly`) and the standardized Ni\u00f1o 3.4 index (`nino34_index_normalized`).\n- Output: ``sst_reg_nino34_result``, containing:\n\n  - ``reg_coeff``: Regression coefficient, in units of \u00b0C per standard deviation of the index.\n  - ``corr``: Correlation coefficient, ranging from $[-1, 1]$.\n  - ``pvalue``: Significance p-value.\n\n<div class=\"alert alert-info\"><h4>Note</h4><p>This step is like giving global sea temperatures a \u201ccheck-up\u201d to see which regions are closely tied to ENSO! \ud83d\udd0d</p></div>\n\n"
      ]
    },
    {
      "cell_type": "code",
      "execution_count": null,
      "metadata": {
        "collapsed": false
      },
      "outputs": [],
      "source": [
        "sst_reg_nino34_result = ecl.calc_corr_spatial(\n    sst_data_anormaly,\n    x = nino34_index_normalized\n)\nsst_reg_nino34_result"
      ]
    },
    {
      "cell_type": "markdown",
      "metadata": {},
      "source": [
        "## Regression Coefficient Map\n\n- **Base Map**: ``quick_draw_spatial_basemap`` creates a global map centered at 205\u00b0 longitude.\n- **Regression Coefficient Plot**: ``reg_coeff.plot.contourf`` visualizes the amplitude of SST changes (\u00b0C) per standard deviation change in the Ni\u00f1o 3.4 index.\n- **Significance Markers**: ``draw_significant_area_contourf`` highlights areas with $p < 0.01$.\n- **Land**: Adds gray landmasses, with the title indicating regression results.\n\nThe map shows the global SST anomaly regressed onto the standardized ENSO index, displayed as a spatial distribution of SST anomalies in units of K.\n\n"
      ]
    },
    {
      "cell_type": "code",
      "execution_count": null,
      "metadata": {
        "collapsed": false
      },
      "outputs": [],
      "source": [
        "fig, ax = ecl.plot.quick_draw_spatial_basemap(central_longitude=205)\n\nsst_reg_nino34_result.reg_coeff.plot.contourf(\n    ax = ax,\n    levels = np.linspace(-1.5, 1.5, 21),\n    transform = ccrs.PlateCarree(),\n    cbar_kwargs={\"location\": \"bottom\", \"aspect\": 30, \"label\": \"\u2103\"},\n)\n\necl.plot.draw_significant_area_contourf(\n    sst_reg_nino34_result.pvalue,\n    thresh = 0.01,\n    ax = ax,\n    transform = ccrs.PlateCarree(),\n)\n\nax.add_feature(cfeature.LAND, facecolor = '#DDDDDD', zorder = 1)\nax.set_title(\"Ni\u00f1o 3.4 index Reg SST anormaly\")"
      ]
    },
    {
      "cell_type": "markdown",
      "metadata": {},
      "source": [
        "- In the eastern tropical Pacific (20\u00b0N\u201320\u00b0S, 160\u00b0E to South American coast), a one-standard-deviation increase in the ENSO warm phase (or cold tongue) index corresponds to significant positive SST anomalies, exceeding 1 K in the eastern tropical Pacific.\n- In the western tropical Pacific, SST anomalies are near 0 K, indicating minimal ENSO influence.\n- In the North Pacific, the ENSO warm phase corresponds to negative SST anomalies of about -0.2 K, indicating cooler temperatures.\n- The regression coefficients largely reflect the spatial pattern of global SST changes during the ENSO warm phase.\n- The regression coefficients show the magnitude of change but do not indicate statistical significance. Significance can be assessed by plotting confidence levels (e.g., 95%).\n\n<div class=\"alert alert-info\"><h4>Note</h4><p>- Linear Assumption\n\n      Regression analysis is a **linear** method \ud83d\udcc8. In the example above, the cold phase of the ENSO cycle (La Ni\u00f1a) is assumed to exhibit a pattern exactly opposite to the anomalies shown in the regression results. It\u2019s like playing a \u201cmirror symmetry\u201d game!\n\n      To capture more complex **non-linear** relationships \ud83e\udd39\u200d\u2642\ufe0f between ENSO and global SST anomalies, scientists often perform **composite analysis** (i.e., averaging separately for warm (El Ni\u00f1o) and cold (La Ni\u00f1a) events) to reveal their distinct characteristics.\n\n    - Causality\n\n      Regression analysis only reveals statistical associations, not causation \ud83d\udd17 \u2260 \ud83e\uddea.\n\n      In the example, North Atlantic SST anomalies may be a remote \u201cresponse\u201d or \u201cresult\u201d of tropical climate anomalies, as determined by numerical simulations. However, regression results alone cannot determine cause and effect\u2014interpret with caution! \u26a0\ufe0f\n\n    - Effective Sample Size\n\n      The significance of correlations depends on the \u201ceffective sample size\u201d \ud83e\udde0, which is almost always smaller than the number of data points used in the analysis.\n\n      For example \ud83c\udf30: A 50-year record of monthly mean Atlantic basin SST anomalies might seem to have $50 \\\\cdot 12 = 600$ time points, but due to the strong \u201cmemory\u201d (persistence) of regionally averaged SSTs, the number of truly independent samples may be much smaller!\n\n      So, when interpreting correlations based on limited sample sizes, stay cautious and critical\u2014numbers can be deceptive! \ud83d\udd75\ufe0f\u200d\u2640\ufe0f</p></div>\n\n<div class=\"alert alert-info\"><h4>Note</h4><p>This map shows where sea temperatures rise (red) or fall (blue) when ENSO \u201cacts up\u201d! \ud83c\udf21\ufe0f</p></div>\n\n"
      ]
    },
    {
      "cell_type": "markdown",
      "metadata": {},
      "source": [
        "## Correlation Coefficient Map\n\n- Similar to above, but plots the **correlation coefficient** map, showing the strength of the relationship between SST and the ENSO index (-1 to 1).\n- Title changed to \u201ccorr Ni\u00f1o 3.4 index & SST anomaly\u201d.\n\n<div class=\"alert alert-info\"><h4>Note</h4><p>This map highlights the \u201cconnection strength\u201d between ENSO and sea temperatures\u2014red means they \u201cmove together,\u201d blue means they \u201cmove opposite\u201d! \ud83d\ude0e</p></div>\n\n"
      ]
    },
    {
      "cell_type": "code",
      "execution_count": null,
      "metadata": {
        "collapsed": false
      },
      "outputs": [],
      "source": [
        "fig, ax = ecl.plot.quick_draw_spatial_basemap(central_longitude=205)\n\nsst_reg_nino34_result.corr.plot.contourf(\n    ax = ax,\n    levels = np.linspace(-1, 1, 11),\n    transform = ccrs.PlateCarree(),\n    cbar_kwargs={\"location\": \"bottom\", \"aspect\": 30, \"label\": \"\"},\n)\n\necl.plot.draw_significant_area_contourf(\n    sst_reg_nino34_result.pvalue,\n    thresh = 0.01,\n    ax = ax,\n    transform = ccrs.PlateCarree(),\n)\n\nax.add_feature(cfeature.LAND, facecolor = '#DDDDDD', zorder = 1)\nax.set_title(\"corr Ni\u00f1o 3.4 index & SST anormaly\")"
      ]
    },
    {
      "cell_type": "markdown",
      "metadata": {},
      "source": [
        "## Summary: What Did We Learn?\n\nThrough this code, we embarked on a climate science adventure! \ud83c\udf0d We:\n\n1. Loaded and preprocessed SST data to extract anomalies.\n2. Calculated and standardized the Ni\u00f1o 3.4 index, plotting its time series.\n3. Used :py:func:`easyclimate.calc_corr_spatial <easyclimate.calc_corr_spatial>` to analyze the relationship between global SSTs and ENSO, obtaining regression coefficients, correlation coefficients, and p-values.\n4. Created two maps showing the amplitude and strength of ENSO\u2019s impact on SSTs.\n\n### Pro Tips\n\n- The regression coefficient $a_1$ shows the \u201cactual impact\u201d of ENSO changes on SST anomalies (\u00b0C), while the correlation coefficient $r$ shows the \u201cstrength of the connection.\u201d\n- :py:func:`easyclimate.calc_corr_spatial <easyclimate.calc_corr_spatial>` efficiently handles multi-dimensional data, automatically skipping NaN values, making it ideal for large-scale climate analysis.\n- Areas with $p < 0.01/0.05$ are \u201crock-solid\u201d results worth focusing on! \ud83d\udd25\n\n### Beginner Tips\n\n- ENSO is like the ocean\u2019s \u201cmood,\u201d affecting global climate, and this code helps you \u201chear\u201d its story! \ud83d\ude09\n- Want to go deeper? Check the `easyclimate` documentation or try other climate indices!\n\nRun the code and explore the wonders of climate science! \ud83d\ude80\n\n"
      ]
    }
  ],
  "metadata": {
    "kernelspec": {
      "display_name": "Python 3",
      "language": "python",
      "name": "python3"
    },
    "language_info": {
      "codemirror_mode": {
        "name": "ipython",
        "version": 3
      },
      "file_extension": ".py",
      "mimetype": "text/x-python",
      "name": "python",
      "nbconvert_exporter": "python",
      "pygments_lexer": "ipython3",
      "version": "3.12.11"
    }
  },
  "nbformat": 4,
  "nbformat_minor": 0
}
