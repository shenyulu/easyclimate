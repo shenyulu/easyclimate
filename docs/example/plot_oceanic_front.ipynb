{
  "cells": [
    {
      "cell_type": "markdown",
      "metadata": {},
      "source": [
        "\n# Oceanic Front\n\nThe role of oceanic fronts in the midlatitude air\u2013sea interaction remains unclear.\nHere, we defines new indexes to quantify the intensity and location of two basin-scale oceanic frontal\nzones in the wintertime North Pacific, i.e. the subtropical and subarctic frontal zones (STFZ, SAFZ).\nWith these indexes, two typical modes, which are closely related to two large-scale sea surface temperature (SST) anomaly\npatterns resembling Pacific Decadal Oscillation (PDO) and North Pacific Gyre Oscillation (NPGO), respectively,\nare found in the oceanic front variabilities as well as in their associations with the midlatitude atmospheric\neddy-driven jet. Corresponding to an PDO-like SST anomaly pattern, an enhanced STFZ occurs with a southward\nshifted SAFZ, which is associated with enhanced overlying atmospheric front, baroclinicity and transient\neddy vorticity forcing, thus with an intensification of the westerly jet; and vice versa. On the other hand,\ncorresponding to an NPGO-like SST pattern, an enhanced SAFZ occurs with a northward shifted STFZ,\nwhich is associated with a northward shift of the atmospheric front, baroclinicity, transient eddy\nvorticity forcing, and westerly jet; and vice versa. These results suggest that the basin-scale oceanic\nfrontal zone is a key region for the midlatitude air\u2013sea interaction in which the atmospheric transient\neddy's dynamical forcing is a key player in such an interaction.\n\n.. seealso::\n\n    - Wang, L., Yang, X.-Q., Yang, D., Xie, Q., Fang, J. and Sun, X. (2017), Two typical modes in the variabilities of wintertime North Pacific basin-scale oceanic fronts and associated atmospheric eddy-driven jet. Atmos. Sci. Lett, 18: 373-380. Website: https://doi.org/10.1002/asl.766\n    - Wang, L., Hu, H. & Yang, X. The atmospheric responses to the intensity variability of subtropical front in the wintertime North Pacific. Clim Dyn 52, 5623\u20135639 (2019). https://doi.org/10.1007/s00382-018-4468-9\n    - Huang, Q., Fang, J., Tao, L. et al. Wintertime ocean\u2013atmosphere interaction processes associated with the SST variability in the North Pacific subarctic frontal zone. Clim Dyn 62, 1159\u20131177 (2024). https://doi.org/10.1007/s00382-023-06958-6\n    - Fang, Z., Sun, X., Yang, X.-Q., & Zhu, Z. (2024). Interdecadal variations in the spatial pattern of the Arctic Oscillation Arctic center in wintertime. Geophysical Research Letters, 51, e2024GL111380. https://doi.org/10.1029/2024GL111380\n    - \u59da\u7476. (2018). \u5317\u592a\u5e73\u6d0b\u98ce\u66b4\u8f74\u4e0e\u4e2d\u7eac\u5ea6\u6d77\u6d0b\u950b\u7684\u76f8\u4e92\u4f5c\u7528\u7814\u7a76\uff08\u535a\u58eb\u5b66\u4f4d\u8bba\u6587\uff0c\u56fd\u9632\u79d1\u6280\u5927\u5b66\uff09. \u535a\u58eb https://link.cnki.net/doi/10.27052/d.cnki.gzjgu.2018.000410.\n\nBefore proceeding with all the steps, first import some necessary libraries and packages\n"
      ]
    },
    {
      "cell_type": "code",
      "execution_count": null,
      "metadata": {
        "collapsed": false
      },
      "outputs": [],
      "source": [
        "import numpy as np\nimport easyclimate as ecl\nimport cartopy.crs as ccrs\nimport cartopy.feature as cfeature\nimport matplotlib.pyplot as plt\nimport matplotlib.patches as patches"
      ]
    },
    {
      "cell_type": "markdown",
      "metadata": {},
      "source": [
        "We sets up a cartographic projection (Plate Carr\u00e9e) and creates a base map to visualize the study area.\nIt restricts the spatial extent to the North Pacific (120\u00b0E\u2013240\u00b0E, 10\u00b0N\u201360\u00b0N) and overlays grid lines with labeled coordinates.\nRectangular patches are added to demarcate the Subtropical Frontal Zone (STFZ, 145\u00b0E\u2013215\u00b0E, 24\u00b0N\u201332\u00b0N) and Subarctic\nFrontal Zone (SAFZ, 145\u00b0E\u2013215\u00b0E, 36\u00b0N\u201344\u00b0N), with text labels for clarity. This establishes the geographical context for subsequent frontal zone analyses.\n\n"
      ]
    },
    {
      "cell_type": "code",
      "execution_count": null,
      "metadata": {
        "collapsed": false
      },
      "outputs": [],
      "source": [
        "proj_trans = ccrs.PlateCarree()\nfig, ax = plt.subplots(subplot_kw={'projection': ccrs.PlateCarree(central_longitude = 110)})\n\nax.stock_img()\nax.set_extent([120, 240, 10, 60], crs = proj_trans)\n\n# Grid line\ngl = ax.gridlines(draw_labels=True, color=\"grey\",alpha = 0.5, linestyle=\"--\")\ngl.top_labels = False\ngl.right_labels = False\ngl.left_labels = True\ngl.bottom_labels = True\n\n# STFZ\nrect1 = patches.Rectangle((145, 24), 70, 8, ec = \"r\", fc = \"none\", lw = 2, transform = proj_trans)\nax.add_patch(rect1)\nax.text(180 + 0, 28 + 0,'STFZ', size = 14, c = 'r', transform = proj_trans, horizontalalignment='center', verticalalignment='center')\n\n# SAFZ\nrect2 = patches.Rectangle((145, 36), 70, 8, ec = \"r\", fc = \"none\", lw = 2, transform = proj_trans)\nax.add_patch(rect2)\nax.text(180 + 0, 40 + 0,'SAFZ', size = 14, c = 'r', transform = proj_trans, horizontalalignment='center', verticalalignment='center')"
      ]
    },
    {
      "cell_type": "markdown",
      "metadata": {},
      "source": [
        "Here, we import the Optimum Interpolation Sea Surface Temperature (OISST) tutorial dataset using easyclimate,\nextracting the sst variable. The dataset is printed to display its structure (dimensions, coordinates, and metadata),\nensuring the input data is correctly loaded for further processing.\n\n"
      ]
    },
    {
      "cell_type": "code",
      "execution_count": null,
      "metadata": {
        "collapsed": false
      },
      "outputs": [],
      "source": [
        "sst_data = ecl.open_tutorial_dataset('sst_mnmean_oisst').sst\nsst_data"
      ]
    },
    {
      "cell_type": "markdown",
      "metadata": {},
      "source": [
        "This block calculates the winter (December\u2013January\u2013February, DJF) seasonal mean SST from the monthly data using :py:func:`easyclimate.calc_seasonal_mean <easyclimate.calc_seasonal_mean>`.\nIt then derives the long-term (time-mean) winter SST climatology over the extended North Pacific (110\u00b0E\u2013250\u00b0E, 0\u00b0N\u201380\u00b0N).\nAdditionally, the meridional gradient of SST ($\\mathrm{d}SST/\\mathrm{d}y$) is computed using :py:func:`easyclimate.calc_lat_gradient <easyclimate.calc_lat_gradient>`\n(with a sign inversion to align with standard gradient conventions) and averaged over time to obtain its climatological mean.\nThese variables are critical for quantifying oceanic frontal intensity (via $\\mathrm{d}SST/\\mathrm{d}y$) and spatial patterns.\n\n"
      ]
    },
    {
      "cell_type": "code",
      "execution_count": null,
      "metadata": {
        "collapsed": false
      },
      "outputs": [],
      "source": [
        "sst_data_DJF_mean = ecl.calc_seasonal_mean(sst_data, extract_season=\"DJF\")\nsst_data_DJF_longmean = sst_data_DJF_mean.mean(dim = \"time\").sel(lon = slice(110, 250), lat = slice(0, 80))\n\ndtdy_data_DJF_mean = ecl.calc_lat_gradient(sst_data_DJF_mean).sel(lon = slice(110, 250), lat = slice(0, 80)) *(-1)\ndtdy_data_DJF_longmean = dtdy_data_DJF_mean.mean(dim = \"time\")"
      ]
    },
    {
      "cell_type": "markdown",
      "metadata": {},
      "source": [
        "Next, The blocks visualize the long-term winter SST and its meridional gradient. Using a ``Plate Carr\u00e9e`` projection centered at 180\u00b0E,\nit overlays black SST contours (4\u201330\u2103, 4\u2103 intervals) to show surface temperature structure.\nThe $\\mathrm{d}SST/\\mathrm{d}y$ field is plotted as a filled contour (range: $-1.8 \\times 10^{-5} \\sim 1.8 \\times 10^{-5}$ \u2103/m) to\nhighlight regions of strong oceanic fronts (positive $\\mathrm{d}SST/\\mathrm{d}y$ indicates northward SST increase).\nLand areas are shaded to emphasize marine features. A horizontal colorbar is added for $\\mathrm{d}SST/\\mathrm{d}y$,\nwith scientific notation formatting. This figure contextualizes frontal zones within the broader SST climatology.\n\n"
      ]
    },
    {
      "cell_type": "code",
      "execution_count": null,
      "metadata": {
        "collapsed": false
      },
      "outputs": [],
      "source": [
        "proj_trans = ccrs.PlateCarree()\nfig, ax = ecl.plot.quick_draw_spatial_basemap(central_longitude=180)\n\nax.set_extent([120, 240, 10, 60], crs = proj_trans)\nax.add_feature(cfeature.LAND, facecolor = '#DDDDDD', zorder = 2)\n\n# SST\nfig1 = sst_data_DJF_longmean.plot.contour(\n    colors=\"k\",\n    linewidths = 0.5,\n    levels=np.arange(4, 30, 4),\n    transform = ccrs.PlateCarree(),\n    zorder = 1,\n)\nax.clabel(fig1, inline = True, fontsize = 10, colors = \"k\")\n\n# dSST/dy\nfig2 = dtdy_data_DJF_longmean.plot.contourf(\n    levels=np.linspace(-1.8*1e-5, 1.8*1e-5, 21),\n    transform = ccrs.PlateCarree(),\n    add_colorbar=False,\n    zorder = 0,\n)\ncb1 = fig.colorbar(fig2, ax = ax, orientation = 'horizontal', pad = 0.15, extendrect = True)\ncb1.set_label('')\ncb1.formatter.set_powerlimits((0, 0))\ncb1.formatter.set_useMathText(True)\n\nax.set_title(\"DJF ${\\\\mathrm{d}SST}/{\\\\mathrm{d}y}$ and SST\")"
      ]
    },
    {
      "cell_type": "markdown",
      "metadata": {},
      "source": [
        "This section uses ``easyclimate`` utility functions to quantify frontal zone variability:\n\n- :py:func:`easyclimate.field.ocean.oceanic_front.calc_intensity_STFZ <easyclimate.field.ocean.oceanic_front.calc_intensity_STFZ>`: Computes the area-averaged $\\mathrm{d}SST/\\mathrm{d}y$ within predefined STFZ regions to represent frontal intensity.\n- :py:func:`easyclimate.field.ocean.oceanic_front.calc_intensity_SAFZ <easyclimate.field.ocean.oceanic_front.calc_intensity_SAFZ>`: Computes the area-averaged $\\mathrm{d}SST/\\mathrm{d}y$ within predefined SAFZ regions to represent frontal intensity.\n- :py:func:`easyclimate.field.ocean.oceanic_front.calc_location_STFZ <easyclimate.field.ocean.oceanic_front.calc_location_STFZ>`: Determines the latitude of maximum $\\mathrm{d}SST/\\mathrm{d}y$ within each zone to track STFZ position.\n- :py:func:`easyclimate.field.ocean.oceanic_front.calc_location_SAFZ <easyclimate.field.ocean.oceanic_front.calc_location_SAFZ>`: Determines the latitude of maximum $\\mathrm{d}SST/\\mathrm{d}y$ within each zone to track SAFZ position.\n- :py:func:`easyclimate.field.ocean.oceanic_front.calc_location_line_STFZ <easyclimate.field.ocean.oceanic_front.calc_location_line_STFZ>`: Generates longitude-dependent positional lines (latitude vs. longitude) for STFZ, capturing their zonal structure.\n- :py:func:`easyclimate.field.ocean.oceanic_front.calc_location_SAFZ <easyclimate.field.ocean.oceanic_front.calc_location_SAFZ>`: Generates longitude-dependent positional lines (latitude vs. longitude) for SAFZ, capturing their zonal structure.\n\nLong-term means of these positional lines are computed to establish climatological frontal boundaries.\n\n\n"
      ]
    },
    {
      "cell_type": "code",
      "execution_count": null,
      "metadata": {
        "collapsed": false
      },
      "outputs": [],
      "source": [
        "intensity_STFZ_DJF = ecl.field.ocean.calc_intensity_STFZ(dtdy_data_DJF_mean)\nintensity_SAFZ_DJF = ecl.field.ocean.calc_intensity_SAFZ(dtdy_data_DJF_mean)\nlocation_STFZ_DJF = ecl.field.ocean.calc_location_STFZ(dtdy_data_DJF_mean)\nlocation_SAFZ_DJF = ecl.field.ocean.calc_location_SAFZ(dtdy_data_DJF_mean)\n\nline_STFZ_DJF = ecl.field.ocean.calc_location_line_STFZ(dtdy_data_DJF_mean)\nline_SAFZ_DJF = ecl.field.ocean.calc_location_line_SAFZ(dtdy_data_DJF_mean)\nline_STFZ_DJF_longmean = line_STFZ_DJF.mean(dim = \"time\")\nline_SAFZ_DJF_longmean = line_SAFZ_DJF.mean(dim = \"time\")"
      ]
    },
    {
      "cell_type": "markdown",
      "metadata": {},
      "source": [
        "This code creates a 2\u00d72 subplot grid to visualize frontal zone dynamics:\n\n- Top row: Time series of STFZ and SAFZ intensity (multiplied by $10^5$ for readability), with y-labels indicating units ($- 10^{-5}$ \u2103/m).\n- Bottom row: Time series of STFZ and SAFZ meridional location (latitude, \u00b0N), with latitude-formatted axes.\n\nSubplots are labeled (a)\u2013(d) for reference, and x-axis labels are removed for consistency. This figure highlights interannual variations in frontal strength and position, key for identifying modes of variability (e.g., PDO/NPGO associations).\n\n\n"
      ]
    },
    {
      "cell_type": "code",
      "execution_count": null,
      "metadata": {
        "collapsed": false
      },
      "outputs": [],
      "source": [
        "titleleft_fontsize = 22\ntitleright_fontsize = 20\ntitleleft_pad = 10\ndecimal_places = 2\n\nfig, ax = plt.subplots(2, 2, figsize = (10.5, 6))\nfig.subplots_adjust(hspace = 0.5)\n\n# --------------------------------------------------\n# STFZ Intensity\naxi = ax[0, 0]\n\n(intensity_STFZ_DJF *1e5).plot(ax = axi)\n\naxi.set_ylabel('$\\\\times 10^{-5}$')\n\naxi.set_title(\"ITS STFZ\", loc = 'right')\naxi.set_title(\"\")\naxi.set_title(\"(a)\", loc = 'left')\n\n# --------------------------------------------------\n# SAFZ Intensity\naxi = ax[0, 1]\n\n(intensity_SAFZ_DJF *1e5).plot(ax = axi)\naxi.set_ylabel('$\\\\times 10^{-5}$')\n\naxi.set_title(\"ITS SAFZ\", loc = 'right')\naxi.set_title(\"\")\naxi.set_title(\"(b)\", loc = 'left')\n\n# --------------------------------------------------\n# STFZ Location\naxi = ax[1, 0]\n\n(location_STFZ_DJF *1).plot(ax = axi)\n\naxi.set_title(\"LCT STFZ\", loc = 'right')\naxi.set_title(\"\")\naxi.set_title(\"(c)\", loc = 'left')\n\n# --------------------------------------------------\n# SAFZ Location\naxi = ax[1, 1]\n\nline1, = (location_SAFZ_DJF *1).plot(ax = axi)\n\naxi.set_title(\"LCT SAFZ\", loc = 'right')\naxi.set_title(\"\")\naxi.set_title(\"(d)\", loc = 'left')\n\n\nfor axi in ax.flat:\n    axi.set_xlabel('')\n\nfor axi in [ax[1, 0], ax[1, 1]]:\n    ecl.plot.set_lat_format_axis(ax = axi)"
      ]
    },
    {
      "cell_type": "markdown",
      "metadata": {},
      "source": [
        "Finally, we revisits the spatial plot of winter $\\mathrm{d}SST/\\mathrm{d}y$ but adds the long-term mean positional lines of STFZ and SAFZ (black lines).\nThese lines, derived from the zonal average of ``line_STFZ_DJF_longmean`` and ``line_SAFZ_DJF_longmean``,\nvisually validate the frontal zone definitions by aligning with peak $\\mathrm{d}SST/\\mathrm{d}y$ regions.\nThe figure confirms that the positional lines coincide with the core of the oceanic fronts,\nensuring the indices accurately represent frontal structure.\n\n"
      ]
    },
    {
      "cell_type": "code",
      "execution_count": null,
      "metadata": {
        "collapsed": false
      },
      "outputs": [],
      "source": [
        "proj_trans = ccrs.PlateCarree()\nfig, ax = ecl.plot.quick_draw_spatial_basemap(central_longitude=180)\n\nax.set_extent([120, 240, 10, 60], crs = proj_trans)\nax.add_feature(cfeature.LAND, facecolor = '#DDDDDD', zorder = 2)\n\n# Line\nline_STFZ_DJF_longmean.plot(ax = ax, color = 'black', zorder = 3, transform = proj_trans)\nline_SAFZ_DJF_longmean.plot(ax = ax, color = 'black', zorder = 3, transform = proj_trans)\n\n# dSST/dy\nfig2 = dtdy_data_DJF_longmean.plot.contourf(\n    levels=np.linspace(-1.8*1e-5, 1.8*1e-5, 21),\n    transform = ccrs.PlateCarree(),\n    add_colorbar=False,\n    zorder = 0,\n)\ncb1 = fig.colorbar(fig2, ax = ax, orientation = 'horizontal', pad = 0.15, extendrect = True)\ncb1.set_label('')\ncb1.formatter.set_powerlimits((0, 0))\ncb1.formatter.set_useMathText(True)\n\nax.set_title(\"DJF ${\\\\mathrm{d}SST}/{\\\\mathrm{d}y}$ and Line\")"
      ]
    }
  ],
  "metadata": {
    "kernelspec": {
      "display_name": "Python 3",
      "language": "python",
      "name": "python3"
    },
    "language_info": {
      "codemirror_mode": {
        "name": "ipython",
        "version": 3
      },
      "file_extension": ".py",
      "mimetype": "text/x-python",
      "name": "python",
      "nbconvert_exporter": "python",
      "pygments_lexer": "ipython3",
      "version": "3.12.11"
    }
  },
  "nbformat": 4,
  "nbformat_minor": 0
}
