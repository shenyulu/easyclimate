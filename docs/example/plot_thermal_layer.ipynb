{
  "cells": [
    {
      "cell_type": "markdown",
      "metadata": {},
      "source": [
        "\n# Thermocline Depth and 20\u00b0C Isotherm Depth\n\nThe ocean's thermocline is a critical feature of the global marine environment,\nrepresenting a distinct layer where water temperature decreases rapidly with depth.\nThis transition zone separates the warm, well-mixed surface layer (typically heated by solar radiation) from the colder,\ndenser deep ocean below. In the equatorial Pacific\u2014an area central to global climate dynamics\ndue to its role in phenomena like El Ni\u00f1o-Southern Oscillation (ENSO)\u2014the thermocline\u2019s depth\n(often referred to as the Depth of the Thermocline Core, DTC) is a key parameter.\nIt influences heat distribution, nutrient upwelling, and air-sea interactions,\nmaking its accurate characterization essential for climate modeling and prediction.\n\nTraditionally, the thermocline depth (DTC) is formally defined as the depth where the vertical temperature gradient $\\mathrm{d}T/\\mathrm{d}z$ is maximized,\ndenoted as $Z_{tc}$. This definition captures the core of the thermocline, where the most significant temperature change occurs.\nHowever, directly calculating $Z_{tc}$ requires high-resolution vertical temperature profiles,\nwhich are often sparse or computationally intensive to process. Moreover,\nin regions like the western Pacific warm pool\u2014where surface waters are persistently warm and temperature gradients are relatively weak\u2014$Z_{tc}$\ncan be ambiguous or difficult to identify. These limitations have spurred the search for a simpler yet\nreliable proxy to represent the thermocline depth in the equatorial Pacific.\n\nA widely adopted solution is the 20\u00b0C isotherm depth $Z_{20}$\u2014the depth at which the water temperature equals 20\u00b0C.\nOver decades of oceanographic research, $Z_{20}$ has emerged as a robust and practical proxy for $Z_{tc}$ in the equatorial Pacific.\nHere's why it has gained such prominence:\n\n- **Proximity to the Main Thermocline Core**:The 20\u00b0C isotherm lies near the center of the *main thermocline* in the equatorial Pacific. This region, where temperature decreases most sharply, is the thermocline's dynamical heart. By aligning with this core, $Z_{20}$ naturally captures the thermocline's vertical structure, making it a physically meaningful indicator.\n- **Consistency with $Z_{tc}$**: In most parts of the equatorial Pacific (excluding the warm pool), $Z_{20}$ and $Z_{tc}$ overlap closely. Observational data show that the depth of the 20\u00b0C isotherm closely tracks the depth of maximum vertical temperature gradient. This congruence ensures that $Z_{20}$ reliably reflects $Z_{tc}$ without sacrificing accuracy, even in regions where $Z_{tc}$ might be operationally hard to define.\n- **Practicality in Analysis**: Beyond its physical relevance, $Z_{20}$ offers practical advantages. It simplifies the study of ocean dynamics by approximating the tropical Pacific as a *two-layer system*: a warm upper layer above 20\u00b0C and a colder deep layer below. This approximation facilitates analysis of processes like equatorial wave propagation (e.g., Kelvin and Rossby waves) and heat transport, which are critical to ENSO variability. Additionally, $Z_{20}$ aligns with isopycnal (constant density) surfaces, allowing researchers to link temperature structure to ocean circulation without complex 3D calculations.\n- **Dynamical Consistency in Steady Climates**: In a climate with a stable mean state (i.e., time-averaged conditions), using $Z_{20}$ as a proxy for $Z_{tc}$ introduces no significant dynamical inconsistency. This stability has been validated across multiple studies, confirming that $Z_{20}$ captures the same large-scale variations in thermocline depth as $Z_{tc}$, whether during El Ni\u00f1o, La Ni\u00f1a, or neutral conditions.\n\nThe 20\u00b0C isotherm depth $Z_{20}$ has become a cornerstone of equatorial Pacific thermocline research.\nIts proximity to the thermocline core, consistency with the traditional $Z_{tc}$ definition, analytical simplicity,\nand dynamical reliability make it an indispensable tool for climate scientists.\nBy bridging the gap between theoretical definitions and practical applications,\n$Z_{20}$ enhances our ability to model and predict climate variability in one of the ocean's most climatically active regions.\nAs ocean observing systems continue to advance, $Z_{20}$ remains a testament to the power of finding elegant,\nphysically grounded proxies in complex Earth system science.\n\n.. seealso::\n\n    - Yang, H., & Wang, F. (2009). Revisiting the Thermocline Depth in the Equatorial Pacific. Journal of Climate, 22(13), 3856-3863. https://doi.org/10.1175/2009JCLI2836.1\n\nBefore proceeding with all the steps, first import some necessary libraries and packages\n"
      ]
    },
    {
      "cell_type": "code",
      "execution_count": null,
      "metadata": {
        "collapsed": false
      },
      "outputs": [],
      "source": [
        "import numpy as np\nimport xarray as xr\nimport easyclimate as ecl\nimport cartopy.crs as ccrs\nimport cartopy.feature as cfeature\nimport matplotlib.pyplot as plt"
      ]
    },
    {
      "cell_type": "markdown",
      "metadata": {},
      "source": [
        "Preprocessed data\n\n\n```python\ntemper_data = xr.open_dataset('temp_soda3.4.2_mn_ocean_reg_2020_EN4.nc', chunks=\"auto\").temp.rename({'st_ocean': 'depth'})\n```\n.. tip::\n\n  You can download following datasets here:\n\n  - :download:`Download temp_soda3.4.2_mn_ocean_reg_2020_EN4.nc <https://huggingface.co/datasets/shenyulu/easyclimate/resolve/main/tutorial_data/temp_soda3.4.2_mn_ocean_reg_2020_EN4.nc>`\n\n\n<div class=\"alert alert-danger\"><h4>Warning</h4><p>- Here we are using only the [SODA](https://www2.atmos.umd.edu/~ocean/)_ 3.4.2 reanalysis data during 2024; the actual analysis will need to be analyzed using multiple years of data.\n    - **Citation**: Carton, J. A., Chepurin, G. A., & Chen, L. (2018). SODA3: A New Ocean Climate Reanalysis. Journal of Climate, 31(17), 6967-6983. https://doi.org/10.1175/JCLI-D-18-0149.1</p></div>\n\nFirst calculate 20\u00b0C isotherm depth (D20) through :py:func:`easyclimate.field.ocean.thermal.calc_D20_depth <easyclimate.field.ocean.thermal.calc_D20_depth>`\n\n```python\nD20_result = ecl.field.ocean.calc_D20_depth(temper_data).isel(time = 7)\nD20_result.to_netcdf(\"sample_D20_result.nc\")\n```\nThen open the dataset\n\n"
      ]
    },
    {
      "cell_type": "code",
      "execution_count": null,
      "metadata": {
        "collapsed": false
      },
      "outputs": [],
      "source": [
        "D20_result = xr.open_dataarray(\"sample_D20_result.nc\")"
      ]
    },
    {
      "cell_type": "markdown",
      "metadata": {},
      "source": [
        "Then we use :py:func:`easyclimate.field.ocean.calc_seawater_thermocline_depth <easyclimate.field.ocean.calc_seawater_thermocline_depth>` to calculate the depth of thermocline\n\n```python\nthermocline_result = ecl.field.ocean.calc_seawater_thermocline_depth(temper_data).isel(time = 7)\nthermocline_result.to_netcdf(\"sample_thermocline_result.nc\")\n```\nNext, we open the result of thermocline\n\n"
      ]
    },
    {
      "cell_type": "code",
      "execution_count": null,
      "metadata": {
        "collapsed": false
      },
      "outputs": [],
      "source": [
        "thermocline_result = xr.open_dataarray(\"sample_thermocline_result.nc\")"
      ]
    },
    {
      "cell_type": "markdown",
      "metadata": {},
      "source": [
        "Here's the ocean thermocline depth distribution for August 2020\n\n"
      ]
    },
    {
      "cell_type": "code",
      "execution_count": null,
      "metadata": {
        "collapsed": false
      },
      "outputs": [],
      "source": [
        "proj_trans = ccrs.PlateCarree()\nfig, ax = ecl.plot.quick_draw_spatial_basemap(central_longitude=180)\n\nax.add_feature(cfeature.LAND, facecolor = '#DDDDDD', zorder = 1)\n\nfg = thermocline_result.plot(\n    vmax = 1000, vmin = 0,\n    cmap = \"viridis_r\",\n    transform = ccrs.PlateCarree(),\n    add_colorbar=False,\n    zorder = 0,\n)\ncb1 = fig.colorbar(fg, ax = ax, orientation = 'horizontal', pad = 0.15, extendrect = True)\ncb1.set_label('')\n\nax.set_title(\"Thermocline (Aug., 2020)\")"
      ]
    },
    {
      "cell_type": "markdown",
      "metadata": {},
      "source": [
        "And the 20\u00b0C isotherm depth (D20) distribution for August 2020\n\n"
      ]
    },
    {
      "cell_type": "code",
      "execution_count": null,
      "metadata": {
        "collapsed": false
      },
      "outputs": [],
      "source": [
        "proj_trans = ccrs.PlateCarree()\nfig, ax = ecl.plot.quick_draw_spatial_basemap(central_longitude=180)\n\nax.add_feature(cfeature.LAND, facecolor = '#DDDDDD', zorder = 1)\n\nfg = D20_result.plot(\n    vmax = 1000, vmin = 0,\n    cmap = \"viridis_r\",\n    transform = ccrs.PlateCarree(),\n    add_colorbar=False,\n    zorder = 0,\n)\ncb1 = fig.colorbar(fg, ax = ax, orientation = 'horizontal', pad = 0.15, extendrect = True)\ncb1.set_label('')\n\nax.set_title(\"D20 (Aug., 2020)\")"
      ]
    },
    {
      "cell_type": "markdown",
      "metadata": {},
      "source": [
        "Finally we make a difference between them, and from the figure we can see that the difference is minimum in the equatorial region,\nmeaning that in the equatorial tropics we can consider D20 to approximate the depth of the thermocline.\n\n"
      ]
    },
    {
      "cell_type": "code",
      "execution_count": null,
      "metadata": {
        "collapsed": false
      },
      "outputs": [],
      "source": [
        "proj_trans = ccrs.PlateCarree()\nfig, ax = ecl.plot.quick_draw_spatial_basemap(central_longitude=180)\n\nax.add_feature(cfeature.LAND, facecolor = '#DDDDDD', zorder = 1)\n\nfg = (D20_result - thermocline_result).plot(\n    vmax = 200,\n    transform = ccrs.PlateCarree(),\n    add_colorbar=False,\n    zorder = 0,\n)\ncb1 = fig.colorbar(fg, ax = ax, orientation = 'horizontal', pad = 0.15, extendrect = True)\ncb1.set_label('')\n\nax.set_title(\"Diff (Aug., 2020)\")"
      ]
    }
  ],
  "metadata": {
    "kernelspec": {
      "display_name": "Python 3",
      "language": "python",
      "name": "python3"
    },
    "language_info": {
      "codemirror_mode": {
        "name": "ipython",
        "version": 3
      },
      "file_extension": ".py",
      "mimetype": "text/x-python",
      "name": "python",
      "nbconvert_exporter": "python",
      "pygments_lexer": "ipython3",
      "version": "3.12.11"
    }
  },
  "nbformat": 4,
  "nbformat_minor": 0
}
