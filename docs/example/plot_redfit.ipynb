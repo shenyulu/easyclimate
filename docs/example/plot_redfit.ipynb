{
  "cells": [
    {
      "cell_type": "markdown",
      "metadata": {},
      "source": [
        "\n\n# Estimate Red-noise Spectrum\n\nBefore proceeding with all the steps, first import some necessary libraries and packages\n"
      ]
    },
    {
      "cell_type": "code",
      "execution_count": null,
      "metadata": {
        "collapsed": false
      },
      "outputs": [],
      "source": [
        "import pooch\nimport xarray as xr\nimport numpy as np\nimport pandas as pd\nimport easyclimate as ecl\nimport matplotlib.pyplot as plt\nfrom matplotlib import ticker"
      ]
    },
    {
      "cell_type": "markdown",
      "metadata": {},
      "source": [
        "You can download following datasets here:\n\n```python\npooch.retrieve(\n    \"https://psl.noaa.gov/data/correlation/nina34.anom.data\",\n    known_hash=None,\n    fname = \"nina34.anom.data\",\n    path = \".\",\n)\n```\nNow we begin to read the txt file\n\n"
      ]
    },
    {
      "cell_type": "code",
      "execution_count": null,
      "metadata": {
        "collapsed": false
      },
      "outputs": [],
      "source": [
        "# Read data from txt file\nfile_path = \"nina34.anom.data\"\nwith open(file_path, 'r') as file:\n    lines = file.readlines()\n\n# Parse data\nyears = []\nvalues = []\nfor line in lines:\n    # Skip empty lines or comment lines\n    if not line.strip() or line.startswith('#'):\n        continue\n    parts = line.split()\n\n    # Check if the first column is a year (integer)\n    try:\n        year = int(parts[0])  # Attempt to convert the first column to an integer\n    except ValueError:\n        print(f\"Skipping invalid line (first column is not a year): {line.strip()}\")\n        continue\n\n    # Check if there are 12 monthly values\n    if len(parts[1:]) != 12:\n        print(f\"Skipping invalid line (missing 12 monthly values): {line.strip()}\")\n        continue\n\n    # Convert the 12 monthly values to floats\n    try:\n        monthly_values = list(map(float, parts[1:]))\n    except ValueError:\n        print(f\"Skipping invalid line (contains non-numeric data): {line.strip()}\")\n        continue\n\n    years.append(year)\n    values.append(monthly_values)\n\n# Create time index\ntime = pd.date_range(start=f'{years[0]}-01', periods=len(years) * 12, freq='ME')\n\n# Flatten the data into a 1D array\nflat_values = np.array(values).flatten()\n\n# Create xarray.DataArray\nnino34 = xr.DataArray(\n    flat_values,\n    dims=['time'],\n    coords={'time': time},\n    attrs={'description': 'Nino 3.4 Index', 'units': 'Celsius'}\n)\n\n# Replace -99.99 with NaN\nnino34 = nino34.where(nino34 != -99.99)"
      ]
    },
    {
      "cell_type": "markdown",
      "metadata": {},
      "source": [
        "Filter needed time range\n\n"
      ]
    },
    {
      "cell_type": "code",
      "execution_count": null,
      "metadata": {
        "collapsed": false
      },
      "outputs": [],
      "source": [
        "nino34 = nino34.isel(time = slice(24,-12))\nnino34"
      ]
    },
    {
      "cell_type": "markdown",
      "metadata": {},
      "source": [
        "Calculate red noise\n\n"
      ]
    },
    {
      "cell_type": "code",
      "execution_count": null,
      "metadata": {
        "collapsed": false
      },
      "outputs": [],
      "source": [
        "result_redfit = ecl.filter.calc_redfit(nino34)\nresult_redfit = result_redfit.assign_coords({\"period_month\": (result_redfit.period)/12})\nresult_redfit"
      ]
    },
    {
      "cell_type": "markdown",
      "metadata": {},
      "source": [
        "Draw the red noise graph\n\n"
      ]
    },
    {
      "cell_type": "code",
      "execution_count": null,
      "metadata": {
        "collapsed": false
      },
      "outputs": [],
      "source": [
        "fig, ax = plt.subplots()\n\nresult_redfit.gxx.plot(ax = ax, x = 'period_month', color = 'black')\nresult_redfit.chi2_95.plot(ax = ax, ls = '--', x = 'period_month', label = '95% CI', color = 'red')\nresult_redfit.chi2_90.plot(ax = ax, ls = '--', x = 'period_month', label = '90% CI', color = 'blue')\nax.legend()\n\nax.set_xscale('log', base = 2, subs = None)\nax.xaxis.set_major_formatter(ticker.ScalarFormatter())\n\nax.set_xlim(2, 16)\n\nax.set_xlabel('Period (years)')\nax.set_ylabel('Spectral Amplitude')"
      ]
    }
  ],
  "metadata": {
    "kernelspec": {
      "display_name": "Python 3",
      "language": "python",
      "name": "python3"
    },
    "language_info": {
      "codemirror_mode": {
        "name": "ipython",
        "version": 3
      },
      "file_extension": ".py",
      "mimetype": "text/x-python",
      "name": "python",
      "nbconvert_exporter": "python",
      "pygments_lexer": "ipython3",
      "version": "3.12.11"
    }
  },
  "nbformat": 4,
  "nbformat_minor": 0
}
