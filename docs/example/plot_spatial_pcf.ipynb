{
  "cells": [
    {
      "cell_type": "markdown",
      "metadata": {},
      "source": [
        "\n\n# 2D Spatial Parabolic Cylinder Function\n\nEver wondered how atmospheric waves boogie along the equator? Let's explore how to isolate these fascinating dancers (Kelvin waves, Rossby waves, and friends) using parabolic cylinder functions!\n\nBefore proceeding with all the steps, first import some necessary libraries and packages\n"
      ]
    },
    {
      "cell_type": "code",
      "execution_count": null,
      "metadata": {
        "collapsed": false
      },
      "outputs": [],
      "source": [
        "import xarray as xr\nimport xarray as xr\nimport cartopy.crs as ccrs\nimport easyclimate as ecl"
      ]
    },
    {
      "cell_type": "markdown",
      "metadata": {},
      "source": [
        "## Loading the Data\nFirst, we need some atmospheric data to work with - think of this as setting up the dance floor for our waves:\n\n\n"
      ]
    },
    {
      "cell_type": "code",
      "execution_count": null,
      "metadata": {
        "collapsed": false
      },
      "outputs": [],
      "source": [
        "uvz_data = xr.open_dataset(\"uwnd_vwnd_hgt_equtorial_2021_2024.nc\")\nuvz_data"
      ]
    },
    {
      "cell_type": "markdown",
      "metadata": {},
      "source": [
        "## Isolating Wave Types\nNow for the star of our show: the 2D spatial parabolic cylinder function filter :py:func:`easyclimate.filter.filter_2D_spatial_parabolic_cylinder_function <easyclimate.filter.filter_2D_spatial_parabolic_cylinder_function>`! This function works like a talented bouncer, only letting specific wave types into our analysis:\n\n\n"
      ]
    },
    {
      "cell_type": "code",
      "execution_count": null,
      "metadata": {
        "collapsed": false
      },
      "outputs": [],
      "source": [
        "result = ecl.filter.filter_2D_spatial_parabolic_cylinder_function(uvz_data.uwnd, uvz_data.vwnd, uvz_data.hgt)\nresult"
      ]
    },
    {
      "cell_type": "markdown",
      "metadata": {},
      "source": [
        "## Visualizing the Waves\nLet's meet our wave dancers one by one and see their unique moves!\n\n### The Graceful Kelvin Wave\nKelvin waves move eastward with elegant symmetry, like ballet dancers:\n\n\n"
      ]
    },
    {
      "cell_type": "code",
      "execution_count": null,
      "metadata": {
        "collapsed": false
      },
      "outputs": [],
      "source": [
        "fig, ax = ecl.plot.quick_draw_spatial_basemap(figsize=(9, 4), central_longitude=180)\nax.set_extent([20, 180, -20, 20], crs = ccrs.PlateCarree())\n\n# Contour plot for height field\nresult.sel(wave_type = \"kelvin\").z.sel(time = \"2023-12-15\").plot.contourf(\n    ax = ax,\n    levels=21,\n    transform = ccrs.PlateCarree(),\n    cbar_kwargs={\"location\": \"bottom\", \"aspect\": 50, \"shrink\": 0.5},\n)\n\n# Quiver plot for wind vectors\nresult.sel(wave_type = \"kelvin\")[[\"u\", \"v\"]].sel(time = \"2023-12-15\").thin(lon=1, lat=1).plot.quiver(\n    x = \"lon\", y = 'lat',\n    u = \"u\", v = \"v\",\n    ax = ax,\n    scale = 30,\n    headlength = 5,\n    minlength = 1.5,\n    transform = ccrs.PlateCarree()\n)\n\nax.set_title(\"Kelvin Waves\")"
      ]
    },
    {
      "cell_type": "markdown",
      "metadata": {},
      "source": [
        "### The WMRG Wave\nWestward-moving Mixed Rossby-Gravity waves have more complex moves, like contemporary dancers:\n\n\n"
      ]
    },
    {
      "cell_type": "code",
      "execution_count": null,
      "metadata": {
        "collapsed": false
      },
      "outputs": [],
      "source": [
        "fig, ax = ecl.plot.quick_draw_spatial_basemap(figsize=(9, 4), central_longitude=180)\nax.set_extent([20, 180, -20, 20], crs = ccrs.PlateCarree())\n\nresult.sel(wave_type = \"wmrg\").z.sel(time = \"2023-12-15\").plot.contourf(\n    ax = ax,\n    levels=21,\n    transform = ccrs.PlateCarree(),\n    cbar_kwargs={\"location\": \"bottom\", \"aspect\": 50, \"shrink\": 0.5},\n)\nresult.sel(wave_type = \"wmrg\")[[\"u\", \"v\"]].sel(time = \"2023-12-15\").thin(lon=1, lat=1).plot.quiver(\n    x = \"lon\", y = 'lat',\n    u = \"u\", v = \"v\",\n    ax = ax,\n    scale = 30,\n    headlength = 5,\n    minlength = 1.5,\n    transform = ccrs.PlateCarree()\n)\n\nax.set_title(\"Westward Mixed Rossby-Gravity Waves\")"
      ]
    },
    {
      "cell_type": "markdown",
      "metadata": {},
      "source": [
        "### The Rossby Waves\nRossby waves come in different \"generations\", let's meet the first two:\n\n#### $[n=1]$ Rossby Wave\n\n\n"
      ]
    },
    {
      "cell_type": "code",
      "execution_count": null,
      "metadata": {
        "collapsed": false
      },
      "outputs": [],
      "source": [
        "fig, ax = ecl.plot.quick_draw_spatial_basemap(figsize=(9, 4), central_longitude=180)\nax.set_extent([20, 180, -20, 20], crs = ccrs.PlateCarree())\n\nresult.sel(wave_type = \"r1\").z.sel(time = \"2023-12-15\").plot.contourf(\n    ax = ax,\n    levels=21,\n    transform = ccrs.PlateCarree(),\n    cbar_kwargs={\"location\": \"bottom\", \"aspect\": 50, \"shrink\": 0.5},\n)\nresult.sel(wave_type = \"r1\")[[\"u\", \"v\"]].sel(time = \"2023-12-15\").thin(lon=1, lat=1).plot.quiver(\n    x = \"lon\", y = 'lat',\n    u = \"u\", v = \"v\",\n    ax = ax,\n    scale = 70,\n    headlength = 5,\n    minlength = 1.5,\n    transform = ccrs.PlateCarree()\n)\n\nax.set_title(\"$n = 1$ Equatorial Rossby Waves\")"
      ]
    },
    {
      "cell_type": "markdown",
      "metadata": {},
      "source": [
        "#### $[n=2]$ Rossby Wave\n\n\n"
      ]
    },
    {
      "cell_type": "code",
      "execution_count": null,
      "metadata": {
        "collapsed": false
      },
      "outputs": [],
      "source": [
        "fig, ax = ecl.plot.quick_draw_spatial_basemap(figsize=(9, 4), central_longitude=180)\nax.set_extent([20, 180, -20, 20], crs = ccrs.PlateCarree())\n\nresult.sel(wave_type = \"r2\").z.sel(time = \"2023-12-15\").plot.contourf(\n    ax = ax,\n    levels=21,\n    transform = ccrs.PlateCarree(),\n    cbar_kwargs={\"location\": \"bottom\", \"aspect\": 50, \"shrink\": 0.5},\n)\nresult.sel(wave_type = \"r2\")[[\"u\", \"v\"]].sel(time = \"2023-12-15\").thin(lon=1, lat=1).plot.quiver(\n    x = \"lon\", y = 'lat',\n    u = \"u\", v = \"v\",\n    ax = ax,\n    scale = 40,\n    headlength = 5,\n    minlength = 1.5,\n    transform = ccrs.PlateCarree()\n)\n\nax.set_title(\"$n = 2$ Equatorial Rossby Waves\")"
      ]
    },
    {
      "cell_type": "markdown",
      "metadata": {},
      "source": [
        "## Behind the Scenes: How the Magic Works\nThe :py:func:`easyclimate.filter.filter_2D_spatial_parabolic_cylinder_function <easyclimate.filter.filter_2D_spatial_parabolic_cylinder_function>` performs some serious atmospheric wizardry:\n\n1. Detrending and Windowing: Prepares the data by removing trends and applying spectral windows\n2. Variable Transformation: Creates new variables that better represent wave structures\n3. Fourier Analysis: Identifies frequency and wavenumber components\n4. Projection: Maps the data onto parabolic cylinder functions that match equatorial wave structures\n5. Filtering: Isolates specific wave types based on their characteristic patterns\n6. Reconstruction: Brings everything back to physical space for visualization\n\nEach wave type has its own signature moves:\n  - Kelvin Waves: Eastward-moving, symmetric about the equator ($n=0$ mode)\n  - WMRG Waves: Westward-moving with mixed characteristics ($n=1$ mode)\n  - Rossby Waves: Westward-moving with more complex structures ($n=2$, $n=3$ modes)\n\n\n"
      ]
    }
  ],
  "metadata": {
    "kernelspec": {
      "display_name": "Python 3",
      "language": "python",
      "name": "python3"
    },
    "language_info": {
      "codemirror_mode": {
        "name": "ipython",
        "version": 3
      },
      "file_extension": ".py",
      "mimetype": "text/x-python",
      "name": "python",
      "nbconvert_exporter": "python",
      "pygments_lexer": "ipython3",
      "version": "3.11.11"
    }
  },
  "nbformat": 4,
  "nbformat_minor": 0
}
