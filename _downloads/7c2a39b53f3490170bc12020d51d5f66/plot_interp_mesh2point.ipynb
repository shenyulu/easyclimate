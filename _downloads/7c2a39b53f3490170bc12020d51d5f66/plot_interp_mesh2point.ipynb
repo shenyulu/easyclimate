{
  "cells": [
    {
      "cell_type": "markdown",
      "metadata": {},
      "source": [
        "\n# Interpolate grid data to station data\n\nThis example demonstrates how to interpolate 2m temperature data from a regular grid\n(ERA5 reanalysis data) to specific point locations (cities in Eastern China) using\nthe :py:func:`easyclimate.interp.interp_mesh2point <easyclimate.interp.interp_mesh2point>` function from the easyclimate package.\n\nThe workflow includes:\n\n1. Loading and visualizing the grid data\n2. Creating a DataFrame with point locations\n3. Performing the interpolation\n4. Visualizing the results with interpolated values\n\nBefore proceeding with all the steps, first import some necessary libraries and packages\n"
      ]
    },
    {
      "cell_type": "code",
      "execution_count": null,
      "metadata": {
        "collapsed": false
      },
      "outputs": [],
      "source": [
        "import easyclimate as ecl\nimport xarray as xr\nimport cartopy.crs as ccrs\nimport numpy as np\nimport pandas as pd"
      ]
    },
    {
      "cell_type": "markdown",
      "metadata": {},
      "source": [
        "Load 2m temperature data from a NetCDF file (ERA5 reanalysis data)\nThe data contains temperature values on a regular latitude-longitude grid\n\n.. tip::\n\n  You can download following datasets here: :download:`Download js_t2m_ERA5_2025052000.nc <https://huggingface.co/datasets/shenyulu/easyclimate/resolve/main/tutorial_data/js_t2m_ERA5_2025052000.nc>`\n\n\n"
      ]
    },
    {
      "cell_type": "code",
      "execution_count": null,
      "metadata": {
        "collapsed": false
      },
      "outputs": [],
      "source": [
        "t2m_data = xr.open_dataset(\"js_t2m_ERA5_2025052000.nc\").t2m\nt2m_data"
      ]
    },
    {
      "cell_type": "markdown",
      "metadata": {},
      "source": [
        "Create a basemap plot focused on Eastern China region\n\n"
      ]
    },
    {
      "cell_type": "code",
      "execution_count": null,
      "metadata": {
        "collapsed": false
      },
      "outputs": [],
      "source": [
        "fig, ax = ecl.plot.quick_draw_spatial_basemap(figsize=(5, 5))\nax.set_extent([116, 123, 30, 36], crs = ccrs.PlateCarree())\n\n# Select and plot temperature data for the region of interest\ndraw_data = t2m_data.sel(lon = slice(100, 140), lat = slice(45, 25))\ndraw_data.plot.contourf(\n    ax = ax,\n    transform=ccrs.PlateCarree(),\n    cbar_kwargs = {'location': 'bottom'},\n    levels = np.linspace(17, 29, 21),\n    cmap = \"plasma\"\n)\n\nax.set_title(\"2m temperature\")"
      ]
    },
    {
      "cell_type": "markdown",
      "metadata": {},
      "source": [
        "Create a DataFrame containing city locations (longitude and latitude)\nThese are the points where we want to interpolate temperature values\n\n"
      ]
    },
    {
      "cell_type": "code",
      "execution_count": null,
      "metadata": {
        "collapsed": false
      },
      "outputs": [],
      "source": [
        "data = {\n    \"Site\": [\"Nanjing (\u5357\u4eac)\", \"Suzhou (\u82cf\u5dde)\", \"Shanghai (\u4e0a\u6d77)\", \"Chuzhou (\u6ec1\u5dde)\", \"Changzhou (\u5e38\u5dde)\", \"Xuzhou (\u5f90\u5dde)\", \"Yancheng (\u76d0\u57ce)\"],\n    \"lon\": [118.7788631, 120.6212881, 121.4700152, 118.3139455, 119.9691539, 117.1810431, 120.1577019],\n    \"lat\": [32.0438284, 31.311123, 31.2312707, 32.3027377, 31.8122623, 34.2665258, 33.349559]\n}\ndf = pd.DataFrame(data)\ndf"
      ]
    },
    {
      "cell_type": "markdown",
      "metadata": {},
      "source": [
        "Use interp_mesh2point to interpolate grid values to point locations\nParameters:\n\n- ``t2m_data``: Input grid data (xarray DataArray)\n- ``df``: DataFrame with point locations\n- ``lon/lat_dim_mesh``: Name of lon/lat dimensions in grid data\n- ``lon/lat_dim_df``: Name of lon/lat columns in DataFrame\n\n"
      ]
    },
    {
      "cell_type": "code",
      "execution_count": null,
      "metadata": {
        "collapsed": false
      },
      "outputs": [],
      "source": [
        "df_interp = ecl.interp.interp_mesh2point(\n    t2m_data, df,\n    lon_dim_mesh = \"lon\",\n    lat_dim_mesh = \"lat\",\n    lon_dim_df = \"lon\",\n    lat_dim_df = \"lat\"\n)\ndf_interp"
      ]
    },
    {
      "cell_type": "markdown",
      "metadata": {},
      "source": [
        "Create a combined plot showing both the grid data and interpolated points\n\n"
      ]
    },
    {
      "cell_type": "code",
      "execution_count": null,
      "metadata": {
        "collapsed": false
      },
      "outputs": [],
      "source": [
        "proj_trans = ccrs.PlateCarree() # Coordinate reference system for transformations\n\nfig, ax = ecl.plot.quick_draw_spatial_basemap(figsize=(5, 5))\nax.set_extent([116, 123, 30, 36], crs = proj_trans)\n\ndraw_data = t2m_data.sel(lon = slice(100, 140), lat = slice(45, 25))\n\n# Plot the grid data again for reference\ndraw_data.plot.contourf(\n    ax = ax,\n    transform=ccrs.PlateCarree(),\n    cbar_kwargs = {'location': 'bottom'},\n    levels = np.linspace(17, 29, 21),\n    cmap = \"plasma\"\n)\n\n# Plot the point locations as red dots\nax.scatter(\n    df_interp[\"lon\"],\n    df_interp[\"lat\"],\n    transform = proj_trans,\n    color = 'r',\n    s = 5\n)\n\n# Add temperature values as text labels near each point\nfor i, row in df_interp.iterrows():\n    ax.text(\n        row[\"lon\"],\n        row[\"lat\"],\n        str(np.round(row[\"interpolated_value\"], decimals=2)), # Rounded to 2 decimal places\n        transform=proj_trans,\n        fontsize=10,\n        ha='center',  # Horizontal alignment\n        va='bottom',  # Vertical alignment\n        color='blue'\n)\n\nax.set_title(\"2m temperature (Points)\")"
      ]
    }
  ],
  "metadata": {
    "kernelspec": {
      "display_name": "Python 3",
      "language": "python",
      "name": "python3"
    },
    "language_info": {
      "codemirror_mode": {
        "name": "ipython",
        "version": 3
      },
      "file_extension": ".py",
      "mimetype": "text/x-python",
      "name": "python",
      "nbconvert_exporter": "python",
      "pygments_lexer": "ipython3",
      "version": "3.11.13"
    }
  },
  "nbformat": 4,
  "nbformat_minor": 0
}