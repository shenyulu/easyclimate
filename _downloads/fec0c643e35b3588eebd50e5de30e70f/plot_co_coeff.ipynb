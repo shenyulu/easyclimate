{
  "cells": [
    {
      "cell_type": "markdown",
      "metadata": {},
      "source": [
        "\n\n# Coriolis Coefficient with Latitude\n\nSince Earth is rotating, water and gas on or above its surface have angular momentum.\nWhen a fluid moves from one latitude, it changes the distance from the axis of rotation,\nso the rate of rotation changes to maintain constant angular momentum.\n\nAs pressure gradient force (PGF) pushes air toward the poles, it gets closer to the axis of rotation,\nand as with the skater, the air moves faster in its west-to-east motion,\nmoving to the east of the air it is moving into. And when air moves toward the equator,\nit slows its west-to-east motion and moves to the west of the air it is moving into.\nWhen looking along the initial path of the northward or southward push,\nin the Northern Hemisphere, the air moves to the right.\nIn the Southern Hemisphere, the air moves to the left of the initial push.\n\nBut what about the air that moves initially to the west or east? It is staying at the same latitude,\nso it isn't changing its distance to the axis of rotation. In the case of moving eastward,\nthe air will be moving faster than it needs to stay at the Earth's surface,\nit moves perpendicularly away from the axis of rotation (see spinning marshmallow activity).\nGravity pulls the air back to the ground, but this is toward the center of the Earth,\nso the air moves toward the equator.\nThe air moves to the right of the eastward push in the northern hemisphere and to the left of the push in the southern hemisphere.\n\nWhen air moves westward, it is moving slower than air that would stay at the same distance from the axis of rotation,\nso it would move perpendicularly toward the axis. But the ground gets in the way,\nand the slope of the surface would push it toward the poles\n(remember the air is not sinking toward the Earth's center but perpendicular to the axis of rotation).\nAnd, as with the other cases, the air is moved to the right of the westward\npush in the northern hemisphere and to the left in the southern.\n\nNotice that the only time the eastward or westward pushed air won't bend is at the equator since the\ngravitational pull toward the center of the Earth and the perpendicular\ndirection to the axis of rotation are parallel. This gives an indication that\nthere isn't a Coriolis force acting on air moving along the equator,\nso there must be a relationship between latitude and the magnitude of Coriolis\nforce. Coriolis force is proportional to sin(latitude), so it is at a maximum\nat the poles ($\\sin 90 ^\\circ = 1$) and zero at the equator ($\\sin 0 ^\\circ = 0$).\nIn calculations, meteorologists use the Coriolis coefficient which is\n\n\\begin{align}f = 2 \\Omega \\sin(\\phi)\\end{align}\n\nWhere\n\n- $\\Omega$: Earth's angular velocity ($7.292 \\cdot 10 ^{-5} \\ \\mathrm{rad/s}$).\n- $\\phi$: the latitude in degrees.\n\n.. seealso::\n\n    - [Coriolis and Centrifugal Forces](https://sciencepickle.com/earth-systems/earth-wind-and-forces/coriolis-and-centrifugal-forces/)_\n    - [The Coriolis Effect](https://stratus.ssec.wisc.edu/courses/gg101/coriolis/coriolis.html)_\n    - James F. Price: [A Coriolis tutorial Woods](https://www.whoi.edu/science/PO/people/jprice/class/aCt.pdf)_, Hole Oceanographic Institute (2003)\n\nBefore proceeding with all the steps, first import some necessary libraries and packages\n"
      ]
    },
    {
      "cell_type": "code",
      "execution_count": null,
      "metadata": {
        "collapsed": false
      },
      "outputs": [],
      "source": [
        "import xarray as xr\nimport numpy as np\nimport matplotlib.pyplot as plt\nimport easyclimate as ecl"
      ]
    },
    {
      "cell_type": "markdown",
      "metadata": {},
      "source": [
        "First, we create a latitude array ranging from -90\u00b0 (South Pole) to 90\u00b0 (North Pole)\nwith 21 equally spaced points:\n\n"
      ]
    },
    {
      "cell_type": "code",
      "execution_count": null,
      "metadata": {
        "collapsed": false
      },
      "outputs": [],
      "source": [
        "lat_array = xr.DataArray(\n    np.linspace(-90, 90, 21),\n    dims = 'lat',\n    coords={'lat': np.linspace(-90, 90, 21)}\n)\nlat_array"
      ]
    },
    {
      "cell_type": "markdown",
      "metadata": {},
      "source": [
        "Using the :py:func:`easyclimate.physics.geo.get_coriolis_parameter <easyclimate.physics.geo.get_coriolis_parameter>` function to calculate\nthe Coriolis coefficient at each latitude point. The function automatically\nhandles the conversion from degrees to radians and applies the formula.\n\n"
      ]
    },
    {
      "cell_type": "code",
      "execution_count": null,
      "metadata": {
        "collapsed": false
      },
      "outputs": [],
      "source": [
        "co_coeff = ecl.physics.geo.get_coriolis_parameter(lat_array)\nco_coeff"
      ]
    },
    {
      "cell_type": "markdown",
      "metadata": {},
      "source": [
        "Plot the relationship between latitude and Coriolis coefficient to demonstrate:\n\n1. Zero at the equator (0\u00b0 latitude)\n2. Maximum positive value at North Pole (90\u00b0 latitude)\n3. Maximum negative value at South Pole (-90\u00b0 latitude)\n4. Anti-symmetric about the equator\n\n"
      ]
    },
    {
      "cell_type": "code",
      "execution_count": null,
      "metadata": {
        "collapsed": false
      },
      "outputs": [],
      "source": [
        "fig, ax = plt.subplots()\n\nco_coeff.plot(ax=ax)\n\n# Format the y-axis to use scientific notation for small values\nax.yaxis.set_major_formatter(plt.ScalarFormatter(useMathText=True))\nax.yaxis.get_major_formatter().set_powerlimits((0, 0))\n\n# Format latitude labels on x-axis\necl.plot.set_lat_format_axis(axis=\"x\")\n\n# Add grid lines for better readability\nax.grid(True, linestyle='--', alpha=0.6)\n\n# Set plot titles and labels\nax.set_title(\"Coriolis coefficient with latitude\")\nax.set_xlabel(\"Latitude\")\nax.set_ylabel(\"Coriolis coefficient\")"
      ]
    }
  ],
  "metadata": {
    "kernelspec": {
      "display_name": "Python 3",
      "language": "python",
      "name": "python3"
    },
    "language_info": {
      "codemirror_mode": {
        "name": "ipython",
        "version": 3
      },
      "file_extension": ".py",
      "mimetype": "text/x-python",
      "name": "python",
      "nbconvert_exporter": "python",
      "pygments_lexer": "ipython3",
      "version": "3.11.13"
    }
  },
  "nbformat": 4,
  "nbformat_minor": 0
}