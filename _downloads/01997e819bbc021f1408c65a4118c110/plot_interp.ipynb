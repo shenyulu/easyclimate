{
  "cells": [
    {
      "cell_type": "markdown",
      "metadata": {},
      "source": [
        "\n# Interpolation and Regriding\n\nBefore proceeding with all the steps, first import some necessary libraries and packages\n"
      ]
    },
    {
      "cell_type": "code",
      "execution_count": null,
      "metadata": {
        "collapsed": false
      },
      "outputs": [],
      "source": [
        "import easyclimate as ecl\nimport xarray as xr\nimport matplotlib.pyplot as plt\nimport cartopy.crs as ccrs\nimport numpy as np"
      ]
    },
    {
      "cell_type": "markdown",
      "metadata": {},
      "source": [
        "## Interpolation from points to grid\nOpen sample surface pressure data for the European region\n\n"
      ]
    },
    {
      "cell_type": "code",
      "execution_count": null,
      "metadata": {
        "collapsed": false
      },
      "outputs": [],
      "source": [
        "data = ecl.open_tutorial_dataset(\"PressQFF_202007271200_872.csv\")\nprint(data)"
      ]
    },
    {
      "cell_type": "markdown",
      "metadata": {},
      "source": [
        ":py:func:`easyclimate.interp.interp_point2mesh <easyclimate.interp.interp_point2mesh>` enables interpolation from site data to grid point data.\n\n.. seealso::\n\n    - https://github.com/MeteoSwiss/fast-barnes-py\n    - Z\u00fcrcher, B. K.: Fast approximate Barnes interpolation: illustrated by Python-Numba implementation fast-barnes-py v1.0, Geosci. Model Dev., 16, 1697\u20131711, https://doi.org/10.5194/gmd-16-1697-2023, 2023.\n\n"
      ]
    },
    {
      "cell_type": "code",
      "execution_count": null,
      "metadata": {
        "collapsed": false
      },
      "outputs": [],
      "source": [
        "meshdata = ecl.interp.interp_point2mesh(\n    data,\n    var_name=\"qff\",\n    grid_x=37.5,\n    grid_y=75.0,\n    point=[-26.0, 34.5],\n    resolution=32,\n    sigma=1,\n)\nmeshdata"
      ]
    },
    {
      "cell_type": "markdown",
      "metadata": {},
      "source": [
        "Plotting interpolated grid point data and corresponding station locations\n\n"
      ]
    },
    {
      "cell_type": "code",
      "execution_count": null,
      "metadata": {
        "collapsed": false
      },
      "outputs": [],
      "source": [
        "fig, ax = plt.subplots(subplot_kw={\"projection\": ccrs.PlateCarree(central_longitude=0)})\n\nax.gridlines(draw_labels=[\"bottom\", \"left\"], color=\"grey\", alpha=0.5, linestyle=\"--\")\nax.coastlines(edgecolor=\"black\", linewidths=0.5)\n\n# Draw interpolation results\nmeshdata.plot.contourf(\n    ax=ax,\n    transform=ccrs.PlateCarree(),\n    cbar_kwargs={\"location\": \"bottom\"},\n    cmap=\"RdBu_r\",\n    levels=21,\n)\n\n# Draw observation stations\nax.scatter(data[\"lon\"], data[\"lat\"], s=1, c=\"r\", transform=ccrs.PlateCarree())"
      ]
    },
    {
      "cell_type": "markdown",
      "metadata": {},
      "source": [
        "## Regriding\nReading example raw grid data\n\n"
      ]
    },
    {
      "cell_type": "code",
      "execution_count": null,
      "metadata": {
        "collapsed": false
      },
      "outputs": [],
      "source": [
        "u_data = ecl.tutorial.open_tutorial_dataset(\"uwnd_202201_mon_mean\").sortby(\"lat\").uwnd\nu_data"
      ]
    },
    {
      "cell_type": "markdown",
      "metadata": {},
      "source": [
        "Define the target grid (only for **latitude/longitude and regular grids**)\n\n"
      ]
    },
    {
      "cell_type": "code",
      "execution_count": null,
      "metadata": {
        "collapsed": false
      },
      "outputs": [],
      "source": [
        "target_grid = xr.DataArray(\n    dims=(\"lat\", \"lon\"),\n    coords={\n        \"lat\": np.arange(-89, 89, 6) + 1 / 1.0,\n        \"lon\": np.arange(-180, 180, 6) + 1 / 1.0,\n    },\n)"
      ]
    },
    {
      "cell_type": "markdown",
      "metadata": {},
      "source": [
        ":py:func:`easyclimate.interp.interp_point2mesh <easyclimate.interp.interp_point2mesh>` performs a regridding operation.\n\n.. seealso::\n\n  https://github.com/EXCITED-CO2/xarray-regrid\n\n"
      ]
    },
    {
      "cell_type": "code",
      "execution_count": null,
      "metadata": {
        "collapsed": false
      },
      "outputs": [],
      "source": [
        "regriding_data = ecl.interp.interp_mesh2mesh(u_data, target_grid)\nregriding_data"
      ]
    },
    {
      "cell_type": "markdown",
      "metadata": {},
      "source": [
        "Plotting differences before and after interpolation\n\n"
      ]
    },
    {
      "cell_type": "code",
      "execution_count": null,
      "metadata": {
        "collapsed": false
      },
      "outputs": [],
      "source": [
        "fig, ax = plt.subplots(1, 2, figsize=(12, 5))\n\nu_data.sel(level=500).isel(time=0).plot(ax=ax[0])\nax[0].set_title(\"Before\", size=20)\n\nregriding_data.sel(level=500).isel(time=0).plot(ax=ax[1])\nax[1].set_title(\"After\", size=20)"
      ]
    },
    {
      "cell_type": "markdown",
      "metadata": {},
      "source": [
        "## Interpolation from model layers to altitude layers\nSuppose the following data are available\n\n"
      ]
    },
    {
      "cell_type": "code",
      "execution_count": null,
      "metadata": {
        "collapsed": false
      },
      "outputs": [],
      "source": [
        "uwnd_data = xr.DataArray(\n    np.array(\n        [\n            -15.080393,\n            -10.749071,\n            -4.7920494,\n            -2.3813725,\n            -1.4152431,\n            -0.6465206,\n            -7.8181705,\n            -14.718096,\n            -14.65539,\n            -14.948015,\n            -13.705519,\n            -11.443476,\n            -8.865583,\n            -7.9528713,\n            -8.329103,\n            -7.2445316,\n            -6.7150173,\n            -5.5189686,\n            -4.139448,\n            -3.2731838,\n            -2.2931194,\n            -1.0041752,\n            -1.8983078,\n            -2.3674374,\n            -2.8203106,\n            -3.2940865,\n            -3.526329,\n            -3.8654022,\n            -4.164995,\n            -4.2834396,\n            -4.2950516,\n            -4.3438225,\n            -4.3716908,\n            -4.7688255,\n            -4.6155453,\n            -4.5528393,\n            -4.4831676,\n            -4.385626,\n            -4.2950516,\n            -4.0953217,\n        ]\n    ),\n    dims=(\"model_level\",),\n    coords={\n        \"model_level\": np.array(\n            [\n                36,\n                44,\n                51,\n                56,\n                60,\n                63,\n                67,\n                70,\n                73,\n                75,\n                78,\n                81,\n                83,\n                85,\n                88,\n                90,\n                92,\n                94,\n                96,\n                98,\n                100,\n                102,\n                104,\n                105,\n                107,\n                109,\n                111,\n                113,\n                115,\n                117,\n                119,\n                122,\n                124,\n                126,\n                129,\n                131,\n                133,\n                135,\n                136,\n                137,\n            ]\n        )\n    },\n)\n\np_data = xr.DataArray(\n    np.array(\n        [\n            2081.4756,\n            3917.6995,\n            6162.6455,\n            8171.3506,\n            10112.652,\n            11811.783,\n            14447.391,\n            16734.607,\n            19317.787,\n            21218.21,\n            24357.875,\n            27871.277,\n            30436.492,\n            33191.027,\n            37698.96,\n            40969.438,\n            44463.73,\n            48191.92,\n            52151.29,\n            56291.098,\n            60525.63,\n            64770.367,\n            68943.69,\n            70979.66,\n            74908.17,\n            78599.67,\n            82012.95,\n            85122.69,\n            87918.29,\n            90401.77,\n            92584.94,\n            95338.72,\n            96862.08,\n            98165.305,\n            99763.38,\n            100626.21,\n            101352.69,\n            101962.28,\n            102228.875,\n            102483.055,\n        ]\n    ),\n    dims=(\"model_level\",),\n    coords={\n        \"model_level\": np.array(\n            [\n                36,\n                44,\n                51,\n                56,\n                60,\n                63,\n                67,\n                70,\n                73,\n                75,\n                78,\n                81,\n                83,\n                85,\n                88,\n                90,\n                92,\n                94,\n                96,\n                98,\n                100,\n                102,\n                104,\n                105,\n                107,\n                109,\n                111,\n                113,\n                115,\n                117,\n                119,\n                122,\n                124,\n                126,\n                129,\n                131,\n                133,\n                135,\n                136,\n                137,\n            ]\n        )\n    },\n)"
      ]
    },
    {
      "cell_type": "markdown",
      "metadata": {},
      "source": [
        "Now we interpolate the data located on the mode plane to the isobaric plane.\nNote that the units of the given isobaric surface are consistent with `pressure_data`.\n\n"
      ]
    },
    {
      "cell_type": "code",
      "execution_count": null,
      "metadata": {
        "collapsed": false
      },
      "outputs": [],
      "source": [
        "result = ecl.interp.interp1d_vertical_model2pressure(\n    pressure_data=p_data,\n    variable_data=uwnd_data,\n    vertical_input_dim=\"model_level\",\n    vertical_output_dim=\"plev\",\n    vertical_output_level=np.array(\n        [100000, 92500, 85000, 70000, 60000, 50000, 40000, 30000, 20000, 10000]\n    ),\n)\nresult"
      ]
    },
    {
      "cell_type": "markdown",
      "metadata": {},
      "source": [
        "Simply calibrate the interpolation effect.\n\n"
      ]
    },
    {
      "cell_type": "code",
      "execution_count": null,
      "metadata": {
        "collapsed": false
      },
      "outputs": [],
      "source": [
        "fig, ax = plt.subplots()\nax.plot(p_data, uwnd_data, label=\"Original\")\nax.plot(result.plev, result.data, \"o\", label=\"Interpolated\")\nax.invert_xaxis()\nax.set_xlabel(\"Pressure [Pa]\")\nax.set_ylabel(\"Zonal Wind [m/s]\")\nplt.legend()"
      ]
    },
    {
      "cell_type": "markdown",
      "metadata": {},
      "source": [
        "## Interpolation from pressure layers to altitude layers\nSuppose the following data are available\n\n"
      ]
    },
    {
      "cell_type": "code",
      "execution_count": null,
      "metadata": {
        "collapsed": false
      },
      "outputs": [],
      "source": [
        "z_data = xr.DataArray(\n    np.array(\n        [\n            214.19354,\n            841.6774,\n            1516.871,\n            3055.7097,\n            4260.5806,\n            5651.4194,\n            7288.032,\n            9288.193,\n            10501.097,\n            11946.71,\n            13762.322,\n            16233.451,\n            18370.902,\n            20415.227,\n            23619.033,\n            26214.322,\n            30731.807,\n        ]\n    ),\n    dims=(\"level\"),\n    coords={\n        \"level\": np.array(\n            [\n                1000.0,\n                925.0,\n                850.0,\n                700.0,\n                600.0,\n                500.0,\n                400.0,\n                300.0,\n                250.0,\n                200.0,\n                150.0,\n                100.0,\n                70.0,\n                50.0,\n                30.0,\n                20.0,\n                10.0,\n            ]\n        )\n    },\n)\nuwnd_data = xr.DataArray(\n    np.array(\n        [\n            -2.3200073,\n            -3.5700073,\n            -2.5800018,\n            8.080002,\n            14.059998,\n            22.119995,\n            33.819992,\n            49.339996,\n            57.86,\n            64.009995,\n            62.940002,\n            49.809998,\n            31.160004,\n            16.59999,\n            10.300003,\n            10.459991,\n            9.880005,\n        ]\n    ),\n    dims=(\"level\"),\n    coords={\n        \"level\": np.array(\n            [\n                1000.0,\n                925.0,\n                850.0,\n                700.0,\n                600.0,\n                500.0,\n                400.0,\n                300.0,\n                250.0,\n                200.0,\n                150.0,\n                100.0,\n                70.0,\n                50.0,\n                30.0,\n                20.0,\n                10.0,\n            ]\n        )\n    },\n)"
      ]
    },
    {
      "cell_type": "markdown",
      "metadata": {},
      "source": [
        "Then we need to interpolate the zonal wind data (located on the isobaric surface) to the altitude layers.\n\n"
      ]
    },
    {
      "cell_type": "code",
      "execution_count": null,
      "metadata": {
        "collapsed": false
      },
      "outputs": [],
      "source": [
        "target_heights = np.linspace(0, 10000, 101)\n\nresult = ecl.interp.interp1d_vertical_pressure2altitude(\n    z_data=z_data,\n    variable_data=uwnd_data,\n    target_heights=target_heights,\n    vertical_input_dim=\"level\",\n    vertical_output_dim=\"altitude\",\n)\nresult"
      ]
    },
    {
      "cell_type": "markdown",
      "metadata": {},
      "source": [
        "Now we can check the interpolation results.\n\n"
      ]
    },
    {
      "cell_type": "code",
      "execution_count": null,
      "metadata": {
        "collapsed": false
      },
      "outputs": [],
      "source": [
        "plt.plot(z_data[:9], uwnd_data[:9], \"o\", label=\"Original\")\nplt.plot(result.altitude, result.data, label=\"Interpolated\")\nplt.xlabel(\"Altitude [m]\")\nplt.ylabel(\"Zonal Wind [m/s]\")\nplt.legend()"
      ]
    }
  ],
  "metadata": {
    "kernelspec": {
      "display_name": "Python 3",
      "language": "python",
      "name": "python3"
    },
    "language_info": {
      "codemirror_mode": {
        "name": "ipython",
        "version": 3
      },
      "file_extension": ".py",
      "mimetype": "text/x-python",
      "name": "python",
      "nbconvert_exporter": "python",
      "pygments_lexer": "ipython3",
      "version": "3.10.15"
    }
  },
  "nbformat": 4,
  "nbformat_minor": 0
}