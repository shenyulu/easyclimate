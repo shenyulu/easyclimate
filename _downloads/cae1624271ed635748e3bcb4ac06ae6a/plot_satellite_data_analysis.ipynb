{
  "cells": [
    {
      "cell_type": "markdown",
      "metadata": {},
      "source": [
        "\n\n# Satellite Data Analysis\n\nMeteorological satellites can uniformly observe the distribution of clouds, water vapor, sea ice, etc. over a wide area,\nincluding oceans, deserts, and mountainous regions, where meteorological observations are difficult,\nand are extremely useful for monitoring the weather and climate of the entire planet,\nincluding the atmosphere, oceans, snow and ice. They are also a very effective means of\nobservation for monitoring typhoons over the ocean. They also play a role in relaying meteorological data,\ntide data, seismic intensity data, etc. observed on ships and remote islands.\n\nBefore proceeding with all the steps, first import some necessary libraries and packages\n"
      ]
    },
    {
      "cell_type": "code",
      "execution_count": null,
      "metadata": {
        "collapsed": false
      },
      "outputs": [],
      "source": [
        "import xarray as xr\nimport matplotlib.pyplot as plt\nimport cartopy.crs as ccrs\nimport easyclimate as ecl"
      ]
    },
    {
      "cell_type": "markdown",
      "metadata": {},
      "source": [
        "Satellite data is measured by sensors to measure radiance, etc. After bias correction,\nthe data is converted into physical quantities, coordinate transformation is performed,\nand the data is converted into a grid point for easy use before being provided.\nThe level of data processing is called the level. Data with the original sensor\nresolution before processing is called level 0, data with corrections\nand spatiotemporal information added is called level 1, data converted\ninto physical quantities is called level 2, data interpolated into\na uniform space-time is called level 3, and data combining model\noutput and multiple measurements is called level 4. Here, we use\nlevel 3 data from the meteorological satellite [Himawari-9 (\u3072\u307e\u308f\u308a\uff19\u53f7)](https://www.data.jma.go.jp/sat_info/himawari/role.html)_.\n\nThe satellite data is loaded from a NetCDF file containing Himawari-9 observations.\nThe decode_timedelta parameter is disabled as temporal data processing is not required.\n\n.. tip::\n\n  You can download following datasets here: :download:`Download js_H09_20250617_0500.nc <https://huggingface.co/datasets/shenyulu/easyclimate/resolve/main/tutorial_data/js_H09_20250617_0500.nc>`\n\n\n"
      ]
    },
    {
      "cell_type": "code",
      "execution_count": null,
      "metadata": {
        "collapsed": false
      },
      "outputs": [],
      "source": [
        "js_data = xr.open_dataset(\"js_H09_20250617_0500.nc\", decode_timedelta = False)\njs_data"
      ]
    },
    {
      "cell_type": "markdown",
      "metadata": {},
      "source": [
        "## Visual Band\n\nA contrast-stretched RGB composite is created using albedo bands from the satellite data.\nThe get_stretched_rgb_data function applies piecewise linear stretching to enhance contrast:\n\n- Band 3 (0.64\u03bcm) for Red channel\n- Band 2 (0.51\u03bcm) for Green channel\n- Band 1 (0.47\u03bcm) for Blue channel\n\n"
      ]
    },
    {
      "cell_type": "code",
      "execution_count": null,
      "metadata": {
        "collapsed": false
      },
      "outputs": [],
      "source": [
        "rgb_result = ecl.field.satellite.get_stretched_rgb_data(js_data, r_band='albedo_03', g_band='albedo_02', b_band='albedo_01')\nrgb_result"
      ]
    },
    {
      "cell_type": "markdown",
      "metadata": {},
      "source": [
        "The RGB composite is plotted on a geographic projection with cartographic elements:\n\n- Plate Carr\u00e9e projection for global/regional views\n- 10m resolution coastlines in yellow for land demarcation\n- Grey dashed gridlines with latitude/longitude labels\n\n"
      ]
    },
    {
      "cell_type": "code",
      "execution_count": null,
      "metadata": {
        "collapsed": false
      },
      "outputs": [],
      "source": [
        "fig, ax = plt.subplots(subplot_kw={\"projection\": ccrs.PlateCarree()})\n\nax.coastlines(resolution=\"10m\", color = 'yellow')\nax.gridlines(draw_labels=[\"left\", \"bottom\"], color=\"grey\", linestyle=\"--\")\nax.set_title(\"Jiangsu, China\", loc = 'right')\n\n# The RGB data is displayed using Plate Carr\u00e9e coordinate transformation\n# to ensure proper georeferencing of the satellite imagery\nrgb_result.plot.imshow(ax = ax, transform=ccrs.PlateCarree())"
      ]
    }
  ],
  "metadata": {
    "kernelspec": {
      "display_name": "Python 3",
      "language": "python",
      "name": "python3"
    },
    "language_info": {
      "codemirror_mode": {
        "name": "ipython",
        "version": 3
      },
      "file_extension": ".py",
      "mimetype": "text/x-python",
      "name": "python",
      "nbconvert_exporter": "python",
      "pygments_lexer": "ipython3",
      "version": "3.11.13"
    }
  },
  "nbformat": 4,
  "nbformat_minor": 0
}