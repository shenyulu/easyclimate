{
  "cells": [
    {
      "cell_type": "markdown",
      "metadata": {},
      "source": [
        "\n\n# Typhoon Tracking and Axisymmetric Analysis\nThis document demonstrates the process of tracking a typhoon's center and performing axisymmetric analysis\nusing mean sea level pressure (MSL), temperature, and precipitation data.\nThe provided functions in easyclimate, implement the core algorithms for cyclone tracking and axisymmetric decomposition.\n"
      ]
    },
    {
      "cell_type": "code",
      "execution_count": null,
      "metadata": {
        "collapsed": false
      },
      "outputs": [],
      "source": [
        "import numpy as np\nimport xarray as xr\nimport pandas as pd\nimport matplotlib.pyplot as plt\nimport cartopy.crs as ccrs\nimport easyclimate as ecl"
      ]
    },
    {
      "cell_type": "markdown",
      "metadata": {},
      "source": [
        "loads meteorological reanalysis datasets (ERA5) for a typhoon. The datasets include:\n\n- **Temperature (t_data)**: A multi-level atmospheric temperature field.\n- **Mean Sea Level Pressure (slp_time, slp_data)**: MSL pressure data with time, latitude, and longitude dimensions. A single time slice (`slp_data`) is extracted for initial analysis.\n- **Precipitation (tp_data)**: Total precipitation data, converted from its original units (``m/h``) to millimeters per hour (``mm/h``) by multiplying by 1000 and updating the units attribute.\n\n"
      ]
    },
    {
      "cell_type": "code",
      "execution_count": null,
      "metadata": {
        "collapsed": false
      },
      "outputs": [],
      "source": [
        "t_data = xr.open_dataset(\"test_t_typhoon_201919.nc\").t\n\nslp_time = xr.open_dataset(\"test_slp_typhoon_201919.nc\").msl\nslp_data = slp_time.isel(time = 0)\n\ntp_data = xr.open_dataset(\"test_pr_typhoon_201919.nc\").tp *1000\ntp_data.attrs[\"units\"] = \"mm/h\""
      ]
    },
    {
      "cell_type": "markdown",
      "metadata": {},
      "source": [
        "## Tracking\n\nWe uses the :py:class:`easyclimate.field.typhoon.track_cyclone_center_msl_only <easyclimate.field.typhoon.track_cyclone_center_msl_only>` function to locate the typhoon center\nat a single time step using MSL pressure data. The function takes the following inputs:\n\n- ``slp_data``: A 2D :py:class:`xarray.DataArray<xarray.DataArray>` containing MSL pressure with latitude and longitude dimensions.\n- ``sample_point``: An initial guess for the cyclone center, like ``(longitude=140\u00b0, latitude=20\u00b0)``.\n\nThe function identifies local minima in the MSL pressure field using a 3x3 minimum filter (:py:class:`scipy.ndimage.minimum_filter <scipy.ndimage.minimum_filter>`)\nwith `nearest` boundary conditions to account for the grid edges. This ensures robust detection of low-pressure centers, which are characteristic of cyclones.\n\nTo be specific, the function computes the great-circle distance between the provided `sample_point` and all detected minima using the formula:\n\n\n\\begin{align}\\cos \\alpha = \\sin \\theta_0 \\sin \\theta + \\cos \\theta_0 \\cos \\theta \\cos (\\lambda - \\lambda_0)\\end{align}\n\nwhere $\\alpha$ is the central angle, and the closest minimum is selected as the cyclone center.\n\nTo refine the cyclone center beyond the grid resolution, the function applies biquadratic interpolation around the identified minimum. It constructs a quadratic function:\n\n\\begin{align}f(x, y) = c_0 + c_1x + c_2y + c_3xy + c_4x^2 + c_5y^2 + c_6x^2y + c_7xy^2 + c_8x^2y^2\\end{align}\n\nand solves for the extremum by setting the gradient to zero (i.e., $\\\\nabla f = 0$).\nThe solution involves computing the inverse of the Hessian matrix:\n\n\n\\begin{align}\\mathbf{A}^{-1} = \\frac{1}{d} \\begin{pmatrix} f_{yy} & -f_{xy} \\\\ -f_{xy} & f_{xx} \\end{pmatrix}, \\quad d = f_{xx}f_{yy} - f_{xy}^2\\end{align}\n\nto determine the offsets $\\Delta x$ and $\\Delta y$.\nIf the determinant $d = 0$, the grid-based minimum is used instead.\n\n"
      ]
    },
    {
      "cell_type": "code",
      "execution_count": null,
      "metadata": {
        "collapsed": false
      },
      "outputs": [],
      "source": [
        "df_track = ecl.field.typhoon.track_cyclone_center_msl_only(slp_data, (140, 20))\ndf_track"
      ]
    },
    {
      "cell_type": "markdown",
      "metadata": {},
      "source": [
        "Here, we extends the tracking to multiple time steps by iterating over the time dimension of the `slp_time` dataset. For each time step:\n\n- The :py:class:`easyclimate.field.typhoon.track_cyclone_center_msl_only <easyclimate.field.typhoon.track_cyclone_center_msl_only>` function is called with the MSL data slice at ``time_item``, the same initial guess ``(140, 20)``, and an ``index_value`` set to the current time index.\n- Results are stored in a list (``track_list``) and concatenated into a single :py:class:`pandas.DataFrame <pandas.DataFrame>` (``result``) with columns ``lon``, ``lat``, and ``slp_min``, indexed by time.\n\n"
      ]
    },
    {
      "cell_type": "code",
      "execution_count": null,
      "metadata": {
        "collapsed": false
      },
      "outputs": [],
      "source": [
        "track_list = []\n\nfor time_item in np.arange(len(slp_time.time)):\n    tmp = ecl.field.typhoon.track_cyclone_center_msl_only(slp_time.isel(time = time_item), (140, 20), index_value = [time_item])\n    track_list.append(tmp)\n\nresult = pd.concat(track_list)\nresult"
      ]
    },
    {
      "cell_type": "markdown",
      "metadata": {},
      "source": [
        "Here, we visualizes the MSL pressure field and the tracked typhoon center on a map.\n\n"
      ]
    },
    {
      "cell_type": "code",
      "execution_count": null,
      "metadata": {
        "collapsed": false
      },
      "outputs": [],
      "source": [
        "fig, ax = ecl.plot.quick_draw_spatial_basemap(central_longitude=120)\nax.set_extent([120, 150, 5, 30], crs = ccrs.PlateCarree())\n\n\nc = (slp_data/100).plot.contour(\n    levels = 11,\n    transform=ccrs.PlateCarree(),\n    zorder = 1\n)\nax.clabel(c)\n\nax.scatter(\n    df_track[\"lon\"][0], df_track['lat'][0],\n    c=\"red\",\n    transform=ccrs.PlateCarree(),\n    zorder = 2\n)"
      ]
    },
    {
      "cell_type": "markdown",
      "metadata": {},
      "source": [
        "## Axisymmetric Analysis\n\n### Temperature (multi-level variable)\n\nThis section performs axisymmetric analysis on the multi-level temperature data (``t_data``) using the :py:class:`easyclimate.field.typhoon.cyclone_axisymmetric_analysis <easyclimate.field.typhoon.cyclone_axisymmetric_analysis>` function\n\nThe function transforms the data into a polar coordinate system centered on the typhoon (relocated to the North Pole)\nusing spherical orthodrome transformation (Ritchie, 1987; Nakamura et al., 1997; Yamazaki, 2011). This involves:\n\n- Converting longitude-latitude coordinates to Cartesian coordinates:\n\n  .. math::\n\n    x = \\cos \\lambda \\sin \\theta, \\quad y = \\sin \\lambda \\sin \\theta, \\quad z = \\cos \\theta\n\n- Applying two rotations to align the cyclone center at the North Pole:\n\n  - Rotate by $-\\theta_c$ around the y-axis.\n  - Rotate by $\\lambda_c$ around the z-axis.\n  - The combined rotation matrix is:\n\n\\begin{align}A = \\begin{bmatrix}\n    \\cos \\lambda_c \\cos \\theta_c & -\\sin \\lambda_c & \\cos \\lambda_c \\sin \\theta_c \\\\\n    \\sin \\lambda_c \\cos \\theta_c & \\cos \\lambda_c & \\sin \\lambda_c \\sin \\theta_c \\\\\n    -\\sin \\theta_c & 0 & \\cos \\theta_c\n    \\end{bmatrix}\\end{align}\n\n- Interpolating the data onto a polar grid, e.g., ``polar_lon=np.arange(0, 360, 2)`` and ``polar_lat=np.arange(80, 90.1, 1)``.\n\n.. seealso::\n\n    - https://www.dpac.dpri.kyoto-u.ac.jp/enomoto/pymetds/Typhoon.html\n    - Ritchie, H. (1987). Semi-Lagrangian Advection on a Gaussian Grid. Monthly Weather Review, 115(2), 608-619. https://journals.ametsoc.org/view/journals/mwre/115/2/1520-0493_1987_115_0608_slaoag_2_0_co_2.xml\n    - Nakamura, H., Nakamura, M., & Anderson, J. L. (1997). The Role of High- and Low-Frequency Dynamics in Blocking Formation. Monthly Weather Review, 125(9), 2074-2093. https://journals.ametsoc.org/view/journals/mwre/125/9/1520-0493_1997_125_2074_trohal_2.0.co_2.xml.\n\n    - Yamazaki, A. (\u5c71\u5d0e \u54f2), 2011: The maintenance mechanism of atmospheric blocking. D.S. thesis, Kyushu University (Available online at http://hdl.handle.net/2324/21709, https://doi.org/10.15017/21709).\n\nFinally, we decomposes the data into:\n\n- ``rotated``: Interpolated data on the polar grid.\n- ``rotated_symmetric``: Azimuthal mean (axisymmetric component).\n- ``rotated_asymmetric``: Deviation from the azimuthal mean (asymmetric component).\n\n"
      ]
    },
    {
      "cell_type": "code",
      "execution_count": null,
      "metadata": {
        "collapsed": false
      },
      "outputs": [],
      "source": [
        "temp_tc_polar_result = ecl.field.typhoon.cyclone_axisymmetric_analysis(\n    t_data,\n    (df_track[\"lon\"][0], df_track['lat'][0])\n)\ntemp_tc_polar_result"
      ]
    },
    {
      "cell_type": "markdown",
      "metadata": {},
      "source": [
        "We processes the symmetric temperature component:\n\n- **Anomaly Calculation**: ``r1`` computes the temperature anomaly by subtracting the value at the cyclone center ($y=0$, corresponding to the North Pole in the transformed coordinates) from the symmetric component (``ds_sym``), highlighting radial variations in the warm core structure.\n- **Unit Conversion**: ``r2`` converts the symmetric temperature from Kelvin ( $\\mathrm{K}$ ) to Celsius ( $\\mathrm{^\\circC}$ ) .\n\n"
      ]
    },
    {
      "cell_type": "code",
      "execution_count": null,
      "metadata": {
        "collapsed": false
      },
      "outputs": [],
      "source": [
        "ds_sym = temp_tc_polar_result[\"rotated_symmetric\"]\nr1 = (ds_sym - ds_sym.isel(y = 0))\nr2 = ecl.utility.transfer_data_temperature_units(ds_sym, \"K\", \"degC\")"
      ]
    },
    {
      "cell_type": "markdown",
      "metadata": {},
      "source": [
        "Here, we visualizes the symmetric temperature anomaly and absolute temperature.\n\n"
      ]
    },
    {
      "cell_type": "code",
      "execution_count": null,
      "metadata": {
        "collapsed": false
      },
      "outputs": [],
      "source": [
        "fig, ax = plt.subplots()\necl.plot.set_p_format_axis()\n\nr1.plot.contourf(\n    ax = ax,\n    levels = np.linspace(-8, 8, 21),\n    yincrease = False\n)\n\nc = r2.plot.contour(\n    levels= np.arange(-80, 80, 10),\n    colors = \"k\",\n    yincrease = False\n)\nax.clabel(c)"
      ]
    },
    {
      "cell_type": "markdown",
      "metadata": {},
      "source": [
        "In this part, we extracts and prepares the asymmetric temperature component at the 850 hPa level for visualization:\n\n"
      ]
    },
    {
      "cell_type": "code",
      "execution_count": null,
      "metadata": {
        "collapsed": false
      },
      "outputs": [],
      "source": [
        "ds_asym = temp_tc_polar_result[\"rotated_asymmetric\"]\nds_asym850 = ds_asym.sel(level = 850)\n\nds_asym850_latlon = ds_asym850.swap_dims({'y': 'lat', 'polar_lon': 'lon'})\nds_asym850_latlon_0360 = ecl.plot.add_lon_cyclic(ds_asym850_latlon, inter = 2)"
      ]
    },
    {
      "cell_type": "markdown",
      "metadata": {},
      "source": [
        "And visualizes the asymmetric temperature component at 850 hPa on a polar stereographic map.\n\n"
      ]
    },
    {
      "cell_type": "code",
      "execution_count": null,
      "metadata": {
        "collapsed": false
      },
      "outputs": [],
      "source": [
        "fig, ax = plt.subplots(subplot_kw={\"projection\": ccrs.NorthPolarStereo()})\n\necl.plot.draw_Circlemap_PolarStereo(\n    ax=ax,\n    lon_step=30,\n    lat_step=2.5,\n    lat_range=[80, 90],\n    draw_labels=False,\n    set_map_boundary_kwargs={\"north_pad\": 0.3, \"south_pad\": 0.4},\n    gridlines_kwargs={\"color\": \"grey\", \"alpha\": 0.8, \"linestyle\": \"--\"},\n)\n\n(ds_asym850_latlon_0360 + 1e-13).plot.contourf(\n    x = \"lon\", y = \"lat\",\n    transform=ccrs.PlateCarree(),\n    cmap = \"RdBu_r\",\n    levels = 21\n)"
      ]
    },
    {
      "cell_type": "markdown",
      "metadata": {},
      "source": [
        "### Precipitation (single level variable)\nAt first, we visualizes the precipitation field (``tp_data``) in its original longitude-latitude coordinates.\n\n"
      ]
    },
    {
      "cell_type": "code",
      "execution_count": null,
      "metadata": {
        "collapsed": false
      },
      "outputs": [],
      "source": [
        "tp_data.plot.contourf(cmap = \"Greens\", levels = np.linspace(0, 12, 11))"
      ]
    },
    {
      "cell_type": "markdown",
      "metadata": {},
      "source": [
        "And then, we apply axisymmetric analysis to the single-level precipitation data.\n\n"
      ]
    },
    {
      "cell_type": "code",
      "execution_count": null,
      "metadata": {
        "collapsed": false
      },
      "outputs": [],
      "source": [
        "pr_tc_polar_result = ecl.field.typhoon.cyclone_axisymmetric_analysis(\n    tp_data,\n    (df_track[\"lon\"][0], df_track['lat'][0])\n)\npr_tc_polar_result"
      ]
    },
    {
      "cell_type": "markdown",
      "metadata": {},
      "source": [
        "Next, we prepare the rotated precipitation data for visualization.\n\n"
      ]
    },
    {
      "cell_type": "code",
      "execution_count": null,
      "metadata": {
        "collapsed": false
      },
      "outputs": [],
      "source": [
        "pr_polardata = pr_tc_polar_result[\"rotated\"].swap_dims({'y': 'lat', 'polar_lon': 'lon'})\npr_polardata = ecl.plot.add_lon_cyclic(pr_polardata, inter = 2)"
      ]
    },
    {
      "cell_type": "markdown",
      "metadata": {},
      "source": [
        "And we visualizes the asymmetric precipitation component.\n\n"
      ]
    },
    {
      "cell_type": "code",
      "execution_count": null,
      "metadata": {
        "collapsed": false
      },
      "outputs": [],
      "source": [
        "fig, ax = plt.subplots(subplot_kw={\"projection\": ccrs.NorthPolarStereo()})\n\necl.plot.draw_Circlemap_PolarStereo(\n    ax=ax,\n    lon_step=30,\n    lat_step=2.5,\n    lat_range=[80, 90],\n    draw_labels=False,\n    set_map_boundary_kwargs={\"north_pad\": 0.3, \"south_pad\": 0.4},\n    gridlines_kwargs={\"color\": \"grey\", \"alpha\": 0.4, \"linestyle\": \"--\"},\n)\n\n(pr_polardata + 1e-13).plot.contourf(\n    x = \"lon\", y = \"lat\",\n    transform=ccrs.PlateCarree(),\n    cmap = \"Greens\",\n    levels = np.linspace(0, 12, 11)\n)"
      ]
    },
    {
      "cell_type": "markdown",
      "metadata": {},
      "source": [
        "At this step, we will also perform coordinate dimension and data conversion.\n\n"
      ]
    },
    {
      "cell_type": "code",
      "execution_count": null,
      "metadata": {
        "collapsed": false
      },
      "outputs": [],
      "source": [
        "ds_asym = pr_tc_polar_result[\"rotated_asymmetric\"]\n\nds_asym_latlon = ds_asym.swap_dims({'y': 'lat', 'polar_lon': 'lon'})\nds_asym_latlon_0360 = ecl.plot.add_lon_cyclic(ds_asym_latlon, inter = 2)"
      ]
    },
    {
      "cell_type": "markdown",
      "metadata": {},
      "source": [
        "At last, we visualize the asymmetric precipitation componen\n\n"
      ]
    },
    {
      "cell_type": "code",
      "execution_count": null,
      "metadata": {
        "collapsed": false
      },
      "outputs": [],
      "source": [
        "fig, ax = plt.subplots(subplot_kw={\"projection\": ccrs.NorthPolarStereo()})\n\necl.plot.draw_Circlemap_PolarStereo(\n    ax=ax,\n    lon_step=30,\n    lat_step=2.5,\n    lat_range=[80, 90],\n    draw_labels=False,\n    set_map_boundary_kwargs={\"north_pad\": 0.3, \"south_pad\": 0.4},\n    gridlines_kwargs={\"color\": \"grey\", \"alpha\": 0.8, \"linestyle\": \"--\"},\n)\n\n(ds_asym_latlon_0360 + 1e-13).plot.contourf(\n    x = \"lon\", y = \"lat\",\n    transform=ccrs.PlateCarree(),\n    cmap = \"RdBu_r\",\n    levels = np.linspace(-4, 4, 21)\n)"
      ]
    }
  ],
  "metadata": {
    "kernelspec": {
      "display_name": "Python 3",
      "language": "python",
      "name": "python3"
    },
    "language_info": {
      "codemirror_mode": {
        "name": "ipython",
        "version": 3
      },
      "file_extension": ".py",
      "mimetype": "text/x-python",
      "name": "python",
      "nbconvert_exporter": "python",
      "pygments_lexer": "ipython3",
      "version": "3.11.13"
    }
  },
  "nbformat": 4,
  "nbformat_minor": 0
}