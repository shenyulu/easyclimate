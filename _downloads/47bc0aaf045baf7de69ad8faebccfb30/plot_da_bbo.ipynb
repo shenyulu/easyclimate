{
  "cells": [
    {
      "cell_type": "markdown",
      "metadata": {},
      "source": [
        "\n\n# Arctic Dipole Anomaly (DA/AD) and Barents-Beaufort Oscillation (BBO)\n\n## Background\n\nThe **Arctic Dipole Anomaly (DA)**, formally proposed by Wu, Wang, and Walsh in 2006,\nis defined as the second leading empirical orthogonal function (EOF) mode of monthly mean sea level pressure (SLP) north of 70\u00b0N,\nwith the first mode corresponding to the Arctic Oscillation (AO).\nDuring the winter season (October through March), the DA accounts for approximately 13% of the total variance,\nwhile the AO accounts for 61%, as noted in various studies (e.g., Wu et al., 2006).\nThe DA is characterized by a dipole structure with two poles of opposite sign:\none center of high pressure over the Canadian Arctic Archipelago and northern Greenland,\nand another of low pressure over the Kara and Laptev Seas. This configuration creates a pressure\ngradient with a zero isopleth oriented from the Bering Strait across the Arctic to the Greenland and Barents Seas.\n\nAnomalous winds associated with the DA are generally directed parallel to this zero isopleth,\neither toward the Greenland and Barents Seas during its positive phase or toward the Bering Strait during its negative phase.\nThese wind patterns significantly influence sea ice motion and export from the Arctic Ocean,\nparticularly through the Fram Strait. Research, such as Wang et al. (2009), suggests that the DA\nplays a crucial role in driving sea ice out of the Arctic, contributing to extreme sea ice minima,\nsuch as the record low observed in 2007. Additionally, Bi et al. (2021) highlight that the DA\ncan enhance the inflow of relatively warm waters from the North Pacific through the Bering Strait,\npotentially reducing sea ice extent and age by altering thermodynamic conditions.\nThe DA's impact extends to seasonal changes, with studies like Bi et al. (2023) noting\nits distinct role in spring atmospheric circulation modes affecting summer sea ice decline.\n\nThe **Barents-Beaufort Oscillation** (BBO; Wu and Johnson, 2007),\nrefers to a seesaw structure in SLP anomalies between the Beaufort Sea and the Barents Sea,\nparticularly during the winter months (October\u2013March).\nThis oscillation is characterized by a mode of atmospheric intraseasonal variability where\nSLP anomalies over the Barents Sea are out of phase with those over the Beaufort Sea,\nexhibiting an equivalent barotropic structure, as noted in their 2007 paper (Wu & Johnson, 2007).\nThe BBO accounts for approximately 9.1% of the variance in SLP anomalies, making it a\nless dominant but still significant pattern compared to the DA/AD.\n\nThe seesaw structure implies that when pressure is anomalously high in the Barents Sea,\nit is correspondingly low in the Beaufort Sea, and vice versa.\nThis pattern influences sea ice dynamics, particularly the flux through the Fram Strait,\nwith research suggesting it has a more substantial effect on sea ice export\ncompared to the AO and DA in certain contexts (Wu & Johnson, 2007).\nThe BBO's impact is seen in modulating atmospheric circulation patterns that affect\ntemperature anomalies and sea ice concentration, contributing to regional climate variability\nin the Arctic. While less studied than the DA/AD, its role in sea ice movement and potential\nlinks to broader climate systems are noted in the literature, though detailed mechanisms remain an area of ongoing research.\n\n\n.. seealso::\n\n    - Wu, B., Wang, J., & Walsh, J. E. (2006). Dipole Anomaly in the Winter Arctic Atmosphere and Its Association with Sea Ice Motion. Journal of Climate, 19(2), 210-225. https://doi.org/10.1175/JCLI3619.1\n    - Wu, B., and M. A. Johnson (2007), A seesaw structure in SLP anomalies between the Beaufort Sea and the Barents Sea, Geophys. Res. Lett., 34, L05811, doi: https://doi.org/10.1029/2006GL028333.\n    - Wang, J., J. Zhang, E. Watanabe, M. Ikeda, K. Mizobata, J. E. Walsh, X. Bai, and B. Wu (2009), Is the Dipole Anomaly a major driver to record lows in Arctic summer sea ice extent? Geophys. Res. Lett., 36, L05706, doi: https://doi.org/10.1029/2008GL036706.\n    - R. Zhang, R. Zhang, Mechanisms for low-frequency variability of summer Arctic sea ice extent, Proc. Natl. Acad. Sci. U.S.A. 112 (15) 4570-4575, https://doi.org/10.1073/pnas.1422296112 (2015).\n    - Kapsch, ML., Skific, N., Graversen, R.G. et al. Summers with low Arctic sea ice linked to persistence of spring atmospheric circulation patterns. Clim Dyn 52, 2497\u20132512 (2019). https://doi.org/10.1007/s00382-018-4279-z\n    - Bi, H., Wang, Y., Liang, Y., Sun, W., Liang, X., Yu, Q., Zhang, Z., & Xu, X. (2021). Influences of Summertime Arctic Dipole Atmospheric Circulation on Sea Ice Concentration Variations in the Pacific Sector of the Arctic during Different Pacific Decadal Oscillation Phases. Journal of Climate, 34(8), 3003-3019. https://doi.org/10.1175/JCLI-D-19-0843.1\n    - Bi, H., Liang, Y., & Chen, X. (2023). Distinct role of a spring atmospheric circulation mode in the Arctic sea ice decline in summer. Journal of Geophysical Research: Atmospheres, 128, e2022JD037477. https://doi.org/10.1029/2022JD037477\n    - Wu, B., and M. A. Johnson (2007), A seesaw structure in SLP anomalies between the Beaufort Sea and the Barents Sea, Geophys. Res. Lett., 34, L05811, doi: https://doi.org/10.1029/2006GL028333.\n    - H. Bi, K. Sun, X. Zhou, H. Huang and X. Xu, \"Arctic Sea Ice Area Export Through the Fram Strait Estimated From Satellite-Based Data:1988\u20132012,\" in IEEE Journal of Selected Topics in Applied Earth Observations and Remote Sensing, vol. 9, no. 7, pp. 3144-3157, July 2016, doi: https://doi.org/10.1109/JSTARS.2016.2584539.\n    - Bi, H., Liang, Y., & Chen, X. (2023). Distinct role of a spring atmospheric circulation mode in the Arctic sea ice decline in summer. Journal of Geophysical Research: Atmospheres, 128, e2022JD037477. https://doi.org/10.1029/2022JD037477\n\n## Methodology\n\nBefore proceeding with all the steps, first import some necessary libraries and packages\n"
      ]
    },
    {
      "cell_type": "code",
      "execution_count": null,
      "metadata": {
        "collapsed": false
      },
      "outputs": [],
      "source": [
        "import easyclimate as ecl\nimport xarray as xr\nimport numpy as np\nimport matplotlib.pyplot as plt\nimport cartopy.crs as ccrs"
      ]
    },
    {
      "cell_type": "markdown",
      "metadata": {},
      "source": [
        "We loads the monthly mean sea level pressure (SLP) dataset for the Northern Hemisphere\nfrom the file 'slp_monmean_NH.nc'. The dataset, accessed via the 'slp' variable,\ncontains SLP values across a spatial grid and time dimension,\nserving as the foundation for subsequent analyses of the Arctic Dipole Anomaly (DA/AD) and Barents-Beaufort Oscillation (BBO).\n\n.. tip::\n\n  You can download following datasets here:\n\n  - :download:`Download slp_monmean_NH.nc <https://huggingface.co/datasets/shenyulu/easyclimate/resolve/main/tutorial_data/slp_monmean_NH.nc>`\n\n"
      ]
    },
    {
      "cell_type": "code",
      "execution_count": null,
      "metadata": {
        "collapsed": false
      },
      "outputs": [],
      "source": [
        "slp_data = xr.open_dataset(\"slp_monmean_NH.nc\").slp\nslp_data"
      ]
    },
    {
      "cell_type": "markdown",
      "metadata": {},
      "source": [
        "And then, we computes SLP anomalies by removing the seasonal cycle from the monthly mean SLP data\nusing the :py:func:`easyclimate.remove_seasonal_cycle_mean <easyclimate.remove_seasonal_cycle_mean>` function.\nThe resulting dataset, `slp_data_anomaly`, represents deviations from the climatological mean,\nisolating interannual and intraseasonal variability critical for identifying teleconnection patterns like the DA/AD and BBO.\n\n"
      ]
    },
    {
      "cell_type": "code",
      "execution_count": null,
      "metadata": {
        "collapsed": false
      },
      "outputs": [],
      "source": [
        "slp_data_anormaly = ecl.remove_seasonal_cycle_mean(slp_data)\nslp_data_anormaly"
      ]
    },
    {
      "cell_type": "markdown",
      "metadata": {},
      "source": [
        "Here, we calculates the standardized indices for the Arctic Dipole Anomaly (DA/AD) and Barents-Beaufort Oscillation (BBO)\nusing empirical orthogonal function (EOF) analysis as defined by Wu et al. (2006) and Wu & Johnson (2007).\n\nThe :py:func:`easyclimate.field.teleconnection.calc_index_DA_EOF2_Wu_2006 <easyclimate.field.teleconnection.calc_index_DA_EOF2_Wu_2006>` function extracts the second EOF mode for DA/AD,\nwhile :py:func:`easyclimate.field.teleconnection.calc_index_BBO_EOF3_Wu_2007 <easyclimate.field.teleconnection.calc_index_BBO_EOF3_Wu_2007>` extracts the third EOF mode for BBO.\nBoth indices are multiplied by $-1$ to align with conventional phase definitions,\nrepresenting the temporal evolution of these atmospheric teleconnection patterns.\n\n"
      ]
    },
    {
      "cell_type": "code",
      "execution_count": null,
      "metadata": {
        "collapsed": false
      },
      "outputs": [],
      "source": [
        "index_da = ecl.field.teleconnection.calc_index_DA_EOF2_Wu_2006(slp_data) *(-1)\nindex_bbo = ecl.field.teleconnection.calc_index_BBO_EOF3_Wu_2007(slp_data) *(-1)"
      ]
    },
    {
      "cell_type": "markdown",
      "metadata": {},
      "source": [
        "After that, we identifies time periods corresponding to the extreme positive and negative phases\nof the DA/AD and BBO indices. Using the :py:func:`easyclimate.get_time_exceed_index_lower_bound <easyclimate.get_time_exceed_index_lower_bound>`\nand :py:func:`easyclimate.get_time_exceed_index_upper_bound <easyclimate.get_time_exceed_index_upper_bound>`, time steps are selected where the indices\nexceed one standard deviation (positive or negative) from the mean.\nThese periods are used to composite SLP anomalies for the positive (DA+, BBO+) and negative (DA-, BBO-) phases,\nenabling analysis of their spatial patterns.\n\n"
      ]
    },
    {
      "cell_type": "code",
      "execution_count": null,
      "metadata": {
        "collapsed": false
      },
      "outputs": [],
      "source": [
        "ad_lower_time = ecl.get_time_exceed_index_lower_bound(index_da, -index_da.std())\nad_upper_time = ecl.get_time_exceed_index_upper_bound(index_da, index_da.std())\n\nbbo_lower_time = ecl.get_time_exceed_index_lower_bound(index_bbo, -index_bbo.std())\nbbo_upper_time = ecl.get_time_exceed_index_upper_bound(index_bbo, index_bbo.std())"
      ]
    },
    {
      "cell_type": "markdown",
      "metadata": {},
      "source": [
        "And we composite SLP anomaly fields for the positive and negative phases of the DA/AD and BBO\nby averaging the SLP anomaly data over the time periods identified in the previous step.\n\nThe resulting datasets (``da_minus``, ``da_plus``, ``bbo_minus``, ``bbo_plus``)\nrepresent the mean spatial patterns of SLP anomalies during extreme phases,\nhighlighting the dipole structures characteristic of these oscillations.\n\n"
      ]
    },
    {
      "cell_type": "code",
      "execution_count": null,
      "metadata": {
        "collapsed": false
      },
      "outputs": [],
      "source": [
        "da_minus = slp_data_anormaly.sel(time = ad_lower_time).mean(dim = \"time\")\nda_plus = slp_data_anormaly.sel(time = ad_upper_time).mean(dim = \"time\")\n\nbbo_minus = slp_data_anormaly.sel(time = bbo_lower_time).mean(dim = \"time\")\nbbo_plus = slp_data_anormaly.sel(time = bbo_upper_time).mean(dim = \"time\")"
      ]
    },
    {
      "cell_type": "markdown",
      "metadata": {},
      "source": [
        "This block applies the :py:func:`easyclimate.plot.add_lon_cyclic <easyclimate.plot.add_lon_cyclic>` function to the composite\nSLP anomaly fields (`da_minus`, `da_plus`, `bbo_minus`, `bbo_plus`) to\naddress discontinuities at the 0\u00b0/360\u00b0 longitude boundary.\n\nA cyclic point is added at a 2.5\u00b0 longitude interval, ensuring smooth visualization of the\npolar maps in subsequent plotting steps, particularly for the North Polar Stereographic projection.\n\n"
      ]
    },
    {
      "cell_type": "code",
      "execution_count": null,
      "metadata": {
        "collapsed": false
      },
      "outputs": [],
      "source": [
        "ad_minus = ecl.plot.add_lon_cyclic(da_minus, 2.5)\nad_plus = ecl.plot.add_lon_cyclic(da_plus, 2.5)\n\nbbo_minus = ecl.plot.add_lon_cyclic(bbo_minus, 2.5)\nbbo_plus = ecl.plot.add_lon_cyclic(bbo_plus, 2.5)"
      ]
    },
    {
      "cell_type": "markdown",
      "metadata": {},
      "source": [
        "At last, we generates a two-panel polar stereographic map visualizing the composite SLP anomaly\nfields for the negative (DA-) and positive (DA+) phases of the Arctic Dipole Anomaly.\n\nThe maps are plotted with a North Polar Stereographic\nprojection centered at 0\u00b0 longitude. The contour map displays SLP anomalies\nwith a diverging color scheme ('RdBu_r'), with levels ranging from -6 to 6 hPa.\nCoastlines and gridlines are added for geographic context, and a shared horizontal\ncolorbar is included to represent SLP anomaly magnitudes.\nThe titles 'DA-' and 'DA+' distinguish the two phases.\n\n"
      ]
    },
    {
      "cell_type": "code",
      "execution_count": null,
      "metadata": {
        "collapsed": false
      },
      "outputs": [],
      "source": [
        "fig, ax = plt.subplots(\n    1, 2,\n    figsize = (8, 7),\n    subplot_kw={\"projection\": ccrs.NorthPolarStereo(central_longitude=0)}\n)\n\nfor axi in ax.flat:\n    axi.coastlines(edgecolor=\"black\", linewidths=0.5)\n    ecl.plot.draw_Circlemap_PolarStereo(\n        ax=axi,\n        lon_step=30,\n        lat_step=20,\n        lat_range=[50, 90],\n        draw_labels=True,\n        set_map_boundary_kwargs={\"north_pad\": 0.3, \"south_pad\": 0.4},\n        gridlines_kwargs={\"color\": \"grey\", \"alpha\": 0.5, \"linestyle\": \"--\"},\n    )\n\naxi = ax[0]\nfg1 = ad_minus.plot.contourf(\n    ax = axi,\n    cmap=\"RdBu_r\",\n    levels=np.linspace(-6, 6, 21),\n    transform=ccrs.PlateCarree(),\n    add_colorbar = False,\n)\naxi.set_title(\"DA-\", size = 'x-large')\n\naxi = ax[1]\nad_plus.plot.contourf(\n    ax = axi,\n    cmap=\"RdBu_r\",\n    levels=np.linspace(-6, 6, 21),\n    transform=ccrs.PlateCarree(),\n    add_colorbar = False,\n)\naxi.set_title(\"DA+\", size = 'x-large')\n\nfig.colorbar(\n    fg1, ax = ax.flatten(),\n    orientation = 'horizontal',\n    pad = 0.1, aspect = 50, shrink = 0.8,\n    extendrect = True\n)"
      ]
    },
    {
      "cell_type": "markdown",
      "metadata": {},
      "source": [
        "Also, we creates a two-panel polar stereographic map to visualize the composite SLP anomaly\nfields for the negative (BBO-) and positive (BBO+) phases of the Barents-Beaufort Oscillation.\n\nSimilar to the DA visualization, the maps use a North Polar Stereographic projection\nwith a diverging color scheme ('RdBu_r') and SLP anomaly levels from -6 to 6 hPa.\nCoastlines and gridlines provide geographic context, and a shared horizontal colorbar\nindicates anomaly magnitudes. The titles 'BBO-' and 'BBO+' distinguish the two phases,\nhighlighting the seesaw structure between the Beaufort and Barents Seas.\n\n"
      ]
    },
    {
      "cell_type": "code",
      "execution_count": null,
      "metadata": {
        "collapsed": false
      },
      "outputs": [],
      "source": [
        "fig, ax = plt.subplots(\n    1, 2,\n    figsize = (8, 7),\n    subplot_kw={\"projection\": ccrs.NorthPolarStereo(central_longitude=0)}\n)\n\nfor axi in ax.flat:\n    axi.coastlines(edgecolor=\"black\", linewidths=0.5)\n    ecl.plot.draw_Circlemap_PolarStereo(\n        ax=axi,\n        lon_step=30,\n        lat_step=20,\n        lat_range=[50, 90],\n        draw_labels=True,\n        set_map_boundary_kwargs={\"north_pad\": 0.3, \"south_pad\": 0.4},\n        gridlines_kwargs={\"color\": \"grey\", \"alpha\": 0.5, \"linestyle\": \"--\"},\n    )\n\naxi = ax[0]\nfg1 = bbo_minus.plot.contourf(\n    ax = axi,\n    cmap=\"RdBu_r\",\n    levels=np.linspace(-6, 6, 21),\n    transform=ccrs.PlateCarree(),\n    add_colorbar = False,\n)\naxi.set_title(\"BBO-\", size = 'x-large')\n\naxi = ax[1]\nbbo_plus.plot.contourf(\n    ax = axi,\n    cmap=\"RdBu_r\",\n    levels=np.linspace(-6, 6, 21),\n    transform=ccrs.PlateCarree(),\n    add_colorbar = False,\n)\naxi.set_title(\"BBO+\", size = 'x-large')\n\nfig.colorbar(\n    fg1, ax = ax.flatten(),\n    orientation = 'horizontal',\n    pad = 0.1, aspect = 50, shrink = 0.8,\n    extendrect = True\n)"
      ]
    },
    {
      "cell_type": "markdown",
      "metadata": {},
      "source": [
        "## Summary\n\nBoth the Arctic Dipole Anomaly and the Barents-Beaufort Oscillation are pivotal in Arctic climate research,\nproviding insights into the mechanisms driving variability in sea ice extent and concentration.\nThe DA/AD, with its significant influence on sea ice export and potential for enhancing warm water inflow,\nhas been linked to extreme sea ice minima, such as the 2007 record low, as discussed in Wang et al. (2009).\nThis is crucial for predicting future Arctic environmental conditions, especially in the context of\nrapid ice loss observed in recent decades. The BBO, while accounting for a smaller variance,\nplays a critical role in modulating sea ice flux through the Fram Strait, as noted by Wu and Johnson (2007),\nand contributes to understanding regional climate dynamics.\n\nThese oscillations highlight the interconnectedness of atmospheric circulation, sea ice movement,\nand ocean currents in the Arctic. For instance, Kapsch et al. (2019) link spring atmospheric circulation patterns,\npotentially influenced by the DA/AD, to summer sea ice persistence, emphasizing their role in seasonal climate variability.\nTheir study of these patterns aids in developing integrated climate models, essential for forecasting\nArctic amplification of global warming and its downstream effects on mid-latitude weather systems.\nThe potential for these patterns to influence global climate, as seen in their impact on sea ice export\nand ocean heat transport, underscores their importance for broader climate science and policy-making.\n\nHowever, the exact interactions between DA/AD and BBO, and their combined effects on Arctic climate,\nremain complex and debated. Research, such as Bi et al. (2023), suggests distinct roles for\nspring circulation modes, but the full scope of their interplay with other climate indices,\nlike the AO, requires further investigation. This complexity is evident in the\nvarying contributions to variance and the need for long-term data, as seen in\nstudies spanning decades (e.g., Wu et al., 2006; Bi et al., 2021).\nUnderstanding these phenomena is vital for addressing Arctic environmental changes,\ninforming conservation strategies, and mitigating global climate impacts.\n\n"
      ]
    }
  ],
  "metadata": {
    "kernelspec": {
      "display_name": "Python 3",
      "language": "python",
      "name": "python3"
    },
    "language_info": {
      "codemirror_mode": {
        "name": "ipython",
        "version": 3
      },
      "file_extension": ".py",
      "mimetype": "text/x-python",
      "name": "python",
      "nbconvert_exporter": "python",
      "pygments_lexer": "ipython3",
      "version": "3.11.13"
    }
  },
  "nbformat": 4,
  "nbformat_minor": 0
}